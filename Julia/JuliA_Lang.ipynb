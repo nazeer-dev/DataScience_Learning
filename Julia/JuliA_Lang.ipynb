{
 "cells": [
  {
   "cell_type": "code",
   "execution_count": 2,
   "metadata": {},
   "outputs": [
    {
     "name": "stdout",
     "output_type": "stream",
     "text": [
      "Hello world Hello world \n"
     ]
    }
   ],
   "source": [
    "println(\"Hello world \"^2)"
   ]
  },
  {
   "cell_type": "code",
   "execution_count": 3,
   "metadata": {},
   "outputs": [
    {
     "data": {
      "text/plain": [
       "wow (generic function with 1 method)"
      ]
     },
     "execution_count": 3,
     "metadata": {},
     "output_type": "execute_result"
    }
   ],
   "source": [
    "wow(x,y) = x+y"
   ]
  },
  {
   "cell_type": "code",
   "execution_count": 4,
   "metadata": {},
   "outputs": [
    {
     "data": {
      "text/plain": [
       "3"
      ]
     },
     "execution_count": 4,
     "metadata": {},
     "output_type": "execute_result"
    }
   ],
   "source": [
    "wow(1,2)"
   ]
  },
  {
   "cell_type": "code",
   "execution_count": 5,
   "metadata": {},
   "outputs": [
    {
     "data": {
      "text/plain": [
       "hell (generic function with 1 method)"
      ]
     },
     "execution_count": 5,
     "metadata": {},
     "output_type": "execute_result"
    }
   ],
   "source": [
    "function hell(x,y)\n",
    "    x+y\n",
    "end"
   ]
  },
  {
   "cell_type": "code",
   "execution_count": 6,
   "metadata": {},
   "outputs": [
    {
     "data": {
      "text/plain": [
       "3"
      ]
     },
     "execution_count": 6,
     "metadata": {},
     "output_type": "execute_result"
    }
   ],
   "source": [
    "hell(1,2)"
   ]
  },
  {
   "cell_type": "code",
   "execution_count": 7,
   "metadata": {},
   "outputs": [],
   "source": [
    "using DelimitedFiles\n",
    "#wikiEVDraw = DelimitedFiles.readdlm()"
   ]
  },
  {
   "cell_type": "code",
   "execution_count": 8,
   "metadata": {},
   "outputs": [
    {
     "data": {
      "text/plain": [
       "3:7"
      ]
     },
     "execution_count": 8,
     "metadata": {},
     "output_type": "execute_result"
    }
   ],
   "source": [
    "3:7"
   ]
  },
  {
   "cell_type": "code",
   "execution_count": 9,
   "metadata": {},
   "outputs": [
    {
     "name": "stdout",
     "output_type": "stream",
     "text": [
      "3\n",
      "4\n",
      "5\n",
      "6\n",
      "7\n"
     ]
    }
   ],
   "source": [
    "for num=3:7\n",
    "    println(\"$num\")\n",
    "end"
   ]
  },
  {
   "cell_type": "code",
   "execution_count": 10,
   "metadata": {},
   "outputs": [
    {
     "name": "stdout",
     "output_type": "stream",
     "text": [
      "23\n",
      "hell\n",
      "34\n"
     ]
    }
   ],
   "source": [
    "for x in [23,\"hell\",34]\n",
    "    println(\"$x\")\n",
    "end"
   ]
  },
  {
   "cell_type": "code",
   "execution_count": 11,
   "metadata": {},
   "outputs": [],
   "source": [
    "mylist = [3, 2, 1]\n",
    "count=1\n",
    "for i in mylist\n",
    "  mylist[i]=count\n",
    "  count=count+1\n",
    "end"
   ]
  },
  {
   "cell_type": "code",
   "execution_count": 12,
   "metadata": {},
   "outputs": [
    {
     "data": {
      "text/plain": [
       "1"
      ]
     },
     "execution_count": 12,
     "metadata": {},
     "output_type": "execute_result"
    }
   ],
   "source": [
    "mylist[3]"
   ]
  },
  {
   "cell_type": "code",
   "execution_count": 13,
   "metadata": {},
   "outputs": [
    {
     "data": {
      "text/plain": [
       "9"
      ]
     },
     "execution_count": 13,
     "metadata": {},
     "output_type": "execute_result"
    }
   ],
   "source": [
    "count=0\n",
    "for i=1:3\n",
    "  for j=1:3\n",
    "    count=count+1\n",
    "  end\n",
    "end\n",
    "count"
   ]
  },
  {
   "cell_type": "code",
   "execution_count": 14,
   "metadata": {
    "scrolled": true
   },
   "outputs": [
    {
     "data": {
      "text/plain": [
       "3×9 Array{Int64,2}:\n",
       " 3  3  3  3  3  3  3  3  6\n",
       " 2  2  2  2  2  2  2  2  5\n",
       " 1  1  1  1  1  1  1  1  4"
      ]
     },
     "execution_count": 14,
     "metadata": {},
     "output_type": "execute_result"
    }
   ],
   "source": [
    "data = [[3,2,1] [3,2,1] [3,2,1] [3,2,1] [3,2,1] [3,2,1] [3,2,1] [3,2,1] [6,5,4]]\n"
   ]
  },
  {
   "cell_type": "code",
   "execution_count": 15,
   "metadata": {
    "scrolled": true
   },
   "outputs": [
    {
     "data": {
      "text/plain": [
       "10"
      ]
     },
     "execution_count": 15,
     "metadata": {},
     "output_type": "execute_result"
    }
   ],
   "source": [
    "sum(data[1:2,1:2])"
   ]
  },
  {
   "cell_type": "code",
   "execution_count": 16,
   "metadata": {},
   "outputs": [
    {
     "ename": "MethodError",
     "evalue": "MethodError: objects of type Array{Int64,2} are not callable\nUse square brackets [] for indexing an Array.",
     "output_type": "error",
     "traceback": [
      "MethodError: objects of type Array{Int64,2} are not callable\nUse square brackets [] for indexing an Array.",
      "",
      "Stacktrace:",
      " [1] top-level scope at In[16]:1"
     ]
    }
   ],
   "source": [
    "data(1,1)+data[2,2]"
   ]
  },
  {
   "cell_type": "code",
   "execution_count": 17,
   "metadata": {},
   "outputs": [
    {
     "data": {
      "text/plain": [
       "9-element Array{Int64,1}:\n",
       " 1\n",
       " 1\n",
       " 1\n",
       " 1\n",
       " 1\n",
       " 1\n",
       " 1\n",
       " 1\n",
       " 4"
      ]
     },
     "execution_count": 17,
     "metadata": {},
     "output_type": "execute_result"
    }
   ],
   "source": [
    "data[3,:]"
   ]
  },
  {
   "cell_type": "code",
   "execution_count": 18,
   "metadata": {},
   "outputs": [
    {
     "name": "stdout",
     "output_type": "stream",
     "text": [
      "1\n",
      "3\n",
      "5\n"
     ]
    },
    {
     "data": {
      "text/plain": [
       "12"
      ]
     },
     "execution_count": 18,
     "metadata": {},
     "output_type": "execute_result"
    }
   ],
   "source": [
    "summedvals = 3\n",
    "for k = 1:2:5\n",
    "  println(k)\n",
    "  summedvals = summedvals + k\n",
    "end\n",
    "summedvals"
   ]
  },
  {
   "cell_type": "code",
   "execution_count": 19,
   "metadata": {},
   "outputs": [
    {
     "name": "stderr",
     "output_type": "stream",
     "text": [
      "┌ Info: Recompiling stale cache file /Users/naz/.julia/compiled/v1.0/Plots/ld3vC.ji for Plots [91a5bcdd-55d7-5caf-9e0b-520d859cae80]\n",
      "└ @ Base loading.jl:1190\n"
     ]
    }
   ],
   "source": [
    "using Plots"
   ]
  },
  {
   "cell_type": "code",
   "execution_count": 20,
   "metadata": {},
   "outputs": [
    {
     "ename": "UndefVarError",
     "evalue": "UndefVarError: Pkg not defined",
     "output_type": "error",
     "traceback": [
      "UndefVarError: Pkg not defined",
      "",
      "Stacktrace:",
      " [1] top-level scope at In[20]:1"
     ]
    }
   ],
   "source": [
    "Pkg.add(\"Plots\")"
   ]
  },
  {
   "cell_type": "code",
   "execution_count": 21,
   "metadata": {},
   "outputs": [
    {
     "data": {
      "text/plain": [
       "Plots.GRBackend()"
      ]
     },
     "execution_count": 21,
     "metadata": {},
     "output_type": "execute_result"
    }
   ],
   "source": [
    "gr()"
   ]
  },
  {
   "cell_type": "code",
   "execution_count": 22,
   "metadata": {},
   "outputs": [
    {
     "name": "stdout",
     "output_type": "stream",
     "text": [
      "(-5, 36)\n",
      "(-4, 15)\n",
      "(-3, 0)\n",
      "(-2, -9)\n",
      "(-1, -12)\n",
      "(0, -9)\n",
      "(1, 0)\n",
      "(2, 15)\n",
      "(3, 36)\n",
      "(4, 63)\n",
      "(5, 96)\n"
     ]
    },
    {
     "data": {
      "image/svg+xml": [
       "<?xml version=\"1.0\" encoding=\"utf-8\"?>\n",
       "<svg xmlns=\"http://www.w3.org/2000/svg\" xmlns:xlink=\"http://www.w3.org/1999/xlink\" width=\"600\" height=\"400\" viewBox=\"0 0 2400 1600\">\n",
       "<defs>\n",
       "  <clipPath id=\"clip730\">\n",
       "    <rect x=\"0\" y=\"0\" width=\"2400\" height=\"1600\"/>\n",
       "  </clipPath>\n",
       "</defs>\n",
       "<path clip-path=\"url(#clip730)\" d=\"\n",
       "M0 1600 L2400 1600 L2400 0 L0 0  Z\n",
       "  \" fill=\"#ffffff\" fill-rule=\"evenodd\" fill-opacity=\"1\"/>\n",
       "<defs>\n",
       "  <clipPath id=\"clip731\">\n",
       "    <rect x=\"480\" y=\"0\" width=\"1681\" height=\"1600\"/>\n",
       "  </clipPath>\n",
       "</defs>\n",
       "<path clip-path=\"url(#clip730)\" d=\"\n",
       "M152.27 1486.45 L2352.76 1486.45 L2352.76 47.2441 L152.27 47.2441  Z\n",
       "  \" fill=\"#ffffff\" fill-rule=\"evenodd\" fill-opacity=\"1\"/>\n",
       "<defs>\n",
       "  <clipPath id=\"clip732\">\n",
       "    <rect x=\"152\" y=\"47\" width=\"2201\" height=\"1440\"/>\n",
       "  </clipPath>\n",
       "</defs>\n",
       "<polyline clip-path=\"url(#clip732)\" style=\"stroke:#000000; stroke-width:2; stroke-opacity:0.1; fill:none\" points=\"\n",
       "  214.547,1486.45 214.547,47.2441 \n",
       "  \"/>\n",
       "<polyline clip-path=\"url(#clip732)\" style=\"stroke:#000000; stroke-width:2; stroke-opacity:0.1; fill:none\" points=\"\n",
       "  807.67,1486.45 807.67,47.2441 \n",
       "  \"/>\n",
       "<polyline clip-path=\"url(#clip732)\" style=\"stroke:#000000; stroke-width:2; stroke-opacity:0.1; fill:none\" points=\"\n",
       "  1400.79,1486.45 1400.79,47.2441 \n",
       "  \"/>\n",
       "<polyline clip-path=\"url(#clip732)\" style=\"stroke:#000000; stroke-width:2; stroke-opacity:0.1; fill:none\" points=\"\n",
       "  1993.92,1486.45 1993.92,47.2441 \n",
       "  \"/>\n",
       "<polyline clip-path=\"url(#clip732)\" style=\"stroke:#000000; stroke-width:2; stroke-opacity:0.1; fill:none\" points=\"\n",
       "  152.27,1389.15 2352.76,1389.15 \n",
       "  \"/>\n",
       "<polyline clip-path=\"url(#clip732)\" style=\"stroke:#000000; stroke-width:2; stroke-opacity:0.1; fill:none\" points=\"\n",
       "  152.27,1106.28 2352.76,1106.28 \n",
       "  \"/>\n",
       "<polyline clip-path=\"url(#clip732)\" style=\"stroke:#000000; stroke-width:2; stroke-opacity:0.1; fill:none\" points=\"\n",
       "  152.27,823.42 2352.76,823.42 \n",
       "  \"/>\n",
       "<polyline clip-path=\"url(#clip732)\" style=\"stroke:#000000; stroke-width:2; stroke-opacity:0.1; fill:none\" points=\"\n",
       "  152.27,540.557 2352.76,540.557 \n",
       "  \"/>\n",
       "<polyline clip-path=\"url(#clip732)\" style=\"stroke:#000000; stroke-width:2; stroke-opacity:0.1; fill:none\" points=\"\n",
       "  152.27,257.694 2352.76,257.694 \n",
       "  \"/>\n",
       "<polyline clip-path=\"url(#clip730)\" style=\"stroke:#000000; stroke-width:4; stroke-opacity:1; fill:none\" points=\"\n",
       "  152.27,1486.45 2352.76,1486.45 \n",
       "  \"/>\n",
       "<polyline clip-path=\"url(#clip730)\" style=\"stroke:#000000; stroke-width:4; stroke-opacity:1; fill:none\" points=\"\n",
       "  152.27,1486.45 152.27,47.2441 \n",
       "  \"/>\n",
       "<polyline clip-path=\"url(#clip730)\" style=\"stroke:#000000; stroke-width:4; stroke-opacity:1; fill:none\" points=\"\n",
       "  214.547,1486.45 214.547,1469.18 \n",
       "  \"/>\n",
       "<polyline clip-path=\"url(#clip730)\" style=\"stroke:#000000; stroke-width:4; stroke-opacity:1; fill:none\" points=\"\n",
       "  807.67,1486.45 807.67,1469.18 \n",
       "  \"/>\n",
       "<polyline clip-path=\"url(#clip730)\" style=\"stroke:#000000; stroke-width:4; stroke-opacity:1; fill:none\" points=\"\n",
       "  1400.79,1486.45 1400.79,1469.18 \n",
       "  \"/>\n",
       "<polyline clip-path=\"url(#clip730)\" style=\"stroke:#000000; stroke-width:4; stroke-opacity:1; fill:none\" points=\"\n",
       "  1993.92,1486.45 1993.92,1469.18 \n",
       "  \"/>\n",
       "<polyline clip-path=\"url(#clip730)\" style=\"stroke:#000000; stroke-width:4; stroke-opacity:1; fill:none\" points=\"\n",
       "  152.27,1389.15 178.675,1389.15 \n",
       "  \"/>\n",
       "<polyline clip-path=\"url(#clip730)\" style=\"stroke:#000000; stroke-width:4; stroke-opacity:1; fill:none\" points=\"\n",
       "  152.27,1106.28 178.675,1106.28 \n",
       "  \"/>\n",
       "<polyline clip-path=\"url(#clip730)\" style=\"stroke:#000000; stroke-width:4; stroke-opacity:1; fill:none\" points=\"\n",
       "  152.27,823.42 178.675,823.42 \n",
       "  \"/>\n",
       "<polyline clip-path=\"url(#clip730)\" style=\"stroke:#000000; stroke-width:4; stroke-opacity:1; fill:none\" points=\"\n",
       "  152.27,540.557 178.675,540.557 \n",
       "  \"/>\n",
       "<polyline clip-path=\"url(#clip730)\" style=\"stroke:#000000; stroke-width:4; stroke-opacity:1; fill:none\" points=\"\n",
       "  152.27,257.694 178.675,257.694 \n",
       "  \"/>\n",
       "<path clip-path=\"url(#clip730)\" d=\"M 0 0 M194.559 1525.04 L207.036 1525.04 L207.036 1528.83 L194.559 1528.83 L194.559 1525.04 Z\" fill=\"#000000\" fill-rule=\"evenodd\" fill-opacity=\"1\" /><path clip-path=\"url(#clip730)\" d=\"M 0 0 M224.953 1509.43 L213.147 1527.88 L224.953 1527.88 L224.953 1509.43 M223.726 1505.36 L229.605 1505.36 L229.605 1527.88 L234.536 1527.88 L234.536 1531.77 L229.605 1531.77 L229.605 1539.92 L224.953 1539.92 L224.953 1531.77 L209.351 1531.77 L209.351 1527.26 L223.726 1505.36 Z\" fill=\"#000000\" fill-rule=\"evenodd\" fill-opacity=\"1\" /><path clip-path=\"url(#clip730)\" d=\"M 0 0 M788.724 1525.04 L801.201 1525.04 L801.201 1528.83 L788.724 1528.83 L788.724 1525.04 Z\" fill=\"#000000\" fill-rule=\"evenodd\" fill-opacity=\"1\" /><path clip-path=\"url(#clip730)\" d=\"M 0 0 M810.298 1535.98 L826.617 1535.98 L826.617 1539.92 L804.673 1539.92 L804.673 1535.98 Q807.335 1533.23 811.918 1528.6 Q816.525 1523.95 817.705 1522.61 Q819.951 1520.08 820.83 1518.35 Q821.733 1516.59 821.733 1514.9 Q821.733 1512.14 819.788 1510.41 Q817.867 1508.67 814.765 1508.67 Q812.566 1508.67 810.113 1509.43 Q807.682 1510.2 804.904 1511.75 L804.904 1507.03 Q807.728 1505.89 810.182 1505.31 Q812.636 1504.73 814.673 1504.73 Q820.043 1504.73 823.238 1507.42 Q826.432 1510.11 826.432 1514.6 Q826.432 1516.73 825.622 1518.65 Q824.835 1520.54 822.728 1523.14 Q822.15 1523.81 819.048 1527.03 Q815.946 1530.22 810.298 1535.98 Z\" fill=\"#000000\" fill-rule=\"evenodd\" fill-opacity=\"1\" /><path clip-path=\"url(#clip730)\" d=\"M 0 0 M1400.79 1508.44 Q1397.18 1508.44 1395.35 1512 Q1393.55 1515.55 1393.55 1522.67 Q1393.55 1529.78 1395.35 1533.35 Q1397.18 1536.89 1400.79 1536.89 Q1404.43 1536.89 1406.23 1533.35 Q1408.06 1529.78 1408.06 1522.67 Q1408.06 1515.55 1406.23 1512 Q1404.43 1508.44 1400.79 1508.44 M1400.79 1504.73 Q1406.6 1504.73 1409.66 1509.34 Q1412.74 1513.92 1412.74 1522.67 Q1412.74 1531.4 1409.66 1536.01 Q1406.6 1540.59 1400.79 1540.59 Q1394.98 1540.59 1391.9 1536.01 Q1388.85 1531.4 1388.85 1522.67 Q1388.85 1513.92 1391.9 1509.34 Q1394.98 1504.73 1400.79 1504.73 Z\" fill=\"#000000\" fill-rule=\"evenodd\" fill-opacity=\"1\" /><path clip-path=\"url(#clip730)\" d=\"M 0 0 M1988.57 1535.98 L2004.89 1535.98 L2004.89 1539.92 L1982.94 1539.92 L1982.94 1535.98 Q1985.61 1533.23 1990.19 1528.6 Q1994.8 1523.95 1995.98 1522.61 Q1998.22 1520.08 1999.1 1518.35 Q2000 1516.59 2000 1514.9 Q2000 1512.14 1998.06 1510.41 Q1996.14 1508.67 1993.04 1508.67 Q1990.84 1508.67 1988.38 1509.43 Q1985.95 1510.2 1983.18 1511.75 L1983.18 1507.03 Q1986 1505.89 1988.45 1505.31 Q1990.91 1504.73 1992.94 1504.73 Q1998.31 1504.73 2001.51 1507.42 Q2004.7 1510.11 2004.7 1514.6 Q2004.7 1516.73 2003.89 1518.65 Q2003.11 1520.54 2001 1523.14 Q2000.42 1523.81 1997.32 1527.03 Q1994.22 1530.22 1988.57 1535.98 Z\" fill=\"#000000\" fill-rule=\"evenodd\" fill-opacity=\"1\" /><path clip-path=\"url(#clip730)\" d=\"M 0 0 M62.9921 1391.54 L75.4689 1391.54 L75.4689 1395.34 L62.9921 1395.34 L62.9921 1391.54 Z\" fill=\"#000000\" fill-rule=\"evenodd\" fill-opacity=\"1\" /><path clip-path=\"url(#clip730)\" d=\"M 0 0 M81.3485 1402.49 L88.9874 1402.49 L88.9874 1376.13 L80.6772 1377.79 L80.6772 1373.53 L88.9411 1371.87 L93.617 1371.87 L93.617 1402.49 L101.256 1402.49 L101.256 1406.43 L81.3485 1406.43 L81.3485 1402.49 Z\" fill=\"#000000\" fill-rule=\"evenodd\" fill-opacity=\"1\" /><path clip-path=\"url(#clip730)\" d=\"M 0 0 M116.325 1374.94 Q112.714 1374.94 110.885 1378.51 Q109.08 1382.05 109.08 1389.18 Q109.08 1396.29 110.885 1399.85 Q112.714 1403.39 116.325 1403.39 Q119.959 1403.39 121.765 1399.85 Q123.594 1396.29 123.594 1389.18 Q123.594 1382.05 121.765 1378.51 Q119.959 1374.94 116.325 1374.94 M116.325 1371.24 Q122.135 1371.24 125.191 1375.85 Q128.27 1380.43 128.27 1389.18 Q128.27 1397.91 125.191 1402.51 Q122.135 1407.1 116.325 1407.1 Q110.515 1407.1 107.436 1402.51 Q104.381 1397.91 104.381 1389.18 Q104.381 1380.43 107.436 1375.85 Q110.515 1371.24 116.325 1371.24 Z\" fill=\"#000000\" fill-rule=\"evenodd\" fill-opacity=\"1\" /><path clip-path=\"url(#clip730)\" d=\"M 0 0 M116.325 1092.08 Q112.714 1092.08 110.885 1095.65 Q109.08 1099.19 109.08 1106.32 Q109.08 1113.42 110.885 1116.99 Q112.714 1120.53 116.325 1120.53 Q119.959 1120.53 121.765 1116.99 Q123.594 1113.42 123.594 1106.32 Q123.594 1099.19 121.765 1095.65 Q119.959 1092.08 116.325 1092.08 M116.325 1088.38 Q122.135 1088.38 125.191 1092.98 Q128.27 1097.57 128.27 1106.32 Q128.27 1115.04 125.191 1119.65 Q122.135 1124.23 116.325 1124.23 Q110.515 1124.23 107.436 1119.65 Q104.381 1115.04 104.381 1106.32 Q104.381 1097.57 107.436 1092.98 Q110.515 1088.38 116.325 1088.38 Z\" fill=\"#000000\" fill-rule=\"evenodd\" fill-opacity=\"1\" /><path clip-path=\"url(#clip730)\" d=\"M 0 0 M81.3485 836.765 L88.9874 836.765 L88.9874 810.399 L80.6772 812.066 L80.6772 807.807 L88.9411 806.14 L93.617 806.14 L93.617 836.765 L101.256 836.765 L101.256 840.7 L81.3485 840.7 L81.3485 836.765 Z\" fill=\"#000000\" fill-rule=\"evenodd\" fill-opacity=\"1\" /><path clip-path=\"url(#clip730)\" d=\"M 0 0 M116.325 809.219 Q112.714 809.219 110.885 812.784 Q109.08 816.325 109.08 823.455 Q109.08 830.561 110.885 834.126 Q112.714 837.668 116.325 837.668 Q119.959 837.668 121.765 834.126 Q123.594 830.561 123.594 823.455 Q123.594 816.325 121.765 812.784 Q119.959 809.219 116.325 809.219 M116.325 805.515 Q122.135 805.515 125.191 810.122 Q128.27 814.705 128.27 823.455 Q128.27 832.182 125.191 836.788 Q122.135 841.371 116.325 841.371 Q110.515 841.371 107.436 836.788 Q104.381 832.182 104.381 823.455 Q104.381 814.705 107.436 810.122 Q110.515 805.515 116.325 805.515 Z\" fill=\"#000000\" fill-rule=\"evenodd\" fill-opacity=\"1\" /><path clip-path=\"url(#clip730)\" d=\"M 0 0 M84.9365 553.902 L101.256 553.902 L101.256 557.837 L79.3115 557.837 L79.3115 553.902 Q81.9735 551.147 86.5568 546.518 Q91.1633 541.865 92.3438 540.522 Q94.5892 537.999 95.4688 536.263 Q96.3716 534.504 96.3716 532.814 Q96.3716 530.06 94.4271 528.323 Q92.5059 526.587 89.404 526.587 Q87.205 526.587 84.7513 527.351 Q82.3207 528.115 79.543 529.666 L79.543 524.944 Q82.367 523.81 84.8207 523.231 Q87.2744 522.652 89.3114 522.652 Q94.6818 522.652 97.8762 525.337 Q101.071 528.022 101.071 532.513 Q101.071 534.643 100.26 536.564 Q99.4734 538.462 97.3669 541.055 Q96.7882 541.726 93.6864 544.944 Q90.5846 548.138 84.9365 553.902 Z\" fill=\"#000000\" fill-rule=\"evenodd\" fill-opacity=\"1\" /><path clip-path=\"url(#clip730)\" d=\"M 0 0 M116.325 526.356 Q112.714 526.356 110.885 529.921 Q109.08 533.462 109.08 540.592 Q109.08 547.698 110.885 551.263 Q112.714 554.805 116.325 554.805 Q119.959 554.805 121.765 551.263 Q123.594 547.698 123.594 540.592 Q123.594 533.462 121.765 529.921 Q119.959 526.356 116.325 526.356 M116.325 522.652 Q122.135 522.652 125.191 527.259 Q128.27 531.842 128.27 540.592 Q128.27 549.319 125.191 553.925 Q122.135 558.508 116.325 558.508 Q110.515 558.508 107.436 553.925 Q104.381 549.319 104.381 540.592 Q104.381 531.842 107.436 527.259 Q110.515 522.652 116.325 522.652 Z\" fill=\"#000000\" fill-rule=\"evenodd\" fill-opacity=\"1\" /><path clip-path=\"url(#clip730)\" d=\"M 0 0 M94.1262 256.34 Q97.4827 257.058 99.3577 259.326 Q101.256 261.595 101.256 264.928 Q101.256 270.044 97.7373 272.844 Q94.2188 275.645 87.7374 275.645 Q85.5614 275.645 83.2466 275.206 Q80.955 274.789 78.5013 273.932 L78.5013 269.419 Q80.4457 270.553 82.7605 271.132 Q85.0753 271.71 87.5985 271.71 Q91.9966 271.71 94.2883 269.974 Q96.6031 268.238 96.6031 264.928 Q96.6031 261.872 94.4503 260.159 Q92.3207 258.423 88.5012 258.423 L84.4735 258.423 L84.4735 254.581 L88.6864 254.581 Q92.1355 254.581 93.9642 253.215 Q95.7929 251.826 95.7929 249.234 Q95.7929 246.571 93.8947 245.159 Q92.0197 243.724 88.5012 243.724 Q86.58 243.724 84.3809 244.141 Q82.1818 244.558 79.543 245.437 L79.543 241.271 Q82.205 240.53 84.5198 240.159 Q86.8577 239.789 88.9179 239.789 Q94.242 239.789 97.3438 242.22 Q100.446 244.627 100.446 248.747 Q100.446 251.618 98.8021 253.608 Q97.1586 255.576 94.1262 256.34 Z\" fill=\"#000000\" fill-rule=\"evenodd\" fill-opacity=\"1\" /><path clip-path=\"url(#clip730)\" d=\"M 0 0 M116.325 243.493 Q112.714 243.493 110.885 247.058 Q109.08 250.599 109.08 257.729 Q109.08 264.835 110.885 268.4 Q112.714 271.942 116.325 271.942 Q119.959 271.942 121.765 268.4 Q123.594 264.835 123.594 257.729 Q123.594 250.599 121.765 247.058 Q119.959 243.493 116.325 243.493 M116.325 239.789 Q122.135 239.789 125.191 244.396 Q128.27 248.979 128.27 257.729 Q128.27 266.456 125.191 271.062 Q122.135 275.645 116.325 275.645 Q110.515 275.645 107.436 271.062 Q104.381 266.456 104.381 257.729 Q104.381 248.979 107.436 244.396 Q110.515 239.789 116.325 239.789 Z\" fill=\"#000000\" fill-rule=\"evenodd\" fill-opacity=\"1\" /><polyline clip-path=\"url(#clip732)\" style=\"stroke:#009af9; stroke-width:4; stroke-opacity:1; fill:none\" points=\"\n",
       "  214.547,681.989 224.684,699.293 234.821,716.398 328.548,865.172 422.275,996.993 478.602,1068.06 534.928,1133 582.551,1183.13 630.174,1228.88 681.906,1273.63 \n",
       "  733.638,1313.2 781.33,1345.12 829.023,1372.64 880.154,1397.27 931.285,1416.86 990.526,1433.24 1049.77,1442.86 1102.41,1445.72 1155.06,1443.23 1201.22,1436.64 \n",
       "  1247.39,1425.94 1297.72,1409.6 1348.06,1388.36 1398.69,1362.06 1449.32,1330.82 1505.3,1290.51 1561.28,1244.16 1614.55,1194.45 1667.81,1139.26 1778.57,1006.96 \n",
       "  1871.81,877.236 1928.73,789.801 1985.65,696.116 2039.15,602.348 2092.66,503.056 2178.38,332.467 2264.09,147.7 2277.29,118.006 2290.48,87.9763 \n",
       "  \"/>\n",
       "<polyline clip-path=\"url(#clip732)\" style=\"stroke:#e26f46; stroke-width:4; stroke-opacity:1; fill:none\" points=\"\n",
       "  214.547,1106.28 234.821,1106.28 422.275,1106.28 534.928,1106.28 630.174,1106.28 733.638,1106.28 829.023,1106.28 931.285,1106.28 1049.77,1106.28 1155.06,1106.28 \n",
       "  1247.39,1106.28 1348.06,1106.28 1449.32,1106.28 1561.28,1106.28 1667.81,1106.28 1778.57,1106.28 1871.81,1106.28 1985.65,1106.28 2092.66,1106.28 2264.09,1106.28 \n",
       "  2290.48,1106.28 \n",
       "  \"/>\n",
       "<path clip-path=\"url(#clip730)\" d=\"\n",
       "M1989.74 312.204 L2280.76 312.204 L2280.76 130.764 L1989.74 130.764  Z\n",
       "  \" fill=\"#ffffff\" fill-rule=\"evenodd\" fill-opacity=\"1\"/>\n",
       "<polyline clip-path=\"url(#clip730)\" style=\"stroke:#000000; stroke-width:4; stroke-opacity:1; fill:none\" points=\"\n",
       "  1989.74,312.204 2280.76,312.204 2280.76,130.764 1989.74,130.764 1989.74,312.204 \n",
       "  \"/>\n",
       "<polyline clip-path=\"url(#clip730)\" style=\"stroke:#009af9; stroke-width:4; stroke-opacity:1; fill:none\" points=\"\n",
       "  2013.74,191.244 2157.74,191.244 \n",
       "  \"/>\n",
       "<path clip-path=\"url(#clip730)\" d=\"M 0 0 M2195.58 210.931 Q2193.77 215.561 2192.06 216.973 Q2190.35 218.385 2187.48 218.385 L2184.08 218.385 L2184.08 214.82 L2186.58 214.82 Q2188.33 214.82 2189.31 213.987 Q2190.28 213.154 2191.46 210.052 L2192.22 208.107 L2181.74 182.598 L2186.25 182.598 L2194.35 202.876 L2202.46 182.598 L2206.97 182.598 L2195.58 210.931 Z\" fill=\"#000000\" fill-rule=\"evenodd\" fill-opacity=\"1\" /><path clip-path=\"url(#clip730)\" d=\"M 0 0 M2212.85 204.589 L2220.49 204.589 L2220.49 178.223 L2212.18 179.89 L2212.18 175.631 L2220.44 173.964 L2225.12 173.964 L2225.12 204.589 L2232.76 204.589 L2232.76 208.524 L2212.85 208.524 L2212.85 204.589 Z\" fill=\"#000000\" fill-rule=\"evenodd\" fill-opacity=\"1\" /><polyline clip-path=\"url(#clip730)\" style=\"stroke:#e26f46; stroke-width:4; stroke-opacity:1; fill:none\" points=\"\n",
       "  2013.74,251.724 2157.74,251.724 \n",
       "  \"/>\n",
       "<path clip-path=\"url(#clip730)\" d=\"M 0 0 M2195.58 271.411 Q2193.77 276.041 2192.06 277.453 Q2190.35 278.865 2187.48 278.865 L2184.08 278.865 L2184.08 275.3 L2186.58 275.3 Q2188.33 275.3 2189.31 274.467 Q2190.28 273.634 2191.46 270.532 L2192.22 268.587 L2181.74 243.078 L2186.25 243.078 L2194.35 263.356 L2202.46 243.078 L2206.97 243.078 L2195.58 271.411 Z\" fill=\"#000000\" fill-rule=\"evenodd\" fill-opacity=\"1\" /><path clip-path=\"url(#clip730)\" d=\"M 0 0 M2216.07 265.069 L2232.39 265.069 L2232.39 269.004 L2210.44 269.004 L2210.44 265.069 Q2213.1 262.314 2217.69 257.685 Q2222.29 253.032 2223.47 251.689 Q2225.72 249.166 2226.6 247.43 Q2227.5 245.671 2227.5 243.981 Q2227.5 241.226 2225.56 239.49 Q2223.64 237.754 2220.53 237.754 Q2218.33 237.754 2215.88 238.518 Q2213.45 239.282 2210.67 240.833 L2210.67 236.111 Q2213.5 234.976 2215.95 234.398 Q2218.4 233.819 2220.44 233.819 Q2225.81 233.819 2229.01 236.504 Q2232.2 239.189 2232.2 243.68 Q2232.2 245.81 2231.39 247.731 Q2230.6 249.629 2228.5 252.222 Q2227.92 252.893 2224.82 256.111 Q2221.71 259.305 2216.07 265.069 Z\" fill=\"#000000\" fill-rule=\"evenodd\" fill-opacity=\"1\" /></svg>\n"
      ]
     },
     "execution_count": 22,
     "metadata": {},
     "output_type": "execute_result"
    }
   ],
   "source": [
    "f(x) = 3 * x^2 + 6 * x - 9\n",
    "for x = -5:5    \n",
    "  println(\"(\",x, \", \", f(x), \")\")\n",
    "end\n",
    "using Plots\n",
    "gr() # Activate the GR backend for use with Plots\n",
    "plot(f, -4, 3) # plot f over [-4,4]\n",
    "plot!(zero, -4, 3)"
   ]
  },
  {
   "cell_type": "code",
   "execution_count": 23,
   "metadata": {},
   "outputs": [
    {
     "data": {
      "text/plain": [
       "15×2 Array{Float64,2}:\n",
       " 1.68005    -1.6417  \n",
       " 0.501309   -0.977698\n",
       " 1.52801     0.527711\n",
       " 1.70012     1.71152 \n",
       " 1.99249     1.891   \n",
       " 2.70608    -0.463428\n",
       " 2.99493    -0.443567\n",
       " 3.49185    -1.27518 \n",
       " 3.50119    -0.6905  \n",
       " 4.45992    -5.51613 \n",
       " 4.93697    -6.0017  \n",
       " 5.02329    -8.36417 \n",
       " 5.04234    -7.92448 \n",
       " 5.50739   -10.7748  \n",
       " 5.56867   -10.9172  "
      ]
     },
     "execution_count": 23,
     "metadata": {},
     "output_type": "execute_result"
    }
   ],
   "source": [
    "data = [1.6800483  -1.641695388; \n",
    "        0.501309281 -0.977697538; \n",
    "        1.528012113 0.52771122;\n",
    "        1.70012253 1.711524991; \n",
    "        1.992493625 1.891000015;\n",
    "        2.706075824 -0.463427794;\n",
    "        2.994931927 -0.443566619;\n",
    "        3.491852811 -1.275179133;\n",
    "        3.501191722 -0.690499597;\n",
    "        4.459924502 -5.516130799;\n",
    "        4.936965851 -6.001703074;\n",
    "        5.023289852 -8.36416901;\n",
    "        5.04233698 -7.924477517;\n",
    "        5.50739285 -10.77482371;\n",
    "        5.568665171 -10.9171878]"
   ]
  },
  {
   "cell_type": "code",
   "execution_count": 24,
   "metadata": {},
   "outputs": [
    {
     "data": {
      "text/plain": [
       "([1.68005, 0.501309, 1.52801, 1.70012, 1.99249, 2.70608, 2.99493, 3.49185, 3.50119, 4.45992, 4.93697, 5.02329, 5.04234, 5.50739, 5.56867], [-1.6417, -0.977698, 0.527711, 1.71152, 1.891, -0.463428, -0.443567, -1.27518, -0.6905, -5.51613, -6.0017, -8.36417, -7.92448, -10.7748, -10.9172])"
      ]
     },
     "execution_count": 24,
     "metadata": {},
     "output_type": "execute_result"
    }
   ],
   "source": [
    "x,y=data[:,1],data[:,2]"
   ]
  },
  {
   "cell_type": "code",
   "execution_count": 25,
   "metadata": {},
   "outputs": [
    {
     "data": {
      "text/plain": [
       "15-element Array{Float64,1}:\n",
       " 1.6800483  \n",
       " 0.501309281\n",
       " 1.528012113\n",
       " 1.70012253 \n",
       " 1.992493625\n",
       " 2.706075824\n",
       " 2.994931927\n",
       " 3.491852811\n",
       " 3.501191722\n",
       " 4.459924502\n",
       " 4.936965851\n",
       " 5.023289852\n",
       " 5.04233698 \n",
       " 5.50739285 \n",
       " 5.568665171"
      ]
     },
     "execution_count": 25,
     "metadata": {},
     "output_type": "execute_result"
    }
   ],
   "source": [
    "x"
   ]
  },
  {
   "cell_type": "code",
   "execution_count": 26,
   "metadata": {},
   "outputs": [
    {
     "data": {
      "image/svg+xml": [
       "<?xml version=\"1.0\" encoding=\"utf-8\"?>\n",
       "<svg xmlns=\"http://www.w3.org/2000/svg\" xmlns:xlink=\"http://www.w3.org/1999/xlink\" width=\"600\" height=\"400\" viewBox=\"0 0 2400 1600\">\n",
       "<defs>\n",
       "  <clipPath id=\"clip770\">\n",
       "    <rect x=\"0\" y=\"0\" width=\"2400\" height=\"1600\"/>\n",
       "  </clipPath>\n",
       "</defs>\n",
       "<path clip-path=\"url(#clip770)\" d=\"\n",
       "M0 1600 L2400 1600 L2400 0 L0 0  Z\n",
       "  \" fill=\"#ffffff\" fill-rule=\"evenodd\" fill-opacity=\"1\"/>\n",
       "<defs>\n",
       "  <clipPath id=\"clip771\">\n",
       "    <rect x=\"480\" y=\"0\" width=\"1681\" height=\"1600\"/>\n",
       "  </clipPath>\n",
       "</defs>\n",
       "<path clip-path=\"url(#clip770)\" d=\"\n",
       "M189.237 1486.45 L2352.76 1486.45 L2352.76 47.2441 L189.237 47.2441  Z\n",
       "  \" fill=\"#ffffff\" fill-rule=\"evenodd\" fill-opacity=\"1\"/>\n",
       "<defs>\n",
       "  <clipPath id=\"clip772\">\n",
       "    <rect x=\"189\" y=\"47\" width=\"2165\" height=\"1440\"/>\n",
       "  </clipPath>\n",
       "</defs>\n",
       "<polyline clip-path=\"url(#clip772)\" style=\"stroke:#000000; stroke-width:2; stroke-opacity:0.1; fill:none\" points=\"\n",
       "  451.334,1486.45 451.334,47.2441 \n",
       "  \"/>\n",
       "<polyline clip-path=\"url(#clip772)\" style=\"stroke:#000000; stroke-width:2; stroke-opacity:0.1; fill:none\" points=\"\n",
       "  854.119,1486.45 854.119,47.2441 \n",
       "  \"/>\n",
       "<polyline clip-path=\"url(#clip772)\" style=\"stroke:#000000; stroke-width:2; stroke-opacity:0.1; fill:none\" points=\"\n",
       "  1256.9,1486.45 1256.9,47.2441 \n",
       "  \"/>\n",
       "<polyline clip-path=\"url(#clip772)\" style=\"stroke:#000000; stroke-width:2; stroke-opacity:0.1; fill:none\" points=\"\n",
       "  1659.69,1486.45 1659.69,47.2441 \n",
       "  \"/>\n",
       "<polyline clip-path=\"url(#clip772)\" style=\"stroke:#000000; stroke-width:2; stroke-opacity:0.1; fill:none\" points=\"\n",
       "  2062.47,1486.45 2062.47,47.2441 \n",
       "  \"/>\n",
       "<polyline clip-path=\"url(#clip772)\" style=\"stroke:#000000; stroke-width:2; stroke-opacity:0.1; fill:none\" points=\"\n",
       "  189.237,1348.49 2352.76,1348.49 \n",
       "  \"/>\n",
       "<polyline clip-path=\"url(#clip772)\" style=\"stroke:#000000; stroke-width:2; stroke-opacity:0.1; fill:none\" points=\"\n",
       "  189.237,1083.47 2352.76,1083.47 \n",
       "  \"/>\n",
       "<polyline clip-path=\"url(#clip772)\" style=\"stroke:#000000; stroke-width:2; stroke-opacity:0.1; fill:none\" points=\"\n",
       "  189.237,818.461 2352.76,818.461 \n",
       "  \"/>\n",
       "<polyline clip-path=\"url(#clip772)\" style=\"stroke:#000000; stroke-width:2; stroke-opacity:0.1; fill:none\" points=\"\n",
       "  189.237,553.447 2352.76,553.447 \n",
       "  \"/>\n",
       "<polyline clip-path=\"url(#clip772)\" style=\"stroke:#000000; stroke-width:2; stroke-opacity:0.1; fill:none\" points=\"\n",
       "  189.237,288.433 2352.76,288.433 \n",
       "  \"/>\n",
       "<polyline clip-path=\"url(#clip770)\" style=\"stroke:#000000; stroke-width:4; stroke-opacity:1; fill:none\" points=\"\n",
       "  189.237,1486.45 2352.76,1486.45 \n",
       "  \"/>\n",
       "<polyline clip-path=\"url(#clip770)\" style=\"stroke:#000000; stroke-width:4; stroke-opacity:1; fill:none\" points=\"\n",
       "  189.237,1486.45 189.237,47.2441 \n",
       "  \"/>\n",
       "<polyline clip-path=\"url(#clip770)\" style=\"stroke:#000000; stroke-width:4; stroke-opacity:1; fill:none\" points=\"\n",
       "  451.334,1486.45 451.334,1469.18 \n",
       "  \"/>\n",
       "<polyline clip-path=\"url(#clip770)\" style=\"stroke:#000000; stroke-width:4; stroke-opacity:1; fill:none\" points=\"\n",
       "  854.119,1486.45 854.119,1469.18 \n",
       "  \"/>\n",
       "<polyline clip-path=\"url(#clip770)\" style=\"stroke:#000000; stroke-width:4; stroke-opacity:1; fill:none\" points=\"\n",
       "  1256.9,1486.45 1256.9,1469.18 \n",
       "  \"/>\n",
       "<polyline clip-path=\"url(#clip770)\" style=\"stroke:#000000; stroke-width:4; stroke-opacity:1; fill:none\" points=\"\n",
       "  1659.69,1486.45 1659.69,1469.18 \n",
       "  \"/>\n",
       "<polyline clip-path=\"url(#clip770)\" style=\"stroke:#000000; stroke-width:4; stroke-opacity:1; fill:none\" points=\"\n",
       "  2062.47,1486.45 2062.47,1469.18 \n",
       "  \"/>\n",
       "<polyline clip-path=\"url(#clip770)\" style=\"stroke:#000000; stroke-width:4; stroke-opacity:1; fill:none\" points=\"\n",
       "  189.237,1348.49 215.199,1348.49 \n",
       "  \"/>\n",
       "<polyline clip-path=\"url(#clip770)\" style=\"stroke:#000000; stroke-width:4; stroke-opacity:1; fill:none\" points=\"\n",
       "  189.237,1083.47 215.199,1083.47 \n",
       "  \"/>\n",
       "<polyline clip-path=\"url(#clip770)\" style=\"stroke:#000000; stroke-width:4; stroke-opacity:1; fill:none\" points=\"\n",
       "  189.237,818.461 215.199,818.461 \n",
       "  \"/>\n",
       "<polyline clip-path=\"url(#clip770)\" style=\"stroke:#000000; stroke-width:4; stroke-opacity:1; fill:none\" points=\"\n",
       "  189.237,553.447 215.199,553.447 \n",
       "  \"/>\n",
       "<polyline clip-path=\"url(#clip770)\" style=\"stroke:#000000; stroke-width:4; stroke-opacity:1; fill:none\" points=\"\n",
       "  189.237,288.433 215.199,288.433 \n",
       "  \"/>\n",
       "<path clip-path=\"url(#clip770)\" d=\"M 0 0 M441.716 1535.98 L449.355 1535.98 L449.355 1509.62 L441.045 1511.29 L441.045 1507.03 L449.308 1505.36 L453.984 1505.36 L453.984 1535.98 L461.623 1535.98 L461.623 1539.92 L441.716 1539.92 L441.716 1535.98 Z\" fill=\"#000000\" fill-rule=\"evenodd\" fill-opacity=\"1\" /><path clip-path=\"url(#clip770)\" d=\"M 0 0 M848.772 1535.98 L865.091 1535.98 L865.091 1539.92 L843.147 1539.92 L843.147 1535.98 Q845.809 1533.23 850.392 1528.6 Q854.999 1523.95 856.179 1522.61 Q858.424 1520.08 859.304 1518.35 Q860.207 1516.59 860.207 1514.9 Q860.207 1512.14 858.262 1510.41 Q856.341 1508.67 853.239 1508.67 Q851.04 1508.67 848.587 1509.43 Q846.156 1510.2 843.378 1511.75 L843.378 1507.03 Q846.202 1505.89 848.656 1505.31 Q851.11 1504.73 853.147 1504.73 Q858.517 1504.73 861.712 1507.42 Q864.906 1510.11 864.906 1514.6 Q864.906 1516.73 864.096 1518.65 Q863.309 1520.54 861.202 1523.14 Q860.624 1523.81 857.522 1527.03 Q854.42 1530.22 848.772 1535.98 Z\" fill=\"#000000\" fill-rule=\"evenodd\" fill-opacity=\"1\" /><path clip-path=\"url(#clip770)\" d=\"M 0 0 M1261.15 1521.29 Q1264.51 1522 1266.38 1524.27 Q1268.28 1526.54 1268.28 1529.87 Q1268.28 1534.99 1264.76 1537.79 Q1261.24 1540.59 1254.76 1540.59 Q1252.59 1540.59 1250.27 1540.15 Q1247.98 1539.73 1245.53 1538.88 L1245.53 1534.36 Q1247.47 1535.5 1249.79 1536.08 Q1252.1 1536.66 1254.62 1536.66 Q1259.02 1536.66 1261.31 1534.92 Q1263.63 1533.18 1263.63 1529.87 Q1263.63 1526.82 1261.48 1525.11 Q1259.35 1523.37 1255.53 1523.37 L1251.5 1523.37 L1251.5 1519.53 L1255.71 1519.53 Q1259.16 1519.53 1260.99 1518.16 Q1262.82 1516.77 1262.82 1514.18 Q1262.82 1511.52 1260.92 1510.11 Q1259.05 1508.67 1255.53 1508.67 Q1253.61 1508.67 1251.41 1509.09 Q1249.21 1509.5 1246.57 1510.38 L1246.57 1506.22 Q1249.23 1505.48 1251.55 1505.11 Q1253.88 1504.73 1255.94 1504.73 Q1261.27 1504.73 1264.37 1507.17 Q1267.47 1509.57 1267.47 1513.69 Q1267.47 1516.56 1265.83 1518.55 Q1264.18 1520.52 1261.15 1521.29 Z\" fill=\"#000000\" fill-rule=\"evenodd\" fill-opacity=\"1\" /><path clip-path=\"url(#clip770)\" d=\"M 0 0 M1662.7 1509.43 L1650.89 1527.88 L1662.7 1527.88 L1662.7 1509.43 M1661.47 1505.36 L1667.35 1505.36 L1667.35 1527.88 L1672.28 1527.88 L1672.28 1531.77 L1667.35 1531.77 L1667.35 1539.92 L1662.7 1539.92 L1662.7 1531.77 L1647.1 1531.77 L1647.1 1527.26 L1661.47 1505.36 Z\" fill=\"#000000\" fill-rule=\"evenodd\" fill-opacity=\"1\" /><path clip-path=\"url(#clip770)\" d=\"M 0 0 M2052.75 1505.36 L2071.11 1505.36 L2071.11 1509.3 L2057.03 1509.3 L2057.03 1517.77 Q2058.05 1517.42 2059.07 1517.26 Q2060.09 1517.07 2061.11 1517.07 Q2066.9 1517.07 2070.28 1520.24 Q2073.65 1523.42 2073.65 1528.83 Q2073.65 1534.41 2070.18 1537.51 Q2066.71 1540.59 2060.39 1540.59 Q2058.22 1540.59 2055.95 1540.22 Q2053.7 1539.85 2051.29 1539.11 L2051.29 1534.41 Q2053.38 1535.54 2055.6 1536.1 Q2057.82 1536.66 2060.3 1536.66 Q2064.3 1536.66 2066.64 1534.55 Q2068.98 1532.44 2068.98 1528.83 Q2068.98 1525.22 2066.64 1523.11 Q2064.3 1521.01 2060.3 1521.01 Q2058.42 1521.01 2056.55 1521.42 Q2054.7 1521.84 2052.75 1522.72 L2052.75 1505.36 Z\" fill=\"#000000\" fill-rule=\"evenodd\" fill-opacity=\"1\" /><path clip-path=\"url(#clip770)\" d=\"M 0 0 M62.9921 1350.88 L75.4689 1350.88 L75.4689 1354.68 L62.9921 1354.68 L62.9921 1350.88 Z\" fill=\"#000000\" fill-rule=\"evenodd\" fill-opacity=\"1\" /><path clip-path=\"url(#clip770)\" d=\"M 0 0 M81.3485 1361.83 L88.9874 1361.83 L88.9874 1335.47 L80.6772 1337.13 L80.6772 1332.88 L88.9411 1331.21 L93.617 1331.21 L93.617 1361.83 L101.256 1361.83 L101.256 1365.77 L81.3485 1365.77 L81.3485 1361.83 Z\" fill=\"#000000\" fill-rule=\"evenodd\" fill-opacity=\"1\" /><path clip-path=\"url(#clip770)\" d=\"M 0 0 M116.325 1334.29 Q112.714 1334.29 110.885 1337.85 Q109.08 1341.39 109.08 1348.52 Q109.08 1355.63 110.885 1359.19 Q112.714 1362.74 116.325 1362.74 Q119.959 1362.74 121.765 1359.19 Q123.594 1355.63 123.594 1348.52 Q123.594 1341.39 121.765 1337.85 Q119.959 1334.29 116.325 1334.29 M116.325 1330.58 Q122.135 1330.58 125.191 1335.19 Q128.27 1339.77 128.27 1348.52 Q128.27 1357.25 125.191 1361.86 Q122.135 1366.44 116.325 1366.44 Q110.515 1366.44 107.436 1361.86 Q104.381 1357.25 104.381 1348.52 Q104.381 1339.77 107.436 1335.19 Q110.515 1330.58 116.325 1330.58 Z\" fill=\"#000000\" fill-rule=\"evenodd\" fill-opacity=\"1\" /><path clip-path=\"url(#clip770)\" d=\"M 0 0 M133.339 1359.89 L138.223 1359.89 L138.223 1365.77 L133.339 1365.77 L133.339 1359.89 Z\" fill=\"#000000\" fill-rule=\"evenodd\" fill-opacity=\"1\" /><path clip-path=\"url(#clip770)\" d=\"M 0 0 M153.293 1334.29 Q149.681 1334.29 147.853 1337.85 Q146.047 1341.39 146.047 1348.52 Q146.047 1355.63 147.853 1359.19 Q149.681 1362.74 153.293 1362.74 Q156.927 1362.74 158.732 1359.19 Q160.561 1355.63 160.561 1348.52 Q160.561 1341.39 158.732 1337.85 Q156.927 1334.29 153.293 1334.29 M153.293 1330.58 Q159.103 1330.58 162.158 1335.19 Q165.237 1339.77 165.237 1348.52 Q165.237 1357.25 162.158 1361.86 Q159.103 1366.44 153.293 1366.44 Q147.482 1366.44 144.404 1361.86 Q141.348 1357.25 141.348 1348.52 Q141.348 1339.77 144.404 1335.19 Q147.482 1330.58 153.293 1330.58 Z\" fill=\"#000000\" fill-rule=\"evenodd\" fill-opacity=\"1\" /><path clip-path=\"url(#clip770)\" d=\"M 0 0 M90.6772 1085.87 L103.154 1085.87 L103.154 1089.67 L90.6772 1089.67 L90.6772 1085.87 Z\" fill=\"#000000\" fill-rule=\"evenodd\" fill-opacity=\"1\" /><path clip-path=\"url(#clip770)\" d=\"M 0 0 M107.043 1066.19 L129.265 1066.19 L129.265 1068.19 L116.719 1100.75 L111.834 1100.75 L123.64 1070.13 L107.043 1070.13 L107.043 1066.19 Z\" fill=\"#000000\" fill-rule=\"evenodd\" fill-opacity=\"1\" /><path clip-path=\"url(#clip770)\" d=\"M 0 0 M134.334 1094.88 L139.219 1094.88 L139.219 1100.75 L134.334 1100.75 L134.334 1094.88 Z\" fill=\"#000000\" fill-rule=\"evenodd\" fill-opacity=\"1\" /><path clip-path=\"url(#clip770)\" d=\"M 0 0 M144.334 1066.19 L162.691 1066.19 L162.691 1070.13 L148.617 1070.13 L148.617 1078.6 Q149.635 1078.25 150.654 1078.09 Q151.672 1077.91 152.691 1077.91 Q158.478 1077.91 161.857 1081.08 Q165.237 1084.25 165.237 1089.67 Q165.237 1095.25 161.765 1098.35 Q158.293 1101.43 151.973 1101.43 Q149.797 1101.43 147.529 1101.06 Q145.283 1100.69 142.876 1099.94 L142.876 1095.25 Q144.959 1096.38 147.181 1096.94 Q149.404 1097.49 151.881 1097.49 Q155.885 1097.49 158.223 1095.38 Q160.561 1093.28 160.561 1089.67 Q160.561 1086.06 158.223 1083.95 Q155.885 1081.84 151.881 1081.84 Q150.006 1081.84 148.131 1082.26 Q146.279 1082.68 144.334 1083.56 L144.334 1066.19 Z\" fill=\"#000000\" fill-rule=\"evenodd\" fill-opacity=\"1\" /><path clip-path=\"url(#clip770)\" d=\"M 0 0 M89.7744 820.857 L102.251 820.857 L102.251 824.653 L89.7744 824.653 L89.7744 820.857 Z\" fill=\"#000000\" fill-rule=\"evenodd\" fill-opacity=\"1\" /><path clip-path=\"url(#clip770)\" d=\"M 0 0 M107.367 801.181 L125.723 801.181 L125.723 805.116 L111.649 805.116 L111.649 813.588 Q112.668 813.241 113.686 813.079 Q114.705 812.894 115.723 812.894 Q121.51 812.894 124.89 816.065 Q128.27 819.236 128.27 824.653 Q128.27 830.232 124.797 833.333 Q121.325 836.412 115.006 836.412 Q112.83 836.412 110.561 836.042 Q108.316 835.671 105.909 834.931 L105.909 830.232 Q107.992 831.366 110.214 831.921 Q112.436 832.477 114.913 832.477 Q118.918 832.477 121.256 830.37 Q123.594 828.264 123.594 824.653 Q123.594 821.042 121.256 818.935 Q118.918 816.829 114.913 816.829 Q113.038 816.829 111.163 817.245 Q109.311 817.662 107.367 818.542 L107.367 801.181 Z\" fill=\"#000000\" fill-rule=\"evenodd\" fill-opacity=\"1\" /><path clip-path=\"url(#clip770)\" d=\"M 0 0 M133.339 829.861 L138.223 829.861 L138.223 835.741 L133.339 835.741 L133.339 829.861 Z\" fill=\"#000000\" fill-rule=\"evenodd\" fill-opacity=\"1\" /><path clip-path=\"url(#clip770)\" d=\"M 0 0 M153.293 804.259 Q149.681 804.259 147.853 807.824 Q146.047 811.366 146.047 818.495 Q146.047 825.602 147.853 829.167 Q149.681 832.708 153.293 832.708 Q156.927 832.708 158.732 829.167 Q160.561 825.602 160.561 818.495 Q160.561 811.366 158.732 807.824 Q156.927 804.259 153.293 804.259 M153.293 800.556 Q159.103 800.556 162.158 805.162 Q165.237 809.746 165.237 818.495 Q165.237 827.222 162.158 831.829 Q159.103 836.412 153.293 836.412 Q147.482 836.412 144.404 831.829 Q141.348 827.222 141.348 818.495 Q141.348 809.746 144.404 805.162 Q147.482 800.556 153.293 800.556 Z\" fill=\"#000000\" fill-rule=\"evenodd\" fill-opacity=\"1\" /><path clip-path=\"url(#clip770)\" d=\"M 0 0 M91.3716 555.843 L103.848 555.843 L103.848 559.639 L91.3716 559.639 L91.3716 555.843 Z\" fill=\"#000000\" fill-rule=\"evenodd\" fill-opacity=\"1\" /><path clip-path=\"url(#clip770)\" d=\"M 0 0 M112.946 566.792 L129.265 566.792 L129.265 570.727 L107.321 570.727 L107.321 566.792 Q109.983 564.037 114.566 559.407 Q119.172 554.755 120.353 553.412 Q122.598 550.889 123.478 549.153 Q124.381 547.394 124.381 545.704 Q124.381 542.949 122.436 541.213 Q120.515 539.477 117.413 539.477 Q115.214 539.477 112.76 540.241 Q110.33 541.005 107.552 542.556 L107.552 537.833 Q110.376 536.699 112.83 536.12 Q115.284 535.542 117.321 535.542 Q122.691 535.542 125.885 538.227 Q129.08 540.912 129.08 545.403 Q129.08 547.532 128.27 549.454 Q127.483 551.352 125.376 553.944 Q124.797 554.616 121.696 557.833 Q118.594 561.028 112.946 566.792 Z\" fill=\"#000000\" fill-rule=\"evenodd\" fill-opacity=\"1\" /><path clip-path=\"url(#clip770)\" d=\"M 0 0 M134.334 564.847 L139.219 564.847 L139.219 570.727 L134.334 570.727 L134.334 564.847 Z\" fill=\"#000000\" fill-rule=\"evenodd\" fill-opacity=\"1\" /><path clip-path=\"url(#clip770)\" d=\"M 0 0 M144.334 536.167 L162.691 536.167 L162.691 540.102 L148.617 540.102 L148.617 548.574 Q149.635 548.227 150.654 548.065 Q151.672 547.88 152.691 547.88 Q158.478 547.88 161.857 551.051 Q165.237 554.222 165.237 559.639 Q165.237 565.218 161.765 568.319 Q158.293 571.398 151.973 571.398 Q149.797 571.398 147.529 571.028 Q145.283 570.657 142.876 569.917 L142.876 565.218 Q144.959 566.352 147.181 566.907 Q149.404 567.463 151.881 567.463 Q155.885 567.463 158.223 565.356 Q160.561 563.25 160.561 559.639 Q160.561 556.028 158.223 553.921 Q155.885 551.815 151.881 551.815 Q150.006 551.815 148.131 552.232 Q146.279 552.648 144.334 553.528 L144.334 536.167 Z\" fill=\"#000000\" fill-rule=\"evenodd\" fill-opacity=\"1\" /><path clip-path=\"url(#clip770)\" d=\"M 0 0 M116.325 274.232 Q112.714 274.232 110.885 277.796 Q109.08 281.338 109.08 288.468 Q109.08 295.574 110.885 299.139 Q112.714 302.68 116.325 302.68 Q119.959 302.68 121.765 299.139 Q123.594 295.574 123.594 288.468 Q123.594 281.338 121.765 277.796 Q119.959 274.232 116.325 274.232 M116.325 270.528 Q122.135 270.528 125.191 275.134 Q128.27 279.718 128.27 288.468 Q128.27 297.194 125.191 301.801 Q122.135 306.384 116.325 306.384 Q110.515 306.384 107.436 301.801 Q104.381 297.194 104.381 288.468 Q104.381 279.718 107.436 275.134 Q110.515 270.528 116.325 270.528 Z\" fill=\"#000000\" fill-rule=\"evenodd\" fill-opacity=\"1\" /><path clip-path=\"url(#clip770)\" d=\"M 0 0 M133.339 299.833 L138.223 299.833 L138.223 305.713 L133.339 305.713 L133.339 299.833 Z\" fill=\"#000000\" fill-rule=\"evenodd\" fill-opacity=\"1\" /><path clip-path=\"url(#clip770)\" d=\"M 0 0 M153.293 274.232 Q149.681 274.232 147.853 277.796 Q146.047 281.338 146.047 288.468 Q146.047 295.574 147.853 299.139 Q149.681 302.68 153.293 302.68 Q156.927 302.68 158.732 299.139 Q160.561 295.574 160.561 288.468 Q160.561 281.338 158.732 277.796 Q156.927 274.232 153.293 274.232 M153.293 270.528 Q159.103 270.528 162.158 275.134 Q165.237 279.718 165.237 288.468 Q165.237 297.194 162.158 301.801 Q159.103 306.384 153.293 306.384 Q147.482 306.384 144.404 301.801 Q141.348 297.194 141.348 288.468 Q141.348 279.718 144.404 275.134 Q147.482 270.528 153.293 270.528 Z\" fill=\"#000000\" fill-rule=\"evenodd\" fill-opacity=\"1\" /><circle clip-path=\"url(#clip772)\" cx=\"725.247\" cy=\"462.462\" r=\"14\" fill=\"#009af9\" fill-rule=\"evenodd\" fill-opacity=\"1\" stroke=\"#000000\" stroke-opacity=\"1\" stroke-width=\"3.2\"/>\n",
       "<circle clip-path=\"url(#clip772)\" cx=\"250.469\" cy=\"392.074\" r=\"14\" fill=\"#009af9\" fill-rule=\"evenodd\" fill-opacity=\"1\" stroke=\"#000000\" stroke-opacity=\"1\" stroke-width=\"3.2\"/>\n",
       "<circle clip-path=\"url(#clip772)\" cx=\"664.009\" cy=\"232.493\" r=\"14\" fill=\"#009af9\" fill-rule=\"evenodd\" fill-opacity=\"1\" stroke=\"#000000\" stroke-opacity=\"1\" stroke-width=\"3.2\"/>\n",
       "<circle clip-path=\"url(#clip772)\" cx=\"733.333\" cy=\"107.002\" r=\"14\" fill=\"#009af9\" fill-rule=\"evenodd\" fill-opacity=\"1\" stroke=\"#000000\" stroke-opacity=\"1\" stroke-width=\"3.2\"/>\n",
       "<circle clip-path=\"url(#clip772)\" cx=\"851.096\" cy=\"87.9763\" r=\"14\" fill=\"#009af9\" fill-rule=\"evenodd\" fill-opacity=\"1\" stroke=\"#000000\" stroke-opacity=\"1\" stroke-width=\"3.2\"/>\n",
       "<circle clip-path=\"url(#clip772)\" cx=\"1138.52\" cy=\"337.559\" r=\"14\" fill=\"#009af9\" fill-rule=\"evenodd\" fill-opacity=\"1\" stroke=\"#000000\" stroke-opacity=\"1\" stroke-width=\"3.2\"/>\n",
       "<circle clip-path=\"url(#clip772)\" cx=\"1254.86\" cy=\"335.453\" r=\"14\" fill=\"#009af9\" fill-rule=\"evenodd\" fill-opacity=\"1\" stroke=\"#000000\" stroke-opacity=\"1\" stroke-width=\"3.2\"/>\n",
       "<circle clip-path=\"url(#clip772)\" cx=\"1455.02\" cy=\"423.609\" r=\"14\" fill=\"#009af9\" fill-rule=\"evenodd\" fill-opacity=\"1\" stroke=\"#000000\" stroke-opacity=\"1\" stroke-width=\"3.2\"/>\n",
       "<circle clip-path=\"url(#clip772)\" cx=\"1458.78\" cy=\"361.63\" r=\"14\" fill=\"#009af9\" fill-rule=\"evenodd\" fill-opacity=\"1\" stroke=\"#000000\" stroke-opacity=\"1\" stroke-width=\"3.2\"/>\n",
       "<circle clip-path=\"url(#clip772)\" cx=\"1844.94\" cy=\"873.173\" r=\"14\" fill=\"#009af9\" fill-rule=\"evenodd\" fill-opacity=\"1\" stroke=\"#000000\" stroke-opacity=\"1\" stroke-width=\"3.2\"/>\n",
       "<circle clip-path=\"url(#clip772)\" cx=\"2037.09\" cy=\"924.647\" r=\"14\" fill=\"#009af9\" fill-rule=\"evenodd\" fill-opacity=\"1\" stroke=\"#000000\" stroke-opacity=\"1\" stroke-width=\"3.2\"/>\n",
       "<circle clip-path=\"url(#clip772)\" cx=\"2071.86\" cy=\"1175.08\" r=\"14\" fill=\"#009af9\" fill-rule=\"evenodd\" fill-opacity=\"1\" stroke=\"#000000\" stroke-opacity=\"1\" stroke-width=\"3.2\"/>\n",
       "<circle clip-path=\"url(#clip772)\" cx=\"2079.53\" cy=\"1128.47\" r=\"14\" fill=\"#009af9\" fill-rule=\"evenodd\" fill-opacity=\"1\" stroke=\"#000000\" stroke-opacity=\"1\" stroke-width=\"3.2\"/>\n",
       "<circle clip-path=\"url(#clip772)\" cx=\"2266.84\" cy=\"1430.62\" r=\"14\" fill=\"#009af9\" fill-rule=\"evenodd\" fill-opacity=\"1\" stroke=\"#000000\" stroke-opacity=\"1\" stroke-width=\"3.2\"/>\n",
       "<circle clip-path=\"url(#clip772)\" cx=\"2291.52\" cy=\"1445.72\" r=\"14\" fill=\"#009af9\" fill-rule=\"evenodd\" fill-opacity=\"1\" stroke=\"#000000\" stroke-opacity=\"1\" stroke-width=\"3.2\"/>\n",
       "</svg>\n"
      ]
     },
     "execution_count": 26,
     "metadata": {},
     "output_type": "execute_result"
    }
   ],
   "source": [
    "using Plots\n",
    "gr() # Activate the GR backend for use with Plots\n",
    "# Use the data array to assign values for x and y here\n",
    "plot(x, y, linetype = :scatter, leg = false) "
   ]
  },
  {
   "cell_type": "code",
   "execution_count": 27,
   "metadata": {},
   "outputs": [
    {
     "data": {
      "text/plain": [
       "4-element Array{Float64,1}:\n",
       "  -8.36416901 \n",
       "  -7.924477517\n",
       " -10.77482371 \n",
       " -10.9171878  "
      ]
     },
     "execution_count": 27,
     "metadata": {},
     "output_type": "execute_result"
    }
   ],
   "source": [
    "data[end-3:end]"
   ]
  },
  {
   "cell_type": "code",
   "execution_count": 28,
   "metadata": {},
   "outputs": [
    {
     "data": {
      "image/svg+xml": [
       "<?xml version=\"1.0\" encoding=\"utf-8\"?>\n",
       "<svg xmlns=\"http://www.w3.org/2000/svg\" xmlns:xlink=\"http://www.w3.org/1999/xlink\" width=\"600\" height=\"400\" viewBox=\"0 0 2400 1600\">\n",
       "<defs>\n",
       "  <clipPath id=\"clip810\">\n",
       "    <rect x=\"0\" y=\"0\" width=\"2400\" height=\"1600\"/>\n",
       "  </clipPath>\n",
       "</defs>\n",
       "<path clip-path=\"url(#clip810)\" d=\"\n",
       "M0 1600 L2400 1600 L2400 0 L0 0  Z\n",
       "  \" fill=\"#ffffff\" fill-rule=\"evenodd\" fill-opacity=\"1\"/>\n",
       "<defs>\n",
       "  <clipPath id=\"clip811\">\n",
       "    <rect x=\"480\" y=\"0\" width=\"1681\" height=\"1600\"/>\n",
       "  </clipPath>\n",
       "</defs>\n",
       "<path clip-path=\"url(#clip810)\" d=\"\n",
       "M174.862 1486.45 L2352.76 1486.45 L2352.76 47.2441 L174.862 47.2441  Z\n",
       "  \" fill=\"#ffffff\" fill-rule=\"evenodd\" fill-opacity=\"1\"/>\n",
       "<defs>\n",
       "  <clipPath id=\"clip812\">\n",
       "    <rect x=\"174\" y=\"47\" width=\"2179\" height=\"1440\"/>\n",
       "  </clipPath>\n",
       "</defs>\n",
       "<polyline clip-path=\"url(#clip812)\" style=\"stroke:#000000; stroke-width:2; stroke-opacity:0.1; fill:none\" points=\"\n",
       "  208.391,1486.45 208.391,47.2441 \n",
       "  \"/>\n",
       "<polyline clip-path=\"url(#clip812)\" style=\"stroke:#000000; stroke-width:2; stroke-opacity:0.1; fill:none\" points=\"\n",
       "  732.185,1486.45 732.185,47.2441 \n",
       "  \"/>\n",
       "<polyline clip-path=\"url(#clip812)\" style=\"stroke:#000000; stroke-width:2; stroke-opacity:0.1; fill:none\" points=\"\n",
       "  1255.98,1486.45 1255.98,47.2441 \n",
       "  \"/>\n",
       "<polyline clip-path=\"url(#clip812)\" style=\"stroke:#000000; stroke-width:2; stroke-opacity:0.1; fill:none\" points=\"\n",
       "  1779.77,1486.45 1779.77,47.2441 \n",
       "  \"/>\n",
       "<polyline clip-path=\"url(#clip812)\" style=\"stroke:#000000; stroke-width:2; stroke-opacity:0.1; fill:none\" points=\"\n",
       "  2303.57,1486.45 2303.57,47.2441 \n",
       "  \"/>\n",
       "<polyline clip-path=\"url(#clip812)\" style=\"stroke:#000000; stroke-width:2; stroke-opacity:0.1; fill:none\" points=\"\n",
       "  174.862,1446.49 2352.76,1446.49 \n",
       "  \"/>\n",
       "<polyline clip-path=\"url(#clip812)\" style=\"stroke:#000000; stroke-width:2; stroke-opacity:0.1; fill:none\" points=\"\n",
       "  174.862,1101.94 2352.76,1101.94 \n",
       "  \"/>\n",
       "<polyline clip-path=\"url(#clip812)\" style=\"stroke:#000000; stroke-width:2; stroke-opacity:0.1; fill:none\" points=\"\n",
       "  174.862,757.388 2352.76,757.388 \n",
       "  \"/>\n",
       "<polyline clip-path=\"url(#clip812)\" style=\"stroke:#000000; stroke-width:2; stroke-opacity:0.1; fill:none\" points=\"\n",
       "  174.862,412.839 2352.76,412.839 \n",
       "  \"/>\n",
       "<polyline clip-path=\"url(#clip812)\" style=\"stroke:#000000; stroke-width:2; stroke-opacity:0.1; fill:none\" points=\"\n",
       "  174.862,68.2899 2352.76,68.2899 \n",
       "  \"/>\n",
       "<polyline clip-path=\"url(#clip810)\" style=\"stroke:#000000; stroke-width:4; stroke-opacity:1; fill:none\" points=\"\n",
       "  174.862,1486.45 2352.76,1486.45 \n",
       "  \"/>\n",
       "<polyline clip-path=\"url(#clip810)\" style=\"stroke:#000000; stroke-width:4; stroke-opacity:1; fill:none\" points=\"\n",
       "  174.862,1486.45 174.862,47.2441 \n",
       "  \"/>\n",
       "<polyline clip-path=\"url(#clip810)\" style=\"stroke:#000000; stroke-width:4; stroke-opacity:1; fill:none\" points=\"\n",
       "  208.391,1486.45 208.391,1469.18 \n",
       "  \"/>\n",
       "<polyline clip-path=\"url(#clip810)\" style=\"stroke:#000000; stroke-width:4; stroke-opacity:1; fill:none\" points=\"\n",
       "  732.185,1486.45 732.185,1469.18 \n",
       "  \"/>\n",
       "<polyline clip-path=\"url(#clip810)\" style=\"stroke:#000000; stroke-width:4; stroke-opacity:1; fill:none\" points=\"\n",
       "  1255.98,1486.45 1255.98,1469.18 \n",
       "  \"/>\n",
       "<polyline clip-path=\"url(#clip810)\" style=\"stroke:#000000; stroke-width:4; stroke-opacity:1; fill:none\" points=\"\n",
       "  1779.77,1486.45 1779.77,1469.18 \n",
       "  \"/>\n",
       "<polyline clip-path=\"url(#clip810)\" style=\"stroke:#000000; stroke-width:4; stroke-opacity:1; fill:none\" points=\"\n",
       "  2303.57,1486.45 2303.57,1469.18 \n",
       "  \"/>\n",
       "<polyline clip-path=\"url(#clip810)\" style=\"stroke:#000000; stroke-width:4; stroke-opacity:1; fill:none\" points=\"\n",
       "  174.862,1446.49 200.997,1446.49 \n",
       "  \"/>\n",
       "<polyline clip-path=\"url(#clip810)\" style=\"stroke:#000000; stroke-width:4; stroke-opacity:1; fill:none\" points=\"\n",
       "  174.862,1101.94 200.997,1101.94 \n",
       "  \"/>\n",
       "<polyline clip-path=\"url(#clip810)\" style=\"stroke:#000000; stroke-width:4; stroke-opacity:1; fill:none\" points=\"\n",
       "  174.862,757.388 200.997,757.388 \n",
       "  \"/>\n",
       "<polyline clip-path=\"url(#clip810)\" style=\"stroke:#000000; stroke-width:4; stroke-opacity:1; fill:none\" points=\"\n",
       "  174.862,412.839 200.997,412.839 \n",
       "  \"/>\n",
       "<polyline clip-path=\"url(#clip810)\" style=\"stroke:#000000; stroke-width:4; stroke-opacity:1; fill:none\" points=\"\n",
       "  174.862,68.2899 200.997,68.2899 \n",
       "  \"/>\n",
       "<path clip-path=\"url(#clip810)\" d=\"M 0 0 M176.4 1508.44 Q172.789 1508.44 170.961 1512 Q169.155 1515.55 169.155 1522.67 Q169.155 1529.78 170.961 1533.35 Q172.789 1536.89 176.4 1536.89 Q180.035 1536.89 181.84 1533.35 Q183.669 1529.78 183.669 1522.67 Q183.669 1515.55 181.84 1512 Q180.035 1508.44 176.4 1508.44 M176.4 1504.73 Q182.21 1504.73 185.266 1509.34 Q188.345 1513.92 188.345 1522.67 Q188.345 1531.4 185.266 1536.01 Q182.21 1540.59 176.4 1540.59 Q170.59 1540.59 167.511 1536.01 Q164.456 1531.4 164.456 1522.67 Q164.456 1513.92 167.511 1509.34 Q170.59 1504.73 176.4 1504.73 Z\" fill=\"#000000\" fill-rule=\"evenodd\" fill-opacity=\"1\" /><path clip-path=\"url(#clip810)\" d=\"M 0 0 M193.414 1534.04 L198.298 1534.04 L198.298 1539.92 L193.414 1539.92 L193.414 1534.04 Z\" fill=\"#000000\" fill-rule=\"evenodd\" fill-opacity=\"1\" /><path clip-path=\"url(#clip810)\" d=\"M 0 0 M213.368 1508.44 Q209.757 1508.44 207.928 1512 Q206.122 1515.55 206.122 1522.67 Q206.122 1529.78 207.928 1533.35 Q209.757 1536.89 213.368 1536.89 Q217.002 1536.89 218.807 1533.35 Q220.636 1529.78 220.636 1522.67 Q220.636 1515.55 218.807 1512 Q217.002 1508.44 213.368 1508.44 M213.368 1504.73 Q219.178 1504.73 222.233 1509.34 Q225.312 1513.92 225.312 1522.67 Q225.312 1531.4 222.233 1536.01 Q219.178 1540.59 213.368 1540.59 Q207.558 1540.59 204.479 1536.01 Q201.423 1531.4 201.423 1522.67 Q201.423 1513.92 204.479 1509.34 Q207.558 1504.73 213.368 1504.73 Z\" fill=\"#000000\" fill-rule=\"evenodd\" fill-opacity=\"1\" /><path clip-path=\"url(#clip810)\" d=\"M 0 0 M240.381 1508.44 Q236.77 1508.44 234.942 1512 Q233.136 1515.55 233.136 1522.67 Q233.136 1529.78 234.942 1533.35 Q236.77 1536.89 240.381 1536.89 Q244.016 1536.89 245.821 1533.35 Q247.65 1529.78 247.65 1522.67 Q247.65 1515.55 245.821 1512 Q244.016 1508.44 240.381 1508.44 M240.381 1504.73 Q246.192 1504.73 249.247 1509.34 Q252.326 1513.92 252.326 1522.67 Q252.326 1531.4 249.247 1536.01 Q246.192 1540.59 240.381 1540.59 Q234.571 1540.59 231.493 1536.01 Q228.437 1531.4 228.437 1522.67 Q228.437 1513.92 231.493 1509.34 Q234.571 1504.73 240.381 1504.73 Z\" fill=\"#000000\" fill-rule=\"evenodd\" fill-opacity=\"1\" /><path clip-path=\"url(#clip810)\" d=\"M 0 0 M701.491 1508.44 Q697.88 1508.44 696.051 1512 Q694.246 1515.55 694.246 1522.67 Q694.246 1529.78 696.051 1533.35 Q697.88 1536.89 701.491 1536.89 Q705.125 1536.89 706.931 1533.35 Q708.76 1529.78 708.76 1522.67 Q708.76 1515.55 706.931 1512 Q705.125 1508.44 701.491 1508.44 M701.491 1504.73 Q707.301 1504.73 710.357 1509.34 Q713.436 1513.92 713.436 1522.67 Q713.436 1531.4 710.357 1536.01 Q707.301 1540.59 701.491 1540.59 Q695.681 1540.59 692.602 1536.01 Q689.547 1531.4 689.547 1522.67 Q689.547 1513.92 692.602 1509.34 Q695.681 1504.73 701.491 1504.73 Z\" fill=\"#000000\" fill-rule=\"evenodd\" fill-opacity=\"1\" /><path clip-path=\"url(#clip810)\" d=\"M 0 0 M718.505 1534.04 L723.389 1534.04 L723.389 1539.92 L718.505 1539.92 L718.505 1534.04 Z\" fill=\"#000000\" fill-rule=\"evenodd\" fill-opacity=\"1\" /><path clip-path=\"url(#clip810)\" d=\"M 0 0 M732.486 1535.98 L748.806 1535.98 L748.806 1539.92 L726.861 1539.92 L726.861 1535.98 Q729.523 1533.23 734.107 1528.6 Q738.713 1523.95 739.894 1522.61 Q742.139 1520.08 743.019 1518.35 Q743.922 1516.59 743.922 1514.9 Q743.922 1512.14 741.977 1510.41 Q740.056 1508.67 736.954 1508.67 Q734.755 1508.67 732.301 1509.43 Q729.871 1510.2 727.093 1511.75 L727.093 1507.03 Q729.917 1505.89 732.371 1505.31 Q734.824 1504.73 736.861 1504.73 Q742.232 1504.73 745.426 1507.42 Q748.621 1510.11 748.621 1514.6 Q748.621 1516.73 747.81 1518.65 Q747.023 1520.54 744.917 1523.14 Q744.338 1523.81 741.236 1527.03 Q738.135 1530.22 732.486 1535.98 Z\" fill=\"#000000\" fill-rule=\"evenodd\" fill-opacity=\"1\" /><path clip-path=\"url(#clip810)\" d=\"M 0 0 M753.921 1505.36 L772.278 1505.36 L772.278 1509.3 L758.204 1509.3 L758.204 1517.77 Q759.222 1517.42 760.241 1517.26 Q761.259 1517.07 762.278 1517.07 Q768.065 1517.07 771.445 1520.24 Q774.824 1523.42 774.824 1528.83 Q774.824 1534.41 771.352 1537.51 Q767.88 1540.59 761.56 1540.59 Q759.384 1540.59 757.116 1540.22 Q754.871 1539.85 752.463 1539.11 L752.463 1534.41 Q754.546 1535.54 756.769 1536.1 Q758.991 1536.66 761.468 1536.66 Q765.472 1536.66 767.81 1534.55 Q770.148 1532.44 770.148 1528.83 Q770.148 1525.22 767.81 1523.11 Q765.472 1521.01 761.468 1521.01 Q759.593 1521.01 757.718 1521.42 Q755.866 1521.84 753.921 1522.72 L753.921 1505.36 Z\" fill=\"#000000\" fill-rule=\"evenodd\" fill-opacity=\"1\" /><path clip-path=\"url(#clip810)\" d=\"M 0 0 M1224.49 1508.44 Q1220.88 1508.44 1219.05 1512 Q1217.24 1515.55 1217.24 1522.67 Q1217.24 1529.78 1219.05 1533.35 Q1220.88 1536.89 1224.49 1536.89 Q1228.12 1536.89 1229.93 1533.35 Q1231.76 1529.78 1231.76 1522.67 Q1231.76 1515.55 1229.93 1512 Q1228.12 1508.44 1224.49 1508.44 M1224.49 1504.73 Q1230.3 1504.73 1233.35 1509.34 Q1236.43 1513.92 1236.43 1522.67 Q1236.43 1531.4 1233.35 1536.01 Q1230.3 1540.59 1224.49 1540.59 Q1218.68 1540.59 1215.6 1536.01 Q1212.54 1531.4 1212.54 1522.67 Q1212.54 1513.92 1215.6 1509.34 Q1218.68 1504.73 1224.49 1504.73 Z\" fill=\"#000000\" fill-rule=\"evenodd\" fill-opacity=\"1\" /><path clip-path=\"url(#clip810)\" d=\"M 0 0 M1241.5 1534.04 L1246.39 1534.04 L1246.39 1539.92 L1241.5 1539.92 L1241.5 1534.04 Z\" fill=\"#000000\" fill-rule=\"evenodd\" fill-opacity=\"1\" /><path clip-path=\"url(#clip810)\" d=\"M 0 0 M1251.5 1505.36 L1269.86 1505.36 L1269.86 1509.3 L1255.78 1509.3 L1255.78 1517.77 Q1256.8 1517.42 1257.82 1517.26 Q1258.84 1517.07 1259.86 1517.07 Q1265.64 1517.07 1269.02 1520.24 Q1272.4 1523.42 1272.4 1528.83 Q1272.4 1534.41 1268.93 1537.51 Q1265.46 1540.59 1259.14 1540.59 Q1256.96 1540.59 1254.7 1540.22 Q1252.45 1539.85 1250.04 1539.11 L1250.04 1534.41 Q1252.13 1535.54 1254.35 1536.1 Q1256.57 1536.66 1259.05 1536.66 Q1263.05 1536.66 1265.39 1534.55 Q1267.73 1532.44 1267.73 1528.83 Q1267.73 1525.22 1265.39 1523.11 Q1263.05 1521.01 1259.05 1521.01 Q1257.17 1521.01 1255.3 1521.42 Q1253.45 1521.84 1251.5 1522.72 L1251.5 1505.36 Z\" fill=\"#000000\" fill-rule=\"evenodd\" fill-opacity=\"1\" /><path clip-path=\"url(#clip810)\" d=\"M 0 0 M1287.47 1508.44 Q1283.86 1508.44 1282.03 1512 Q1280.23 1515.55 1280.23 1522.67 Q1280.23 1529.78 1282.03 1533.35 Q1283.86 1536.89 1287.47 1536.89 Q1291.11 1536.89 1292.91 1533.35 Q1294.74 1529.78 1294.74 1522.67 Q1294.74 1515.55 1292.91 1512 Q1291.11 1508.44 1287.47 1508.44 M1287.47 1504.73 Q1293.28 1504.73 1296.34 1509.34 Q1299.42 1513.92 1299.42 1522.67 Q1299.42 1531.4 1296.34 1536.01 Q1293.28 1540.59 1287.47 1540.59 Q1281.66 1540.59 1278.58 1536.01 Q1275.53 1531.4 1275.53 1522.67 Q1275.53 1513.92 1278.58 1509.34 Q1281.66 1504.73 1287.47 1504.73 Z\" fill=\"#000000\" fill-rule=\"evenodd\" fill-opacity=\"1\" /><path clip-path=\"url(#clip810)\" d=\"M 0 0 M1748.73 1508.44 Q1745.12 1508.44 1743.29 1512 Q1741.49 1515.55 1741.49 1522.67 Q1741.49 1529.78 1743.29 1533.35 Q1745.12 1536.89 1748.73 1536.89 Q1752.37 1536.89 1754.17 1533.35 Q1756 1529.78 1756 1522.67 Q1756 1515.55 1754.17 1512 Q1752.37 1508.44 1748.73 1508.44 M1748.73 1504.73 Q1754.54 1504.73 1757.6 1509.34 Q1760.68 1513.92 1760.68 1522.67 Q1760.68 1531.4 1757.6 1536.01 Q1754.54 1540.59 1748.73 1540.59 Q1742.92 1540.59 1739.84 1536.01 Q1736.79 1531.4 1736.79 1522.67 Q1736.79 1513.92 1739.84 1509.34 Q1742.92 1504.73 1748.73 1504.73 Z\" fill=\"#000000\" fill-rule=\"evenodd\" fill-opacity=\"1\" /><path clip-path=\"url(#clip810)\" d=\"M 0 0 M1765.75 1534.04 L1770.63 1534.04 L1770.63 1539.92 L1765.75 1539.92 L1765.75 1534.04 Z\" fill=\"#000000\" fill-rule=\"evenodd\" fill-opacity=\"1\" /><path clip-path=\"url(#clip810)\" d=\"M 0 0 M1774.52 1505.36 L1796.74 1505.36 L1796.74 1507.35 L1784.2 1539.92 L1779.31 1539.92 L1791.12 1509.3 L1774.52 1509.3 L1774.52 1505.36 Z\" fill=\"#000000\" fill-rule=\"evenodd\" fill-opacity=\"1\" /><path clip-path=\"url(#clip810)\" d=\"M 0 0 M1801.86 1505.36 L1820.21 1505.36 L1820.21 1509.3 L1806.14 1509.3 L1806.14 1517.77 Q1807.16 1517.42 1808.18 1517.26 Q1809.2 1517.07 1810.21 1517.07 Q1816 1517.07 1819.38 1520.24 Q1822.76 1523.42 1822.76 1528.83 Q1822.76 1534.41 1819.29 1537.51 Q1815.82 1540.59 1809.5 1540.59 Q1807.32 1540.59 1805.05 1540.22 Q1802.81 1539.85 1800.4 1539.11 L1800.4 1534.41 Q1802.48 1535.54 1804.71 1536.1 Q1806.93 1536.66 1809.4 1536.66 Q1813.41 1536.66 1815.75 1534.55 Q1818.08 1532.44 1818.08 1528.83 Q1818.08 1525.22 1815.75 1523.11 Q1813.41 1521.01 1809.4 1521.01 Q1807.53 1521.01 1805.65 1521.42 Q1803.8 1521.84 1801.86 1522.72 L1801.86 1505.36 Z\" fill=\"#000000\" fill-rule=\"evenodd\" fill-opacity=\"1\" /><path clip-path=\"url(#clip810)\" d=\"M 0 0 M2261.96 1535.98 L2269.6 1535.98 L2269.6 1509.62 L2261.29 1511.29 L2261.29 1507.03 L2269.55 1505.36 L2274.23 1505.36 L2274.23 1535.98 L2281.87 1535.98 L2281.87 1539.92 L2261.96 1539.92 L2261.96 1535.98 Z\" fill=\"#000000\" fill-rule=\"evenodd\" fill-opacity=\"1\" /><path clip-path=\"url(#clip810)\" d=\"M 0 0 M2286.94 1534.04 L2291.82 1534.04 L2291.82 1539.92 L2286.94 1539.92 L2286.94 1534.04 Z\" fill=\"#000000\" fill-rule=\"evenodd\" fill-opacity=\"1\" /><path clip-path=\"url(#clip810)\" d=\"M 0 0 M2306.89 1508.44 Q2303.28 1508.44 2301.45 1512 Q2299.65 1515.55 2299.65 1522.67 Q2299.65 1529.78 2301.45 1533.35 Q2303.28 1536.89 2306.89 1536.89 Q2310.53 1536.89 2312.33 1533.35 Q2314.16 1529.78 2314.16 1522.67 Q2314.16 1515.55 2312.33 1512 Q2310.53 1508.44 2306.89 1508.44 M2306.89 1504.73 Q2312.7 1504.73 2315.76 1509.34 Q2318.84 1513.92 2318.84 1522.67 Q2318.84 1531.4 2315.76 1536.01 Q2312.7 1540.59 2306.89 1540.59 Q2301.08 1540.59 2298 1536.01 Q2294.95 1531.4 2294.95 1522.67 Q2294.95 1513.92 2298 1509.34 Q2301.08 1504.73 2306.89 1504.73 Z\" fill=\"#000000\" fill-rule=\"evenodd\" fill-opacity=\"1\" /><path clip-path=\"url(#clip810)\" d=\"M 0 0 M2333.9 1508.44 Q2330.29 1508.44 2328.46 1512 Q2326.66 1515.55 2326.66 1522.67 Q2326.66 1529.78 2328.46 1533.35 Q2330.29 1536.89 2333.9 1536.89 Q2337.54 1536.89 2339.34 1533.35 Q2341.17 1529.78 2341.17 1522.67 Q2341.17 1515.55 2339.34 1512 Q2337.54 1508.44 2333.9 1508.44 M2333.9 1504.73 Q2339.71 1504.73 2342.77 1509.34 Q2345.85 1513.92 2345.85 1522.67 Q2345.85 1531.4 2342.77 1536.01 Q2339.71 1540.59 2333.9 1540.59 Q2328.09 1540.59 2325.02 1536.01 Q2321.96 1531.4 2321.96 1522.67 Q2321.96 1513.92 2325.02 1509.34 Q2328.09 1504.73 2333.9 1504.73 Z\" fill=\"#000000\" fill-rule=\"evenodd\" fill-opacity=\"1\" /><path clip-path=\"url(#clip810)\" d=\"M 0 0 M74.9365 1432.29 Q71.3254 1432.29 69.4967 1435.85 Q67.6912 1439.39 67.6912 1446.52 Q67.6912 1453.63 69.4967 1457.19 Q71.3254 1460.73 74.9365 1460.73 Q78.5707 1460.73 80.3763 1457.19 Q82.205 1453.63 82.205 1446.52 Q82.205 1439.39 80.3763 1435.85 Q78.5707 1432.29 74.9365 1432.29 M74.9365 1428.58 Q80.7467 1428.58 83.8022 1433.19 Q86.8809 1437.77 86.8809 1446.52 Q86.8809 1455.25 83.8022 1459.85 Q80.7467 1464.44 74.9365 1464.44 Q69.1264 1464.44 66.0477 1459.85 Q62.9921 1455.25 62.9921 1446.52 Q62.9921 1437.77 66.0477 1433.19 Q69.1264 1428.58 74.9365 1428.58 Z\" fill=\"#000000\" fill-rule=\"evenodd\" fill-opacity=\"1\" /><path clip-path=\"url(#clip810)\" d=\"M 0 0 M91.9503 1457.89 L96.8345 1457.89 L96.8345 1463.77 L91.9503 1463.77 L91.9503 1457.89 Z\" fill=\"#000000\" fill-rule=\"evenodd\" fill-opacity=\"1\" /><path clip-path=\"url(#clip810)\" d=\"M 0 0 M111.904 1432.29 Q108.293 1432.29 106.464 1435.85 Q104.659 1439.39 104.659 1446.52 Q104.659 1453.63 106.464 1457.19 Q108.293 1460.73 111.904 1460.73 Q115.538 1460.73 117.344 1457.19 Q119.172 1453.63 119.172 1446.52 Q119.172 1439.39 117.344 1435.85 Q115.538 1432.29 111.904 1432.29 M111.904 1428.58 Q117.714 1428.58 120.77 1433.19 Q123.848 1437.77 123.848 1446.52 Q123.848 1455.25 120.77 1459.85 Q117.714 1464.44 111.904 1464.44 Q106.094 1464.44 103.015 1459.85 Q99.9595 1455.25 99.9595 1446.52 Q99.9595 1437.77 103.015 1433.19 Q106.094 1428.58 111.904 1428.58 Z\" fill=\"#000000\" fill-rule=\"evenodd\" fill-opacity=\"1\" /><path clip-path=\"url(#clip810)\" d=\"M 0 0 M138.918 1432.29 Q135.307 1432.29 133.478 1435.85 Q131.672 1439.39 131.672 1446.52 Q131.672 1453.63 133.478 1457.19 Q135.307 1460.73 138.918 1460.73 Q142.552 1460.73 144.357 1457.19 Q146.186 1453.63 146.186 1446.52 Q146.186 1439.39 144.357 1435.85 Q142.552 1432.29 138.918 1432.29 M138.918 1428.58 Q144.728 1428.58 147.783 1433.19 Q150.862 1437.77 150.862 1446.52 Q150.862 1455.25 147.783 1459.85 Q144.728 1464.44 138.918 1464.44 Q133.107 1464.44 130.029 1459.85 Q126.973 1455.25 126.973 1446.52 Q126.973 1437.77 130.029 1433.19 Q133.107 1428.58 138.918 1428.58 Z\" fill=\"#000000\" fill-rule=\"evenodd\" fill-opacity=\"1\" /><path clip-path=\"url(#clip810)\" d=\"M 0 0 M77.5291 1087.74 Q73.918 1087.74 72.0893 1091.3 Q70.2838 1094.84 70.2838 1101.97 Q70.2838 1109.08 72.0893 1112.64 Q73.918 1116.19 77.5291 1116.19 Q81.1633 1116.19 82.9689 1112.64 Q84.7976 1109.08 84.7976 1101.97 Q84.7976 1094.84 82.9689 1091.3 Q81.1633 1087.74 77.5291 1087.74 M77.5291 1084.03 Q83.3392 1084.03 86.3948 1088.64 Q89.4735 1093.22 89.4735 1101.97 Q89.4735 1110.7 86.3948 1115.31 Q83.3392 1119.89 77.5291 1119.89 Q71.7189 1119.89 68.6402 1115.31 Q65.5847 1110.7 65.5847 1101.97 Q65.5847 1093.22 68.6402 1088.64 Q71.7189 1084.03 77.5291 1084.03 Z\" fill=\"#000000\" fill-rule=\"evenodd\" fill-opacity=\"1\" /><path clip-path=\"url(#clip810)\" d=\"M 0 0 M94.5429 1113.34 L99.4271 1113.34 L99.4271 1119.22 L94.5429 1119.22 L94.5429 1113.34 Z\" fill=\"#000000\" fill-rule=\"evenodd\" fill-opacity=\"1\" /><path clip-path=\"url(#clip810)\" d=\"M 0 0 M108.524 1115.28 L124.844 1115.28 L124.844 1119.22 L102.899 1119.22 L102.899 1115.28 Q105.561 1112.53 110.145 1107.9 Q114.751 1103.25 115.932 1101.9 Q118.177 1099.38 119.057 1097.64 Q119.959 1095.88 119.959 1094.19 Q119.959 1091.44 118.015 1089.7 Q116.094 1087.97 112.992 1087.97 Q110.793 1087.97 108.339 1088.73 Q105.909 1089.5 103.131 1091.05 L103.131 1086.32 Q105.955 1085.19 108.409 1084.61 Q110.862 1084.03 112.899 1084.03 Q118.27 1084.03 121.464 1086.72 Q124.658 1089.4 124.658 1093.89 Q124.658 1096.02 123.848 1097.94 Q123.061 1099.84 120.955 1102.44 Q120.376 1103.11 117.274 1106.32 Q114.172 1109.52 108.524 1115.28 Z\" fill=\"#000000\" fill-rule=\"evenodd\" fill-opacity=\"1\" /><path clip-path=\"url(#clip810)\" d=\"M 0 0 M129.959 1084.66 L148.316 1084.66 L148.316 1088.59 L134.242 1088.59 L134.242 1097.06 Q135.26 1096.72 136.279 1096.56 Q137.297 1096.37 138.316 1096.37 Q144.103 1096.37 147.482 1099.54 Q150.862 1102.71 150.862 1108.13 Q150.862 1113.71 147.39 1116.81 Q143.918 1119.89 137.598 1119.89 Q135.422 1119.89 133.154 1119.52 Q130.908 1119.15 128.501 1118.41 L128.501 1113.71 Q130.584 1114.84 132.807 1115.4 Q135.029 1115.95 137.506 1115.95 Q141.51 1115.95 143.848 1113.85 Q146.186 1111.74 146.186 1108.13 Q146.186 1104.52 143.848 1102.41 Q141.51 1100.31 137.506 1100.31 Q135.631 1100.31 133.756 1100.72 Q131.904 1101.14 129.959 1102.02 L129.959 1084.66 Z\" fill=\"#000000\" fill-rule=\"evenodd\" fill-opacity=\"1\" /><path clip-path=\"url(#clip810)\" d=\"M 0 0 M75.9319 743.187 Q72.3208 743.187 70.4921 746.752 Q68.6865 750.293 68.6865 757.423 Q68.6865 764.53 70.4921 768.094 Q72.3208 771.636 75.9319 771.636 Q79.5661 771.636 81.3717 768.094 Q83.2004 764.53 83.2004 757.423 Q83.2004 750.293 81.3717 746.752 Q79.5661 743.187 75.9319 743.187 M75.9319 739.483 Q81.742 739.483 84.7976 744.09 Q87.8763 748.673 87.8763 757.423 Q87.8763 766.15 84.7976 770.756 Q81.742 775.34 75.9319 775.34 Q70.1217 775.34 67.043 770.756 Q63.9875 766.15 63.9875 757.423 Q63.9875 748.673 67.043 744.09 Q70.1217 739.483 75.9319 739.483 Z\" fill=\"#000000\" fill-rule=\"evenodd\" fill-opacity=\"1\" /><path clip-path=\"url(#clip810)\" d=\"M 0 0 M92.9457 768.789 L97.8299 768.789 L97.8299 774.668 L92.9457 774.668 L92.9457 768.789 Z\" fill=\"#000000\" fill-rule=\"evenodd\" fill-opacity=\"1\" /><path clip-path=\"url(#clip810)\" d=\"M 0 0 M102.946 740.108 L121.302 740.108 L121.302 744.044 L107.228 744.044 L107.228 752.516 Q108.247 752.168 109.265 752.006 Q110.284 751.821 111.302 751.821 Q117.089 751.821 120.469 754.993 Q123.848 758.164 123.848 763.58 Q123.848 769.159 120.376 772.261 Q116.904 775.34 110.584 775.34 Q108.409 775.34 106.14 774.969 Q103.895 774.599 101.487 773.858 L101.487 769.159 Q103.571 770.293 105.793 770.849 Q108.015 771.404 110.492 771.404 Q114.496 771.404 116.834 769.298 Q119.172 767.192 119.172 763.58 Q119.172 759.969 116.834 757.863 Q114.496 755.756 110.492 755.756 Q108.617 755.756 106.742 756.173 Q104.89 756.59 102.946 757.469 L102.946 740.108 Z\" fill=\"#000000\" fill-rule=\"evenodd\" fill-opacity=\"1\" /><path clip-path=\"url(#clip810)\" d=\"M 0 0 M138.918 743.187 Q135.307 743.187 133.478 746.752 Q131.672 750.293 131.672 757.423 Q131.672 764.53 133.478 768.094 Q135.307 771.636 138.918 771.636 Q142.552 771.636 144.357 768.094 Q146.186 764.53 146.186 757.423 Q146.186 750.293 144.357 746.752 Q142.552 743.187 138.918 743.187 M138.918 739.483 Q144.728 739.483 147.783 744.09 Q150.862 748.673 150.862 757.423 Q150.862 766.15 147.783 770.756 Q144.728 775.34 138.918 775.34 Q133.107 775.34 130.029 770.756 Q126.973 766.15 126.973 757.423 Q126.973 748.673 130.029 744.09 Q133.107 739.483 138.918 739.483 Z\" fill=\"#000000\" fill-rule=\"evenodd\" fill-opacity=\"1\" /><path clip-path=\"url(#clip810)\" d=\"M 0 0 M76.8346 398.638 Q73.2236 398.638 71.3949 402.203 Q69.5893 405.744 69.5893 412.874 Q69.5893 419.98 71.3949 423.545 Q73.2236 427.087 76.8346 427.087 Q80.4689 427.087 82.2744 423.545 Q84.1031 419.98 84.1031 412.874 Q84.1031 405.744 82.2744 402.203 Q80.4689 398.638 76.8346 398.638 M76.8346 394.934 Q82.6448 394.934 85.7003 399.541 Q88.779 404.124 88.779 412.874 Q88.779 421.601 85.7003 426.207 Q82.6448 430.79 76.8346 430.79 Q71.0245 430.79 67.9458 426.207 Q64.8903 421.601 64.8903 412.874 Q64.8903 404.124 67.9458 399.541 Q71.0245 394.934 76.8346 394.934 Z\" fill=\"#000000\" fill-rule=\"evenodd\" fill-opacity=\"1\" /><path clip-path=\"url(#clip810)\" d=\"M 0 0 M93.8484 424.24 L98.7327 424.24 L98.7327 430.119 L93.8484 430.119 L93.8484 424.24 Z\" fill=\"#000000\" fill-rule=\"evenodd\" fill-opacity=\"1\" /><path clip-path=\"url(#clip810)\" d=\"M 0 0 M102.622 395.559 L124.844 395.559 L124.844 397.55 L112.297 430.119 L107.413 430.119 L119.219 399.494 L102.622 399.494 L102.622 395.559 Z\" fill=\"#000000\" fill-rule=\"evenodd\" fill-opacity=\"1\" /><path clip-path=\"url(#clip810)\" d=\"M 0 0 M129.959 395.559 L148.316 395.559 L148.316 399.494 L134.242 399.494 L134.242 407.966 Q135.26 407.619 136.279 407.457 Q137.297 407.272 138.316 407.272 Q144.103 407.272 147.482 410.443 Q150.862 413.615 150.862 419.031 Q150.862 424.61 147.39 427.712 Q143.918 430.79 137.598 430.79 Q135.422 430.79 133.154 430.42 Q130.908 430.05 128.501 429.309 L128.501 424.61 Q130.584 425.744 132.807 426.3 Q135.029 426.855 137.506 426.855 Q141.51 426.855 143.848 424.749 Q146.186 422.642 146.186 419.031 Q146.186 415.42 143.848 413.314 Q141.51 411.207 137.506 411.207 Q135.631 411.207 133.756 411.624 Q131.904 412.041 129.959 412.92 L129.959 395.559 Z\" fill=\"#000000\" fill-rule=\"evenodd\" fill-opacity=\"1\" /><path clip-path=\"url(#clip810)\" d=\"M 0 0 M66.9736 81.6348 L74.6124 81.6348 L74.6124 55.2692 L66.3023 56.9358 L66.3023 52.6766 L74.5661 51.0099 L79.242 51.0099 L79.242 81.6348 L86.8809 81.6348 L86.8809 85.5699 L66.9736 85.5699 L66.9736 81.6348 Z\" fill=\"#000000\" fill-rule=\"evenodd\" fill-opacity=\"1\" /><path clip-path=\"url(#clip810)\" d=\"M 0 0 M91.9503 79.6903 L96.8345 79.6903 L96.8345 85.5699 L91.9503 85.5699 L91.9503 79.6903 Z\" fill=\"#000000\" fill-rule=\"evenodd\" fill-opacity=\"1\" /><path clip-path=\"url(#clip810)\" d=\"M 0 0 M111.904 54.0886 Q108.293 54.0886 106.464 57.6534 Q104.659 61.1951 104.659 68.3247 Q104.659 75.4311 106.464 78.9959 Q108.293 82.5376 111.904 82.5376 Q115.538 82.5376 117.344 78.9959 Q119.172 75.4311 119.172 68.3247 Q119.172 61.1951 117.344 57.6534 Q115.538 54.0886 111.904 54.0886 M111.904 50.3849 Q117.714 50.3849 120.77 54.9914 Q123.848 59.5747 123.848 68.3247 Q123.848 77.0515 120.77 81.6579 Q117.714 86.2412 111.904 86.2412 Q106.094 86.2412 103.015 81.6579 Q99.9595 77.0515 99.9595 68.3247 Q99.9595 59.5747 103.015 54.9914 Q106.094 50.3849 111.904 50.3849 Z\" fill=\"#000000\" fill-rule=\"evenodd\" fill-opacity=\"1\" /><path clip-path=\"url(#clip810)\" d=\"M 0 0 M138.918 54.0886 Q135.307 54.0886 133.478 57.6534 Q131.672 61.1951 131.672 68.3247 Q131.672 75.4311 133.478 78.9959 Q135.307 82.5376 138.918 82.5376 Q142.552 82.5376 144.357 78.9959 Q146.186 75.4311 146.186 68.3247 Q146.186 61.1951 144.357 57.6534 Q142.552 54.0886 138.918 54.0886 M138.918 50.3849 Q144.728 50.3849 147.783 54.9914 Q150.862 59.5747 150.862 68.3247 Q150.862 77.0515 147.783 81.6579 Q144.728 86.2412 138.918 86.2412 Q133.107 86.2412 130.029 81.6579 Q126.973 77.0515 126.973 68.3247 Q126.973 59.5747 130.029 54.9914 Q133.107 50.3849 138.918 50.3849 Z\" fill=\"#000000\" fill-rule=\"evenodd\" fill-opacity=\"1\" /><circle clip-path=\"url(#clip812)\" cx=\"236.501\" cy=\"208.795\" r=\"14\" fill=\"#009af9\" fill-rule=\"evenodd\" fill-opacity=\"1\" stroke=\"#000000\" stroke-opacity=\"1\" stroke-width=\"3.2\"/>\n",
       "<circle clip-path=\"url(#clip812)\" cx=\"237.869\" cy=\"253.392\" r=\"14\" fill=\"#009af9\" fill-rule=\"evenodd\" fill-opacity=\"1\" stroke=\"#000000\" stroke-opacity=\"1\" stroke-width=\"3.2\"/>\n",
       "<circle clip-path=\"url(#clip812)\" cx=\"297.046\" cy=\"795.28\" r=\"14\" fill=\"#009af9\" fill-rule=\"evenodd\" fill-opacity=\"1\" stroke=\"#000000\" stroke-opacity=\"1\" stroke-width=\"3.2\"/>\n",
       "<circle clip-path=\"url(#clip812)\" cx=\"345.797\" cy=\"617.209\" r=\"14\" fill=\"#009af9\" fill-rule=\"evenodd\" fill-opacity=\"1\" stroke=\"#000000\" stroke-opacity=\"1\" stroke-width=\"3.2\"/>\n",
       "<circle clip-path=\"url(#clip812)\" cx=\"386.214\" cy=\"319.583\" r=\"14\" fill=\"#009af9\" fill-rule=\"evenodd\" fill-opacity=\"1\" stroke=\"#000000\" stroke-opacity=\"1\" stroke-width=\"3.2\"/>\n",
       "<circle clip-path=\"url(#clip812)\" cx=\"573.013\" cy=\"1253.6\" r=\"14\" fill=\"#009af9\" fill-rule=\"evenodd\" fill-opacity=\"1\" stroke=\"#000000\" stroke-opacity=\"1\" stroke-width=\"3.2\"/>\n",
       "<circle clip-path=\"url(#clip812)\" cx=\"726.126\" cy=\"944.635\" r=\"14\" fill=\"#009af9\" fill-rule=\"evenodd\" fill-opacity=\"1\" stroke=\"#000000\" stroke-opacity=\"1\" stroke-width=\"3.2\"/>\n",
       "<circle clip-path=\"url(#clip812)\" cx=\"733.275\" cy=\"87.9763\" r=\"14\" fill=\"#009af9\" fill-rule=\"evenodd\" fill-opacity=\"1\" stroke=\"#000000\" stroke-opacity=\"1\" stroke-width=\"3.2\"/>\n",
       "<circle clip-path=\"url(#clip812)\" cx=\"847.654\" cy=\"1308.52\" r=\"14\" fill=\"#009af9\" fill-rule=\"evenodd\" fill-opacity=\"1\" stroke=\"#000000\" stroke-opacity=\"1\" stroke-width=\"3.2\"/>\n",
       "<circle clip-path=\"url(#clip812)\" cx=\"861.576\" cy=\"1445.72\" r=\"14\" fill=\"#009af9\" fill-rule=\"evenodd\" fill-opacity=\"1\" stroke=\"#000000\" stroke-opacity=\"1\" stroke-width=\"3.2\"/>\n",
       "<circle clip-path=\"url(#clip812)\" cx=\"1036.52\" cy=\"755.462\" r=\"14\" fill=\"#009af9\" fill-rule=\"evenodd\" fill-opacity=\"1\" stroke=\"#000000\" stroke-opacity=\"1\" stroke-width=\"3.2\"/>\n",
       "<circle clip-path=\"url(#clip812)\" cx=\"1205.93\" cy=\"189.501\" r=\"14\" fill=\"#009af9\" fill-rule=\"evenodd\" fill-opacity=\"1\" stroke=\"#000000\" stroke-opacity=\"1\" stroke-width=\"3.2\"/>\n",
       "<circle clip-path=\"url(#clip812)\" cx=\"1371.14\" cy=\"938.319\" r=\"14\" fill=\"#009af9\" fill-rule=\"evenodd\" fill-opacity=\"1\" stroke=\"#000000\" stroke-opacity=\"1\" stroke-width=\"3.2\"/>\n",
       "<circle clip-path=\"url(#clip812)\" cx=\"1377.62\" cy=\"798.987\" r=\"14\" fill=\"#009af9\" fill-rule=\"evenodd\" fill-opacity=\"1\" stroke=\"#000000\" stroke-opacity=\"1\" stroke-width=\"3.2\"/>\n",
       "<circle clip-path=\"url(#clip812)\" cx=\"1656.24\" cy=\"191.171\" r=\"14\" fill=\"#009af9\" fill-rule=\"evenodd\" fill-opacity=\"1\" stroke=\"#000000\" stroke-opacity=\"1\" stroke-width=\"3.2\"/>\n",
       "<circle clip-path=\"url(#clip812)\" cx=\"1712.89\" cy=\"1298.76\" r=\"14\" fill=\"#009af9\" fill-rule=\"evenodd\" fill-opacity=\"1\" stroke=\"#000000\" stroke-opacity=\"1\" stroke-width=\"3.2\"/>\n",
       "<circle clip-path=\"url(#clip812)\" cx=\"1837.23\" cy=\"626.453\" r=\"14\" fill=\"#009af9\" fill-rule=\"evenodd\" fill-opacity=\"1\" stroke=\"#000000\" stroke-opacity=\"1\" stroke-width=\"3.2\"/>\n",
       "<circle clip-path=\"url(#clip812)\" cx=\"2136.4\" cy=\"710.582\" r=\"14\" fill=\"#009af9\" fill-rule=\"evenodd\" fill-opacity=\"1\" stroke=\"#000000\" stroke-opacity=\"1\" stroke-width=\"3.2\"/>\n",
       "<circle clip-path=\"url(#clip812)\" cx=\"2218.57\" cy=\"467.016\" r=\"14\" fill=\"#009af9\" fill-rule=\"evenodd\" fill-opacity=\"1\" stroke=\"#000000\" stroke-opacity=\"1\" stroke-width=\"3.2\"/>\n",
       "<circle clip-path=\"url(#clip812)\" cx=\"2291.12\" cy=\"318.936\" r=\"14\" fill=\"#009af9\" fill-rule=\"evenodd\" fill-opacity=\"1\" stroke=\"#000000\" stroke-opacity=\"1\" stroke-width=\"3.2\"/>\n",
       "<path clip-path=\"url(#clip810)\" d=\"\n",
       "M1989.74 251.724 L2280.76 251.724 L2280.76 130.764 L1989.74 130.764  Z\n",
       "  \" fill=\"#ffffff\" fill-rule=\"evenodd\" fill-opacity=\"1\"/>\n",
       "<polyline clip-path=\"url(#clip810)\" style=\"stroke:#000000; stroke-width:4; stroke-opacity:1; fill:none\" points=\"\n",
       "  1989.74,251.724 2280.76,251.724 2280.76,130.764 1989.74,130.764 1989.74,251.724 \n",
       "  \"/>\n",
       "<circle clip-path=\"url(#clip810)\" cx=\"2097.74\" cy=\"191.244\" r=\"23\" fill=\"#009af9\" fill-rule=\"evenodd\" fill-opacity=\"1\" stroke=\"#000000\" stroke-opacity=\"1\" stroke-width=\"5.12\"/>\n",
       "<path clip-path=\"url(#clip810)\" d=\"M 0 0 M2195.58 210.931 Q2193.77 215.561 2192.06 216.973 Q2190.35 218.385 2187.48 218.385 L2184.08 218.385 L2184.08 214.82 L2186.58 214.82 Q2188.33 214.82 2189.31 213.987 Q2190.28 213.154 2191.46 210.052 L2192.22 208.107 L2181.74 182.598 L2186.25 182.598 L2194.35 202.876 L2202.46 182.598 L2206.97 182.598 L2195.58 210.931 Z\" fill=\"#000000\" fill-rule=\"evenodd\" fill-opacity=\"1\" /><path clip-path=\"url(#clip810)\" d=\"M 0 0 M2212.85 204.589 L2220.49 204.589 L2220.49 178.223 L2212.18 179.89 L2212.18 175.631 L2220.44 173.964 L2225.12 173.964 L2225.12 204.589 L2232.76 204.589 L2232.76 208.524 L2212.85 208.524 L2212.85 204.589 Z\" fill=\"#000000\" fill-rule=\"evenodd\" fill-opacity=\"1\" /></svg>\n"
      ]
     },
     "execution_count": 28,
     "metadata": {},
     "output_type": "execute_result"
    }
   ],
   "source": [
    "n = 20\n",
    "x = sort(rand(20)); y = rand(20)\n",
    "Plots.scatter(x, y,leg=true)"
   ]
  },
  {
   "cell_type": "code",
   "execution_count": 29,
   "metadata": {},
   "outputs": [
    {
     "data": {
      "image/svg+xml": [
       "<?xml version=\"1.0\" encoding=\"utf-8\"?>\n",
       "<svg xmlns=\"http://www.w3.org/2000/svg\" xmlns:xlink=\"http://www.w3.org/1999/xlink\" width=\"600\" height=\"400\" viewBox=\"0 0 2400 1600\">\n",
       "<defs>\n",
       "  <clipPath id=\"clip850\">\n",
       "    <rect x=\"0\" y=\"0\" width=\"2400\" height=\"1600\"/>\n",
       "  </clipPath>\n",
       "</defs>\n",
       "<path clip-path=\"url(#clip850)\" d=\"\n",
       "M0 1600 L2400 1600 L2400 0 L0 0  Z\n",
       "  \" fill=\"#ffffff\" fill-rule=\"evenodd\" fill-opacity=\"1\"/>\n",
       "<defs>\n",
       "  <clipPath id=\"clip851\">\n",
       "    <rect x=\"480\" y=\"0\" width=\"1681\" height=\"1600\"/>\n",
       "  </clipPath>\n",
       "</defs>\n",
       "<path clip-path=\"url(#clip850)\" d=\"\n",
       "M174.862 1486.45 L2352.76 1486.45 L2352.76 123.472 L174.862 123.472  Z\n",
       "  \" fill=\"#ffffff\" fill-rule=\"evenodd\" fill-opacity=\"1\"/>\n",
       "<defs>\n",
       "  <clipPath id=\"clip852\">\n",
       "    <rect x=\"174\" y=\"123\" width=\"2179\" height=\"1364\"/>\n",
       "  </clipPath>\n",
       "</defs>\n",
       "<polyline clip-path=\"url(#clip852)\" style=\"stroke:#000000; stroke-width:2; stroke-opacity:0.1; fill:none\" points=\"\n",
       "  208.391,1486.45 208.391,123.472 \n",
       "  \"/>\n",
       "<polyline clip-path=\"url(#clip852)\" style=\"stroke:#000000; stroke-width:2; stroke-opacity:0.1; fill:none\" points=\"\n",
       "  732.185,1486.45 732.185,123.472 \n",
       "  \"/>\n",
       "<polyline clip-path=\"url(#clip852)\" style=\"stroke:#000000; stroke-width:2; stroke-opacity:0.1; fill:none\" points=\"\n",
       "  1255.98,1486.45 1255.98,123.472 \n",
       "  \"/>\n",
       "<polyline clip-path=\"url(#clip852)\" style=\"stroke:#000000; stroke-width:2; stroke-opacity:0.1; fill:none\" points=\"\n",
       "  1779.77,1486.45 1779.77,123.472 \n",
       "  \"/>\n",
       "<polyline clip-path=\"url(#clip852)\" style=\"stroke:#000000; stroke-width:2; stroke-opacity:0.1; fill:none\" points=\"\n",
       "  2303.57,1486.45 2303.57,123.472 \n",
       "  \"/>\n",
       "<polyline clip-path=\"url(#clip852)\" style=\"stroke:#000000; stroke-width:2; stroke-opacity:0.1; fill:none\" points=\"\n",
       "  174.862,1448.6 2352.76,1448.6 \n",
       "  \"/>\n",
       "<polyline clip-path=\"url(#clip852)\" style=\"stroke:#000000; stroke-width:2; stroke-opacity:0.1; fill:none\" points=\"\n",
       "  174.862,1122.3 2352.76,1122.3 \n",
       "  \"/>\n",
       "<polyline clip-path=\"url(#clip852)\" style=\"stroke:#000000; stroke-width:2; stroke-opacity:0.1; fill:none\" points=\"\n",
       "  174.862,796.003 2352.76,796.003 \n",
       "  \"/>\n",
       "<polyline clip-path=\"url(#clip852)\" style=\"stroke:#000000; stroke-width:2; stroke-opacity:0.1; fill:none\" points=\"\n",
       "  174.862,469.703 2352.76,469.703 \n",
       "  \"/>\n",
       "<polyline clip-path=\"url(#clip852)\" style=\"stroke:#000000; stroke-width:2; stroke-opacity:0.1; fill:none\" points=\"\n",
       "  174.862,143.403 2352.76,143.403 \n",
       "  \"/>\n",
       "<polyline clip-path=\"url(#clip850)\" style=\"stroke:#000000; stroke-width:4; stroke-opacity:1; fill:none\" points=\"\n",
       "  174.862,1486.45 2352.76,1486.45 \n",
       "  \"/>\n",
       "<polyline clip-path=\"url(#clip850)\" style=\"stroke:#000000; stroke-width:4; stroke-opacity:1; fill:none\" points=\"\n",
       "  174.862,1486.45 174.862,123.472 \n",
       "  \"/>\n",
       "<polyline clip-path=\"url(#clip850)\" style=\"stroke:#000000; stroke-width:4; stroke-opacity:1; fill:none\" points=\"\n",
       "  208.391,1486.45 208.391,1470.09 \n",
       "  \"/>\n",
       "<polyline clip-path=\"url(#clip850)\" style=\"stroke:#000000; stroke-width:4; stroke-opacity:1; fill:none\" points=\"\n",
       "  732.185,1486.45 732.185,1470.09 \n",
       "  \"/>\n",
       "<polyline clip-path=\"url(#clip850)\" style=\"stroke:#000000; stroke-width:4; stroke-opacity:1; fill:none\" points=\"\n",
       "  1255.98,1486.45 1255.98,1470.09 \n",
       "  \"/>\n",
       "<polyline clip-path=\"url(#clip850)\" style=\"stroke:#000000; stroke-width:4; stroke-opacity:1; fill:none\" points=\"\n",
       "  1779.77,1486.45 1779.77,1470.09 \n",
       "  \"/>\n",
       "<polyline clip-path=\"url(#clip850)\" style=\"stroke:#000000; stroke-width:4; stroke-opacity:1; fill:none\" points=\"\n",
       "  2303.57,1486.45 2303.57,1470.09 \n",
       "  \"/>\n",
       "<polyline clip-path=\"url(#clip850)\" style=\"stroke:#000000; stroke-width:4; stroke-opacity:1; fill:none\" points=\"\n",
       "  174.862,1448.6 200.997,1448.6 \n",
       "  \"/>\n",
       "<polyline clip-path=\"url(#clip850)\" style=\"stroke:#000000; stroke-width:4; stroke-opacity:1; fill:none\" points=\"\n",
       "  174.862,1122.3 200.997,1122.3 \n",
       "  \"/>\n",
       "<polyline clip-path=\"url(#clip850)\" style=\"stroke:#000000; stroke-width:4; stroke-opacity:1; fill:none\" points=\"\n",
       "  174.862,796.003 200.997,796.003 \n",
       "  \"/>\n",
       "<polyline clip-path=\"url(#clip850)\" style=\"stroke:#000000; stroke-width:4; stroke-opacity:1; fill:none\" points=\"\n",
       "  174.862,469.703 200.997,469.703 \n",
       "  \"/>\n",
       "<polyline clip-path=\"url(#clip850)\" style=\"stroke:#000000; stroke-width:4; stroke-opacity:1; fill:none\" points=\"\n",
       "  174.862,143.403 200.997,143.403 \n",
       "  \"/>\n",
       "<path clip-path=\"url(#clip850)\" d=\"M 0 0 M176.4 1508.44 Q172.789 1508.44 170.961 1512 Q169.155 1515.55 169.155 1522.67 Q169.155 1529.78 170.961 1533.35 Q172.789 1536.89 176.4 1536.89 Q180.035 1536.89 181.84 1533.35 Q183.669 1529.78 183.669 1522.67 Q183.669 1515.55 181.84 1512 Q180.035 1508.44 176.4 1508.44 M176.4 1504.73 Q182.21 1504.73 185.266 1509.34 Q188.345 1513.92 188.345 1522.67 Q188.345 1531.4 185.266 1536.01 Q182.21 1540.59 176.4 1540.59 Q170.59 1540.59 167.511 1536.01 Q164.456 1531.4 164.456 1522.67 Q164.456 1513.92 167.511 1509.34 Q170.59 1504.73 176.4 1504.73 Z\" fill=\"#000000\" fill-rule=\"evenodd\" fill-opacity=\"1\" /><path clip-path=\"url(#clip850)\" d=\"M 0 0 M193.414 1534.04 L198.298 1534.04 L198.298 1539.92 L193.414 1539.92 L193.414 1534.04 Z\" fill=\"#000000\" fill-rule=\"evenodd\" fill-opacity=\"1\" /><path clip-path=\"url(#clip850)\" d=\"M 0 0 M213.368 1508.44 Q209.757 1508.44 207.928 1512 Q206.122 1515.55 206.122 1522.67 Q206.122 1529.78 207.928 1533.35 Q209.757 1536.89 213.368 1536.89 Q217.002 1536.89 218.807 1533.35 Q220.636 1529.78 220.636 1522.67 Q220.636 1515.55 218.807 1512 Q217.002 1508.44 213.368 1508.44 M213.368 1504.73 Q219.178 1504.73 222.233 1509.34 Q225.312 1513.92 225.312 1522.67 Q225.312 1531.4 222.233 1536.01 Q219.178 1540.59 213.368 1540.59 Q207.558 1540.59 204.479 1536.01 Q201.423 1531.4 201.423 1522.67 Q201.423 1513.92 204.479 1509.34 Q207.558 1504.73 213.368 1504.73 Z\" fill=\"#000000\" fill-rule=\"evenodd\" fill-opacity=\"1\" /><path clip-path=\"url(#clip850)\" d=\"M 0 0 M240.381 1508.44 Q236.77 1508.44 234.942 1512 Q233.136 1515.55 233.136 1522.67 Q233.136 1529.78 234.942 1533.35 Q236.77 1536.89 240.381 1536.89 Q244.016 1536.89 245.821 1533.35 Q247.65 1529.78 247.65 1522.67 Q247.65 1515.55 245.821 1512 Q244.016 1508.44 240.381 1508.44 M240.381 1504.73 Q246.192 1504.73 249.247 1509.34 Q252.326 1513.92 252.326 1522.67 Q252.326 1531.4 249.247 1536.01 Q246.192 1540.59 240.381 1540.59 Q234.571 1540.59 231.493 1536.01 Q228.437 1531.4 228.437 1522.67 Q228.437 1513.92 231.493 1509.34 Q234.571 1504.73 240.381 1504.73 Z\" fill=\"#000000\" fill-rule=\"evenodd\" fill-opacity=\"1\" /><path clip-path=\"url(#clip850)\" d=\"M 0 0 M701.491 1508.44 Q697.88 1508.44 696.051 1512 Q694.246 1515.55 694.246 1522.67 Q694.246 1529.78 696.051 1533.35 Q697.88 1536.89 701.491 1536.89 Q705.125 1536.89 706.931 1533.35 Q708.76 1529.78 708.76 1522.67 Q708.76 1515.55 706.931 1512 Q705.125 1508.44 701.491 1508.44 M701.491 1504.73 Q707.301 1504.73 710.357 1509.34 Q713.436 1513.92 713.436 1522.67 Q713.436 1531.4 710.357 1536.01 Q707.301 1540.59 701.491 1540.59 Q695.681 1540.59 692.602 1536.01 Q689.547 1531.4 689.547 1522.67 Q689.547 1513.92 692.602 1509.34 Q695.681 1504.73 701.491 1504.73 Z\" fill=\"#000000\" fill-rule=\"evenodd\" fill-opacity=\"1\" /><path clip-path=\"url(#clip850)\" d=\"M 0 0 M718.505 1534.04 L723.389 1534.04 L723.389 1539.92 L718.505 1539.92 L718.505 1534.04 Z\" fill=\"#000000\" fill-rule=\"evenodd\" fill-opacity=\"1\" /><path clip-path=\"url(#clip850)\" d=\"M 0 0 M732.486 1535.98 L748.806 1535.98 L748.806 1539.92 L726.861 1539.92 L726.861 1535.98 Q729.523 1533.23 734.107 1528.6 Q738.713 1523.95 739.894 1522.61 Q742.139 1520.08 743.019 1518.35 Q743.922 1516.59 743.922 1514.9 Q743.922 1512.14 741.977 1510.41 Q740.056 1508.67 736.954 1508.67 Q734.755 1508.67 732.301 1509.43 Q729.871 1510.2 727.093 1511.75 L727.093 1507.03 Q729.917 1505.89 732.371 1505.31 Q734.824 1504.73 736.861 1504.73 Q742.232 1504.73 745.426 1507.42 Q748.621 1510.11 748.621 1514.6 Q748.621 1516.73 747.81 1518.65 Q747.023 1520.54 744.917 1523.14 Q744.338 1523.81 741.236 1527.03 Q738.135 1530.22 732.486 1535.98 Z\" fill=\"#000000\" fill-rule=\"evenodd\" fill-opacity=\"1\" /><path clip-path=\"url(#clip850)\" d=\"M 0 0 M753.921 1505.36 L772.278 1505.36 L772.278 1509.3 L758.204 1509.3 L758.204 1517.77 Q759.222 1517.42 760.241 1517.26 Q761.259 1517.07 762.278 1517.07 Q768.065 1517.07 771.445 1520.24 Q774.824 1523.42 774.824 1528.83 Q774.824 1534.41 771.352 1537.51 Q767.88 1540.59 761.56 1540.59 Q759.384 1540.59 757.116 1540.22 Q754.871 1539.85 752.463 1539.11 L752.463 1534.41 Q754.546 1535.54 756.769 1536.1 Q758.991 1536.66 761.468 1536.66 Q765.472 1536.66 767.81 1534.55 Q770.148 1532.44 770.148 1528.83 Q770.148 1525.22 767.81 1523.11 Q765.472 1521.01 761.468 1521.01 Q759.593 1521.01 757.718 1521.42 Q755.866 1521.84 753.921 1522.72 L753.921 1505.36 Z\" fill=\"#000000\" fill-rule=\"evenodd\" fill-opacity=\"1\" /><path clip-path=\"url(#clip850)\" d=\"M 0 0 M1224.49 1508.44 Q1220.88 1508.44 1219.05 1512 Q1217.24 1515.55 1217.24 1522.67 Q1217.24 1529.78 1219.05 1533.35 Q1220.88 1536.89 1224.49 1536.89 Q1228.12 1536.89 1229.93 1533.35 Q1231.76 1529.78 1231.76 1522.67 Q1231.76 1515.55 1229.93 1512 Q1228.12 1508.44 1224.49 1508.44 M1224.49 1504.73 Q1230.3 1504.73 1233.35 1509.34 Q1236.43 1513.92 1236.43 1522.67 Q1236.43 1531.4 1233.35 1536.01 Q1230.3 1540.59 1224.49 1540.59 Q1218.68 1540.59 1215.6 1536.01 Q1212.54 1531.4 1212.54 1522.67 Q1212.54 1513.92 1215.6 1509.34 Q1218.68 1504.73 1224.49 1504.73 Z\" fill=\"#000000\" fill-rule=\"evenodd\" fill-opacity=\"1\" /><path clip-path=\"url(#clip850)\" d=\"M 0 0 M1241.5 1534.04 L1246.39 1534.04 L1246.39 1539.92 L1241.5 1539.92 L1241.5 1534.04 Z\" fill=\"#000000\" fill-rule=\"evenodd\" fill-opacity=\"1\" /><path clip-path=\"url(#clip850)\" d=\"M 0 0 M1251.5 1505.36 L1269.86 1505.36 L1269.86 1509.3 L1255.78 1509.3 L1255.78 1517.77 Q1256.8 1517.42 1257.82 1517.26 Q1258.84 1517.07 1259.86 1517.07 Q1265.64 1517.07 1269.02 1520.24 Q1272.4 1523.42 1272.4 1528.83 Q1272.4 1534.41 1268.93 1537.51 Q1265.46 1540.59 1259.14 1540.59 Q1256.96 1540.59 1254.7 1540.22 Q1252.45 1539.85 1250.04 1539.11 L1250.04 1534.41 Q1252.13 1535.54 1254.35 1536.1 Q1256.57 1536.66 1259.05 1536.66 Q1263.05 1536.66 1265.39 1534.55 Q1267.73 1532.44 1267.73 1528.83 Q1267.73 1525.22 1265.39 1523.11 Q1263.05 1521.01 1259.05 1521.01 Q1257.17 1521.01 1255.3 1521.42 Q1253.45 1521.84 1251.5 1522.72 L1251.5 1505.36 Z\" fill=\"#000000\" fill-rule=\"evenodd\" fill-opacity=\"1\" /><path clip-path=\"url(#clip850)\" d=\"M 0 0 M1287.47 1508.44 Q1283.86 1508.44 1282.03 1512 Q1280.23 1515.55 1280.23 1522.67 Q1280.23 1529.78 1282.03 1533.35 Q1283.86 1536.89 1287.47 1536.89 Q1291.11 1536.89 1292.91 1533.35 Q1294.74 1529.78 1294.74 1522.67 Q1294.74 1515.55 1292.91 1512 Q1291.11 1508.44 1287.47 1508.44 M1287.47 1504.73 Q1293.28 1504.73 1296.34 1509.34 Q1299.42 1513.92 1299.42 1522.67 Q1299.42 1531.4 1296.34 1536.01 Q1293.28 1540.59 1287.47 1540.59 Q1281.66 1540.59 1278.58 1536.01 Q1275.53 1531.4 1275.53 1522.67 Q1275.53 1513.92 1278.58 1509.34 Q1281.66 1504.73 1287.47 1504.73 Z\" fill=\"#000000\" fill-rule=\"evenodd\" fill-opacity=\"1\" /><path clip-path=\"url(#clip850)\" d=\"M 0 0 M1748.73 1508.44 Q1745.12 1508.44 1743.29 1512 Q1741.49 1515.55 1741.49 1522.67 Q1741.49 1529.78 1743.29 1533.35 Q1745.12 1536.89 1748.73 1536.89 Q1752.37 1536.89 1754.17 1533.35 Q1756 1529.78 1756 1522.67 Q1756 1515.55 1754.17 1512 Q1752.37 1508.44 1748.73 1508.44 M1748.73 1504.73 Q1754.54 1504.73 1757.6 1509.34 Q1760.68 1513.92 1760.68 1522.67 Q1760.68 1531.4 1757.6 1536.01 Q1754.54 1540.59 1748.73 1540.59 Q1742.92 1540.59 1739.84 1536.01 Q1736.79 1531.4 1736.79 1522.67 Q1736.79 1513.92 1739.84 1509.34 Q1742.92 1504.73 1748.73 1504.73 Z\" fill=\"#000000\" fill-rule=\"evenodd\" fill-opacity=\"1\" /><path clip-path=\"url(#clip850)\" d=\"M 0 0 M1765.75 1534.04 L1770.63 1534.04 L1770.63 1539.92 L1765.75 1539.92 L1765.75 1534.04 Z\" fill=\"#000000\" fill-rule=\"evenodd\" fill-opacity=\"1\" /><path clip-path=\"url(#clip850)\" d=\"M 0 0 M1774.52 1505.36 L1796.74 1505.36 L1796.74 1507.35 L1784.2 1539.92 L1779.31 1539.92 L1791.12 1509.3 L1774.52 1509.3 L1774.52 1505.36 Z\" fill=\"#000000\" fill-rule=\"evenodd\" fill-opacity=\"1\" /><path clip-path=\"url(#clip850)\" d=\"M 0 0 M1801.86 1505.36 L1820.21 1505.36 L1820.21 1509.3 L1806.14 1509.3 L1806.14 1517.77 Q1807.16 1517.42 1808.18 1517.26 Q1809.2 1517.07 1810.21 1517.07 Q1816 1517.07 1819.38 1520.24 Q1822.76 1523.42 1822.76 1528.83 Q1822.76 1534.41 1819.29 1537.51 Q1815.82 1540.59 1809.5 1540.59 Q1807.32 1540.59 1805.05 1540.22 Q1802.81 1539.85 1800.4 1539.11 L1800.4 1534.41 Q1802.48 1535.54 1804.71 1536.1 Q1806.93 1536.66 1809.4 1536.66 Q1813.41 1536.66 1815.75 1534.55 Q1818.08 1532.44 1818.08 1528.83 Q1818.08 1525.22 1815.75 1523.11 Q1813.41 1521.01 1809.4 1521.01 Q1807.53 1521.01 1805.65 1521.42 Q1803.8 1521.84 1801.86 1522.72 L1801.86 1505.36 Z\" fill=\"#000000\" fill-rule=\"evenodd\" fill-opacity=\"1\" /><path clip-path=\"url(#clip850)\" d=\"M 0 0 M2261.96 1535.98 L2269.6 1535.98 L2269.6 1509.62 L2261.29 1511.29 L2261.29 1507.03 L2269.55 1505.36 L2274.23 1505.36 L2274.23 1535.98 L2281.87 1535.98 L2281.87 1539.92 L2261.96 1539.92 L2261.96 1535.98 Z\" fill=\"#000000\" fill-rule=\"evenodd\" fill-opacity=\"1\" /><path clip-path=\"url(#clip850)\" d=\"M 0 0 M2286.94 1534.04 L2291.82 1534.04 L2291.82 1539.92 L2286.94 1539.92 L2286.94 1534.04 Z\" fill=\"#000000\" fill-rule=\"evenodd\" fill-opacity=\"1\" /><path clip-path=\"url(#clip850)\" d=\"M 0 0 M2306.89 1508.44 Q2303.28 1508.44 2301.45 1512 Q2299.65 1515.55 2299.65 1522.67 Q2299.65 1529.78 2301.45 1533.35 Q2303.28 1536.89 2306.89 1536.89 Q2310.53 1536.89 2312.33 1533.35 Q2314.16 1529.78 2314.16 1522.67 Q2314.16 1515.55 2312.33 1512 Q2310.53 1508.44 2306.89 1508.44 M2306.89 1504.73 Q2312.7 1504.73 2315.76 1509.34 Q2318.84 1513.92 2318.84 1522.67 Q2318.84 1531.4 2315.76 1536.01 Q2312.7 1540.59 2306.89 1540.59 Q2301.08 1540.59 2298 1536.01 Q2294.95 1531.4 2294.95 1522.67 Q2294.95 1513.92 2298 1509.34 Q2301.08 1504.73 2306.89 1504.73 Z\" fill=\"#000000\" fill-rule=\"evenodd\" fill-opacity=\"1\" /><path clip-path=\"url(#clip850)\" d=\"M 0 0 M2333.9 1508.44 Q2330.29 1508.44 2328.46 1512 Q2326.66 1515.55 2326.66 1522.67 Q2326.66 1529.78 2328.46 1533.35 Q2330.29 1536.89 2333.9 1536.89 Q2337.54 1536.89 2339.34 1533.35 Q2341.17 1529.78 2341.17 1522.67 Q2341.17 1515.55 2339.34 1512 Q2337.54 1508.44 2333.9 1508.44 M2333.9 1504.73 Q2339.71 1504.73 2342.77 1509.34 Q2345.85 1513.92 2345.85 1522.67 Q2345.85 1531.4 2342.77 1536.01 Q2339.71 1540.59 2333.9 1540.59 Q2328.09 1540.59 2325.02 1536.01 Q2321.96 1531.4 2321.96 1522.67 Q2321.96 1513.92 2325.02 1509.34 Q2328.09 1504.73 2333.9 1504.73 Z\" fill=\"#000000\" fill-rule=\"evenodd\" fill-opacity=\"1\" /><path clip-path=\"url(#clip850)\" d=\"M 0 0 M74.9365 1434.4 Q71.3254 1434.4 69.4967 1437.97 Q67.6912 1441.51 67.6912 1448.64 Q67.6912 1455.74 69.4967 1459.31 Q71.3254 1462.85 74.9365 1462.85 Q78.5707 1462.85 80.3763 1459.31 Q82.205 1455.74 82.205 1448.64 Q82.205 1441.51 80.3763 1437.97 Q78.5707 1434.4 74.9365 1434.4 M74.9365 1430.7 Q80.7467 1430.7 83.8022 1435.3 Q86.8809 1439.89 86.8809 1448.64 Q86.8809 1457.36 83.8022 1461.97 Q80.7467 1466.55 74.9365 1466.55 Q69.1264 1466.55 66.0477 1461.97 Q62.9921 1457.36 62.9921 1448.64 Q62.9921 1439.89 66.0477 1435.3 Q69.1264 1430.7 74.9365 1430.7 Z\" fill=\"#000000\" fill-rule=\"evenodd\" fill-opacity=\"1\" /><path clip-path=\"url(#clip850)\" d=\"M 0 0 M91.9503 1460 L96.8345 1460 L96.8345 1465.88 L91.9503 1465.88 L91.9503 1460 Z\" fill=\"#000000\" fill-rule=\"evenodd\" fill-opacity=\"1\" /><path clip-path=\"url(#clip850)\" d=\"M 0 0 M111.904 1434.4 Q108.293 1434.4 106.464 1437.97 Q104.659 1441.51 104.659 1448.64 Q104.659 1455.74 106.464 1459.31 Q108.293 1462.85 111.904 1462.85 Q115.538 1462.85 117.344 1459.31 Q119.172 1455.74 119.172 1448.64 Q119.172 1441.51 117.344 1437.97 Q115.538 1434.4 111.904 1434.4 M111.904 1430.7 Q117.714 1430.7 120.77 1435.3 Q123.848 1439.89 123.848 1448.64 Q123.848 1457.36 120.77 1461.97 Q117.714 1466.55 111.904 1466.55 Q106.094 1466.55 103.015 1461.97 Q99.9595 1457.36 99.9595 1448.64 Q99.9595 1439.89 103.015 1435.3 Q106.094 1430.7 111.904 1430.7 Z\" fill=\"#000000\" fill-rule=\"evenodd\" fill-opacity=\"1\" /><path clip-path=\"url(#clip850)\" d=\"M 0 0 M138.918 1434.4 Q135.307 1434.4 133.478 1437.97 Q131.672 1441.51 131.672 1448.64 Q131.672 1455.74 133.478 1459.31 Q135.307 1462.85 138.918 1462.85 Q142.552 1462.85 144.357 1459.31 Q146.186 1455.74 146.186 1448.64 Q146.186 1441.51 144.357 1437.97 Q142.552 1434.4 138.918 1434.4 M138.918 1430.7 Q144.728 1430.7 147.783 1435.3 Q150.862 1439.89 150.862 1448.64 Q150.862 1457.36 147.783 1461.97 Q144.728 1466.55 138.918 1466.55 Q133.107 1466.55 130.029 1461.97 Q126.973 1457.36 126.973 1448.64 Q126.973 1439.89 130.029 1435.3 Q133.107 1430.7 138.918 1430.7 Z\" fill=\"#000000\" fill-rule=\"evenodd\" fill-opacity=\"1\" /><path clip-path=\"url(#clip850)\" d=\"M 0 0 M77.5291 1108.1 Q73.918 1108.1 72.0893 1111.67 Q70.2838 1115.21 70.2838 1122.34 Q70.2838 1129.44 72.0893 1133.01 Q73.918 1136.55 77.5291 1136.55 Q81.1633 1136.55 82.9689 1133.01 Q84.7976 1129.44 84.7976 1122.34 Q84.7976 1115.21 82.9689 1111.67 Q81.1633 1108.1 77.5291 1108.1 M77.5291 1104.4 Q83.3392 1104.4 86.3948 1109 Q89.4735 1113.59 89.4735 1122.34 Q89.4735 1131.06 86.3948 1135.67 Q83.3392 1140.25 77.5291 1140.25 Q71.7189 1140.25 68.6402 1135.67 Q65.5847 1131.06 65.5847 1122.34 Q65.5847 1113.59 68.6402 1109 Q71.7189 1104.4 77.5291 1104.4 Z\" fill=\"#000000\" fill-rule=\"evenodd\" fill-opacity=\"1\" /><path clip-path=\"url(#clip850)\" d=\"M 0 0 M94.5429 1133.7 L99.4271 1133.7 L99.4271 1139.58 L94.5429 1139.58 L94.5429 1133.7 Z\" fill=\"#000000\" fill-rule=\"evenodd\" fill-opacity=\"1\" /><path clip-path=\"url(#clip850)\" d=\"M 0 0 M108.524 1135.65 L124.844 1135.65 L124.844 1139.58 L102.899 1139.58 L102.899 1135.65 Q105.561 1132.89 110.145 1128.26 Q114.751 1123.61 115.932 1122.27 Q118.177 1119.75 119.057 1118.01 Q119.959 1116.25 119.959 1114.56 Q119.959 1111.81 118.015 1110.07 Q116.094 1108.33 112.992 1108.33 Q110.793 1108.33 108.339 1109.1 Q105.909 1109.86 103.131 1111.41 L103.131 1106.69 Q105.955 1105.56 108.409 1104.98 Q110.862 1104.4 112.899 1104.4 Q118.27 1104.4 121.464 1107.08 Q124.658 1109.77 124.658 1114.26 Q124.658 1116.39 123.848 1118.31 Q123.061 1120.21 120.955 1122.8 Q120.376 1123.47 117.274 1126.69 Q114.172 1129.88 108.524 1135.65 Z\" fill=\"#000000\" fill-rule=\"evenodd\" fill-opacity=\"1\" /><path clip-path=\"url(#clip850)\" d=\"M 0 0 M129.959 1105.02 L148.316 1105.02 L148.316 1108.96 L134.242 1108.96 L134.242 1117.43 Q135.26 1117.08 136.279 1116.92 Q137.297 1116.74 138.316 1116.74 Q144.103 1116.74 147.482 1119.91 Q150.862 1123.08 150.862 1128.5 Q150.862 1134.07 147.39 1137.18 Q143.918 1140.25 137.598 1140.25 Q135.422 1140.25 133.154 1139.88 Q130.908 1139.51 128.501 1138.77 L128.501 1134.07 Q130.584 1135.21 132.807 1135.76 Q135.029 1136.32 137.506 1136.32 Q141.51 1136.32 143.848 1134.21 Q146.186 1132.11 146.186 1128.5 Q146.186 1124.88 143.848 1122.78 Q141.51 1120.67 137.506 1120.67 Q135.631 1120.67 133.756 1121.09 Q131.904 1121.5 129.959 1122.38 L129.959 1105.02 Z\" fill=\"#000000\" fill-rule=\"evenodd\" fill-opacity=\"1\" /><path clip-path=\"url(#clip850)\" d=\"M 0 0 M75.9319 781.802 Q72.3208 781.802 70.4921 785.367 Q68.6865 788.908 68.6865 796.038 Q68.6865 803.144 70.4921 806.709 Q72.3208 810.251 75.9319 810.251 Q79.5661 810.251 81.3717 806.709 Q83.2004 803.144 83.2004 796.038 Q83.2004 788.908 81.3717 785.367 Q79.5661 781.802 75.9319 781.802 M75.9319 778.098 Q81.742 778.098 84.7976 782.705 Q87.8763 787.288 87.8763 796.038 Q87.8763 804.765 84.7976 809.371 Q81.742 813.955 75.9319 813.955 Q70.1217 813.955 67.043 809.371 Q63.9875 804.765 63.9875 796.038 Q63.9875 787.288 67.043 782.705 Q70.1217 778.098 75.9319 778.098 Z\" fill=\"#000000\" fill-rule=\"evenodd\" fill-opacity=\"1\" /><path clip-path=\"url(#clip850)\" d=\"M 0 0 M92.9457 807.404 L97.8299 807.404 L97.8299 813.283 L92.9457 813.283 L92.9457 807.404 Z\" fill=\"#000000\" fill-rule=\"evenodd\" fill-opacity=\"1\" /><path clip-path=\"url(#clip850)\" d=\"M 0 0 M102.946 778.723 L121.302 778.723 L121.302 782.658 L107.228 782.658 L107.228 791.131 Q108.247 790.783 109.265 790.621 Q110.284 790.436 111.302 790.436 Q117.089 790.436 120.469 793.607 Q123.848 796.779 123.848 802.195 Q123.848 807.774 120.376 810.876 Q116.904 813.955 110.584 813.955 Q108.409 813.955 106.14 813.584 Q103.895 813.214 101.487 812.473 L101.487 807.774 Q103.571 808.908 105.793 809.464 Q108.015 810.019 110.492 810.019 Q114.496 810.019 116.834 807.913 Q119.172 805.806 119.172 802.195 Q119.172 798.584 116.834 796.478 Q114.496 794.371 110.492 794.371 Q108.617 794.371 106.742 794.788 Q104.89 795.205 102.946 796.084 L102.946 778.723 Z\" fill=\"#000000\" fill-rule=\"evenodd\" fill-opacity=\"1\" /><path clip-path=\"url(#clip850)\" d=\"M 0 0 M138.918 781.802 Q135.307 781.802 133.478 785.367 Q131.672 788.908 131.672 796.038 Q131.672 803.144 133.478 806.709 Q135.307 810.251 138.918 810.251 Q142.552 810.251 144.357 806.709 Q146.186 803.144 146.186 796.038 Q146.186 788.908 144.357 785.367 Q142.552 781.802 138.918 781.802 M138.918 778.098 Q144.728 778.098 147.783 782.705 Q150.862 787.288 150.862 796.038 Q150.862 804.765 147.783 809.371 Q144.728 813.955 138.918 813.955 Q133.107 813.955 130.029 809.371 Q126.973 804.765 126.973 796.038 Q126.973 787.288 130.029 782.705 Q133.107 778.098 138.918 778.098 Z\" fill=\"#000000\" fill-rule=\"evenodd\" fill-opacity=\"1\" /><path clip-path=\"url(#clip850)\" d=\"M 0 0 M76.8346 455.502 Q73.2236 455.502 71.3949 459.067 Q69.5893 462.608 69.5893 469.738 Q69.5893 476.844 71.3949 480.409 Q73.2236 483.951 76.8346 483.951 Q80.4689 483.951 82.2744 480.409 Q84.1031 476.844 84.1031 469.738 Q84.1031 462.608 82.2744 459.067 Q80.4689 455.502 76.8346 455.502 M76.8346 451.798 Q82.6448 451.798 85.7003 456.405 Q88.779 460.988 88.779 469.738 Q88.779 478.465 85.7003 483.071 Q82.6448 487.655 76.8346 487.655 Q71.0245 487.655 67.9458 483.071 Q64.8903 478.465 64.8903 469.738 Q64.8903 460.988 67.9458 456.405 Q71.0245 451.798 76.8346 451.798 Z\" fill=\"#000000\" fill-rule=\"evenodd\" fill-opacity=\"1\" /><path clip-path=\"url(#clip850)\" d=\"M 0 0 M93.8484 481.104 L98.7327 481.104 L98.7327 486.983 L93.8484 486.983 L93.8484 481.104 Z\" fill=\"#000000\" fill-rule=\"evenodd\" fill-opacity=\"1\" /><path clip-path=\"url(#clip850)\" d=\"M 0 0 M102.622 452.423 L124.844 452.423 L124.844 454.414 L112.297 486.983 L107.413 486.983 L119.219 456.358 L102.622 456.358 L102.622 452.423 Z\" fill=\"#000000\" fill-rule=\"evenodd\" fill-opacity=\"1\" /><path clip-path=\"url(#clip850)\" d=\"M 0 0 M129.959 452.423 L148.316 452.423 L148.316 456.358 L134.242 456.358 L134.242 464.831 Q135.26 464.483 136.279 464.321 Q137.297 464.136 138.316 464.136 Q144.103 464.136 147.482 467.307 Q150.862 470.479 150.862 475.895 Q150.862 481.474 147.39 484.576 Q143.918 487.655 137.598 487.655 Q135.422 487.655 133.154 487.284 Q130.908 486.914 128.501 486.173 L128.501 481.474 Q130.584 482.608 132.807 483.164 Q135.029 483.719 137.506 483.719 Q141.51 483.719 143.848 481.613 Q146.186 479.506 146.186 475.895 Q146.186 472.284 143.848 470.178 Q141.51 468.071 137.506 468.071 Q135.631 468.071 133.756 468.488 Q131.904 468.905 129.959 469.784 L129.959 452.423 Z\" fill=\"#000000\" fill-rule=\"evenodd\" fill-opacity=\"1\" /><path clip-path=\"url(#clip850)\" d=\"M 0 0 M66.9736 156.748 L74.6124 156.748 L74.6124 130.383 L66.3023 132.049 L66.3023 127.79 L74.5661 126.123 L79.242 126.123 L79.242 156.748 L86.8809 156.748 L86.8809 160.683 L66.9736 160.683 L66.9736 156.748 Z\" fill=\"#000000\" fill-rule=\"evenodd\" fill-opacity=\"1\" /><path clip-path=\"url(#clip850)\" d=\"M 0 0 M91.9503 154.804 L96.8345 154.804 L96.8345 160.683 L91.9503 160.683 L91.9503 154.804 Z\" fill=\"#000000\" fill-rule=\"evenodd\" fill-opacity=\"1\" /><path clip-path=\"url(#clip850)\" d=\"M 0 0 M111.904 129.202 Q108.293 129.202 106.464 132.767 Q104.659 136.308 104.659 143.438 Q104.659 150.544 106.464 154.109 Q108.293 157.651 111.904 157.651 Q115.538 157.651 117.344 154.109 Q119.172 150.544 119.172 143.438 Q119.172 136.308 117.344 132.767 Q115.538 129.202 111.904 129.202 M111.904 125.498 Q117.714 125.498 120.77 130.105 Q123.848 134.688 123.848 143.438 Q123.848 152.165 120.77 156.771 Q117.714 161.355 111.904 161.355 Q106.094 161.355 103.015 156.771 Q99.9595 152.165 99.9595 143.438 Q99.9595 134.688 103.015 130.105 Q106.094 125.498 111.904 125.498 Z\" fill=\"#000000\" fill-rule=\"evenodd\" fill-opacity=\"1\" /><path clip-path=\"url(#clip850)\" d=\"M 0 0 M138.918 129.202 Q135.307 129.202 133.478 132.767 Q131.672 136.308 131.672 143.438 Q131.672 150.544 133.478 154.109 Q135.307 157.651 138.918 157.651 Q142.552 157.651 144.357 154.109 Q146.186 150.544 146.186 143.438 Q146.186 136.308 144.357 132.767 Q142.552 129.202 138.918 129.202 M138.918 125.498 Q144.728 125.498 147.783 130.105 Q150.862 134.688 150.862 143.438 Q150.862 152.165 147.783 156.771 Q144.728 161.355 138.918 161.355 Q133.107 161.355 130.029 156.771 Q126.973 152.165 126.973 143.438 Q126.973 134.688 130.029 130.105 Q133.107 125.498 138.918 125.498 Z\" fill=\"#000000\" fill-rule=\"evenodd\" fill-opacity=\"1\" /><path clip-path=\"url(#clip850)\" d=\"M 0 0 M1034.22 20.1573 L1023.12 50.2555 L1045.36 50.2555 L1034.22 20.1573 M1029.61 12.096 L1038.88 12.096 L1061.93 72.576 L1053.43 72.576 L1047.92 57.061 L1020.65 57.061 L1015.14 72.576 L1006.52 72.576 L1029.61 12.096 Z\" fill=\"#000000\" fill-rule=\"evenodd\" fill-opacity=\"1\" /><path clip-path=\"url(#clip850)\" d=\"M 0 0 M1125.05 28.5427 L1125.05 35.5912 Q1121.89 33.9709 1118.48 33.1607 Q1115.08 32.3505 1111.43 32.3505 Q1105.88 32.3505 1103.09 34.0519 Q1100.33 35.7533 1100.33 39.156 Q1100.33 41.7486 1102.32 43.2475 Q1104.3 44.7058 1110.3 46.0426 L1112.85 46.6097 Q1120.79 48.3111 1124.11 51.4303 Q1127.48 54.509 1127.48 60.0587 Q1127.48 66.3781 1122.45 70.0644 Q1117.47 73.7508 1108.72 73.7508 Q1105.07 73.7508 1101.1 73.0216 Q1097.18 72.3329 1092.8 70.9151 L1092.8 63.2184 Q1096.93 65.3654 1100.94 66.4591 Q1104.95 67.5124 1108.88 67.5124 Q1114.15 67.5124 1116.98 65.73 Q1119.82 63.9071 1119.82 60.6258 Q1119.82 57.5877 1117.75 55.9673 Q1115.73 54.3469 1108.8 52.8481 L1106.21 52.2405 Q1099.28 50.7821 1096.2 47.7845 Q1093.12 44.7463 1093.12 39.4801 Q1093.12 33.0797 1097.66 29.5959 Q1102.2 26.1121 1110.54 26.1121 Q1114.67 26.1121 1118.32 26.7198 Q1121.97 27.3274 1125.05 28.5427 Z\" fill=\"#000000\" fill-rule=\"evenodd\" fill-opacity=\"1\" /><path clip-path=\"url(#clip850)\" d=\"M 0 0 M1155.91 49.7694 Q1146.88 49.7694 1143.4 51.8354 Q1139.91 53.9013 1139.91 58.8839 Q1139.91 62.8538 1142.5 65.2034 Q1145.14 67.5124 1149.63 67.5124 Q1155.83 67.5124 1159.56 63.1374 Q1163.33 58.7219 1163.33 51.4303 L1163.33 49.7694 L1155.91 49.7694 M1170.78 46.6907 L1170.78 72.576 L1163.33 72.576 L1163.33 65.6895 Q1160.77 69.8214 1156.97 71.8063 Q1153.16 73.7508 1147.65 73.7508 Q1140.68 73.7508 1136.55 69.8619 Q1132.46 65.9325 1132.46 59.3701 Q1132.46 51.7138 1137.56 47.825 Q1142.71 43.9361 1152.87 43.9361 L1163.33 43.9361 L1163.33 43.2069 Q1163.33 38.0623 1159.92 35.2672 Q1156.56 32.4315 1150.44 32.4315 Q1146.56 32.4315 1142.87 33.3632 Q1139.18 34.295 1135.78 36.1584 L1135.78 29.2718 Q1139.87 27.692 1143.72 26.9223 Q1147.57 26.1121 1151.21 26.1121 Q1161.06 26.1121 1165.92 31.2163 Q1170.78 36.3204 1170.78 46.6907 Z\" fill=\"#000000\" fill-rule=\"evenodd\" fill-opacity=\"1\" /><path clip-path=\"url(#clip850)\" d=\"M 0 0 M1213.92 35.9153 Q1216.72 30.8922 1220.61 28.5022 Q1224.49 26.1121 1229.76 26.1121 Q1236.85 26.1121 1240.7 31.0947 Q1244.55 36.0368 1244.55 45.1919 L1244.55 72.576 L1237.05 72.576 L1237.05 45.4349 Q1237.05 38.913 1234.74 35.7533 Q1232.43 32.5936 1227.7 32.5936 Q1221.9 32.5936 1218.54 36.4419 Q1215.18 40.2903 1215.18 46.9338 L1215.18 72.576 L1207.68 72.576 L1207.68 45.4349 Q1207.68 38.8725 1205.37 35.7533 Q1203.07 32.5936 1198.25 32.5936 Q1192.53 32.5936 1189.17 36.4824 Q1185.81 40.3308 1185.81 46.9338 L1185.81 72.576 L1178.31 72.576 L1178.31 27.2059 L1185.81 27.2059 L1185.81 34.2544 Q1188.36 30.082 1191.93 28.0971 Q1195.49 26.1121 1200.39 26.1121 Q1205.33 26.1121 1208.78 28.6237 Q1212.26 31.1352 1213.92 35.9153 Z\" fill=\"#000000\" fill-rule=\"evenodd\" fill-opacity=\"1\" /><path clip-path=\"url(#clip850)\" d=\"M 0 0 M1259.58 65.7705 L1259.58 89.8329 L1252.08 89.8329 L1252.08 27.2059 L1259.58 27.2059 L1259.58 34.0924 Q1261.93 30.0415 1265.49 28.0971 Q1269.1 26.1121 1274.08 26.1121 Q1282.34 26.1121 1287.49 32.6746 Q1292.67 39.2371 1292.67 49.9314 Q1292.67 60.6258 1287.49 67.1883 Q1282.34 73.7508 1274.08 73.7508 Q1269.1 73.7508 1265.49 71.8063 Q1261.93 69.8214 1259.58 65.7705 M1284.93 49.9314 Q1284.93 41.7081 1281.53 37.0496 Q1278.17 32.3505 1272.26 32.3505 Q1266.34 32.3505 1262.94 37.0496 Q1259.58 41.7081 1259.58 49.9314 Q1259.58 58.1548 1262.94 62.8538 Q1266.34 67.5124 1272.26 67.5124 Q1278.17 67.5124 1281.53 62.8538 Q1284.93 58.1548 1284.93 49.9314 Z\" fill=\"#000000\" fill-rule=\"evenodd\" fill-opacity=\"1\" /><path clip-path=\"url(#clip850)\" d=\"M 0 0 M1300.49 9.54393 L1307.94 9.54393 L1307.94 72.576 L1300.49 72.576 L1300.49 9.54393 Z\" fill=\"#000000\" fill-rule=\"evenodd\" fill-opacity=\"1\" /><path clip-path=\"url(#clip850)\" d=\"M 0 0 M1354.57 48.0275 L1354.57 51.6733 L1320.3 51.6733 Q1320.78 59.3701 1324.92 63.421 Q1329.09 67.4314 1336.5 67.4314 Q1340.8 67.4314 1344.81 66.3781 Q1348.86 65.3249 1352.83 63.2184 L1352.83 70.267 Q1348.82 71.9684 1344.6 72.8596 Q1340.39 73.7508 1336.06 73.7508 Q1325.2 73.7508 1318.84 67.4314 Q1312.52 61.1119 1312.52 50.3365 Q1312.52 39.1965 1318.52 32.6746 Q1324.55 26.1121 1334.76 26.1121 Q1343.92 26.1121 1349.22 32.0264 Q1354.57 37.9003 1354.57 48.0275 M1347.12 45.84 Q1347.03 39.7232 1343.67 36.0774 Q1340.35 32.4315 1334.84 32.4315 Q1328.6 32.4315 1324.84 35.9558 Q1321.11 39.4801 1320.54 45.8805 L1347.12 45.84 Z\" fill=\"#000000\" fill-rule=\"evenodd\" fill-opacity=\"1\" /><path clip-path=\"url(#clip850)\" d=\"M 0 0 M1395.97 65.7705 L1395.97 89.8329 L1388.48 89.8329 L1388.48 27.2059 L1395.97 27.2059 L1395.97 34.0924 Q1398.32 30.0415 1401.88 28.0971 Q1405.49 26.1121 1410.47 26.1121 Q1418.74 26.1121 1423.88 32.6746 Q1429.07 39.2371 1429.07 49.9314 Q1429.07 60.6258 1423.88 67.1883 Q1418.74 73.7508 1410.47 73.7508 Q1405.49 73.7508 1401.88 71.8063 Q1398.32 69.8214 1395.97 65.7705 M1421.33 49.9314 Q1421.33 41.7081 1417.93 37.0496 Q1414.56 32.3505 1408.65 32.3505 Q1402.73 32.3505 1399.33 37.0496 Q1395.97 41.7081 1395.97 49.9314 Q1395.97 58.1548 1399.33 62.8538 Q1402.73 67.5124 1408.65 67.5124 Q1414.56 67.5124 1417.93 62.8538 Q1421.33 58.1548 1421.33 49.9314 Z\" fill=\"#000000\" fill-rule=\"evenodd\" fill-opacity=\"1\" /><path clip-path=\"url(#clip850)\" d=\"M 0 0 M1436.88 9.54393 L1444.34 9.54393 L1444.34 72.576 L1436.88 72.576 L1436.88 9.54393 Z\" fill=\"#000000\" fill-rule=\"evenodd\" fill-opacity=\"1\" /><path clip-path=\"url(#clip850)\" d=\"M 0 0 M1469.74 32.4315 Q1463.74 32.4315 1460.26 37.1306 Q1456.77 41.7891 1456.77 49.9314 Q1456.77 58.0738 1460.22 62.7728 Q1463.7 67.4314 1469.74 67.4314 Q1475.69 67.4314 1479.18 62.7323 Q1482.66 58.0333 1482.66 49.9314 Q1482.66 41.8701 1479.18 37.1711 Q1475.69 32.4315 1469.74 32.4315 M1469.74 26.1121 Q1479.46 26.1121 1485.01 32.4315 Q1490.56 38.7509 1490.56 49.9314 Q1490.56 61.0714 1485.01 67.4314 Q1479.46 73.7508 1469.74 73.7508 Q1459.97 73.7508 1454.42 67.4314 Q1448.92 61.0714 1448.92 49.9314 Q1448.92 38.7509 1454.42 32.4315 Q1459.97 26.1121 1469.74 26.1121 Z\" fill=\"#000000\" fill-rule=\"evenodd\" fill-opacity=\"1\" /><path clip-path=\"url(#clip850)\" d=\"M 0 0 M1505.75 14.324 L1505.75 27.2059 L1521.1 27.2059 L1521.1 32.9987 L1505.75 32.9987 L1505.75 57.6282 Q1505.75 63.1779 1507.25 64.7578 Q1508.79 66.3376 1513.45 66.3376 L1521.1 66.3376 L1521.1 72.576 L1513.45 72.576 Q1504.82 72.576 1501.54 69.3758 Q1498.26 66.1351 1498.26 57.6282 L1498.26 32.9987 L1492.79 32.9987 L1492.79 27.2059 L1498.26 27.2059 L1498.26 14.324 L1505.75 14.324 Z\" fill=\"#000000\" fill-rule=\"evenodd\" fill-opacity=\"1\" /><circle clip-path=\"url(#clip852)\" cx=\"236.501\" cy=\"276.466\" r=\"14\" fill=\"#009af9\" fill-rule=\"evenodd\" fill-opacity=\"1\" stroke=\"#000000\" stroke-opacity=\"1\" stroke-width=\"3.2\"/>\n",
       "<circle clip-path=\"url(#clip852)\" cx=\"237.869\" cy=\"318.701\" r=\"14\" fill=\"#009af9\" fill-rule=\"evenodd\" fill-opacity=\"1\" stroke=\"#000000\" stroke-opacity=\"1\" stroke-width=\"3.2\"/>\n",
       "<circle clip-path=\"url(#clip852)\" cx=\"297.046\" cy=\"831.888\" r=\"14\" fill=\"#009af9\" fill-rule=\"evenodd\" fill-opacity=\"1\" stroke=\"#000000\" stroke-opacity=\"1\" stroke-width=\"3.2\"/>\n",
       "<circle clip-path=\"url(#clip852)\" cx=\"345.797\" cy=\"663.248\" r=\"14\" fill=\"#009af9\" fill-rule=\"evenodd\" fill-opacity=\"1\" stroke=\"#000000\" stroke-opacity=\"1\" stroke-width=\"3.2\"/>\n",
       "<circle clip-path=\"url(#clip852)\" cx=\"386.214\" cy=\"381.387\" r=\"14\" fill=\"#009af9\" fill-rule=\"evenodd\" fill-opacity=\"1\" stroke=\"#000000\" stroke-opacity=\"1\" stroke-width=\"3.2\"/>\n",
       "<circle clip-path=\"url(#clip852)\" cx=\"573.013\" cy=\"1265.93\" r=\"14\" fill=\"#009af9\" fill-rule=\"evenodd\" fill-opacity=\"1\" stroke=\"#000000\" stroke-opacity=\"1\" stroke-width=\"3.2\"/>\n",
       "<circle clip-path=\"url(#clip852)\" cx=\"726.126\" cy=\"973.332\" r=\"14\" fill=\"#009af9\" fill-rule=\"evenodd\" fill-opacity=\"1\" stroke=\"#000000\" stroke-opacity=\"1\" stroke-width=\"3.2\"/>\n",
       "<circle clip-path=\"url(#clip852)\" cx=\"733.275\" cy=\"162.047\" r=\"14\" fill=\"#009af9\" fill-rule=\"evenodd\" fill-opacity=\"1\" stroke=\"#000000\" stroke-opacity=\"1\" stroke-width=\"3.2\"/>\n",
       "<circle clip-path=\"url(#clip852)\" cx=\"847.654\" cy=\"1317.94\" r=\"14\" fill=\"#009af9\" fill-rule=\"evenodd\" fill-opacity=\"1\" stroke=\"#000000\" stroke-opacity=\"1\" stroke-width=\"3.2\"/>\n",
       "<circle clip-path=\"url(#clip852)\" cx=\"861.576\" cy=\"1447.87\" r=\"14\" fill=\"#009af9\" fill-rule=\"evenodd\" fill-opacity=\"1\" stroke=\"#000000\" stroke-opacity=\"1\" stroke-width=\"3.2\"/>\n",
       "<circle clip-path=\"url(#clip852)\" cx=\"1036.52\" cy=\"794.179\" r=\"14\" fill=\"#009af9\" fill-rule=\"evenodd\" fill-opacity=\"1\" stroke=\"#000000\" stroke-opacity=\"1\" stroke-width=\"3.2\"/>\n",
       "<circle clip-path=\"url(#clip852)\" cx=\"1205.93\" cy=\"258.194\" r=\"14\" fill=\"#009af9\" fill-rule=\"evenodd\" fill-opacity=\"1\" stroke=\"#000000\" stroke-opacity=\"1\" stroke-width=\"3.2\"/>\n",
       "<circle clip-path=\"url(#clip852)\" cx=\"1371.14\" cy=\"967.351\" r=\"14\" fill=\"#009af9\" fill-rule=\"evenodd\" fill-opacity=\"1\" stroke=\"#000000\" stroke-opacity=\"1\" stroke-width=\"3.2\"/>\n",
       "<circle clip-path=\"url(#clip852)\" cx=\"1377.62\" cy=\"835.399\" r=\"14\" fill=\"#009af9\" fill-rule=\"evenodd\" fill-opacity=\"1\" stroke=\"#000000\" stroke-opacity=\"1\" stroke-width=\"3.2\"/>\n",
       "<circle clip-path=\"url(#clip852)\" cx=\"1656.24\" cy=\"259.776\" r=\"14\" fill=\"#009af9\" fill-rule=\"evenodd\" fill-opacity=\"1\" stroke=\"#000000\" stroke-opacity=\"1\" stroke-width=\"3.2\"/>\n",
       "<circle clip-path=\"url(#clip852)\" cx=\"1712.89\" cy=\"1308.7\" r=\"14\" fill=\"#009af9\" fill-rule=\"evenodd\" fill-opacity=\"1\" stroke=\"#000000\" stroke-opacity=\"1\" stroke-width=\"3.2\"/>\n",
       "<circle clip-path=\"url(#clip852)\" cx=\"1837.23\" cy=\"672.003\" r=\"14\" fill=\"#009af9\" fill-rule=\"evenodd\" fill-opacity=\"1\" stroke=\"#000000\" stroke-opacity=\"1\" stroke-width=\"3.2\"/>\n",
       "<circle clip-path=\"url(#clip852)\" cx=\"2136.4\" cy=\"751.676\" r=\"14\" fill=\"#009af9\" fill-rule=\"evenodd\" fill-opacity=\"1\" stroke=\"#000000\" stroke-opacity=\"1\" stroke-width=\"3.2\"/>\n",
       "<circle clip-path=\"url(#clip852)\" cx=\"2218.57\" cy=\"521.01\" r=\"14\" fill=\"#009af9\" fill-rule=\"evenodd\" fill-opacity=\"1\" stroke=\"#000000\" stroke-opacity=\"1\" stroke-width=\"3.2\"/>\n",
       "<circle clip-path=\"url(#clip852)\" cx=\"2291.12\" cy=\"380.773\" r=\"14\" fill=\"#009af9\" fill-rule=\"evenodd\" fill-opacity=\"1\" stroke=\"#000000\" stroke-opacity=\"1\" stroke-width=\"3.2\"/>\n",
       "<polyline clip-path=\"url(#clip852)\" style=\"stroke:#e26f46; stroke-width:4; stroke-opacity:1; fill:none\" points=\"\n",
       "  236.501,276.466 237.869,318.701 297.046,831.888 345.797,663.248 386.214,381.387 573.013,1265.93 726.126,973.332 733.275,162.047 847.654,1317.94 861.576,1447.87 \n",
       "  1036.52,794.179 1205.93,258.194 1371.14,967.351 1377.62,835.399 1656.24,259.776 1712.89,1308.7 1837.23,672.003 2136.4,751.676 2218.57,521.01 2291.12,380.773 \n",
       "  \n",
       "  \"/>\n",
       "<path clip-path=\"url(#clip850)\" d=\"\n",
       "M1989.74 388.432 L2280.76 388.432 L2280.76 206.992 L1989.74 206.992  Z\n",
       "  \" fill=\"#ffffff\" fill-rule=\"evenodd\" fill-opacity=\"1\"/>\n",
       "<polyline clip-path=\"url(#clip850)\" style=\"stroke:#000000; stroke-width:4; stroke-opacity:1; fill:none\" points=\"\n",
       "  1989.74,388.432 2280.76,388.432 2280.76,206.992 1989.74,206.992 1989.74,388.432 \n",
       "  \"/>\n",
       "<circle clip-path=\"url(#clip850)\" cx=\"2097.74\" cy=\"267.472\" r=\"23\" fill=\"#009af9\" fill-rule=\"evenodd\" fill-opacity=\"1\" stroke=\"#000000\" stroke-opacity=\"1\" stroke-width=\"5.12\"/>\n",
       "<path clip-path=\"url(#clip850)\" d=\"M 0 0 M2195.58 287.16 Q2193.77 291.789 2192.06 293.201 Q2190.35 294.613 2187.48 294.613 L2184.08 294.613 L2184.08 291.048 L2186.58 291.048 Q2188.33 291.048 2189.31 290.215 Q2190.28 289.382 2191.46 286.28 L2192.22 284.335 L2181.74 258.826 L2186.25 258.826 L2194.35 279.104 L2202.46 258.826 L2206.97 258.826 L2195.58 287.16 Z\" fill=\"#000000\" fill-rule=\"evenodd\" fill-opacity=\"1\" /><path clip-path=\"url(#clip850)\" d=\"M 0 0 M2212.85 280.817 L2220.49 280.817 L2220.49 254.451 L2212.18 256.118 L2212.18 251.859 L2220.44 250.192 L2225.12 250.192 L2225.12 280.817 L2232.76 280.817 L2232.76 284.752 L2212.85 284.752 L2212.85 280.817 Z\" fill=\"#000000\" fill-rule=\"evenodd\" fill-opacity=\"1\" /><polyline clip-path=\"url(#clip850)\" style=\"stroke:#e26f46; stroke-width:4; stroke-opacity:1; fill:none\" points=\"\n",
       "  2013.74,327.952 2157.74,327.952 \n",
       "  \"/>\n",
       "<path clip-path=\"url(#clip850)\" d=\"M 0 0 M2195.58 347.64 Q2193.77 352.269 2192.06 353.681 Q2190.35 355.093 2187.48 355.093 L2184.08 355.093 L2184.08 351.528 L2186.58 351.528 Q2188.33 351.528 2189.31 350.695 Q2190.28 349.862 2191.46 346.76 L2192.22 344.815 L2181.74 319.306 L2186.25 319.306 L2194.35 339.584 L2202.46 319.306 L2206.97 319.306 L2195.58 347.64 Z\" fill=\"#000000\" fill-rule=\"evenodd\" fill-opacity=\"1\" /><path clip-path=\"url(#clip850)\" d=\"M 0 0 M2216.07 341.297 L2232.39 341.297 L2232.39 345.232 L2210.44 345.232 L2210.44 341.297 Q2213.1 338.542 2217.69 333.913 Q2222.29 329.26 2223.47 327.917 Q2225.72 325.394 2226.6 323.658 Q2227.5 321.899 2227.5 320.209 Q2227.5 317.454 2225.56 315.718 Q2223.64 313.982 2220.53 313.982 Q2218.33 313.982 2215.88 314.746 Q2213.45 315.51 2210.67 317.061 L2210.67 312.339 Q2213.5 311.205 2215.95 310.626 Q2218.4 310.047 2220.44 310.047 Q2225.81 310.047 2229.01 312.732 Q2232.2 315.417 2232.2 319.908 Q2232.2 322.038 2231.39 323.959 Q2230.6 325.857 2228.5 328.45 Q2227.92 329.121 2224.82 332.339 Q2221.71 335.533 2216.07 341.297 Z\" fill=\"#000000\" fill-rule=\"evenodd\" fill-opacity=\"1\" /></svg>\n"
      ]
     },
     "execution_count": 29,
     "metadata": {},
     "output_type": "execute_result"
    }
   ],
   "source": [
    "plot!(x,y,title=\"A sample plot\")"
   ]
  },
  {
   "cell_type": "code",
   "execution_count": 30,
   "metadata": {},
   "outputs": [
    {
     "data": {
      "image/svg+xml": [
       "<?xml version=\"1.0\" encoding=\"utf-8\"?>\n",
       "<svg xmlns=\"http://www.w3.org/2000/svg\" xmlns:xlink=\"http://www.w3.org/1999/xlink\" width=\"600\" height=\"400\" viewBox=\"0 0 2400 1600\">\n",
       "<defs>\n",
       "  <clipPath id=\"clip890\">\n",
       "    <rect x=\"0\" y=\"0\" width=\"2400\" height=\"1600\"/>\n",
       "  </clipPath>\n",
       "</defs>\n",
       "<path clip-path=\"url(#clip890)\" d=\"\n",
       "M0 1600 L2400 1600 L2400 0 L0 0  Z\n",
       "  \" fill=\"#ffffff\" fill-rule=\"evenodd\" fill-opacity=\"1\"/>\n",
       "<defs>\n",
       "  <clipPath id=\"clip891\">\n",
       "    <rect x=\"480\" y=\"0\" width=\"1681\" height=\"1600\"/>\n",
       "  </clipPath>\n",
       "</defs>\n",
       "<path clip-path=\"url(#clip890)\" d=\"\n",
       "M162.455 1486.45 L2352.76 1486.45 L2352.76 47.2441 L162.455 47.2441  Z\n",
       "  \" fill=\"#ffffff\" fill-rule=\"evenodd\" fill-opacity=\"1\"/>\n",
       "<defs>\n",
       "  <clipPath id=\"clip892\">\n",
       "    <rect x=\"162\" y=\"47\" width=\"2191\" height=\"1440\"/>\n",
       "  </clipPath>\n",
       "</defs>\n",
       "<polyline clip-path=\"url(#clip892)\" style=\"stroke:#000000; stroke-width:2; stroke-opacity:0.1; fill:none\" points=\"\n",
       "  224.444,1486.45 224.444,47.2441 \n",
       "  \"/>\n",
       "<polyline clip-path=\"url(#clip892)\" style=\"stroke:#000000; stroke-width:2; stroke-opacity:0.1; fill:none\" points=\"\n",
       "  568.831,1486.45 568.831,47.2441 \n",
       "  \"/>\n",
       "<polyline clip-path=\"url(#clip892)\" style=\"stroke:#000000; stroke-width:2; stroke-opacity:0.1; fill:none\" points=\"\n",
       "  913.218,1486.45 913.218,47.2441 \n",
       "  \"/>\n",
       "<polyline clip-path=\"url(#clip892)\" style=\"stroke:#000000; stroke-width:2; stroke-opacity:0.1; fill:none\" points=\"\n",
       "  1257.61,1486.45 1257.61,47.2441 \n",
       "  \"/>\n",
       "<polyline clip-path=\"url(#clip892)\" style=\"stroke:#000000; stroke-width:2; stroke-opacity:0.1; fill:none\" points=\"\n",
       "  1601.99,1486.45 1601.99,47.2441 \n",
       "  \"/>\n",
       "<polyline clip-path=\"url(#clip892)\" style=\"stroke:#000000; stroke-width:2; stroke-opacity:0.1; fill:none\" points=\"\n",
       "  1946.38,1486.45 1946.38,47.2441 \n",
       "  \"/>\n",
       "<polyline clip-path=\"url(#clip892)\" style=\"stroke:#000000; stroke-width:2; stroke-opacity:0.1; fill:none\" points=\"\n",
       "  2290.77,1486.45 2290.77,47.2441 \n",
       "  \"/>\n",
       "<polyline clip-path=\"url(#clip892)\" style=\"stroke:#000000; stroke-width:2; stroke-opacity:0.1; fill:none\" points=\"\n",
       "  162.455,1445.72 2352.76,1445.72 \n",
       "  \"/>\n",
       "<polyline clip-path=\"url(#clip892)\" style=\"stroke:#000000; stroke-width:2; stroke-opacity:0.1; fill:none\" points=\"\n",
       "  162.455,1144 2352.76,1144 \n",
       "  \"/>\n",
       "<polyline clip-path=\"url(#clip892)\" style=\"stroke:#000000; stroke-width:2; stroke-opacity:0.1; fill:none\" points=\"\n",
       "  162.455,842.276 2352.76,842.276 \n",
       "  \"/>\n",
       "<polyline clip-path=\"url(#clip892)\" style=\"stroke:#000000; stroke-width:2; stroke-opacity:0.1; fill:none\" points=\"\n",
       "  162.455,540.556 2352.76,540.556 \n",
       "  \"/>\n",
       "<polyline clip-path=\"url(#clip892)\" style=\"stroke:#000000; stroke-width:2; stroke-opacity:0.1; fill:none\" points=\"\n",
       "  162.455,238.836 2352.76,238.836 \n",
       "  \"/>\n",
       "<polyline clip-path=\"url(#clip890)\" style=\"stroke:#000000; stroke-width:4; stroke-opacity:1; fill:none\" points=\"\n",
       "  162.455,1486.45 2352.76,1486.45 \n",
       "  \"/>\n",
       "<polyline clip-path=\"url(#clip890)\" style=\"stroke:#000000; stroke-width:4; stroke-opacity:1; fill:none\" points=\"\n",
       "  162.455,1486.45 162.455,47.2441 \n",
       "  \"/>\n",
       "<polyline clip-path=\"url(#clip890)\" style=\"stroke:#000000; stroke-width:4; stroke-opacity:1; fill:none\" points=\"\n",
       "  224.444,1486.45 224.444,1469.18 \n",
       "  \"/>\n",
       "<polyline clip-path=\"url(#clip890)\" style=\"stroke:#000000; stroke-width:4; stroke-opacity:1; fill:none\" points=\"\n",
       "  568.831,1486.45 568.831,1469.18 \n",
       "  \"/>\n",
       "<polyline clip-path=\"url(#clip890)\" style=\"stroke:#000000; stroke-width:4; stroke-opacity:1; fill:none\" points=\"\n",
       "  913.218,1486.45 913.218,1469.18 \n",
       "  \"/>\n",
       "<polyline clip-path=\"url(#clip890)\" style=\"stroke:#000000; stroke-width:4; stroke-opacity:1; fill:none\" points=\"\n",
       "  1257.61,1486.45 1257.61,1469.18 \n",
       "  \"/>\n",
       "<polyline clip-path=\"url(#clip890)\" style=\"stroke:#000000; stroke-width:4; stroke-opacity:1; fill:none\" points=\"\n",
       "  1601.99,1486.45 1601.99,1469.18 \n",
       "  \"/>\n",
       "<polyline clip-path=\"url(#clip890)\" style=\"stroke:#000000; stroke-width:4; stroke-opacity:1; fill:none\" points=\"\n",
       "  1946.38,1486.45 1946.38,1469.18 \n",
       "  \"/>\n",
       "<polyline clip-path=\"url(#clip890)\" style=\"stroke:#000000; stroke-width:4; stroke-opacity:1; fill:none\" points=\"\n",
       "  2290.77,1486.45 2290.77,1469.18 \n",
       "  \"/>\n",
       "<polyline clip-path=\"url(#clip890)\" style=\"stroke:#000000; stroke-width:4; stroke-opacity:1; fill:none\" points=\"\n",
       "  162.455,1445.72 188.738,1445.72 \n",
       "  \"/>\n",
       "<polyline clip-path=\"url(#clip890)\" style=\"stroke:#000000; stroke-width:4; stroke-opacity:1; fill:none\" points=\"\n",
       "  162.455,1144 188.738,1144 \n",
       "  \"/>\n",
       "<polyline clip-path=\"url(#clip890)\" style=\"stroke:#000000; stroke-width:4; stroke-opacity:1; fill:none\" points=\"\n",
       "  162.455,842.276 188.738,842.276 \n",
       "  \"/>\n",
       "<polyline clip-path=\"url(#clip890)\" style=\"stroke:#000000; stroke-width:4; stroke-opacity:1; fill:none\" points=\"\n",
       "  162.455,540.556 188.738,540.556 \n",
       "  \"/>\n",
       "<polyline clip-path=\"url(#clip890)\" style=\"stroke:#000000; stroke-width:4; stroke-opacity:1; fill:none\" points=\"\n",
       "  162.455,238.836 188.738,238.836 \n",
       "  \"/>\n",
       "<path clip-path=\"url(#clip890)\" d=\"M 0 0 M214.826 1535.98 L222.465 1535.98 L222.465 1509.62 L214.155 1511.29 L214.155 1507.03 L222.419 1505.36 L227.095 1505.36 L227.095 1535.98 L234.734 1535.98 L234.734 1539.92 L214.826 1539.92 L214.826 1535.98 Z\" fill=\"#000000\" fill-rule=\"evenodd\" fill-opacity=\"1\" /><path clip-path=\"url(#clip890)\" d=\"M 0 0 M563.484 1535.98 L579.803 1535.98 L579.803 1539.92 L557.859 1539.92 L557.859 1535.98 Q560.521 1533.23 565.104 1528.6 Q569.711 1523.95 570.892 1522.61 Q573.137 1520.08 574.016 1518.35 Q574.919 1516.59 574.919 1514.9 Q574.919 1512.14 572.975 1510.41 Q571.054 1508.67 567.952 1508.67 Q565.753 1508.67 563.299 1509.43 Q560.868 1510.2 558.091 1511.75 L558.091 1507.03 Q560.915 1505.89 563.368 1505.31 Q565.822 1504.73 567.859 1504.73 Q573.229 1504.73 576.424 1507.42 Q579.618 1510.11 579.618 1514.6 Q579.618 1516.73 578.808 1518.65 Q578.021 1520.54 575.915 1523.14 Q575.336 1523.81 572.234 1527.03 Q569.132 1530.22 563.484 1535.98 Z\" fill=\"#000000\" fill-rule=\"evenodd\" fill-opacity=\"1\" /><path clip-path=\"url(#clip890)\" d=\"M 0 0 M917.466 1521.29 Q920.822 1522 922.697 1524.27 Q924.596 1526.54 924.596 1529.87 Q924.596 1534.99 921.077 1537.79 Q917.559 1540.59 911.077 1540.59 Q908.901 1540.59 906.586 1540.15 Q904.295 1539.73 901.841 1538.88 L901.841 1534.36 Q903.785 1535.5 906.1 1536.08 Q908.415 1536.66 910.938 1536.66 Q915.336 1536.66 917.628 1534.92 Q919.943 1533.18 919.943 1529.87 Q919.943 1526.82 917.79 1525.11 Q915.66 1523.37 911.841 1523.37 L907.813 1523.37 L907.813 1519.53 L912.026 1519.53 Q915.475 1519.53 917.304 1518.16 Q919.133 1516.77 919.133 1514.18 Q919.133 1511.52 917.234 1510.11 Q915.36 1508.67 911.841 1508.67 Q909.92 1508.67 907.721 1509.09 Q905.522 1509.5 902.883 1510.38 L902.883 1506.22 Q905.545 1505.48 907.86 1505.11 Q910.197 1504.73 912.258 1504.73 Q917.582 1504.73 920.684 1507.17 Q923.785 1509.57 923.785 1513.69 Q923.785 1516.56 922.142 1518.55 Q920.498 1520.52 917.466 1521.29 Z\" fill=\"#000000\" fill-rule=\"evenodd\" fill-opacity=\"1\" /><path clip-path=\"url(#clip890)\" d=\"M 0 0 M1260.61 1509.43 L1248.81 1527.88 L1260.61 1527.88 L1260.61 1509.43 M1259.39 1505.36 L1265.27 1505.36 L1265.27 1527.88 L1270.2 1527.88 L1270.2 1531.77 L1265.27 1531.77 L1265.27 1539.92 L1260.61 1539.92 L1260.61 1531.77 L1245.01 1531.77 L1245.01 1527.26 L1259.39 1505.36 Z\" fill=\"#000000\" fill-rule=\"evenodd\" fill-opacity=\"1\" /><path clip-path=\"url(#clip890)\" d=\"M 0 0 M1592.27 1505.36 L1610.63 1505.36 L1610.63 1509.3 L1596.55 1509.3 L1596.55 1517.77 Q1597.57 1517.42 1598.59 1517.26 Q1599.61 1517.07 1600.63 1517.07 Q1606.41 1517.07 1609.79 1520.24 Q1613.17 1523.42 1613.17 1528.83 Q1613.17 1534.41 1609.7 1537.51 Q1606.23 1540.59 1599.91 1540.59 Q1597.73 1540.59 1595.46 1540.22 Q1593.22 1539.85 1590.81 1539.11 L1590.81 1534.41 Q1592.9 1535.54 1595.12 1536.1 Q1597.34 1536.66 1599.82 1536.66 Q1603.82 1536.66 1606.16 1534.55 Q1608.5 1532.44 1608.5 1528.83 Q1608.5 1525.22 1606.16 1523.11 Q1603.82 1521.01 1599.82 1521.01 Q1597.94 1521.01 1596.07 1521.42 Q1594.21 1521.84 1592.27 1522.72 L1592.27 1505.36 Z\" fill=\"#000000\" fill-rule=\"evenodd\" fill-opacity=\"1\" /><path clip-path=\"url(#clip890)\" d=\"M 0 0 M1946.78 1520.78 Q1943.64 1520.78 1941.78 1522.93 Q1939.96 1525.08 1939.96 1528.83 Q1939.96 1532.56 1941.78 1534.73 Q1943.64 1536.89 1946.78 1536.89 Q1949.93 1536.89 1951.76 1534.73 Q1953.61 1532.56 1953.61 1528.83 Q1953.61 1525.08 1951.76 1522.93 Q1949.93 1520.78 1946.78 1520.78 M1956.07 1506.12 L1956.07 1510.38 Q1954.31 1509.55 1952.5 1509.11 Q1950.72 1508.67 1948.96 1508.67 Q1944.33 1508.67 1941.88 1511.8 Q1939.45 1514.92 1939.1 1521.24 Q1940.46 1519.23 1942.53 1518.16 Q1944.59 1517.07 1947.06 1517.07 Q1952.27 1517.07 1955.28 1520.24 Q1958.31 1523.39 1958.31 1528.83 Q1958.31 1534.16 1955.16 1537.37 Q1952.02 1540.59 1946.78 1540.59 Q1940.79 1540.59 1937.62 1536.01 Q1934.45 1531.4 1934.45 1522.67 Q1934.45 1514.48 1938.34 1509.62 Q1942.22 1504.73 1948.78 1504.73 Q1950.53 1504.73 1952.32 1505.08 Q1954.12 1505.43 1956.07 1506.12 Z\" fill=\"#000000\" fill-rule=\"evenodd\" fill-opacity=\"1\" /><path clip-path=\"url(#clip890)\" d=\"M 0 0 M2279.66 1505.36 L2301.88 1505.36 L2301.88 1507.35 L2289.33 1539.92 L2284.45 1539.92 L2296.25 1509.3 L2279.66 1509.3 L2279.66 1505.36 Z\" fill=\"#000000\" fill-rule=\"evenodd\" fill-opacity=\"1\" /><path clip-path=\"url(#clip890)\" d=\"M 0 0 M63.594 1448.11 L76.0708 1448.11 L76.0708 1451.91 L63.594 1451.91 L63.594 1448.11 Z\" fill=\"#000000\" fill-rule=\"evenodd\" fill-opacity=\"1\" /><path clip-path=\"url(#clip890)\" d=\"M 0 0 M85.1679 1459.06 L101.487 1459.06 L101.487 1463 L79.543 1463 L79.543 1459.06 Q82.205 1456.31 86.7883 1451.68 Q91.3948 1447.02 92.5753 1445.68 Q94.8207 1443.16 95.7003 1441.42 Q96.6031 1439.66 96.6031 1437.97 Q96.6031 1435.22 94.6586 1433.48 Q92.7373 1431.75 89.6355 1431.75 Q87.4364 1431.75 84.9827 1432.51 Q82.5522 1433.27 79.7744 1434.82 L79.7744 1430.1 Q82.5985 1428.97 85.0522 1428.39 Q87.5059 1427.81 89.5429 1427.81 Q94.9133 1427.81 98.1077 1430.5 Q101.302 1433.18 101.302 1437.67 Q101.302 1439.8 100.492 1441.72 Q99.7049 1443.62 97.5984 1446.21 Q97.0197 1446.88 93.9179 1450.1 Q90.8161 1453.3 85.1679 1459.06 Z\" fill=\"#000000\" fill-rule=\"evenodd\" fill-opacity=\"1\" /><path clip-path=\"url(#clip890)\" d=\"M 0 0 M106.557 1457.12 L111.441 1457.12 L111.441 1463 L106.557 1463 L106.557 1457.12 Z\" fill=\"#000000\" fill-rule=\"evenodd\" fill-opacity=\"1\" /><path clip-path=\"url(#clip890)\" d=\"M 0 0 M126.51 1431.51 Q122.899 1431.51 121.071 1435.08 Q119.265 1438.62 119.265 1445.75 Q119.265 1452.86 121.071 1456.42 Q122.899 1459.96 126.51 1459.96 Q130.145 1459.96 131.95 1456.42 Q133.779 1452.86 133.779 1445.75 Q133.779 1438.62 131.95 1435.08 Q130.145 1431.51 126.51 1431.51 M126.51 1427.81 Q132.32 1427.81 135.376 1432.42 Q138.455 1437 138.455 1445.75 Q138.455 1454.48 135.376 1459.08 Q132.32 1463.67 126.51 1463.67 Q120.7 1463.67 117.621 1459.08 Q114.566 1454.48 114.566 1445.75 Q114.566 1437 117.621 1432.42 Q120.7 1427.81 126.51 1427.81 Z\" fill=\"#000000\" fill-rule=\"evenodd\" fill-opacity=\"1\" /><path clip-path=\"url(#clip890)\" d=\"M 0 0 M64.219 1146.39 L76.6958 1146.39 L76.6958 1150.19 L64.219 1150.19 L64.219 1146.39 Z\" fill=\"#000000\" fill-rule=\"evenodd\" fill-opacity=\"1\" /><path clip-path=\"url(#clip890)\" d=\"M 0 0 M82.5754 1157.34 L90.2142 1157.34 L90.2142 1130.98 L81.9041 1132.64 L81.9041 1128.38 L90.1679 1126.72 L94.8438 1126.72 L94.8438 1157.34 L102.483 1157.34 L102.483 1161.28 L82.5754 1161.28 L82.5754 1157.34 Z\" fill=\"#000000\" fill-rule=\"evenodd\" fill-opacity=\"1\" /><path clip-path=\"url(#clip890)\" d=\"M 0 0 M107.552 1155.4 L112.436 1155.4 L112.436 1161.28 L107.552 1161.28 L107.552 1155.4 Z\" fill=\"#000000\" fill-rule=\"evenodd\" fill-opacity=\"1\" /><path clip-path=\"url(#clip890)\" d=\"M 0 0 M117.552 1126.72 L135.908 1126.72 L135.908 1130.65 L121.834 1130.65 L121.834 1139.12 Q122.853 1138.78 123.871 1138.61 Q124.89 1138.43 125.908 1138.43 Q131.695 1138.43 135.075 1141.6 Q138.455 1144.77 138.455 1150.19 Q138.455 1155.77 134.982 1158.87 Q131.51 1161.95 125.191 1161.95 Q123.015 1161.95 120.746 1161.58 Q118.501 1161.21 116.094 1160.47 L116.094 1155.77 Q118.177 1156.9 120.399 1157.46 Q122.621 1158.01 125.098 1158.01 Q129.103 1158.01 131.441 1155.91 Q133.779 1153.8 133.779 1150.19 Q133.779 1146.58 131.441 1144.47 Q129.103 1142.36 125.098 1142.36 Q123.223 1142.36 121.348 1142.78 Q119.496 1143.2 117.552 1144.08 L117.552 1126.72 Z\" fill=\"#000000\" fill-rule=\"evenodd\" fill-opacity=\"1\" /><path clip-path=\"url(#clip890)\" d=\"M 0 0 M63.2236 844.672 L75.7004 844.672 L75.7004 848.468 L63.2236 848.468 L63.2236 844.672 Z\" fill=\"#000000\" fill-rule=\"evenodd\" fill-opacity=\"1\" /><path clip-path=\"url(#clip890)\" d=\"M 0 0 M81.58 855.621 L89.2188 855.621 L89.2188 829.255 L80.9087 830.922 L80.9087 826.663 L89.1725 824.996 L93.8484 824.996 L93.8484 855.621 L101.487 855.621 L101.487 859.556 L81.58 859.556 L81.58 855.621 Z\" fill=\"#000000\" fill-rule=\"evenodd\" fill-opacity=\"1\" /><path clip-path=\"url(#clip890)\" d=\"M 0 0 M106.557 853.676 L111.441 853.676 L111.441 859.556 L106.557 859.556 L106.557 853.676 Z\" fill=\"#000000\" fill-rule=\"evenodd\" fill-opacity=\"1\" /><path clip-path=\"url(#clip890)\" d=\"M 0 0 M126.51 828.075 Q122.899 828.075 121.071 831.639 Q119.265 835.181 119.265 842.311 Q119.265 849.417 121.071 852.982 Q122.899 856.524 126.51 856.524 Q130.145 856.524 131.95 852.982 Q133.779 849.417 133.779 842.311 Q133.779 835.181 131.95 831.639 Q130.145 828.075 126.51 828.075 M126.51 824.371 Q132.32 824.371 135.376 828.977 Q138.455 833.561 138.455 842.311 Q138.455 851.037 135.376 855.644 Q132.32 860.227 126.51 860.227 Q120.7 860.227 117.621 855.644 Q114.566 851.037 114.566 842.311 Q114.566 833.561 117.621 828.977 Q120.7 824.371 126.51 824.371 Z\" fill=\"#000000\" fill-rule=\"evenodd\" fill-opacity=\"1\" /><path clip-path=\"url(#clip890)\" d=\"M 0 0 M62.9921 542.952 L75.4689 542.952 L75.4689 546.748 L62.9921 546.748 L62.9921 542.952 Z\" fill=\"#000000\" fill-rule=\"evenodd\" fill-opacity=\"1\" /><path clip-path=\"url(#clip890)\" d=\"M 0 0 M90.5383 526.355 Q86.9272 526.355 85.0985 529.92 Q83.2929 533.461 83.2929 540.591 Q83.2929 547.697 85.0985 551.262 Q86.9272 554.804 90.5383 554.804 Q94.1725 554.804 95.9781 551.262 Q97.8068 547.697 97.8068 540.591 Q97.8068 533.461 95.9781 529.92 Q94.1725 526.355 90.5383 526.355 M90.5383 522.651 Q96.3484 522.651 99.404 527.258 Q102.483 531.841 102.483 540.591 Q102.483 549.318 99.404 553.924 Q96.3484 558.507 90.5383 558.507 Q84.7281 558.507 81.6494 553.924 Q78.5939 549.318 78.5939 540.591 Q78.5939 531.841 81.6494 527.258 Q84.7281 522.651 90.5383 522.651 Z\" fill=\"#000000\" fill-rule=\"evenodd\" fill-opacity=\"1\" /><path clip-path=\"url(#clip890)\" d=\"M 0 0 M107.552 551.956 L112.436 551.956 L112.436 557.836 L107.552 557.836 L107.552 551.956 Z\" fill=\"#000000\" fill-rule=\"evenodd\" fill-opacity=\"1\" /><path clip-path=\"url(#clip890)\" d=\"M 0 0 M117.552 523.276 L135.908 523.276 L135.908 527.211 L121.834 527.211 L121.834 535.683 Q122.853 535.336 123.871 535.174 Q124.89 534.989 125.908 534.989 Q131.695 534.989 135.075 538.16 Q138.455 541.332 138.455 546.748 Q138.455 552.327 134.982 555.429 Q131.51 558.507 125.191 558.507 Q123.015 558.507 120.746 558.137 Q118.501 557.767 116.094 557.026 L116.094 552.327 Q118.177 553.461 120.399 554.017 Q122.621 554.572 125.098 554.572 Q129.103 554.572 131.441 552.466 Q133.779 550.359 133.779 546.748 Q133.779 543.137 131.441 541.031 Q129.103 538.924 125.098 538.924 Q123.223 538.924 121.348 539.341 Q119.496 539.757 117.552 540.637 L117.552 523.276 Z\" fill=\"#000000\" fill-rule=\"evenodd\" fill-opacity=\"1\" /><path clip-path=\"url(#clip890)\" d=\"M 0 0 M89.5429 224.635 Q85.9318 224.635 84.1031 228.2 Q82.2976 231.741 82.2976 238.871 Q82.2976 245.977 84.1031 249.542 Q85.9318 253.084 89.5429 253.084 Q93.1771 253.084 94.9827 249.542 Q96.8114 245.977 96.8114 238.871 Q96.8114 231.741 94.9827 228.2 Q93.1771 224.635 89.5429 224.635 M89.5429 220.931 Q95.3531 220.931 98.4086 225.538 Q101.487 230.121 101.487 238.871 Q101.487 247.598 98.4086 252.204 Q95.3531 256.788 89.5429 256.788 Q83.7328 256.788 80.6541 252.204 Q77.5985 247.598 77.5985 238.871 Q77.5985 230.121 80.6541 225.538 Q83.7328 220.931 89.5429 220.931 Z\" fill=\"#000000\" fill-rule=\"evenodd\" fill-opacity=\"1\" /><path clip-path=\"url(#clip890)\" d=\"M 0 0 M106.557 250.237 L111.441 250.237 L111.441 256.116 L106.557 256.116 L106.557 250.237 Z\" fill=\"#000000\" fill-rule=\"evenodd\" fill-opacity=\"1\" /><path clip-path=\"url(#clip890)\" d=\"M 0 0 M126.51 224.635 Q122.899 224.635 121.071 228.2 Q119.265 231.741 119.265 238.871 Q119.265 245.977 121.071 249.542 Q122.899 253.084 126.51 253.084 Q130.145 253.084 131.95 249.542 Q133.779 245.977 133.779 238.871 Q133.779 231.741 131.95 228.2 Q130.145 224.635 126.51 224.635 M126.51 220.931 Q132.32 220.931 135.376 225.538 Q138.455 230.121 138.455 238.871 Q138.455 247.598 135.376 252.204 Q132.32 256.788 126.51 256.788 Q120.7 256.788 117.621 252.204 Q114.566 247.598 114.566 238.871 Q114.566 230.121 117.621 225.538 Q120.7 220.931 126.51 220.931 Z\" fill=\"#000000\" fill-rule=\"evenodd\" fill-opacity=\"1\" /><polyline clip-path=\"url(#clip892)\" style=\"stroke:#009af9; stroke-width:4; stroke-opacity:1; fill:none\" points=\"\n",
       "  224.444,87.9763 568.831,842.276 913.218,1294.86 1257.61,1445.72 1601.99,1294.86 1946.38,842.276 2290.77,87.9763 \n",
       "  \"/>\n",
       "<path clip-path=\"url(#clip890)\" d=\"\n",
       "M1989.74 251.724 L2280.76 251.724 L2280.76 130.764 L1989.74 130.764  Z\n",
       "  \" fill=\"#ffffff\" fill-rule=\"evenodd\" fill-opacity=\"1\"/>\n",
       "<polyline clip-path=\"url(#clip890)\" style=\"stroke:#000000; stroke-width:4; stroke-opacity:1; fill:none\" points=\"\n",
       "  1989.74,251.724 2280.76,251.724 2280.76,130.764 1989.74,130.764 1989.74,251.724 \n",
       "  \"/>\n",
       "<polyline clip-path=\"url(#clip890)\" style=\"stroke:#009af9; stroke-width:4; stroke-opacity:1; fill:none\" points=\"\n",
       "  2013.74,191.244 2157.74,191.244 \n",
       "  \"/>\n",
       "<path clip-path=\"url(#clip890)\" d=\"M 0 0 M2195.58 210.931 Q2193.77 215.561 2192.06 216.973 Q2190.35 218.385 2187.48 218.385 L2184.08 218.385 L2184.08 214.82 L2186.58 214.82 Q2188.33 214.82 2189.31 213.987 Q2190.28 213.154 2191.46 210.052 L2192.22 208.107 L2181.74 182.598 L2186.25 182.598 L2194.35 202.876 L2202.46 182.598 L2206.97 182.598 L2195.58 210.931 Z\" fill=\"#000000\" fill-rule=\"evenodd\" fill-opacity=\"1\" /><path clip-path=\"url(#clip890)\" d=\"M 0 0 M2212.85 204.589 L2220.49 204.589 L2220.49 178.223 L2212.18 179.89 L2212.18 175.631 L2220.44 173.964 L2225.12 173.964 L2225.12 204.589 L2232.76 204.589 L2232.76 208.524 L2212.85 208.524 L2212.85 204.589 Z\" fill=\"#000000\" fill-rule=\"evenodd\" fill-opacity=\"1\" /></svg>\n"
      ]
     },
     "execution_count": 30,
     "metadata": {},
     "output_type": "execute_result"
    }
   ],
   "source": [
    "using Plots\n",
    "gr() # Use PyPlot as a GUI (may already be the default)\n",
    "\n",
    "x = collect(1:7)\n",
    "j(x) = 2 - 2x + x^2/4\n",
    "\n",
    "plot(x,j.(x))\n"
   ]
  },
  {
   "cell_type": "code",
   "execution_count": 31,
   "metadata": {},
   "outputs": [
    {
     "data": {
      "image/svg+xml": [
       "<?xml version=\"1.0\" encoding=\"utf-8\"?>\n",
       "<svg xmlns=\"http://www.w3.org/2000/svg\" xmlns:xlink=\"http://www.w3.org/1999/xlink\" width=\"600\" height=\"400\" viewBox=\"0 0 2400 1600\">\n",
       "<defs>\n",
       "  <clipPath id=\"clip930\">\n",
       "    <rect x=\"0\" y=\"0\" width=\"2400\" height=\"1600\"/>\n",
       "  </clipPath>\n",
       "</defs>\n",
       "<path clip-path=\"url(#clip930)\" d=\"\n",
       "M0 1600 L2400 1600 L2400 0 L0 0  Z\n",
       "  \" fill=\"#ffffff\" fill-rule=\"evenodd\" fill-opacity=\"1\"/>\n",
       "<defs>\n",
       "  <clipPath id=\"clip931\">\n",
       "    <rect x=\"480\" y=\"0\" width=\"1681\" height=\"1600\"/>\n",
       "  </clipPath>\n",
       "</defs>\n",
       "<path clip-path=\"url(#clip930)\" d=\"\n",
       "M162.455 1486.45 L2352.76 1486.45 L2352.76 47.2441 L162.455 47.2441  Z\n",
       "  \" fill=\"#ffffff\" fill-rule=\"evenodd\" fill-opacity=\"1\"/>\n",
       "<defs>\n",
       "  <clipPath id=\"clip932\">\n",
       "    <rect x=\"162\" y=\"47\" width=\"2191\" height=\"1440\"/>\n",
       "  </clipPath>\n",
       "</defs>\n",
       "<polyline clip-path=\"url(#clip932)\" style=\"stroke:#000000; stroke-width:2; stroke-opacity:0.1; fill:none\" points=\"\n",
       "  224.444,1486.45 224.444,47.2441 \n",
       "  \"/>\n",
       "<polyline clip-path=\"url(#clip932)\" style=\"stroke:#000000; stroke-width:2; stroke-opacity:0.1; fill:none\" points=\"\n",
       "  568.831,1486.45 568.831,47.2441 \n",
       "  \"/>\n",
       "<polyline clip-path=\"url(#clip932)\" style=\"stroke:#000000; stroke-width:2; stroke-opacity:0.1; fill:none\" points=\"\n",
       "  913.218,1486.45 913.218,47.2441 \n",
       "  \"/>\n",
       "<polyline clip-path=\"url(#clip932)\" style=\"stroke:#000000; stroke-width:2; stroke-opacity:0.1; fill:none\" points=\"\n",
       "  1257.61,1486.45 1257.61,47.2441 \n",
       "  \"/>\n",
       "<polyline clip-path=\"url(#clip932)\" style=\"stroke:#000000; stroke-width:2; stroke-opacity:0.1; fill:none\" points=\"\n",
       "  1601.99,1486.45 1601.99,47.2441 \n",
       "  \"/>\n",
       "<polyline clip-path=\"url(#clip932)\" style=\"stroke:#000000; stroke-width:2; stroke-opacity:0.1; fill:none\" points=\"\n",
       "  1946.38,1486.45 1946.38,47.2441 \n",
       "  \"/>\n",
       "<polyline clip-path=\"url(#clip932)\" style=\"stroke:#000000; stroke-width:2; stroke-opacity:0.1; fill:none\" points=\"\n",
       "  2290.77,1486.45 2290.77,47.2441 \n",
       "  \"/>\n",
       "<polyline clip-path=\"url(#clip932)\" style=\"stroke:#000000; stroke-width:2; stroke-opacity:0.1; fill:none\" points=\"\n",
       "  162.455,1445.72 2352.76,1445.72 \n",
       "  \"/>\n",
       "<polyline clip-path=\"url(#clip932)\" style=\"stroke:#000000; stroke-width:2; stroke-opacity:0.1; fill:none\" points=\"\n",
       "  162.455,1144 2352.76,1144 \n",
       "  \"/>\n",
       "<polyline clip-path=\"url(#clip932)\" style=\"stroke:#000000; stroke-width:2; stroke-opacity:0.1; fill:none\" points=\"\n",
       "  162.455,842.276 2352.76,842.276 \n",
       "  \"/>\n",
       "<polyline clip-path=\"url(#clip932)\" style=\"stroke:#000000; stroke-width:2; stroke-opacity:0.1; fill:none\" points=\"\n",
       "  162.455,540.556 2352.76,540.556 \n",
       "  \"/>\n",
       "<polyline clip-path=\"url(#clip932)\" style=\"stroke:#000000; stroke-width:2; stroke-opacity:0.1; fill:none\" points=\"\n",
       "  162.455,238.836 2352.76,238.836 \n",
       "  \"/>\n",
       "<polyline clip-path=\"url(#clip930)\" style=\"stroke:#000000; stroke-width:4; stroke-opacity:1; fill:none\" points=\"\n",
       "  162.455,1486.45 2352.76,1486.45 \n",
       "  \"/>\n",
       "<polyline clip-path=\"url(#clip930)\" style=\"stroke:#000000; stroke-width:4; stroke-opacity:1; fill:none\" points=\"\n",
       "  162.455,1486.45 162.455,47.2441 \n",
       "  \"/>\n",
       "<polyline clip-path=\"url(#clip930)\" style=\"stroke:#000000; stroke-width:4; stroke-opacity:1; fill:none\" points=\"\n",
       "  224.444,1486.45 224.444,1469.18 \n",
       "  \"/>\n",
       "<polyline clip-path=\"url(#clip930)\" style=\"stroke:#000000; stroke-width:4; stroke-opacity:1; fill:none\" points=\"\n",
       "  568.831,1486.45 568.831,1469.18 \n",
       "  \"/>\n",
       "<polyline clip-path=\"url(#clip930)\" style=\"stroke:#000000; stroke-width:4; stroke-opacity:1; fill:none\" points=\"\n",
       "  913.218,1486.45 913.218,1469.18 \n",
       "  \"/>\n",
       "<polyline clip-path=\"url(#clip930)\" style=\"stroke:#000000; stroke-width:4; stroke-opacity:1; fill:none\" points=\"\n",
       "  1257.61,1486.45 1257.61,1469.18 \n",
       "  \"/>\n",
       "<polyline clip-path=\"url(#clip930)\" style=\"stroke:#000000; stroke-width:4; stroke-opacity:1; fill:none\" points=\"\n",
       "  1601.99,1486.45 1601.99,1469.18 \n",
       "  \"/>\n",
       "<polyline clip-path=\"url(#clip930)\" style=\"stroke:#000000; stroke-width:4; stroke-opacity:1; fill:none\" points=\"\n",
       "  1946.38,1486.45 1946.38,1469.18 \n",
       "  \"/>\n",
       "<polyline clip-path=\"url(#clip930)\" style=\"stroke:#000000; stroke-width:4; stroke-opacity:1; fill:none\" points=\"\n",
       "  2290.77,1486.45 2290.77,1469.18 \n",
       "  \"/>\n",
       "<polyline clip-path=\"url(#clip930)\" style=\"stroke:#000000; stroke-width:4; stroke-opacity:1; fill:none\" points=\"\n",
       "  162.455,1445.72 188.738,1445.72 \n",
       "  \"/>\n",
       "<polyline clip-path=\"url(#clip930)\" style=\"stroke:#000000; stroke-width:4; stroke-opacity:1; fill:none\" points=\"\n",
       "  162.455,1144 188.738,1144 \n",
       "  \"/>\n",
       "<polyline clip-path=\"url(#clip930)\" style=\"stroke:#000000; stroke-width:4; stroke-opacity:1; fill:none\" points=\"\n",
       "  162.455,842.276 188.738,842.276 \n",
       "  \"/>\n",
       "<polyline clip-path=\"url(#clip930)\" style=\"stroke:#000000; stroke-width:4; stroke-opacity:1; fill:none\" points=\"\n",
       "  162.455,540.556 188.738,540.556 \n",
       "  \"/>\n",
       "<polyline clip-path=\"url(#clip930)\" style=\"stroke:#000000; stroke-width:4; stroke-opacity:1; fill:none\" points=\"\n",
       "  162.455,238.836 188.738,238.836 \n",
       "  \"/>\n",
       "<path clip-path=\"url(#clip930)\" d=\"M 0 0 M214.826 1535.98 L222.465 1535.98 L222.465 1509.62 L214.155 1511.29 L214.155 1507.03 L222.419 1505.36 L227.095 1505.36 L227.095 1535.98 L234.734 1535.98 L234.734 1539.92 L214.826 1539.92 L214.826 1535.98 Z\" fill=\"#000000\" fill-rule=\"evenodd\" fill-opacity=\"1\" /><path clip-path=\"url(#clip930)\" d=\"M 0 0 M563.484 1535.98 L579.803 1535.98 L579.803 1539.92 L557.859 1539.92 L557.859 1535.98 Q560.521 1533.23 565.104 1528.6 Q569.711 1523.95 570.892 1522.61 Q573.137 1520.08 574.016 1518.35 Q574.919 1516.59 574.919 1514.9 Q574.919 1512.14 572.975 1510.41 Q571.054 1508.67 567.952 1508.67 Q565.753 1508.67 563.299 1509.43 Q560.868 1510.2 558.091 1511.75 L558.091 1507.03 Q560.915 1505.89 563.368 1505.31 Q565.822 1504.73 567.859 1504.73 Q573.229 1504.73 576.424 1507.42 Q579.618 1510.11 579.618 1514.6 Q579.618 1516.73 578.808 1518.65 Q578.021 1520.54 575.915 1523.14 Q575.336 1523.81 572.234 1527.03 Q569.132 1530.22 563.484 1535.98 Z\" fill=\"#000000\" fill-rule=\"evenodd\" fill-opacity=\"1\" /><path clip-path=\"url(#clip930)\" d=\"M 0 0 M917.466 1521.29 Q920.822 1522 922.697 1524.27 Q924.596 1526.54 924.596 1529.87 Q924.596 1534.99 921.077 1537.79 Q917.559 1540.59 911.077 1540.59 Q908.901 1540.59 906.586 1540.15 Q904.295 1539.73 901.841 1538.88 L901.841 1534.36 Q903.785 1535.5 906.1 1536.08 Q908.415 1536.66 910.938 1536.66 Q915.336 1536.66 917.628 1534.92 Q919.943 1533.18 919.943 1529.87 Q919.943 1526.82 917.79 1525.11 Q915.66 1523.37 911.841 1523.37 L907.813 1523.37 L907.813 1519.53 L912.026 1519.53 Q915.475 1519.53 917.304 1518.16 Q919.133 1516.77 919.133 1514.18 Q919.133 1511.52 917.234 1510.11 Q915.36 1508.67 911.841 1508.67 Q909.92 1508.67 907.721 1509.09 Q905.522 1509.5 902.883 1510.38 L902.883 1506.22 Q905.545 1505.48 907.86 1505.11 Q910.197 1504.73 912.258 1504.73 Q917.582 1504.73 920.684 1507.17 Q923.785 1509.57 923.785 1513.69 Q923.785 1516.56 922.142 1518.55 Q920.498 1520.52 917.466 1521.29 Z\" fill=\"#000000\" fill-rule=\"evenodd\" fill-opacity=\"1\" /><path clip-path=\"url(#clip930)\" d=\"M 0 0 M1260.61 1509.43 L1248.81 1527.88 L1260.61 1527.88 L1260.61 1509.43 M1259.39 1505.36 L1265.27 1505.36 L1265.27 1527.88 L1270.2 1527.88 L1270.2 1531.77 L1265.27 1531.77 L1265.27 1539.92 L1260.61 1539.92 L1260.61 1531.77 L1245.01 1531.77 L1245.01 1527.26 L1259.39 1505.36 Z\" fill=\"#000000\" fill-rule=\"evenodd\" fill-opacity=\"1\" /><path clip-path=\"url(#clip930)\" d=\"M 0 0 M1592.27 1505.36 L1610.63 1505.36 L1610.63 1509.3 L1596.55 1509.3 L1596.55 1517.77 Q1597.57 1517.42 1598.59 1517.26 Q1599.61 1517.07 1600.63 1517.07 Q1606.41 1517.07 1609.79 1520.24 Q1613.17 1523.42 1613.17 1528.83 Q1613.17 1534.41 1609.7 1537.51 Q1606.23 1540.59 1599.91 1540.59 Q1597.73 1540.59 1595.46 1540.22 Q1593.22 1539.85 1590.81 1539.11 L1590.81 1534.41 Q1592.9 1535.54 1595.12 1536.1 Q1597.34 1536.66 1599.82 1536.66 Q1603.82 1536.66 1606.16 1534.55 Q1608.5 1532.44 1608.5 1528.83 Q1608.5 1525.22 1606.16 1523.11 Q1603.82 1521.01 1599.82 1521.01 Q1597.94 1521.01 1596.07 1521.42 Q1594.21 1521.84 1592.27 1522.72 L1592.27 1505.36 Z\" fill=\"#000000\" fill-rule=\"evenodd\" fill-opacity=\"1\" /><path clip-path=\"url(#clip930)\" d=\"M 0 0 M1946.78 1520.78 Q1943.64 1520.78 1941.78 1522.93 Q1939.96 1525.08 1939.96 1528.83 Q1939.96 1532.56 1941.78 1534.73 Q1943.64 1536.89 1946.78 1536.89 Q1949.93 1536.89 1951.76 1534.73 Q1953.61 1532.56 1953.61 1528.83 Q1953.61 1525.08 1951.76 1522.93 Q1949.93 1520.78 1946.78 1520.78 M1956.07 1506.12 L1956.07 1510.38 Q1954.31 1509.55 1952.5 1509.11 Q1950.72 1508.67 1948.96 1508.67 Q1944.33 1508.67 1941.88 1511.8 Q1939.45 1514.92 1939.1 1521.24 Q1940.46 1519.23 1942.53 1518.16 Q1944.59 1517.07 1947.06 1517.07 Q1952.27 1517.07 1955.28 1520.24 Q1958.31 1523.39 1958.31 1528.83 Q1958.31 1534.16 1955.16 1537.37 Q1952.02 1540.59 1946.78 1540.59 Q1940.79 1540.59 1937.62 1536.01 Q1934.45 1531.4 1934.45 1522.67 Q1934.45 1514.48 1938.34 1509.62 Q1942.22 1504.73 1948.78 1504.73 Q1950.53 1504.73 1952.32 1505.08 Q1954.12 1505.43 1956.07 1506.12 Z\" fill=\"#000000\" fill-rule=\"evenodd\" fill-opacity=\"1\" /><path clip-path=\"url(#clip930)\" d=\"M 0 0 M2279.66 1505.36 L2301.88 1505.36 L2301.88 1507.35 L2289.33 1539.92 L2284.45 1539.92 L2296.25 1509.3 L2279.66 1509.3 L2279.66 1505.36 Z\" fill=\"#000000\" fill-rule=\"evenodd\" fill-opacity=\"1\" /><path clip-path=\"url(#clip930)\" d=\"M 0 0 M63.594 1448.11 L76.0708 1448.11 L76.0708 1451.91 L63.594 1451.91 L63.594 1448.11 Z\" fill=\"#000000\" fill-rule=\"evenodd\" fill-opacity=\"1\" /><path clip-path=\"url(#clip930)\" d=\"M 0 0 M85.1679 1459.06 L101.487 1459.06 L101.487 1463 L79.543 1463 L79.543 1459.06 Q82.205 1456.31 86.7883 1451.68 Q91.3948 1447.02 92.5753 1445.68 Q94.8207 1443.16 95.7003 1441.42 Q96.6031 1439.66 96.6031 1437.97 Q96.6031 1435.22 94.6586 1433.48 Q92.7373 1431.75 89.6355 1431.75 Q87.4364 1431.75 84.9827 1432.51 Q82.5522 1433.27 79.7744 1434.82 L79.7744 1430.1 Q82.5985 1428.97 85.0522 1428.39 Q87.5059 1427.81 89.5429 1427.81 Q94.9133 1427.81 98.1077 1430.5 Q101.302 1433.18 101.302 1437.67 Q101.302 1439.8 100.492 1441.72 Q99.7049 1443.62 97.5984 1446.21 Q97.0197 1446.88 93.9179 1450.1 Q90.8161 1453.3 85.1679 1459.06 Z\" fill=\"#000000\" fill-rule=\"evenodd\" fill-opacity=\"1\" /><path clip-path=\"url(#clip930)\" d=\"M 0 0 M106.557 1457.12 L111.441 1457.12 L111.441 1463 L106.557 1463 L106.557 1457.12 Z\" fill=\"#000000\" fill-rule=\"evenodd\" fill-opacity=\"1\" /><path clip-path=\"url(#clip930)\" d=\"M 0 0 M126.51 1431.51 Q122.899 1431.51 121.071 1435.08 Q119.265 1438.62 119.265 1445.75 Q119.265 1452.86 121.071 1456.42 Q122.899 1459.96 126.51 1459.96 Q130.145 1459.96 131.95 1456.42 Q133.779 1452.86 133.779 1445.75 Q133.779 1438.62 131.95 1435.08 Q130.145 1431.51 126.51 1431.51 M126.51 1427.81 Q132.32 1427.81 135.376 1432.42 Q138.455 1437 138.455 1445.75 Q138.455 1454.48 135.376 1459.08 Q132.32 1463.67 126.51 1463.67 Q120.7 1463.67 117.621 1459.08 Q114.566 1454.48 114.566 1445.75 Q114.566 1437 117.621 1432.42 Q120.7 1427.81 126.51 1427.81 Z\" fill=\"#000000\" fill-rule=\"evenodd\" fill-opacity=\"1\" /><path clip-path=\"url(#clip930)\" d=\"M 0 0 M64.219 1146.39 L76.6958 1146.39 L76.6958 1150.19 L64.219 1150.19 L64.219 1146.39 Z\" fill=\"#000000\" fill-rule=\"evenodd\" fill-opacity=\"1\" /><path clip-path=\"url(#clip930)\" d=\"M 0 0 M82.5754 1157.34 L90.2142 1157.34 L90.2142 1130.98 L81.9041 1132.64 L81.9041 1128.38 L90.1679 1126.72 L94.8438 1126.72 L94.8438 1157.34 L102.483 1157.34 L102.483 1161.28 L82.5754 1161.28 L82.5754 1157.34 Z\" fill=\"#000000\" fill-rule=\"evenodd\" fill-opacity=\"1\" /><path clip-path=\"url(#clip930)\" d=\"M 0 0 M107.552 1155.4 L112.436 1155.4 L112.436 1161.28 L107.552 1161.28 L107.552 1155.4 Z\" fill=\"#000000\" fill-rule=\"evenodd\" fill-opacity=\"1\" /><path clip-path=\"url(#clip930)\" d=\"M 0 0 M117.552 1126.72 L135.908 1126.72 L135.908 1130.65 L121.834 1130.65 L121.834 1139.12 Q122.853 1138.78 123.871 1138.61 Q124.89 1138.43 125.908 1138.43 Q131.695 1138.43 135.075 1141.6 Q138.455 1144.77 138.455 1150.19 Q138.455 1155.77 134.982 1158.87 Q131.51 1161.95 125.191 1161.95 Q123.015 1161.95 120.746 1161.58 Q118.501 1161.21 116.094 1160.47 L116.094 1155.77 Q118.177 1156.9 120.399 1157.46 Q122.621 1158.01 125.098 1158.01 Q129.103 1158.01 131.441 1155.91 Q133.779 1153.8 133.779 1150.19 Q133.779 1146.58 131.441 1144.47 Q129.103 1142.36 125.098 1142.36 Q123.223 1142.36 121.348 1142.78 Q119.496 1143.2 117.552 1144.08 L117.552 1126.72 Z\" fill=\"#000000\" fill-rule=\"evenodd\" fill-opacity=\"1\" /><path clip-path=\"url(#clip930)\" d=\"M 0 0 M63.2236 844.672 L75.7004 844.672 L75.7004 848.468 L63.2236 848.468 L63.2236 844.672 Z\" fill=\"#000000\" fill-rule=\"evenodd\" fill-opacity=\"1\" /><path clip-path=\"url(#clip930)\" d=\"M 0 0 M81.58 855.621 L89.2188 855.621 L89.2188 829.255 L80.9087 830.922 L80.9087 826.663 L89.1725 824.996 L93.8484 824.996 L93.8484 855.621 L101.487 855.621 L101.487 859.556 L81.58 859.556 L81.58 855.621 Z\" fill=\"#000000\" fill-rule=\"evenodd\" fill-opacity=\"1\" /><path clip-path=\"url(#clip930)\" d=\"M 0 0 M106.557 853.676 L111.441 853.676 L111.441 859.556 L106.557 859.556 L106.557 853.676 Z\" fill=\"#000000\" fill-rule=\"evenodd\" fill-opacity=\"1\" /><path clip-path=\"url(#clip930)\" d=\"M 0 0 M126.51 828.075 Q122.899 828.075 121.071 831.639 Q119.265 835.181 119.265 842.311 Q119.265 849.417 121.071 852.982 Q122.899 856.524 126.51 856.524 Q130.145 856.524 131.95 852.982 Q133.779 849.417 133.779 842.311 Q133.779 835.181 131.95 831.639 Q130.145 828.075 126.51 828.075 M126.51 824.371 Q132.32 824.371 135.376 828.977 Q138.455 833.561 138.455 842.311 Q138.455 851.037 135.376 855.644 Q132.32 860.227 126.51 860.227 Q120.7 860.227 117.621 855.644 Q114.566 851.037 114.566 842.311 Q114.566 833.561 117.621 828.977 Q120.7 824.371 126.51 824.371 Z\" fill=\"#000000\" fill-rule=\"evenodd\" fill-opacity=\"1\" /><path clip-path=\"url(#clip930)\" d=\"M 0 0 M62.9921 542.952 L75.4689 542.952 L75.4689 546.748 L62.9921 546.748 L62.9921 542.952 Z\" fill=\"#000000\" fill-rule=\"evenodd\" fill-opacity=\"1\" /><path clip-path=\"url(#clip930)\" d=\"M 0 0 M90.5383 526.355 Q86.9272 526.355 85.0985 529.92 Q83.2929 533.461 83.2929 540.591 Q83.2929 547.697 85.0985 551.262 Q86.9272 554.804 90.5383 554.804 Q94.1725 554.804 95.9781 551.262 Q97.8068 547.697 97.8068 540.591 Q97.8068 533.461 95.9781 529.92 Q94.1725 526.355 90.5383 526.355 M90.5383 522.651 Q96.3484 522.651 99.404 527.258 Q102.483 531.841 102.483 540.591 Q102.483 549.318 99.404 553.924 Q96.3484 558.507 90.5383 558.507 Q84.7281 558.507 81.6494 553.924 Q78.5939 549.318 78.5939 540.591 Q78.5939 531.841 81.6494 527.258 Q84.7281 522.651 90.5383 522.651 Z\" fill=\"#000000\" fill-rule=\"evenodd\" fill-opacity=\"1\" /><path clip-path=\"url(#clip930)\" d=\"M 0 0 M107.552 551.956 L112.436 551.956 L112.436 557.836 L107.552 557.836 L107.552 551.956 Z\" fill=\"#000000\" fill-rule=\"evenodd\" fill-opacity=\"1\" /><path clip-path=\"url(#clip930)\" d=\"M 0 0 M117.552 523.276 L135.908 523.276 L135.908 527.211 L121.834 527.211 L121.834 535.683 Q122.853 535.336 123.871 535.174 Q124.89 534.989 125.908 534.989 Q131.695 534.989 135.075 538.16 Q138.455 541.332 138.455 546.748 Q138.455 552.327 134.982 555.429 Q131.51 558.507 125.191 558.507 Q123.015 558.507 120.746 558.137 Q118.501 557.767 116.094 557.026 L116.094 552.327 Q118.177 553.461 120.399 554.017 Q122.621 554.572 125.098 554.572 Q129.103 554.572 131.441 552.466 Q133.779 550.359 133.779 546.748 Q133.779 543.137 131.441 541.031 Q129.103 538.924 125.098 538.924 Q123.223 538.924 121.348 539.341 Q119.496 539.757 117.552 540.637 L117.552 523.276 Z\" fill=\"#000000\" fill-rule=\"evenodd\" fill-opacity=\"1\" /><path clip-path=\"url(#clip930)\" d=\"M 0 0 M89.5429 224.635 Q85.9318 224.635 84.1031 228.2 Q82.2976 231.741 82.2976 238.871 Q82.2976 245.977 84.1031 249.542 Q85.9318 253.084 89.5429 253.084 Q93.1771 253.084 94.9827 249.542 Q96.8114 245.977 96.8114 238.871 Q96.8114 231.741 94.9827 228.2 Q93.1771 224.635 89.5429 224.635 M89.5429 220.931 Q95.3531 220.931 98.4086 225.538 Q101.487 230.121 101.487 238.871 Q101.487 247.598 98.4086 252.204 Q95.3531 256.788 89.5429 256.788 Q83.7328 256.788 80.6541 252.204 Q77.5985 247.598 77.5985 238.871 Q77.5985 230.121 80.6541 225.538 Q83.7328 220.931 89.5429 220.931 Z\" fill=\"#000000\" fill-rule=\"evenodd\" fill-opacity=\"1\" /><path clip-path=\"url(#clip930)\" d=\"M 0 0 M106.557 250.237 L111.441 250.237 L111.441 256.116 L106.557 256.116 L106.557 250.237 Z\" fill=\"#000000\" fill-rule=\"evenodd\" fill-opacity=\"1\" /><path clip-path=\"url(#clip930)\" d=\"M 0 0 M126.51 224.635 Q122.899 224.635 121.071 228.2 Q119.265 231.741 119.265 238.871 Q119.265 245.977 121.071 249.542 Q122.899 253.084 126.51 253.084 Q130.145 253.084 131.95 249.542 Q133.779 245.977 133.779 238.871 Q133.779 231.741 131.95 228.2 Q130.145 224.635 126.51 224.635 M126.51 220.931 Q132.32 220.931 135.376 225.538 Q138.455 230.121 138.455 238.871 Q138.455 247.598 135.376 252.204 Q132.32 256.788 126.51 256.788 Q120.7 256.788 117.621 252.204 Q114.566 247.598 114.566 238.871 Q114.566 230.121 117.621 225.538 Q120.7 220.931 126.51 220.931 Z\" fill=\"#000000\" fill-rule=\"evenodd\" fill-opacity=\"1\" /><polyline clip-path=\"url(#clip932)\" style=\"stroke:#009af9; stroke-width:4; stroke-opacity:1; fill:none\" points=\"\n",
       "  224.444,87.9763 568.831,842.276 913.218,1294.86 1257.61,1445.72 1601.99,1294.86 1946.38,842.276 2290.77,87.9763 \n",
       "  \"/>\n",
       "<polyline clip-path=\"url(#clip932)\" style=\"stroke:#e26f46; stroke-width:8; stroke-opacity:1; fill:none\" points=\"\n",
       "  224.444,87.9763 568.831,842.276 913.218,1294.86 1257.61,1445.72 1601.99,1294.86 1946.38,842.276 2290.77,87.9763 \n",
       "  \"/>\n",
       "<path clip-path=\"url(#clip932)\" d=\"M224.444 71.9763 L208.444 87.9763 L224.444 103.976 L240.444 87.9763 L224.444 71.9763 Z\" fill=\"#e26f46\" fill-rule=\"evenodd\" fill-opacity=\"1\" stroke=\"#000000\" stroke-opacity=\"1\" stroke-width=\"3.2\"/>\n",
       "<path clip-path=\"url(#clip932)\" d=\"M568.831 826.276 L552.831 842.276 L568.831 858.276 L584.831 842.276 L568.831 826.276 Z\" fill=\"#e26f46\" fill-rule=\"evenodd\" fill-opacity=\"1\" stroke=\"#000000\" stroke-opacity=\"1\" stroke-width=\"3.2\"/>\n",
       "<path clip-path=\"url(#clip932)\" d=\"M913.218 1278.86 L897.218 1294.86 L913.218 1310.86 L929.218 1294.86 L913.218 1278.86 Z\" fill=\"#e26f46\" fill-rule=\"evenodd\" fill-opacity=\"1\" stroke=\"#000000\" stroke-opacity=\"1\" stroke-width=\"3.2\"/>\n",
       "<path clip-path=\"url(#clip932)\" d=\"M1257.61 1429.72 L1241.61 1445.72 L1257.61 1461.72 L1273.61 1445.72 L1257.61 1429.72 Z\" fill=\"#e26f46\" fill-rule=\"evenodd\" fill-opacity=\"1\" stroke=\"#000000\" stroke-opacity=\"1\" stroke-width=\"3.2\"/>\n",
       "<path clip-path=\"url(#clip932)\" d=\"M1601.99 1278.86 L1585.99 1294.86 L1601.99 1310.86 L1617.99 1294.86 L1601.99 1278.86 Z\" fill=\"#e26f46\" fill-rule=\"evenodd\" fill-opacity=\"1\" stroke=\"#000000\" stroke-opacity=\"1\" stroke-width=\"3.2\"/>\n",
       "<path clip-path=\"url(#clip932)\" d=\"M1946.38 826.276 L1930.38 842.276 L1946.38 858.276 L1962.38 842.276 L1946.38 826.276 Z\" fill=\"#e26f46\" fill-rule=\"evenodd\" fill-opacity=\"1\" stroke=\"#000000\" stroke-opacity=\"1\" stroke-width=\"3.2\"/>\n",
       "<path clip-path=\"url(#clip932)\" d=\"M2290.77 71.9763 L2274.77 87.9763 L2290.77 103.976 L2306.77 87.9763 L2290.77 71.9763 Z\" fill=\"#e26f46\" fill-rule=\"evenodd\" fill-opacity=\"1\" stroke=\"#000000\" stroke-opacity=\"1\" stroke-width=\"3.2\"/>\n",
       "<path clip-path=\"url(#clip930)\" d=\"\n",
       "M1989.74 312.204 L2280.76 312.204 L2280.76 130.764 L1989.74 130.764  Z\n",
       "  \" fill=\"#ffffff\" fill-rule=\"evenodd\" fill-opacity=\"1\"/>\n",
       "<polyline clip-path=\"url(#clip930)\" style=\"stroke:#000000; stroke-width:4; stroke-opacity:1; fill:none\" points=\"\n",
       "  1989.74,312.204 2280.76,312.204 2280.76,130.764 1989.74,130.764 1989.74,312.204 \n",
       "  \"/>\n",
       "<polyline clip-path=\"url(#clip930)\" style=\"stroke:#009af9; stroke-width:4; stroke-opacity:1; fill:none\" points=\"\n",
       "  2013.74,191.244 2157.74,191.244 \n",
       "  \"/>\n",
       "<path clip-path=\"url(#clip930)\" d=\"M 0 0 M2195.58 210.931 Q2193.77 215.561 2192.06 216.973 Q2190.35 218.385 2187.48 218.385 L2184.08 218.385 L2184.08 214.82 L2186.58 214.82 Q2188.33 214.82 2189.31 213.987 Q2190.28 213.154 2191.46 210.052 L2192.22 208.107 L2181.74 182.598 L2186.25 182.598 L2194.35 202.876 L2202.46 182.598 L2206.97 182.598 L2195.58 210.931 Z\" fill=\"#000000\" fill-rule=\"evenodd\" fill-opacity=\"1\" /><path clip-path=\"url(#clip930)\" d=\"M 0 0 M2212.85 204.589 L2220.49 204.589 L2220.49 178.223 L2212.18 179.89 L2212.18 175.631 L2220.44 173.964 L2225.12 173.964 L2225.12 204.589 L2232.76 204.589 L2232.76 208.524 L2212.85 208.524 L2212.85 204.589 Z\" fill=\"#000000\" fill-rule=\"evenodd\" fill-opacity=\"1\" /><polyline clip-path=\"url(#clip930)\" style=\"stroke:#e26f46; stroke-width:4; stroke-opacity:1; fill:none\" points=\"\n",
       "  2013.74,251.724 2157.74,251.724 \n",
       "  \"/>\n",
       "<path clip-path=\"url(#clip930)\" d=\"M2097.74 226.124 L2072.14 251.724 L2097.74 277.324 L2123.34 251.724 L2097.74 226.124 Z\" fill=\"#e26f46\" fill-rule=\"evenodd\" fill-opacity=\"1\" stroke=\"#000000\" stroke-opacity=\"1\" stroke-width=\"5.12\"/>\n",
       "<path clip-path=\"url(#clip930)\" d=\"M 0 0 M2195.58 271.411 Q2193.77 276.041 2192.06 277.453 Q2190.35 278.865 2187.48 278.865 L2184.08 278.865 L2184.08 275.3 L2186.58 275.3 Q2188.33 275.3 2189.31 274.467 Q2190.28 273.634 2191.46 270.532 L2192.22 268.587 L2181.74 243.078 L2186.25 243.078 L2194.35 263.356 L2202.46 243.078 L2206.97 243.078 L2195.58 271.411 Z\" fill=\"#000000\" fill-rule=\"evenodd\" fill-opacity=\"1\" /><path clip-path=\"url(#clip930)\" d=\"M 0 0 M2216.07 265.069 L2232.39 265.069 L2232.39 269.004 L2210.44 269.004 L2210.44 265.069 Q2213.1 262.314 2217.69 257.685 Q2222.29 253.032 2223.47 251.689 Q2225.72 249.166 2226.6 247.43 Q2227.5 245.671 2227.5 243.981 Q2227.5 241.226 2225.56 239.49 Q2223.64 237.754 2220.53 237.754 Q2218.33 237.754 2215.88 238.518 Q2213.45 239.282 2210.67 240.833 L2210.67 236.111 Q2213.5 234.976 2215.95 234.398 Q2218.4 233.819 2220.44 233.819 Q2225.81 233.819 2229.01 236.504 Q2232.2 239.189 2232.2 243.68 Q2232.2 245.81 2231.39 247.731 Q2230.6 249.629 2228.5 252.222 Q2227.92 252.893 2224.82 256.111 Q2221.71 259.305 2216.07 265.069 Z\" fill=\"#000000\" fill-rule=\"evenodd\" fill-opacity=\"1\" /></svg>\n"
      ]
     },
     "execution_count": 31,
     "metadata": {},
     "output_type": "execute_result"
    }
   ],
   "source": [
    "plot!(x, j.(x), marker = :diamond, linewidth=2)\n"
   ]
  },
  {
   "cell_type": "code",
   "execution_count": 32,
   "metadata": {},
   "outputs": [
    {
     "data": {
      "image/svg+xml": [
       "<?xml version=\"1.0\" encoding=\"utf-8\"?>\n",
       "<svg xmlns=\"http://www.w3.org/2000/svg\" xmlns:xlink=\"http://www.w3.org/1999/xlink\" width=\"600\" height=\"400\" viewBox=\"0 0 2400 1600\">\n",
       "<defs>\n",
       "  <clipPath id=\"clip970\">\n",
       "    <rect x=\"0\" y=\"0\" width=\"2400\" height=\"1600\"/>\n",
       "  </clipPath>\n",
       "</defs>\n",
       "<path clip-path=\"url(#clip970)\" d=\"\n",
       "M0 1600 L2400 1600 L2400 0 L0 0  Z\n",
       "  \" fill=\"#ffffff\" fill-rule=\"evenodd\" fill-opacity=\"1\"/>\n",
       "<defs>\n",
       "  <clipPath id=\"clip971\">\n",
       "    <rect x=\"480\" y=\"0\" width=\"1681\" height=\"1600\"/>\n",
       "  </clipPath>\n",
       "</defs>\n",
       "<path clip-path=\"url(#clip970)\" d=\"\n",
       "M162.455 1486.45 L2352.76 1486.45 L2352.76 123.472 L162.455 123.472  Z\n",
       "  \" fill=\"#ffffff\" fill-rule=\"evenodd\" fill-opacity=\"1\"/>\n",
       "<defs>\n",
       "  <clipPath id=\"clip972\">\n",
       "    <rect x=\"162\" y=\"123\" width=\"2191\" height=\"1364\"/>\n",
       "  </clipPath>\n",
       "</defs>\n",
       "<polyline clip-path=\"url(#clip972)\" style=\"stroke:#000000; stroke-width:2; stroke-opacity:0.1; fill:none\" points=\"\n",
       "  224.444,1486.45 224.444,123.472 \n",
       "  \"/>\n",
       "<polyline clip-path=\"url(#clip972)\" style=\"stroke:#000000; stroke-width:2; stroke-opacity:0.1; fill:none\" points=\"\n",
       "  568.831,1486.45 568.831,123.472 \n",
       "  \"/>\n",
       "<polyline clip-path=\"url(#clip972)\" style=\"stroke:#000000; stroke-width:2; stroke-opacity:0.1; fill:none\" points=\"\n",
       "  913.218,1486.45 913.218,123.472 \n",
       "  \"/>\n",
       "<polyline clip-path=\"url(#clip972)\" style=\"stroke:#000000; stroke-width:2; stroke-opacity:0.1; fill:none\" points=\"\n",
       "  1257.61,1486.45 1257.61,123.472 \n",
       "  \"/>\n",
       "<polyline clip-path=\"url(#clip972)\" style=\"stroke:#000000; stroke-width:2; stroke-opacity:0.1; fill:none\" points=\"\n",
       "  1601.99,1486.45 1601.99,123.472 \n",
       "  \"/>\n",
       "<polyline clip-path=\"url(#clip972)\" style=\"stroke:#000000; stroke-width:2; stroke-opacity:0.1; fill:none\" points=\"\n",
       "  1946.38,1486.45 1946.38,123.472 \n",
       "  \"/>\n",
       "<polyline clip-path=\"url(#clip972)\" style=\"stroke:#000000; stroke-width:2; stroke-opacity:0.1; fill:none\" points=\"\n",
       "  2290.77,1486.45 2290.77,123.472 \n",
       "  \"/>\n",
       "<polyline clip-path=\"url(#clip972)\" style=\"stroke:#000000; stroke-width:2; stroke-opacity:0.1; fill:none\" points=\"\n",
       "  162.455,1447.87 2352.76,1447.87 \n",
       "  \"/>\n",
       "<polyline clip-path=\"url(#clip972)\" style=\"stroke:#000000; stroke-width:2; stroke-opacity:0.1; fill:none\" points=\"\n",
       "  162.455,1162.13 2352.76,1162.13 \n",
       "  \"/>\n",
       "<polyline clip-path=\"url(#clip972)\" style=\"stroke:#000000; stroke-width:2; stroke-opacity:0.1; fill:none\" points=\"\n",
       "  162.455,876.395 2352.76,876.395 \n",
       "  \"/>\n",
       "<polyline clip-path=\"url(#clip972)\" style=\"stroke:#000000; stroke-width:2; stroke-opacity:0.1; fill:none\" points=\"\n",
       "  162.455,590.656 2352.76,590.656 \n",
       "  \"/>\n",
       "<polyline clip-path=\"url(#clip972)\" style=\"stroke:#000000; stroke-width:2; stroke-opacity:0.1; fill:none\" points=\"\n",
       "  162.455,304.916 2352.76,304.916 \n",
       "  \"/>\n",
       "<polyline clip-path=\"url(#clip970)\" style=\"stroke:#000000; stroke-width:4; stroke-opacity:1; fill:none\" points=\"\n",
       "  162.455,1486.45 2352.76,1486.45 \n",
       "  \"/>\n",
       "<polyline clip-path=\"url(#clip970)\" style=\"stroke:#000000; stroke-width:4; stroke-opacity:1; fill:none\" points=\"\n",
       "  162.455,1486.45 162.455,123.472 \n",
       "  \"/>\n",
       "<polyline clip-path=\"url(#clip970)\" style=\"stroke:#000000; stroke-width:4; stroke-opacity:1; fill:none\" points=\"\n",
       "  224.444,1486.45 224.444,1470.09 \n",
       "  \"/>\n",
       "<polyline clip-path=\"url(#clip970)\" style=\"stroke:#000000; stroke-width:4; stroke-opacity:1; fill:none\" points=\"\n",
       "  568.831,1486.45 568.831,1470.09 \n",
       "  \"/>\n",
       "<polyline clip-path=\"url(#clip970)\" style=\"stroke:#000000; stroke-width:4; stroke-opacity:1; fill:none\" points=\"\n",
       "  913.218,1486.45 913.218,1470.09 \n",
       "  \"/>\n",
       "<polyline clip-path=\"url(#clip970)\" style=\"stroke:#000000; stroke-width:4; stroke-opacity:1; fill:none\" points=\"\n",
       "  1257.61,1486.45 1257.61,1470.09 \n",
       "  \"/>\n",
       "<polyline clip-path=\"url(#clip970)\" style=\"stroke:#000000; stroke-width:4; stroke-opacity:1; fill:none\" points=\"\n",
       "  1601.99,1486.45 1601.99,1470.09 \n",
       "  \"/>\n",
       "<polyline clip-path=\"url(#clip970)\" style=\"stroke:#000000; stroke-width:4; stroke-opacity:1; fill:none\" points=\"\n",
       "  1946.38,1486.45 1946.38,1470.09 \n",
       "  \"/>\n",
       "<polyline clip-path=\"url(#clip970)\" style=\"stroke:#000000; stroke-width:4; stroke-opacity:1; fill:none\" points=\"\n",
       "  2290.77,1486.45 2290.77,1470.09 \n",
       "  \"/>\n",
       "<polyline clip-path=\"url(#clip970)\" style=\"stroke:#000000; stroke-width:4; stroke-opacity:1; fill:none\" points=\"\n",
       "  162.455,1447.87 188.738,1447.87 \n",
       "  \"/>\n",
       "<polyline clip-path=\"url(#clip970)\" style=\"stroke:#000000; stroke-width:4; stroke-opacity:1; fill:none\" points=\"\n",
       "  162.455,1162.13 188.738,1162.13 \n",
       "  \"/>\n",
       "<polyline clip-path=\"url(#clip970)\" style=\"stroke:#000000; stroke-width:4; stroke-opacity:1; fill:none\" points=\"\n",
       "  162.455,876.395 188.738,876.395 \n",
       "  \"/>\n",
       "<polyline clip-path=\"url(#clip970)\" style=\"stroke:#000000; stroke-width:4; stroke-opacity:1; fill:none\" points=\"\n",
       "  162.455,590.656 188.738,590.656 \n",
       "  \"/>\n",
       "<polyline clip-path=\"url(#clip970)\" style=\"stroke:#000000; stroke-width:4; stroke-opacity:1; fill:none\" points=\"\n",
       "  162.455,304.916 188.738,304.916 \n",
       "  \"/>\n",
       "<path clip-path=\"url(#clip970)\" d=\"M 0 0 M214.826 1535.98 L222.465 1535.98 L222.465 1509.62 L214.155 1511.29 L214.155 1507.03 L222.419 1505.36 L227.095 1505.36 L227.095 1535.98 L234.734 1535.98 L234.734 1539.92 L214.826 1539.92 L214.826 1535.98 Z\" fill=\"#000000\" fill-rule=\"evenodd\" fill-opacity=\"1\" /><path clip-path=\"url(#clip970)\" d=\"M 0 0 M563.484 1535.98 L579.803 1535.98 L579.803 1539.92 L557.859 1539.92 L557.859 1535.98 Q560.521 1533.23 565.104 1528.6 Q569.711 1523.95 570.892 1522.61 Q573.137 1520.08 574.016 1518.35 Q574.919 1516.59 574.919 1514.9 Q574.919 1512.14 572.975 1510.41 Q571.054 1508.67 567.952 1508.67 Q565.753 1508.67 563.299 1509.43 Q560.868 1510.2 558.091 1511.75 L558.091 1507.03 Q560.915 1505.89 563.368 1505.31 Q565.822 1504.73 567.859 1504.73 Q573.229 1504.73 576.424 1507.42 Q579.618 1510.11 579.618 1514.6 Q579.618 1516.73 578.808 1518.65 Q578.021 1520.54 575.915 1523.14 Q575.336 1523.81 572.234 1527.03 Q569.132 1530.22 563.484 1535.98 Z\" fill=\"#000000\" fill-rule=\"evenodd\" fill-opacity=\"1\" /><path clip-path=\"url(#clip970)\" d=\"M 0 0 M917.466 1521.29 Q920.822 1522 922.697 1524.27 Q924.596 1526.54 924.596 1529.87 Q924.596 1534.99 921.077 1537.79 Q917.559 1540.59 911.077 1540.59 Q908.901 1540.59 906.586 1540.15 Q904.295 1539.73 901.841 1538.88 L901.841 1534.36 Q903.785 1535.5 906.1 1536.08 Q908.415 1536.66 910.938 1536.66 Q915.336 1536.66 917.628 1534.92 Q919.943 1533.18 919.943 1529.87 Q919.943 1526.82 917.79 1525.11 Q915.66 1523.37 911.841 1523.37 L907.813 1523.37 L907.813 1519.53 L912.026 1519.53 Q915.475 1519.53 917.304 1518.16 Q919.133 1516.77 919.133 1514.18 Q919.133 1511.52 917.234 1510.11 Q915.36 1508.67 911.841 1508.67 Q909.92 1508.67 907.721 1509.09 Q905.522 1509.5 902.883 1510.38 L902.883 1506.22 Q905.545 1505.48 907.86 1505.11 Q910.197 1504.73 912.258 1504.73 Q917.582 1504.73 920.684 1507.17 Q923.785 1509.57 923.785 1513.69 Q923.785 1516.56 922.142 1518.55 Q920.498 1520.52 917.466 1521.29 Z\" fill=\"#000000\" fill-rule=\"evenodd\" fill-opacity=\"1\" /><path clip-path=\"url(#clip970)\" d=\"M 0 0 M1260.61 1509.43 L1248.81 1527.88 L1260.61 1527.88 L1260.61 1509.43 M1259.39 1505.36 L1265.27 1505.36 L1265.27 1527.88 L1270.2 1527.88 L1270.2 1531.77 L1265.27 1531.77 L1265.27 1539.92 L1260.61 1539.92 L1260.61 1531.77 L1245.01 1531.77 L1245.01 1527.26 L1259.39 1505.36 Z\" fill=\"#000000\" fill-rule=\"evenodd\" fill-opacity=\"1\" /><path clip-path=\"url(#clip970)\" d=\"M 0 0 M1592.27 1505.36 L1610.63 1505.36 L1610.63 1509.3 L1596.55 1509.3 L1596.55 1517.77 Q1597.57 1517.42 1598.59 1517.26 Q1599.61 1517.07 1600.63 1517.07 Q1606.41 1517.07 1609.79 1520.24 Q1613.17 1523.42 1613.17 1528.83 Q1613.17 1534.41 1609.7 1537.51 Q1606.23 1540.59 1599.91 1540.59 Q1597.73 1540.59 1595.46 1540.22 Q1593.22 1539.85 1590.81 1539.11 L1590.81 1534.41 Q1592.9 1535.54 1595.12 1536.1 Q1597.34 1536.66 1599.82 1536.66 Q1603.82 1536.66 1606.16 1534.55 Q1608.5 1532.44 1608.5 1528.83 Q1608.5 1525.22 1606.16 1523.11 Q1603.82 1521.01 1599.82 1521.01 Q1597.94 1521.01 1596.07 1521.42 Q1594.21 1521.84 1592.27 1522.72 L1592.27 1505.36 Z\" fill=\"#000000\" fill-rule=\"evenodd\" fill-opacity=\"1\" /><path clip-path=\"url(#clip970)\" d=\"M 0 0 M1946.78 1520.78 Q1943.64 1520.78 1941.78 1522.93 Q1939.96 1525.08 1939.96 1528.83 Q1939.96 1532.56 1941.78 1534.73 Q1943.64 1536.89 1946.78 1536.89 Q1949.93 1536.89 1951.76 1534.73 Q1953.61 1532.56 1953.61 1528.83 Q1953.61 1525.08 1951.76 1522.93 Q1949.93 1520.78 1946.78 1520.78 M1956.07 1506.12 L1956.07 1510.38 Q1954.31 1509.55 1952.5 1509.11 Q1950.72 1508.67 1948.96 1508.67 Q1944.33 1508.67 1941.88 1511.8 Q1939.45 1514.92 1939.1 1521.24 Q1940.46 1519.23 1942.53 1518.16 Q1944.59 1517.07 1947.06 1517.07 Q1952.27 1517.07 1955.28 1520.24 Q1958.31 1523.39 1958.31 1528.83 Q1958.31 1534.16 1955.16 1537.37 Q1952.02 1540.59 1946.78 1540.59 Q1940.79 1540.59 1937.62 1536.01 Q1934.45 1531.4 1934.45 1522.67 Q1934.45 1514.48 1938.34 1509.62 Q1942.22 1504.73 1948.78 1504.73 Q1950.53 1504.73 1952.32 1505.08 Q1954.12 1505.43 1956.07 1506.12 Z\" fill=\"#000000\" fill-rule=\"evenodd\" fill-opacity=\"1\" /><path clip-path=\"url(#clip970)\" d=\"M 0 0 M2279.66 1505.36 L2301.88 1505.36 L2301.88 1507.35 L2289.33 1539.92 L2284.45 1539.92 L2296.25 1509.3 L2279.66 1509.3 L2279.66 1505.36 Z\" fill=\"#000000\" fill-rule=\"evenodd\" fill-opacity=\"1\" /><path clip-path=\"url(#clip970)\" d=\"M 0 0 M63.594 1450.27 L76.0708 1450.27 L76.0708 1454.07 L63.594 1454.07 L63.594 1450.27 Z\" fill=\"#000000\" fill-rule=\"evenodd\" fill-opacity=\"1\" /><path clip-path=\"url(#clip970)\" d=\"M 0 0 M85.1679 1461.22 L101.487 1461.22 L101.487 1465.15 L79.543 1465.15 L79.543 1461.22 Q82.205 1458.46 86.7883 1453.83 Q91.3948 1449.18 92.5753 1447.84 Q94.8207 1445.32 95.7003 1443.58 Q96.6031 1441.82 96.6031 1440.13 Q96.6031 1437.38 94.6586 1435.64 Q92.7373 1433.9 89.6355 1433.9 Q87.4364 1433.9 84.9827 1434.67 Q82.5522 1435.43 79.7744 1436.98 L79.7744 1432.26 Q82.5985 1431.13 85.0522 1430.55 Q87.5059 1429.97 89.5429 1429.97 Q94.9133 1429.97 98.1077 1432.65 Q101.302 1435.34 101.302 1439.83 Q101.302 1441.96 100.492 1443.88 Q99.7049 1445.78 97.5984 1448.37 Q97.0197 1449.04 93.9179 1452.26 Q90.8161 1455.45 85.1679 1461.22 Z\" fill=\"#000000\" fill-rule=\"evenodd\" fill-opacity=\"1\" /><path clip-path=\"url(#clip970)\" d=\"M 0 0 M106.557 1459.27 L111.441 1459.27 L111.441 1465.15 L106.557 1465.15 L106.557 1459.27 Z\" fill=\"#000000\" fill-rule=\"evenodd\" fill-opacity=\"1\" /><path clip-path=\"url(#clip970)\" d=\"M 0 0 M126.51 1433.67 Q122.899 1433.67 121.071 1437.24 Q119.265 1440.78 119.265 1447.91 Q119.265 1455.01 121.071 1458.58 Q122.899 1462.12 126.51 1462.12 Q130.145 1462.12 131.95 1458.58 Q133.779 1455.01 133.779 1447.91 Q133.779 1440.78 131.95 1437.24 Q130.145 1433.67 126.51 1433.67 M126.51 1429.97 Q132.32 1429.97 135.376 1434.57 Q138.455 1439.16 138.455 1447.91 Q138.455 1456.63 135.376 1461.24 Q132.32 1465.82 126.51 1465.82 Q120.7 1465.82 117.621 1461.24 Q114.566 1456.63 114.566 1447.91 Q114.566 1439.16 117.621 1434.57 Q120.7 1429.97 126.51 1429.97 Z\" fill=\"#000000\" fill-rule=\"evenodd\" fill-opacity=\"1\" /><path clip-path=\"url(#clip970)\" d=\"M 0 0 M64.219 1164.53 L76.6958 1164.53 L76.6958 1168.33 L64.219 1168.33 L64.219 1164.53 Z\" fill=\"#000000\" fill-rule=\"evenodd\" fill-opacity=\"1\" /><path clip-path=\"url(#clip970)\" d=\"M 0 0 M82.5754 1175.48 L90.2142 1175.48 L90.2142 1149.11 L81.9041 1150.78 L81.9041 1146.52 L90.1679 1144.85 L94.8438 1144.85 L94.8438 1175.48 L102.483 1175.48 L102.483 1179.41 L82.5754 1179.41 L82.5754 1175.48 Z\" fill=\"#000000\" fill-rule=\"evenodd\" fill-opacity=\"1\" /><path clip-path=\"url(#clip970)\" d=\"M 0 0 M107.552 1173.53 L112.436 1173.53 L112.436 1179.41 L107.552 1179.41 L107.552 1173.53 Z\" fill=\"#000000\" fill-rule=\"evenodd\" fill-opacity=\"1\" /><path clip-path=\"url(#clip970)\" d=\"M 0 0 M117.552 1144.85 L135.908 1144.85 L135.908 1148.79 L121.834 1148.79 L121.834 1157.26 Q122.853 1156.91 123.871 1156.75 Q124.89 1156.57 125.908 1156.57 Q131.695 1156.57 135.075 1159.74 Q138.455 1162.91 138.455 1168.33 Q138.455 1173.9 134.982 1177.01 Q131.51 1180.09 125.191 1180.09 Q123.015 1180.09 120.746 1179.71 Q118.501 1179.34 116.094 1178.6 L116.094 1173.9 Q118.177 1175.04 120.399 1175.59 Q122.621 1176.15 125.098 1176.15 Q129.103 1176.15 131.441 1174.04 Q133.779 1171.94 133.779 1168.33 Q133.779 1164.71 131.441 1162.61 Q129.103 1160.5 125.098 1160.5 Q123.223 1160.5 121.348 1160.92 Q119.496 1161.34 117.552 1162.21 L117.552 1144.85 Z\" fill=\"#000000\" fill-rule=\"evenodd\" fill-opacity=\"1\" /><path clip-path=\"url(#clip970)\" d=\"M 0 0 M63.2236 878.791 L75.7004 878.791 L75.7004 882.587 L63.2236 882.587 L63.2236 878.791 Z\" fill=\"#000000\" fill-rule=\"evenodd\" fill-opacity=\"1\" /><path clip-path=\"url(#clip970)\" d=\"M 0 0 M81.58 889.74 L89.2188 889.74 L89.2188 863.374 L80.9087 865.041 L80.9087 860.781 L89.1725 859.115 L93.8484 859.115 L93.8484 889.74 L101.487 889.74 L101.487 893.675 L81.58 893.675 L81.58 889.74 Z\" fill=\"#000000\" fill-rule=\"evenodd\" fill-opacity=\"1\" /><path clip-path=\"url(#clip970)\" d=\"M 0 0 M106.557 887.795 L111.441 887.795 L111.441 893.675 L106.557 893.675 L106.557 887.795 Z\" fill=\"#000000\" fill-rule=\"evenodd\" fill-opacity=\"1\" /><path clip-path=\"url(#clip970)\" d=\"M 0 0 M126.51 862.193 Q122.899 862.193 121.071 865.758 Q119.265 869.3 119.265 876.43 Q119.265 883.536 121.071 887.101 Q122.899 890.642 126.51 890.642 Q130.145 890.642 131.95 887.101 Q133.779 883.536 133.779 876.43 Q133.779 869.3 131.95 865.758 Q130.145 862.193 126.51 862.193 M126.51 858.49 Q132.32 858.49 135.376 863.096 Q138.455 867.68 138.455 876.43 Q138.455 885.156 135.376 889.763 Q132.32 894.346 126.51 894.346 Q120.7 894.346 117.621 889.763 Q114.566 885.156 114.566 876.43 Q114.566 867.68 117.621 863.096 Q120.7 858.49 126.51 858.49 Z\" fill=\"#000000\" fill-rule=\"evenodd\" fill-opacity=\"1\" /><path clip-path=\"url(#clip970)\" d=\"M 0 0 M62.9921 593.051 L75.4689 593.051 L75.4689 596.848 L62.9921 596.848 L62.9921 593.051 Z\" fill=\"#000000\" fill-rule=\"evenodd\" fill-opacity=\"1\" /><path clip-path=\"url(#clip970)\" d=\"M 0 0 M90.5383 576.454 Q86.9272 576.454 85.0985 580.019 Q83.2929 583.561 83.2929 590.69 Q83.2929 597.797 85.0985 601.362 Q86.9272 604.903 90.5383 604.903 Q94.1725 604.903 95.9781 601.362 Q97.8068 597.797 97.8068 590.69 Q97.8068 583.561 95.9781 580.019 Q94.1725 576.454 90.5383 576.454 M90.5383 572.751 Q96.3484 572.751 99.404 577.357 Q102.483 581.94 102.483 590.69 Q102.483 599.417 99.404 604.024 Q96.3484 608.607 90.5383 608.607 Q84.7281 608.607 81.6494 604.024 Q78.5939 599.417 78.5939 590.69 Q78.5939 581.94 81.6494 577.357 Q84.7281 572.751 90.5383 572.751 Z\" fill=\"#000000\" fill-rule=\"evenodd\" fill-opacity=\"1\" /><path clip-path=\"url(#clip970)\" d=\"M 0 0 M107.552 602.056 L112.436 602.056 L112.436 607.936 L107.552 607.936 L107.552 602.056 Z\" fill=\"#000000\" fill-rule=\"evenodd\" fill-opacity=\"1\" /><path clip-path=\"url(#clip970)\" d=\"M 0 0 M117.552 573.376 L135.908 573.376 L135.908 577.311 L121.834 577.311 L121.834 585.783 Q122.853 585.436 123.871 585.274 Q124.89 585.089 125.908 585.089 Q131.695 585.089 135.075 588.26 Q138.455 591.431 138.455 596.848 Q138.455 602.426 134.982 605.528 Q131.51 608.607 125.191 608.607 Q123.015 608.607 120.746 608.237 Q118.501 607.866 116.094 607.125 L116.094 602.426 Q118.177 603.561 120.399 604.116 Q122.621 604.672 125.098 604.672 Q129.103 604.672 131.441 602.565 Q133.779 600.459 133.779 596.848 Q133.779 593.237 131.441 591.13 Q129.103 589.024 125.098 589.024 Q123.223 589.024 121.348 589.44 Q119.496 589.857 117.552 590.737 L117.552 573.376 Z\" fill=\"#000000\" fill-rule=\"evenodd\" fill-opacity=\"1\" /><path clip-path=\"url(#clip970)\" d=\"M 0 0 M89.5429 290.715 Q85.9318 290.715 84.1031 294.28 Q82.2976 297.822 82.2976 304.951 Q82.2976 312.058 84.1031 315.622 Q85.9318 319.164 89.5429 319.164 Q93.1771 319.164 94.9827 315.622 Q96.8114 312.058 96.8114 304.951 Q96.8114 297.822 94.9827 294.28 Q93.1771 290.715 89.5429 290.715 M89.5429 287.011 Q95.3531 287.011 98.4086 291.618 Q101.487 296.201 101.487 304.951 Q101.487 313.678 98.4086 318.284 Q95.3531 322.868 89.5429 322.868 Q83.7328 322.868 80.6541 318.284 Q77.5985 313.678 77.5985 304.951 Q77.5985 296.201 80.6541 291.618 Q83.7328 287.011 89.5429 287.011 Z\" fill=\"#000000\" fill-rule=\"evenodd\" fill-opacity=\"1\" /><path clip-path=\"url(#clip970)\" d=\"M 0 0 M106.557 316.317 L111.441 316.317 L111.441 322.196 L106.557 322.196 L106.557 316.317 Z\" fill=\"#000000\" fill-rule=\"evenodd\" fill-opacity=\"1\" /><path clip-path=\"url(#clip970)\" d=\"M 0 0 M126.51 290.715 Q122.899 290.715 121.071 294.28 Q119.265 297.822 119.265 304.951 Q119.265 312.058 121.071 315.622 Q122.899 319.164 126.51 319.164 Q130.145 319.164 131.95 315.622 Q133.779 312.058 133.779 304.951 Q133.779 297.822 131.95 294.28 Q130.145 290.715 126.51 290.715 M126.51 287.011 Q132.32 287.011 135.376 291.618 Q138.455 296.201 138.455 304.951 Q138.455 313.678 135.376 318.284 Q132.32 322.868 126.51 322.868 Q120.7 322.868 117.621 318.284 Q114.566 313.678 114.566 304.951 Q114.566 296.201 117.621 291.618 Q120.7 287.011 126.51 287.011 Z\" fill=\"#000000\" fill-rule=\"evenodd\" fill-opacity=\"1\" /><path clip-path=\"url(#clip970)\" d=\"M 0 0 M1078.43 14.0809 L1078.43 22.0612 Q1073.78 19.8332 1069.64 18.7395 Q1065.51 17.6457 1061.66 17.6457 Q1054.98 17.6457 1051.33 20.2383 Q1047.73 22.8309 1047.73 27.611 Q1047.73 31.6214 1050.12 33.6873 Q1052.55 35.7128 1059.27 36.9686 L1064.22 37.9813 Q1073.37 39.7232 1077.7 44.1387 Q1082.08 48.5136 1082.08 55.8863 Q1082.08 64.6767 1076.17 69.2137 Q1070.29 73.7508 1058.91 73.7508 Q1054.61 73.7508 1049.75 72.7785 Q1044.93 71.8063 1039.75 69.9024 L1039.75 61.4765 Q1044.73 64.2716 1049.51 65.6895 Q1054.29 67.1073 1058.91 67.1073 Q1065.92 67.1073 1069.72 64.3527 Q1073.53 61.598 1073.53 56.4939 Q1073.53 52.0379 1070.78 49.5264 Q1068.06 47.0148 1061.83 45.759 L1056.84 44.7868 Q1047.69 42.9639 1043.6 39.075 Q1039.5 35.1862 1039.5 28.2591 Q1039.5 20.2383 1045.14 15.6203 Q1050.81 11.0023 1060.73 11.0023 Q1064.98 11.0023 1069.4 11.7719 Q1073.82 12.5416 1078.43 14.0809 Z\" fill=\"#000000\" fill-rule=\"evenodd\" fill-opacity=\"1\" /><path clip-path=\"url(#clip970)\" d=\"M 0 0 M1110.52 49.7694 Q1101.48 49.7694 1098 51.8354 Q1094.52 53.9013 1094.52 58.8839 Q1094.52 62.8538 1097.11 65.2034 Q1099.74 67.5124 1104.24 67.5124 Q1110.44 67.5124 1114.16 63.1374 Q1117.93 58.7219 1117.93 51.4303 L1117.93 49.7694 L1110.52 49.7694 M1125.38 46.6907 L1125.38 72.576 L1117.93 72.576 L1117.93 65.6895 Q1115.38 69.8214 1111.57 71.8063 Q1107.76 73.7508 1102.25 73.7508 Q1095.29 73.7508 1091.15 69.8619 Q1087.06 65.9325 1087.06 59.3701 Q1087.06 51.7138 1092.17 47.825 Q1097.31 43.9361 1107.48 43.9361 L1117.93 43.9361 L1117.93 43.2069 Q1117.93 38.0623 1114.53 35.2672 Q1111.17 32.4315 1105.05 32.4315 Q1101.16 32.4315 1097.47 33.3632 Q1093.79 34.295 1090.38 36.1584 L1090.38 29.2718 Q1094.48 27.692 1098.32 26.9223 Q1102.17 26.1121 1105.82 26.1121 Q1115.66 26.1121 1120.52 31.2163 Q1125.38 36.3204 1125.38 46.6907 Z\" fill=\"#000000\" fill-rule=\"evenodd\" fill-opacity=\"1\" /><path clip-path=\"url(#clip970)\" d=\"M 0 0 M1168.53 35.9153 Q1171.32 30.8922 1175.21 28.5022 Q1179.1 26.1121 1184.36 26.1121 Q1191.45 26.1121 1195.3 31.0947 Q1199.15 36.0368 1199.15 45.1919 L1199.15 72.576 L1191.66 72.576 L1191.66 45.4349 Q1191.66 38.913 1189.35 35.7533 Q1187.04 32.5936 1182.3 32.5936 Q1176.51 32.5936 1173.14 36.4419 Q1169.78 40.2903 1169.78 46.9338 L1169.78 72.576 L1162.29 72.576 L1162.29 45.4349 Q1162.29 38.8725 1159.98 35.7533 Q1157.67 32.5936 1152.85 32.5936 Q1147.14 32.5936 1143.77 36.4824 Q1140.41 40.3308 1140.41 46.9338 L1140.41 72.576 L1132.92 72.576 L1132.92 27.2059 L1140.41 27.2059 L1140.41 34.2544 Q1142.96 30.082 1146.53 28.0971 Q1150.09 26.1121 1155 26.1121 Q1159.94 26.1121 1163.38 28.6237 Q1166.87 31.1352 1168.53 35.9153 Z\" fill=\"#000000\" fill-rule=\"evenodd\" fill-opacity=\"1\" /><path clip-path=\"url(#clip970)\" d=\"M 0 0 M1214.18 65.7705 L1214.18 89.8329 L1206.69 89.8329 L1206.69 27.2059 L1214.18 27.2059 L1214.18 34.0924 Q1216.53 30.0415 1220.09 28.0971 Q1223.7 26.1121 1228.68 26.1121 Q1236.95 26.1121 1242.09 32.6746 Q1247.28 39.2371 1247.28 49.9314 Q1247.28 60.6258 1242.09 67.1883 Q1236.95 73.7508 1228.68 73.7508 Q1223.7 73.7508 1220.09 71.8063 Q1216.53 69.8214 1214.18 65.7705 M1239.54 49.9314 Q1239.54 41.7081 1236.14 37.0496 Q1232.77 32.3505 1226.86 32.3505 Q1220.94 32.3505 1217.54 37.0496 Q1214.18 41.7081 1214.18 49.9314 Q1214.18 58.1548 1217.54 62.8538 Q1220.94 67.5124 1226.86 67.5124 Q1232.77 67.5124 1236.14 62.8538 Q1239.54 58.1548 1239.54 49.9314 Z\" fill=\"#000000\" fill-rule=\"evenodd\" fill-opacity=\"1\" /><path clip-path=\"url(#clip970)\" d=\"M 0 0 M1255.09 9.54393 L1262.55 9.54393 L1262.55 72.576 L1255.09 72.576 L1255.09 9.54393 Z\" fill=\"#000000\" fill-rule=\"evenodd\" fill-opacity=\"1\" /><path clip-path=\"url(#clip970)\" d=\"M 0 0 M1309.17 48.0275 L1309.17 51.6733 L1274.9 51.6733 Q1275.39 59.3701 1279.52 63.421 Q1283.69 67.4314 1291.11 67.4314 Q1295.4 67.4314 1299.41 66.3781 Q1303.46 65.3249 1307.43 63.2184 L1307.43 70.267 Q1303.42 71.9684 1299.21 72.8596 Q1295 73.7508 1290.66 73.7508 Q1279.8 73.7508 1273.44 67.4314 Q1267.12 61.1119 1267.12 50.3365 Q1267.12 39.1965 1273.12 32.6746 Q1279.16 26.1121 1289.36 26.1121 Q1298.52 26.1121 1303.83 32.0264 Q1309.17 37.9003 1309.17 48.0275 M1301.72 45.84 Q1301.64 39.7232 1298.28 36.0774 Q1294.95 32.4315 1289.45 32.4315 Q1283.21 32.4315 1279.44 35.9558 Q1275.71 39.4801 1275.15 45.8805 L1301.72 45.84 Z\" fill=\"#000000\" fill-rule=\"evenodd\" fill-opacity=\"1\" /><path clip-path=\"url(#clip970)\" d=\"M 0 0 M1350.57 65.7705 L1350.57 89.8329 L1343.08 89.8329 L1343.08 27.2059 L1350.57 27.2059 L1350.57 34.0924 Q1352.92 30.0415 1356.49 28.0971 Q1360.09 26.1121 1365.08 26.1121 Q1373.34 26.1121 1378.48 32.6746 Q1383.67 39.2371 1383.67 49.9314 Q1383.67 60.6258 1378.48 67.1883 Q1373.34 73.7508 1365.08 73.7508 Q1360.09 73.7508 1356.49 71.8063 Q1352.92 69.8214 1350.57 65.7705 M1375.93 49.9314 Q1375.93 41.7081 1372.53 37.0496 Q1369.17 32.3505 1363.25 32.3505 Q1357.34 32.3505 1353.94 37.0496 Q1350.57 41.7081 1350.57 49.9314 Q1350.57 58.1548 1353.94 62.8538 Q1357.34 67.5124 1363.25 67.5124 Q1369.17 67.5124 1372.53 62.8538 Q1375.93 58.1548 1375.93 49.9314 Z\" fill=\"#000000\" fill-rule=\"evenodd\" fill-opacity=\"1\" /><path clip-path=\"url(#clip970)\" d=\"M 0 0 M1391.49 9.54393 L1398.94 9.54393 L1398.94 72.576 L1391.49 72.576 L1391.49 9.54393 Z\" fill=\"#000000\" fill-rule=\"evenodd\" fill-opacity=\"1\" /><path clip-path=\"url(#clip970)\" d=\"M 0 0 M1424.34 32.4315 Q1418.35 32.4315 1414.86 37.1306 Q1411.38 41.7891 1411.38 49.9314 Q1411.38 58.0738 1414.82 62.7728 Q1418.3 67.4314 1424.34 67.4314 Q1430.3 67.4314 1433.78 62.7323 Q1437.26 58.0333 1437.26 49.9314 Q1437.26 41.8701 1433.78 37.1711 Q1430.3 32.4315 1424.34 32.4315 M1424.34 26.1121 Q1434.06 26.1121 1439.61 32.4315 Q1445.16 38.7509 1445.16 49.9314 Q1445.16 61.0714 1439.61 67.4314 Q1434.06 73.7508 1424.34 73.7508 Q1414.58 73.7508 1409.03 67.4314 Q1403.52 61.0714 1403.52 49.9314 Q1403.52 38.7509 1409.03 32.4315 Q1414.58 26.1121 1424.34 26.1121 Z\" fill=\"#000000\" fill-rule=\"evenodd\" fill-opacity=\"1\" /><path clip-path=\"url(#clip970)\" d=\"M 0 0 M1460.35 14.324 L1460.35 27.2059 L1475.71 27.2059 L1475.71 32.9987 L1460.35 32.9987 L1460.35 57.6282 Q1460.35 63.1779 1461.85 64.7578 Q1463.39 66.3376 1468.05 66.3376 L1475.71 66.3376 L1475.71 72.576 L1468.05 72.576 Q1459.42 72.576 1456.14 69.3758 Q1452.86 66.1351 1452.86 57.6282 L1452.86 32.9987 L1447.39 32.9987 L1447.39 27.2059 L1452.86 27.2059 L1452.86 14.324 L1460.35 14.324 Z\" fill=\"#000000\" fill-rule=\"evenodd\" fill-opacity=\"1\" /><polyline clip-path=\"url(#clip972)\" style=\"stroke:#009af9; stroke-width:4; stroke-opacity:1; fill:none\" points=\"\n",
       "  224.444,162.047 568.831,876.395 913.218,1305 1257.61,1447.87 1601.99,1305 1946.38,876.395 2290.77,162.047 \n",
       "  \"/>\n",
       "<polyline clip-path=\"url(#clip972)\" style=\"stroke:#e26f46; stroke-width:8; stroke-opacity:1; fill:none\" points=\"\n",
       "  224.444,162.047 568.831,876.395 913.218,1305 1257.61,1447.87 1601.99,1305 1946.38,876.395 2290.77,162.047 \n",
       "  \"/>\n",
       "<path clip-path=\"url(#clip972)\" d=\"M224.444 146.047 L208.444 162.047 L224.444 178.047 L240.444 162.047 L224.444 146.047 Z\" fill=\"#e26f46\" fill-rule=\"evenodd\" fill-opacity=\"1\" stroke=\"#000000\" stroke-opacity=\"1\" stroke-width=\"3.2\"/>\n",
       "<path clip-path=\"url(#clip972)\" d=\"M568.831 860.395 L552.831 876.395 L568.831 892.395 L584.831 876.395 L568.831 860.395 Z\" fill=\"#e26f46\" fill-rule=\"evenodd\" fill-opacity=\"1\" stroke=\"#000000\" stroke-opacity=\"1\" stroke-width=\"3.2\"/>\n",
       "<path clip-path=\"url(#clip972)\" d=\"M913.218 1289 L897.218 1305 L913.218 1321 L929.218 1305 L913.218 1289 Z\" fill=\"#e26f46\" fill-rule=\"evenodd\" fill-opacity=\"1\" stroke=\"#000000\" stroke-opacity=\"1\" stroke-width=\"3.2\"/>\n",
       "<path clip-path=\"url(#clip972)\" d=\"M1257.61 1431.87 L1241.61 1447.87 L1257.61 1463.87 L1273.61 1447.87 L1257.61 1431.87 Z\" fill=\"#e26f46\" fill-rule=\"evenodd\" fill-opacity=\"1\" stroke=\"#000000\" stroke-opacity=\"1\" stroke-width=\"3.2\"/>\n",
       "<path clip-path=\"url(#clip972)\" d=\"M1601.99 1289 L1585.99 1305 L1601.99 1321 L1617.99 1305 L1601.99 1289 Z\" fill=\"#e26f46\" fill-rule=\"evenodd\" fill-opacity=\"1\" stroke=\"#000000\" stroke-opacity=\"1\" stroke-width=\"3.2\"/>\n",
       "<path clip-path=\"url(#clip972)\" d=\"M1946.38 860.395 L1930.38 876.395 L1946.38 892.395 L1962.38 876.395 L1946.38 860.395 Z\" fill=\"#e26f46\" fill-rule=\"evenodd\" fill-opacity=\"1\" stroke=\"#000000\" stroke-opacity=\"1\" stroke-width=\"3.2\"/>\n",
       "<path clip-path=\"url(#clip972)\" d=\"M2290.77 146.047 L2274.77 162.047 L2290.77 178.047 L2306.77 162.047 L2290.77 146.047 Z\" fill=\"#e26f46\" fill-rule=\"evenodd\" fill-opacity=\"1\" stroke=\"#000000\" stroke-opacity=\"1\" stroke-width=\"3.2\"/>\n",
       "</svg>\n"
      ]
     },
     "execution_count": 32,
     "metadata": {},
     "output_type": "execute_result"
    }
   ],
   "source": [
    "plot!(title = \"Sample plot\", leg=false)"
   ]
  },
  {
   "cell_type": "code",
   "execution_count": 33,
   "metadata": {},
   "outputs": [
    {
     "data": {
      "image/svg+xml": [
       "<?xml version=\"1.0\" encoding=\"utf-8\"?>\n",
       "<svg xmlns=\"http://www.w3.org/2000/svg\" xmlns:xlink=\"http://www.w3.org/1999/xlink\" width=\"600\" height=\"400\" viewBox=\"0 0 2400 1600\">\n",
       "<defs>\n",
       "  <clipPath id=\"clip010\">\n",
       "    <rect x=\"0\" y=\"0\" width=\"2400\" height=\"1600\"/>\n",
       "  </clipPath>\n",
       "</defs>\n",
       "<path clip-path=\"url(#clip010)\" d=\"\n",
       "M0 1600 L2400 1600 L2400 0 L0 0  Z\n",
       "  \" fill=\"#ffffff\" fill-rule=\"evenodd\" fill-opacity=\"1\"/>\n",
       "<defs>\n",
       "  <clipPath id=\"clip011\">\n",
       "    <rect x=\"480\" y=\"0\" width=\"1681\" height=\"1600\"/>\n",
       "  </clipPath>\n",
       "</defs>\n",
       "<path clip-path=\"url(#clip010)\" d=\"\n",
       "M147.848 1486.45 L2352.76 1486.45 L2352.76 123.472 L147.848 123.472  Z\n",
       "  \" fill=\"#ffffff\" fill-rule=\"evenodd\" fill-opacity=\"1\"/>\n",
       "<defs>\n",
       "  <clipPath id=\"clip012\">\n",
       "    <rect x=\"147\" y=\"123\" width=\"2206\" height=\"1364\"/>\n",
       "  </clipPath>\n",
       "</defs>\n",
       "<polyline clip-path=\"url(#clip012)\" style=\"stroke:#000000; stroke-width:2; stroke-opacity:0.1; fill:none\" points=\"\n",
       "  210.251,1486.45 210.251,123.472 \n",
       "  \"/>\n",
       "<polyline clip-path=\"url(#clip012)\" style=\"stroke:#000000; stroke-width:2; stroke-opacity:0.1; fill:none\" points=\"\n",
       "  626.272,1486.45 626.272,123.472 \n",
       "  \"/>\n",
       "<polyline clip-path=\"url(#clip012)\" style=\"stroke:#000000; stroke-width:2; stroke-opacity:0.1; fill:none\" points=\"\n",
       "  1042.29,1486.45 1042.29,123.472 \n",
       "  \"/>\n",
       "<polyline clip-path=\"url(#clip012)\" style=\"stroke:#000000; stroke-width:2; stroke-opacity:0.1; fill:none\" points=\"\n",
       "  1458.31,1486.45 1458.31,123.472 \n",
       "  \"/>\n",
       "<polyline clip-path=\"url(#clip012)\" style=\"stroke:#000000; stroke-width:2; stroke-opacity:0.1; fill:none\" points=\"\n",
       "  1874.33,1486.45 1874.33,123.472 \n",
       "  \"/>\n",
       "<polyline clip-path=\"url(#clip012)\" style=\"stroke:#000000; stroke-width:2; stroke-opacity:0.1; fill:none\" points=\"\n",
       "  2290.35,1486.45 2290.35,123.472 \n",
       "  \"/>\n",
       "<polyline clip-path=\"url(#clip012)\" style=\"stroke:#000000; stroke-width:2; stroke-opacity:0.1; fill:none\" points=\"\n",
       "  147.848,1447.87 2352.76,1447.87 \n",
       "  \"/>\n",
       "<polyline clip-path=\"url(#clip012)\" style=\"stroke:#000000; stroke-width:2; stroke-opacity:0.1; fill:none\" points=\"\n",
       "  147.848,1162.13 2352.76,1162.13 \n",
       "  \"/>\n",
       "<polyline clip-path=\"url(#clip012)\" style=\"stroke:#000000; stroke-width:2; stroke-opacity:0.1; fill:none\" points=\"\n",
       "  147.848,876.395 2352.76,876.395 \n",
       "  \"/>\n",
       "<polyline clip-path=\"url(#clip012)\" style=\"stroke:#000000; stroke-width:2; stroke-opacity:0.1; fill:none\" points=\"\n",
       "  147.848,590.656 2352.76,590.656 \n",
       "  \"/>\n",
       "<polyline clip-path=\"url(#clip012)\" style=\"stroke:#000000; stroke-width:2; stroke-opacity:0.1; fill:none\" points=\"\n",
       "  147.848,304.916 2352.76,304.916 \n",
       "  \"/>\n",
       "<polyline clip-path=\"url(#clip010)\" style=\"stroke:#000000; stroke-width:4; stroke-opacity:1; fill:none\" points=\"\n",
       "  147.848,1486.45 2352.76,1486.45 \n",
       "  \"/>\n",
       "<polyline clip-path=\"url(#clip010)\" style=\"stroke:#000000; stroke-width:4; stroke-opacity:1; fill:none\" points=\"\n",
       "  147.848,1486.45 147.848,123.472 \n",
       "  \"/>\n",
       "<polyline clip-path=\"url(#clip010)\" style=\"stroke:#000000; stroke-width:4; stroke-opacity:1; fill:none\" points=\"\n",
       "  210.251,1486.45 210.251,1470.09 \n",
       "  \"/>\n",
       "<polyline clip-path=\"url(#clip010)\" style=\"stroke:#000000; stroke-width:4; stroke-opacity:1; fill:none\" points=\"\n",
       "  626.272,1486.45 626.272,1470.09 \n",
       "  \"/>\n",
       "<polyline clip-path=\"url(#clip010)\" style=\"stroke:#000000; stroke-width:4; stroke-opacity:1; fill:none\" points=\"\n",
       "  1042.29,1486.45 1042.29,1470.09 \n",
       "  \"/>\n",
       "<polyline clip-path=\"url(#clip010)\" style=\"stroke:#000000; stroke-width:4; stroke-opacity:1; fill:none\" points=\"\n",
       "  1458.31,1486.45 1458.31,1470.09 \n",
       "  \"/>\n",
       "<polyline clip-path=\"url(#clip010)\" style=\"stroke:#000000; stroke-width:4; stroke-opacity:1; fill:none\" points=\"\n",
       "  1874.33,1486.45 1874.33,1470.09 \n",
       "  \"/>\n",
       "<polyline clip-path=\"url(#clip010)\" style=\"stroke:#000000; stroke-width:4; stroke-opacity:1; fill:none\" points=\"\n",
       "  2290.35,1486.45 2290.35,1470.09 \n",
       "  \"/>\n",
       "<polyline clip-path=\"url(#clip010)\" style=\"stroke:#000000; stroke-width:4; stroke-opacity:1; fill:none\" points=\"\n",
       "  147.848,1447.87 174.307,1447.87 \n",
       "  \"/>\n",
       "<polyline clip-path=\"url(#clip010)\" style=\"stroke:#000000; stroke-width:4; stroke-opacity:1; fill:none\" points=\"\n",
       "  147.848,1162.13 174.307,1162.13 \n",
       "  \"/>\n",
       "<polyline clip-path=\"url(#clip010)\" style=\"stroke:#000000; stroke-width:4; stroke-opacity:1; fill:none\" points=\"\n",
       "  147.848,876.395 174.307,876.395 \n",
       "  \"/>\n",
       "<polyline clip-path=\"url(#clip010)\" style=\"stroke:#000000; stroke-width:4; stroke-opacity:1; fill:none\" points=\"\n",
       "  147.848,590.656 174.307,590.656 \n",
       "  \"/>\n",
       "<polyline clip-path=\"url(#clip010)\" style=\"stroke:#000000; stroke-width:4; stroke-opacity:1; fill:none\" points=\"\n",
       "  147.848,304.916 174.307,304.916 \n",
       "  \"/>\n",
       "<path clip-path=\"url(#clip010)\" d=\"M 0 0 M200.633 1535.98 L208.272 1535.98 L208.272 1509.62 L199.962 1511.29 L199.962 1507.03 L208.226 1505.36 L212.902 1505.36 L212.902 1535.98 L220.541 1535.98 L220.541 1539.92 L200.633 1539.92 L200.633 1535.98 Z\" fill=\"#000000\" fill-rule=\"evenodd\" fill-opacity=\"1\" /><path clip-path=\"url(#clip010)\" d=\"M 0 0 M620.924 1535.98 L637.244 1535.98 L637.244 1539.92 L615.299 1539.92 L615.299 1535.98 Q617.961 1533.23 622.545 1528.6 Q627.151 1523.95 628.332 1522.61 Q630.577 1520.08 631.457 1518.35 Q632.36 1516.59 632.36 1514.9 Q632.36 1512.14 630.415 1510.41 Q628.494 1508.67 625.392 1508.67 Q623.193 1508.67 620.739 1509.43 Q618.309 1510.2 615.531 1511.75 L615.531 1507.03 Q618.355 1505.89 620.809 1505.31 Q623.262 1504.73 625.299 1504.73 Q630.67 1504.73 633.864 1507.42 Q637.059 1510.11 637.059 1514.6 Q637.059 1516.73 636.248 1518.65 Q635.461 1520.54 633.355 1523.14 Q632.776 1523.81 629.674 1527.03 Q626.573 1530.22 620.924 1535.98 Z\" fill=\"#000000\" fill-rule=\"evenodd\" fill-opacity=\"1\" /><path clip-path=\"url(#clip010)\" d=\"M 0 0 M1046.54 1521.29 Q1049.9 1522 1051.77 1524.27 Q1053.67 1526.54 1053.67 1529.87 Q1053.67 1534.99 1050.15 1537.79 Q1046.63 1540.59 1040.15 1540.59 Q1037.97 1540.59 1035.66 1540.15 Q1033.37 1539.73 1030.91 1538.88 L1030.91 1534.36 Q1032.86 1535.5 1035.17 1536.08 Q1037.49 1536.66 1040.01 1536.66 Q1044.41 1536.66 1046.7 1534.92 Q1049.02 1533.18 1049.02 1529.87 Q1049.02 1526.82 1046.86 1525.11 Q1044.73 1523.37 1040.91 1523.37 L1036.89 1523.37 L1036.89 1519.53 L1041.1 1519.53 Q1044.55 1519.53 1046.38 1518.16 Q1048.21 1516.77 1048.21 1514.18 Q1048.21 1511.52 1046.31 1510.11 Q1044.43 1508.67 1040.91 1508.67 Q1038.99 1508.67 1036.79 1509.09 Q1034.6 1509.5 1031.96 1510.38 L1031.96 1506.22 Q1034.62 1505.48 1036.93 1505.11 Q1039.27 1504.73 1041.33 1504.73 Q1046.66 1504.73 1049.76 1507.17 Q1052.86 1509.57 1052.86 1513.69 Q1052.86 1516.56 1051.22 1518.55 Q1049.57 1520.52 1046.54 1521.29 Z\" fill=\"#000000\" fill-rule=\"evenodd\" fill-opacity=\"1\" /><path clip-path=\"url(#clip010)\" d=\"M 0 0 M1461.32 1509.43 L1449.52 1527.88 L1461.32 1527.88 L1461.32 1509.43 M1460.09 1505.36 L1465.97 1505.36 L1465.97 1527.88 L1470.9 1527.88 L1470.9 1531.77 L1465.97 1531.77 L1465.97 1539.92 L1461.32 1539.92 L1461.32 1531.77 L1445.72 1531.77 L1445.72 1527.26 L1460.09 1505.36 Z\" fill=\"#000000\" fill-rule=\"evenodd\" fill-opacity=\"1\" /><path clip-path=\"url(#clip010)\" d=\"M 0 0 M1864.61 1505.36 L1882.97 1505.36 L1882.97 1509.3 L1868.89 1509.3 L1868.89 1517.77 Q1869.91 1517.42 1870.93 1517.26 Q1871.95 1517.07 1872.97 1517.07 Q1878.75 1517.07 1882.13 1520.24 Q1885.51 1523.42 1885.51 1528.83 Q1885.51 1534.41 1882.04 1537.51 Q1878.57 1540.59 1872.25 1540.59 Q1870.07 1540.59 1867.8 1540.22 Q1865.56 1539.85 1863.15 1539.11 L1863.15 1534.41 Q1865.24 1535.54 1867.46 1536.1 Q1869.68 1536.66 1872.16 1536.66 Q1876.16 1536.66 1878.5 1534.55 Q1880.84 1532.44 1880.84 1528.83 Q1880.84 1525.22 1878.5 1523.11 Q1876.16 1521.01 1872.16 1521.01 Q1870.28 1521.01 1868.41 1521.42 Q1866.55 1521.84 1864.61 1522.72 L1864.61 1505.36 Z\" fill=\"#000000\" fill-rule=\"evenodd\" fill-opacity=\"1\" /><path clip-path=\"url(#clip010)\" d=\"M 0 0 M2290.76 1520.78 Q2287.61 1520.78 2285.76 1522.93 Q2283.93 1525.08 2283.93 1528.83 Q2283.93 1532.56 2285.76 1534.73 Q2287.61 1536.89 2290.76 1536.89 Q2293.91 1536.89 2295.73 1534.73 Q2297.59 1532.56 2297.59 1528.83 Q2297.59 1525.08 2295.73 1522.93 Q2293.91 1520.78 2290.76 1520.78 M2300.04 1506.12 L2300.04 1510.38 Q2298.28 1509.55 2296.48 1509.11 Q2294.69 1508.67 2292.93 1508.67 Q2288.3 1508.67 2285.85 1511.8 Q2283.42 1514.92 2283.07 1521.24 Q2284.44 1519.23 2286.5 1518.16 Q2288.56 1517.07 2291.04 1517.07 Q2296.24 1517.07 2299.25 1520.24 Q2302.29 1523.39 2302.29 1528.83 Q2302.29 1534.16 2299.14 1537.37 Q2295.99 1540.59 2290.76 1540.59 Q2284.76 1540.59 2281.59 1536.01 Q2278.42 1531.4 2278.42 1522.67 Q2278.42 1514.48 2282.31 1509.62 Q2286.2 1504.73 2292.75 1504.73 Q2294.51 1504.73 2296.29 1505.08 Q2298.1 1505.43 2300.04 1506.12 Z\" fill=\"#000000\" fill-rule=\"evenodd\" fill-opacity=\"1\" /><path clip-path=\"url(#clip010)\" d=\"M 0 0 M74.9365 1433.67 Q71.3254 1433.67 69.4967 1437.24 Q67.6912 1440.78 67.6912 1447.91 Q67.6912 1455.01 69.4967 1458.58 Q71.3254 1462.12 74.9365 1462.12 Q78.5707 1462.12 80.3763 1458.58 Q82.205 1455.01 82.205 1447.91 Q82.205 1440.78 80.3763 1437.24 Q78.5707 1433.67 74.9365 1433.67 M74.9365 1429.97 Q80.7467 1429.97 83.8022 1434.57 Q86.8809 1439.16 86.8809 1447.91 Q86.8809 1456.63 83.8022 1461.24 Q80.7467 1465.82 74.9365 1465.82 Q69.1264 1465.82 66.0477 1461.24 Q62.9921 1456.63 62.9921 1447.91 Q62.9921 1439.16 66.0477 1434.57 Q69.1264 1429.97 74.9365 1429.97 Z\" fill=\"#000000\" fill-rule=\"evenodd\" fill-opacity=\"1\" /><path clip-path=\"url(#clip010)\" d=\"M 0 0 M91.9503 1459.27 L96.8345 1459.27 L96.8345 1465.15 L91.9503 1465.15 L91.9503 1459.27 Z\" fill=\"#000000\" fill-rule=\"evenodd\" fill-opacity=\"1\" /><path clip-path=\"url(#clip010)\" d=\"M 0 0 M111.904 1433.67 Q108.293 1433.67 106.464 1437.24 Q104.659 1440.78 104.659 1447.91 Q104.659 1455.01 106.464 1458.58 Q108.293 1462.12 111.904 1462.12 Q115.538 1462.12 117.344 1458.58 Q119.172 1455.01 119.172 1447.91 Q119.172 1440.78 117.344 1437.24 Q115.538 1433.67 111.904 1433.67 M111.904 1429.97 Q117.714 1429.97 120.77 1434.57 Q123.848 1439.16 123.848 1447.91 Q123.848 1456.63 120.77 1461.24 Q117.714 1465.82 111.904 1465.82 Q106.094 1465.82 103.015 1461.24 Q99.9595 1456.63 99.9595 1447.91 Q99.9595 1439.16 103.015 1434.57 Q106.094 1429.97 111.904 1429.97 Z\" fill=\"#000000\" fill-rule=\"evenodd\" fill-opacity=\"1\" /><path clip-path=\"url(#clip010)\" d=\"M 0 0 M75.9319 1147.93 Q72.3208 1147.93 70.4921 1151.5 Q68.6865 1155.04 68.6865 1162.17 Q68.6865 1169.28 70.4921 1172.84 Q72.3208 1176.38 75.9319 1176.38 Q79.5661 1176.38 81.3717 1172.84 Q83.2004 1169.28 83.2004 1162.17 Q83.2004 1155.04 81.3717 1151.5 Q79.5661 1147.93 75.9319 1147.93 M75.9319 1144.23 Q81.742 1144.23 84.7976 1148.84 Q87.8763 1153.42 87.8763 1162.17 Q87.8763 1170.9 84.7976 1175.5 Q81.742 1180.09 75.9319 1180.09 Q70.1217 1180.09 67.043 1175.5 Q63.9875 1170.9 63.9875 1162.17 Q63.9875 1153.42 67.043 1148.84 Q70.1217 1144.23 75.9319 1144.23 Z\" fill=\"#000000\" fill-rule=\"evenodd\" fill-opacity=\"1\" /><path clip-path=\"url(#clip010)\" d=\"M 0 0 M92.9457 1173.53 L97.8299 1173.53 L97.8299 1179.41 L92.9457 1179.41 L92.9457 1173.53 Z\" fill=\"#000000\" fill-rule=\"evenodd\" fill-opacity=\"1\" /><path clip-path=\"url(#clip010)\" d=\"M 0 0 M102.946 1144.85 L121.302 1144.85 L121.302 1148.79 L107.228 1148.79 L107.228 1157.26 Q108.247 1156.91 109.265 1156.75 Q110.284 1156.57 111.302 1156.57 Q117.089 1156.57 120.469 1159.74 Q123.848 1162.91 123.848 1168.33 Q123.848 1173.9 120.376 1177.01 Q116.904 1180.09 110.584 1180.09 Q108.409 1180.09 106.14 1179.71 Q103.895 1179.34 101.487 1178.6 L101.487 1173.9 Q103.571 1175.04 105.793 1175.59 Q108.015 1176.15 110.492 1176.15 Q114.496 1176.15 116.834 1174.04 Q119.172 1171.94 119.172 1168.33 Q119.172 1164.71 116.834 1162.61 Q114.496 1160.5 110.492 1160.5 Q108.617 1160.5 106.742 1160.92 Q104.89 1161.34 102.946 1162.21 L102.946 1144.85 Z\" fill=\"#000000\" fill-rule=\"evenodd\" fill-opacity=\"1\" /><path clip-path=\"url(#clip010)\" d=\"M 0 0 M66.9736 889.74 L74.6124 889.74 L74.6124 863.374 L66.3023 865.041 L66.3023 860.781 L74.5661 859.115 L79.242 859.115 L79.242 889.74 L86.8809 889.74 L86.8809 893.675 L66.9736 893.675 L66.9736 889.74 Z\" fill=\"#000000\" fill-rule=\"evenodd\" fill-opacity=\"1\" /><path clip-path=\"url(#clip010)\" d=\"M 0 0 M91.9503 887.795 L96.8345 887.795 L96.8345 893.675 L91.9503 893.675 L91.9503 887.795 Z\" fill=\"#000000\" fill-rule=\"evenodd\" fill-opacity=\"1\" /><path clip-path=\"url(#clip010)\" d=\"M 0 0 M111.904 862.193 Q108.293 862.193 106.464 865.758 Q104.659 869.3 104.659 876.43 Q104.659 883.536 106.464 887.101 Q108.293 890.642 111.904 890.642 Q115.538 890.642 117.344 887.101 Q119.172 883.536 119.172 876.43 Q119.172 869.3 117.344 865.758 Q115.538 862.193 111.904 862.193 M111.904 858.49 Q117.714 858.49 120.77 863.096 Q123.848 867.68 123.848 876.43 Q123.848 885.156 120.77 889.763 Q117.714 894.346 111.904 894.346 Q106.094 894.346 103.015 889.763 Q99.9595 885.156 99.9595 876.43 Q99.9595 867.68 103.015 863.096 Q106.094 858.49 111.904 858.49 Z\" fill=\"#000000\" fill-rule=\"evenodd\" fill-opacity=\"1\" /><path clip-path=\"url(#clip010)\" d=\"M 0 0 M67.969 604 L75.6078 604 L75.6078 577.635 L67.2977 579.302 L67.2977 575.042 L75.5615 573.376 L80.2374 573.376 L80.2374 604 L87.8763 604 L87.8763 607.936 L67.969 607.936 L67.969 604 Z\" fill=\"#000000\" fill-rule=\"evenodd\" fill-opacity=\"1\" /><path clip-path=\"url(#clip010)\" d=\"M 0 0 M92.9457 602.056 L97.8299 602.056 L97.8299 607.936 L92.9457 607.936 L92.9457 602.056 Z\" fill=\"#000000\" fill-rule=\"evenodd\" fill-opacity=\"1\" /><path clip-path=\"url(#clip010)\" d=\"M 0 0 M102.946 573.376 L121.302 573.376 L121.302 577.311 L107.228 577.311 L107.228 585.783 Q108.247 585.436 109.265 585.274 Q110.284 585.089 111.302 585.089 Q117.089 585.089 120.469 588.26 Q123.848 591.431 123.848 596.848 Q123.848 602.426 120.376 605.528 Q116.904 608.607 110.584 608.607 Q108.409 608.607 106.14 608.237 Q103.895 607.866 101.487 607.125 L101.487 602.426 Q103.571 603.561 105.793 604.116 Q108.015 604.672 110.492 604.672 Q114.496 604.672 116.834 602.565 Q119.172 600.459 119.172 596.848 Q119.172 593.237 116.834 591.13 Q114.496 589.024 110.492 589.024 Q108.617 589.024 106.742 589.44 Q104.89 589.857 102.946 590.737 L102.946 573.376 Z\" fill=\"#000000\" fill-rule=\"evenodd\" fill-opacity=\"1\" /><path clip-path=\"url(#clip010)\" d=\"M 0 0 M70.5615 318.261 L86.8809 318.261 L86.8809 322.196 L64.9366 322.196 L64.9366 318.261 Q67.5986 315.507 72.1819 310.877 Q76.7883 306.224 77.9689 304.882 Q80.2143 302.359 81.0939 300.623 Q81.9967 298.863 81.9967 297.173 Q81.9967 294.419 80.0522 292.683 Q78.1309 290.947 75.0291 290.947 Q72.83 290.947 70.3763 291.711 Q67.9458 292.474 65.168 294.025 L65.168 289.303 Q67.9921 288.169 70.4458 287.59 Q72.8995 287.011 74.9365 287.011 Q80.3068 287.011 83.5013 289.697 Q86.6957 292.382 86.6957 296.873 Q86.6957 299.002 85.8855 300.923 Q85.0985 302.822 82.992 305.414 Q82.4133 306.085 79.3115 309.303 Q76.2096 312.497 70.5615 318.261 Z\" fill=\"#000000\" fill-rule=\"evenodd\" fill-opacity=\"1\" /><path clip-path=\"url(#clip010)\" d=\"M 0 0 M91.9503 316.317 L96.8345 316.317 L96.8345 322.196 L91.9503 322.196 L91.9503 316.317 Z\" fill=\"#000000\" fill-rule=\"evenodd\" fill-opacity=\"1\" /><path clip-path=\"url(#clip010)\" d=\"M 0 0 M111.904 290.715 Q108.293 290.715 106.464 294.28 Q104.659 297.822 104.659 304.951 Q104.659 312.058 106.464 315.622 Q108.293 319.164 111.904 319.164 Q115.538 319.164 117.344 315.622 Q119.172 312.058 119.172 304.951 Q119.172 297.822 117.344 294.28 Q115.538 290.715 111.904 290.715 M111.904 287.011 Q117.714 287.011 120.77 291.618 Q123.848 296.201 123.848 304.951 Q123.848 313.678 120.77 318.284 Q117.714 322.868 111.904 322.868 Q106.094 322.868 103.015 318.284 Q99.9595 313.678 99.9595 304.951 Q99.9595 296.201 103.015 291.618 Q106.094 287.011 111.904 287.011 Z\" fill=\"#000000\" fill-rule=\"evenodd\" fill-opacity=\"1\" /><path clip-path=\"url(#clip010)\" d=\"M 0 0 M895.402 18.8205 L895.402 41.5461 L905.692 41.5461 Q911.403 41.5461 914.523 38.5889 Q917.642 35.6318 917.642 30.163 Q917.642 24.7348 914.523 21.7777 Q911.403 18.8205 905.692 18.8205 L895.402 18.8205 M887.22 12.096 L905.692 12.096 Q915.859 12.096 921.045 16.714 Q926.27 21.2916 926.27 30.163 Q926.27 39.1155 921.045 43.6931 Q915.859 48.2706 905.692 48.2706 L895.402 48.2706 L895.402 72.576 L887.22 72.576 L887.22 12.096 Z\" fill=\"#000000\" fill-rule=\"evenodd\" fill-opacity=\"1\" /><path clip-path=\"url(#clip010)\" d=\"M 0 0 M934.089 9.54393 L941.542 9.54393 L941.542 72.576 L934.089 72.576 L934.089 9.54393 Z\" fill=\"#000000\" fill-rule=\"evenodd\" fill-opacity=\"1\" /><path clip-path=\"url(#clip010)\" d=\"M 0 0 M966.941 32.4315 Q960.946 32.4315 957.462 37.1306 Q953.978 41.7891 953.978 49.9314 Q953.978 58.0738 957.422 62.7728 Q960.905 67.4314 966.941 67.4314 Q972.896 67.4314 976.38 62.7323 Q979.864 58.0333 979.864 49.9314 Q979.864 41.8701 976.38 37.1711 Q972.896 32.4315 966.941 32.4315 M966.941 26.1121 Q976.664 26.1121 982.213 32.4315 Q987.763 38.7509 987.763 49.9314 Q987.763 61.0714 982.213 67.4314 Q976.664 73.7508 966.941 73.7508 Q957.179 73.7508 951.629 67.4314 Q946.12 61.0714 946.12 49.9314 Q946.12 38.7509 951.629 32.4315 Q957.179 26.1121 966.941 26.1121 Z\" fill=\"#000000\" fill-rule=\"evenodd\" fill-opacity=\"1\" /><path clip-path=\"url(#clip010)\" d=\"M 0 0 M1002.95 14.324 L1002.95 27.2059 L1018.31 27.2059 L1018.31 32.9987 L1002.95 32.9987 L1002.95 57.6282 Q1002.95 63.1779 1004.45 64.7578 Q1005.99 66.3376 1010.65 66.3376 L1018.31 66.3376 L1018.31 72.576 L1010.65 72.576 Q1002.02 72.576 998.741 69.3758 Q995.46 66.1351 995.46 57.6282 L995.46 32.9987 L989.991 32.9987 L989.991 27.2059 L995.46 27.2059 L995.46 14.324 L1002.95 14.324 Z\" fill=\"#000000\" fill-rule=\"evenodd\" fill-opacity=\"1\" /><path clip-path=\"url(#clip010)\" d=\"M 0 0 M1075.47 9.54393 L1075.47 15.7418 L1068.34 15.7418 Q1064.33 15.7418 1062.75 17.3622 Q1061.21 18.9825 1061.21 23.1955 L1061.21 27.2059 L1073.48 27.2059 L1073.48 32.9987 L1061.21 32.9987 L1061.21 72.576 L1053.71 72.576 L1053.71 32.9987 L1046.58 32.9987 L1046.58 27.2059 L1053.71 27.2059 L1053.71 24.0462 Q1053.71 16.471 1057.24 13.0277 Q1060.76 9.54393 1068.42 9.54393 L1075.47 9.54393 Z\" fill=\"#000000\" fill-rule=\"evenodd\" fill-opacity=\"1\" /><path clip-path=\"url(#clip010)\" d=\"M 0 0 M1100.86 32.4315 Q1094.87 32.4315 1091.39 37.1306 Q1087.9 41.7891 1087.9 49.9314 Q1087.9 58.0738 1091.34 62.7728 Q1094.83 67.4314 1100.86 67.4314 Q1106.82 67.4314 1110.3 62.7323 Q1113.79 58.0333 1113.79 49.9314 Q1113.79 41.8701 1110.3 37.1711 Q1106.82 32.4315 1100.86 32.4315 M1100.86 26.1121 Q1110.59 26.1121 1116.14 32.4315 Q1121.69 38.7509 1121.69 49.9314 Q1121.69 61.0714 1116.14 67.4314 Q1110.59 73.7508 1100.86 73.7508 Q1091.1 73.7508 1085.55 67.4314 Q1080.04 61.0714 1080.04 49.9314 Q1080.04 38.7509 1085.55 32.4315 Q1091.1 26.1121 1100.86 26.1121 Z\" fill=\"#000000\" fill-rule=\"evenodd\" fill-opacity=\"1\" /><path clip-path=\"url(#clip010)\" d=\"M 0 0 M1155.79 34.1734 Q1154.54 33.4443 1153.04 33.1202 Q1151.58 32.7556 1149.8 32.7556 Q1143.48 32.7556 1140.08 36.8875 Q1136.71 40.9789 1136.71 48.6757 L1136.71 72.576 L1129.22 72.576 L1129.22 27.2059 L1136.71 27.2059 L1136.71 34.2544 Q1139.06 30.1225 1142.83 28.1376 Q1146.6 26.1121 1151.99 26.1121 Q1152.76 26.1121 1153.69 26.2337 Q1154.62 26.3147 1155.75 26.5172 L1155.79 34.1734 Z\" fill=\"#000000\" fill-rule=\"evenodd\" fill-opacity=\"1\" /><path clip-path=\"url(#clip010)\" d=\"M 0 0 M1219.84 49.3643 Q1219.84 41.2625 1216.48 36.8065 Q1213.16 32.3505 1207.12 32.3505 Q1201.12 32.3505 1197.76 36.8065 Q1194.44 41.2625 1194.44 49.3643 Q1194.44 57.4256 1197.76 61.8816 Q1201.12 66.3376 1207.12 66.3376 Q1213.16 66.3376 1216.48 61.8816 Q1219.84 57.4256 1219.84 49.3643 M1227.29 66.9452 Q1227.29 78.5308 1222.15 84.1616 Q1217 89.8329 1206.39 89.8329 Q1202.46 89.8329 1198.98 89.2252 Q1195.49 88.6581 1192.21 87.4428 L1192.21 80.1917 Q1195.49 81.9741 1198.69 82.8248 Q1201.89 83.6755 1205.22 83.6755 Q1212.55 83.6755 1216.19 79.8271 Q1219.84 76.0193 1219.84 68.282 L1219.84 64.5957 Q1217.53 68.6061 1213.92 70.5911 Q1210.32 72.576 1205.3 72.576 Q1196.95 72.576 1191.85 66.2161 Q1186.74 59.8562 1186.74 49.3643 Q1186.74 38.832 1191.85 32.472 Q1196.95 26.1121 1205.3 26.1121 Q1210.32 26.1121 1213.92 28.0971 Q1217.53 30.082 1219.84 34.0924 L1219.84 27.2059 L1227.29 27.2059 L1227.29 66.9452 Z\" fill=\"#000000\" fill-rule=\"evenodd\" fill-opacity=\"1\" /><path clip-path=\"url(#clip010)\" d=\"M 0 0 M1261.4 34.1734 Q1260.15 33.4443 1258.65 33.1202 Q1257.19 32.7556 1255.41 32.7556 Q1249.09 32.7556 1245.68 36.8875 Q1242.32 40.9789 1242.32 48.6757 L1242.32 72.576 L1234.83 72.576 L1234.83 27.2059 L1242.32 27.2059 L1242.32 34.2544 Q1244.67 30.1225 1248.44 28.1376 Q1252.21 26.1121 1257.59 26.1121 Q1258.36 26.1121 1259.3 26.2337 Q1260.23 26.3147 1261.36 26.5172 L1261.4 34.1734 Z\" fill=\"#000000\" fill-rule=\"evenodd\" fill-opacity=\"1\" /><path clip-path=\"url(#clip010)\" d=\"M 0 0 M1289.84 49.7694 Q1280.81 49.7694 1277.32 51.8354 Q1273.84 53.9013 1273.84 58.8839 Q1273.84 62.8538 1276.43 65.2034 Q1279.06 67.5124 1283.56 67.5124 Q1289.76 67.5124 1293.48 63.1374 Q1297.25 58.7219 1297.25 51.4303 L1297.25 49.7694 L1289.84 49.7694 M1304.71 46.6907 L1304.71 72.576 L1297.25 72.576 L1297.25 65.6895 Q1294.7 69.8214 1290.89 71.8063 Q1287.08 73.7508 1281.58 73.7508 Q1274.61 73.7508 1270.48 69.8619 Q1266.38 65.9325 1266.38 59.3701 Q1266.38 51.7138 1271.49 47.825 Q1276.63 43.9361 1286.8 43.9361 L1297.25 43.9361 L1297.25 43.2069 Q1297.25 38.0623 1293.85 35.2672 Q1290.49 32.4315 1284.37 32.4315 Q1280.48 32.4315 1276.8 33.3632 Q1273.11 34.295 1269.71 36.1584 L1269.71 29.2718 Q1273.8 27.692 1277.65 26.9223 Q1281.49 26.1121 1285.14 26.1121 Q1294.98 26.1121 1299.84 31.2163 Q1304.71 36.3204 1304.71 46.6907 Z\" fill=\"#000000\" fill-rule=\"evenodd\" fill-opacity=\"1\" /><path clip-path=\"url(#clip010)\" d=\"M 0 0 M1342.38 34.0924 L1342.38 9.54393 L1349.83 9.54393 L1349.83 72.576 L1342.38 72.576 L1342.38 65.7705 Q1340.03 69.8214 1336.42 71.8063 Q1332.86 73.7508 1327.84 73.7508 Q1319.61 73.7508 1314.43 67.1883 Q1309.28 60.6258 1309.28 49.9314 Q1309.28 39.2371 1314.43 32.6746 Q1319.61 26.1121 1327.84 26.1121 Q1332.86 26.1121 1336.42 28.0971 Q1340.03 30.0415 1342.38 34.0924 M1316.98 49.9314 Q1316.98 58.1548 1320.34 62.8538 Q1323.74 67.5124 1329.66 67.5124 Q1335.57 67.5124 1338.98 62.8538 Q1342.38 58.1548 1342.38 49.9314 Q1342.38 41.7081 1338.98 37.0496 Q1335.57 32.3505 1329.66 32.3505 Q1323.74 32.3505 1320.34 37.0496 Q1316.98 41.7081 1316.98 49.9314 Z\" fill=\"#000000\" fill-rule=\"evenodd\" fill-opacity=\"1\" /><path clip-path=\"url(#clip010)\" d=\"M 0 0 M1396.46 48.0275 L1396.46 51.6733 L1362.19 51.6733 Q1362.67 59.3701 1366.81 63.421 Q1370.98 67.4314 1378.39 67.4314 Q1382.69 67.4314 1386.7 66.3781 Q1390.75 65.3249 1394.72 63.2184 L1394.72 70.267 Q1390.71 71.9684 1386.49 72.8596 Q1382.28 73.7508 1377.95 73.7508 Q1367.09 73.7508 1360.73 67.4314 Q1354.41 61.1119 1354.41 50.3365 Q1354.41 39.1965 1360.41 32.6746 Q1366.44 26.1121 1376.65 26.1121 Q1385.8 26.1121 1391.11 32.0264 Q1396.46 37.9003 1396.46 48.0275 M1389.01 45.84 Q1388.92 39.7232 1385.56 36.0774 Q1382.24 32.4315 1376.73 32.4315 Q1370.49 32.4315 1366.73 35.9558 Q1363 39.4801 1362.43 45.8805 L1389.01 45.84 Z\" fill=\"#000000\" fill-rule=\"evenodd\" fill-opacity=\"1\" /><path clip-path=\"url(#clip010)\" d=\"M 0 0 M1434.13 34.0924 L1434.13 9.54393 L1441.59 9.54393 L1441.59 72.576 L1434.13 72.576 L1434.13 65.7705 Q1431.78 69.8214 1428.18 71.8063 Q1424.61 73.7508 1419.59 73.7508 Q1411.37 73.7508 1406.18 67.1883 Q1401.04 60.6258 1401.04 49.9314 Q1401.04 39.2371 1406.18 32.6746 Q1411.37 26.1121 1419.59 26.1121 Q1424.61 26.1121 1428.18 28.0971 Q1431.78 30.0415 1434.13 34.0924 M1408.73 49.9314 Q1408.73 58.1548 1412.1 62.8538 Q1415.5 67.5124 1421.41 67.5124 Q1427.33 67.5124 1430.73 62.8538 Q1434.13 58.1548 1434.13 49.9314 Q1434.13 41.7081 1430.73 37.0496 Q1427.33 32.3505 1421.41 32.3505 Q1415.5 32.3505 1412.1 37.0496 Q1408.73 41.7081 1408.73 49.9314 Z\" fill=\"#000000\" fill-rule=\"evenodd\" fill-opacity=\"1\" /><path clip-path=\"url(#clip010)\" d=\"M 0 0 M1480.23 49.9314 Q1480.23 58.1548 1483.59 62.8538 Q1487 67.5124 1492.91 67.5124 Q1498.83 67.5124 1502.23 62.8538 Q1505.63 58.1548 1505.63 49.9314 Q1505.63 41.7081 1502.23 37.0496 Q1498.83 32.3505 1492.91 32.3505 Q1487 32.3505 1483.59 37.0496 Q1480.23 41.7081 1480.23 49.9314 M1505.63 65.7705 Q1503.28 69.8214 1499.68 71.8063 Q1496.11 73.7508 1491.09 73.7508 Q1482.86 73.7508 1477.68 67.1883 Q1472.53 60.6258 1472.53 49.9314 Q1472.53 39.2371 1477.68 32.6746 Q1482.86 26.1121 1491.09 26.1121 Q1496.11 26.1121 1499.68 28.0971 Q1503.28 30.0415 1505.63 34.0924 L1505.63 27.2059 L1513.08 27.2059 L1513.08 89.8329 L1505.63 89.8329 L1505.63 65.7705 Z\" fill=\"#000000\" fill-rule=\"evenodd\" fill-opacity=\"1\" /><path clip-path=\"url(#clip010)\" d=\"M 0 0 M1520.13 54.671 L1520.13 27.2059 L1527.59 27.2059 L1527.59 54.3874 Q1527.59 60.8284 1530.1 64.0691 Q1532.61 67.2693 1537.63 67.2693 Q1543.67 67.2693 1547.15 63.421 Q1550.68 59.5726 1550.68 52.9291 L1550.68 27.2059 L1558.13 27.2059 L1558.13 72.576 L1550.68 72.576 L1550.68 65.6084 Q1547.96 69.7404 1544.36 71.7658 Q1540.79 73.7508 1536.05 73.7508 Q1528.23 73.7508 1524.18 68.8897 Q1520.13 64.0286 1520.13 54.671 M1538.89 26.1121 L1538.89 26.1121 Z\" fill=\"#000000\" fill-rule=\"evenodd\" fill-opacity=\"1\" /><path clip-path=\"url(#clip010)\" d=\"M 0 0 M1565.95 27.2059 L1573.4 27.2059 L1573.4 72.576 L1565.95 72.576 L1565.95 27.2059 M1565.95 9.54393 L1573.4 9.54393 L1573.4 18.9825 L1565.95 18.9825 L1565.95 9.54393 Z\" fill=\"#000000\" fill-rule=\"evenodd\" fill-opacity=\"1\" /><path clip-path=\"url(#clip010)\" d=\"M 0 0 M1577.98 27.2059 L1613.38 27.2059 L1613.38 34.0114 L1585.35 66.6212 L1613.38 66.6212 L1613.38 72.576 L1576.97 72.576 L1576.97 65.7705 L1605 33.1607 L1577.98 33.1607 L1577.98 27.2059 Z\" fill=\"#000000\" fill-rule=\"evenodd\" fill-opacity=\"1\" /><path clip-path=\"url(#clip012)\" d=\"M210.251 892.395 L196.395 884.395 L196.395 868.395 L210.251 860.395 L224.107 868.395 L224.107 884.395 Z\" fill=\"#009af9\" fill-rule=\"evenodd\" fill-opacity=\"1\" stroke=\"#000000\" stroke-opacity=\"1\" stroke-width=\"3.2\"/>\n",
       "<path clip-path=\"url(#clip012)\" d=\"M626.272 1321 L612.416 1313 L612.416 1297 L626.272 1289 L640.128 1297 L640.128 1313 Z\" fill=\"#e26f46\" fill-rule=\"evenodd\" fill-opacity=\"1\" stroke=\"#000000\" stroke-opacity=\"1\" stroke-width=\"3.2\"/>\n",
       "<path clip-path=\"url(#clip012)\" d=\"M1042.29 1463.87 L1028.44 1455.87 L1028.44 1439.87 L1042.29 1431.87 L1056.15 1439.87 L1056.15 1455.87 Z\" fill=\"#3da44d\" fill-rule=\"evenodd\" fill-opacity=\"1\" stroke=\"#000000\" stroke-opacity=\"1\" stroke-width=\"3.2\"/>\n",
       "<path clip-path=\"url(#clip012)\" d=\"M1458.31 1321 L1444.46 1313 L1444.46 1297 L1458.31 1289 L1472.17 1297 L1472.17 1313 Z\" fill=\"#c271d2\" fill-rule=\"evenodd\" fill-opacity=\"1\" stroke=\"#000000\" stroke-opacity=\"1\" stroke-width=\"3.2\"/>\n",
       "<path clip-path=\"url(#clip012)\" d=\"M1874.33 892.395 L1860.48 884.395 L1860.48 868.395 L1874.33 860.395 L1888.19 868.395 L1888.19 884.395 Z\" fill=\"#ac8d18\" fill-rule=\"evenodd\" fill-opacity=\"1\" stroke=\"#000000\" stroke-opacity=\"1\" stroke-width=\"3.2\"/>\n",
       "<path clip-path=\"url(#clip012)\" d=\"M2290.35 178.047 L2276.5 170.047 L2276.5 154.047 L2290.35 146.047 L2304.21 154.047 L2304.21 170.047 Z\" fill=\"#00a9ad\" fill-rule=\"evenodd\" fill-opacity=\"1\" stroke=\"#000000\" stroke-opacity=\"1\" stroke-width=\"3.2\"/>\n",
       "</svg>\n"
      ]
     },
     "execution_count": 33,
     "metadata": {},
     "output_type": "execute_result"
    }
   ],
   "source": [
    "x = [1 2 3 4 5 6]\n",
    "y = (x.-3).^2/4\n",
    "plot(x,y, marker = :hex, leg=false, linewidth = 2, linecolor=:black)\n",
    "plot!(title=\"Plot for graded quiz\")"
   ]
  },
  {
   "cell_type": "code",
   "execution_count": 34,
   "metadata": {},
   "outputs": [
    {
     "data": {
      "image/svg+xml": [
       "<?xml version=\"1.0\" encoding=\"utf-8\"?>\n",
       "<svg xmlns=\"http://www.w3.org/2000/svg\" xmlns:xlink=\"http://www.w3.org/1999/xlink\" width=\"600\" height=\"400\" viewBox=\"0 0 2400 1600\">\n",
       "<defs>\n",
       "  <clipPath id=\"clip050\">\n",
       "    <rect x=\"0\" y=\"0\" width=\"2400\" height=\"1600\"/>\n",
       "  </clipPath>\n",
       "</defs>\n",
       "<path clip-path=\"url(#clip050)\" d=\"\n",
       "M0 1600 L2400 1600 L2400 0 L0 0  Z\n",
       "  \" fill=\"#ffffff\" fill-rule=\"evenodd\" fill-opacity=\"1\"/>\n",
       "<defs>\n",
       "  <clipPath id=\"clip051\">\n",
       "    <rect x=\"480\" y=\"0\" width=\"1681\" height=\"1600\"/>\n",
       "  </clipPath>\n",
       "</defs>\n",
       "<path clip-path=\"url(#clip050)\" d=\"\n",
       "M147.848 1486.45 L2352.76 1486.45 L2352.76 123.472 L147.848 123.472  Z\n",
       "  \" fill=\"#ffffff\" fill-rule=\"evenodd\" fill-opacity=\"1\"/>\n",
       "<defs>\n",
       "  <clipPath id=\"clip052\">\n",
       "    <rect x=\"147\" y=\"123\" width=\"2206\" height=\"1364\"/>\n",
       "  </clipPath>\n",
       "</defs>\n",
       "<polyline clip-path=\"url(#clip052)\" style=\"stroke:#000000; stroke-width:2; stroke-opacity:0.1; fill:none\" points=\"\n",
       "  210.251,1486.45 210.251,123.472 \n",
       "  \"/>\n",
       "<polyline clip-path=\"url(#clip052)\" style=\"stroke:#000000; stroke-width:2; stroke-opacity:0.1; fill:none\" points=\"\n",
       "  626.272,1486.45 626.272,123.472 \n",
       "  \"/>\n",
       "<polyline clip-path=\"url(#clip052)\" style=\"stroke:#000000; stroke-width:2; stroke-opacity:0.1; fill:none\" points=\"\n",
       "  1042.29,1486.45 1042.29,123.472 \n",
       "  \"/>\n",
       "<polyline clip-path=\"url(#clip052)\" style=\"stroke:#000000; stroke-width:2; stroke-opacity:0.1; fill:none\" points=\"\n",
       "  1458.31,1486.45 1458.31,123.472 \n",
       "  \"/>\n",
       "<polyline clip-path=\"url(#clip052)\" style=\"stroke:#000000; stroke-width:2; stroke-opacity:0.1; fill:none\" points=\"\n",
       "  1874.33,1486.45 1874.33,123.472 \n",
       "  \"/>\n",
       "<polyline clip-path=\"url(#clip052)\" style=\"stroke:#000000; stroke-width:2; stroke-opacity:0.1; fill:none\" points=\"\n",
       "  2290.35,1486.45 2290.35,123.472 \n",
       "  \"/>\n",
       "<polyline clip-path=\"url(#clip052)\" style=\"stroke:#000000; stroke-width:2; stroke-opacity:0.1; fill:none\" points=\"\n",
       "  147.848,1447.87 2352.76,1447.87 \n",
       "  \"/>\n",
       "<polyline clip-path=\"url(#clip052)\" style=\"stroke:#000000; stroke-width:2; stroke-opacity:0.1; fill:none\" points=\"\n",
       "  147.848,1162.13 2352.76,1162.13 \n",
       "  \"/>\n",
       "<polyline clip-path=\"url(#clip052)\" style=\"stroke:#000000; stroke-width:2; stroke-opacity:0.1; fill:none\" points=\"\n",
       "  147.848,876.395 2352.76,876.395 \n",
       "  \"/>\n",
       "<polyline clip-path=\"url(#clip052)\" style=\"stroke:#000000; stroke-width:2; stroke-opacity:0.1; fill:none\" points=\"\n",
       "  147.848,590.656 2352.76,590.656 \n",
       "  \"/>\n",
       "<polyline clip-path=\"url(#clip052)\" style=\"stroke:#000000; stroke-width:2; stroke-opacity:0.1; fill:none\" points=\"\n",
       "  147.848,304.916 2352.76,304.916 \n",
       "  \"/>\n",
       "<polyline clip-path=\"url(#clip050)\" style=\"stroke:#000000; stroke-width:4; stroke-opacity:1; fill:none\" points=\"\n",
       "  147.848,1486.45 2352.76,1486.45 \n",
       "  \"/>\n",
       "<polyline clip-path=\"url(#clip050)\" style=\"stroke:#000000; stroke-width:4; stroke-opacity:1; fill:none\" points=\"\n",
       "  147.848,1486.45 147.848,123.472 \n",
       "  \"/>\n",
       "<polyline clip-path=\"url(#clip050)\" style=\"stroke:#000000; stroke-width:4; stroke-opacity:1; fill:none\" points=\"\n",
       "  210.251,1486.45 210.251,1470.09 \n",
       "  \"/>\n",
       "<polyline clip-path=\"url(#clip050)\" style=\"stroke:#000000; stroke-width:4; stroke-opacity:1; fill:none\" points=\"\n",
       "  626.272,1486.45 626.272,1470.09 \n",
       "  \"/>\n",
       "<polyline clip-path=\"url(#clip050)\" style=\"stroke:#000000; stroke-width:4; stroke-opacity:1; fill:none\" points=\"\n",
       "  1042.29,1486.45 1042.29,1470.09 \n",
       "  \"/>\n",
       "<polyline clip-path=\"url(#clip050)\" style=\"stroke:#000000; stroke-width:4; stroke-opacity:1; fill:none\" points=\"\n",
       "  1458.31,1486.45 1458.31,1470.09 \n",
       "  \"/>\n",
       "<polyline clip-path=\"url(#clip050)\" style=\"stroke:#000000; stroke-width:4; stroke-opacity:1; fill:none\" points=\"\n",
       "  1874.33,1486.45 1874.33,1470.09 \n",
       "  \"/>\n",
       "<polyline clip-path=\"url(#clip050)\" style=\"stroke:#000000; stroke-width:4; stroke-opacity:1; fill:none\" points=\"\n",
       "  2290.35,1486.45 2290.35,1470.09 \n",
       "  \"/>\n",
       "<polyline clip-path=\"url(#clip050)\" style=\"stroke:#000000; stroke-width:4; stroke-opacity:1; fill:none\" points=\"\n",
       "  147.848,1447.87 174.307,1447.87 \n",
       "  \"/>\n",
       "<polyline clip-path=\"url(#clip050)\" style=\"stroke:#000000; stroke-width:4; stroke-opacity:1; fill:none\" points=\"\n",
       "  147.848,1162.13 174.307,1162.13 \n",
       "  \"/>\n",
       "<polyline clip-path=\"url(#clip050)\" style=\"stroke:#000000; stroke-width:4; stroke-opacity:1; fill:none\" points=\"\n",
       "  147.848,876.395 174.307,876.395 \n",
       "  \"/>\n",
       "<polyline clip-path=\"url(#clip050)\" style=\"stroke:#000000; stroke-width:4; stroke-opacity:1; fill:none\" points=\"\n",
       "  147.848,590.656 174.307,590.656 \n",
       "  \"/>\n",
       "<polyline clip-path=\"url(#clip050)\" style=\"stroke:#000000; stroke-width:4; stroke-opacity:1; fill:none\" points=\"\n",
       "  147.848,304.916 174.307,304.916 \n",
       "  \"/>\n",
       "<path clip-path=\"url(#clip050)\" d=\"M 0 0 M200.633 1535.98 L208.272 1535.98 L208.272 1509.62 L199.962 1511.29 L199.962 1507.03 L208.226 1505.36 L212.902 1505.36 L212.902 1535.98 L220.541 1535.98 L220.541 1539.92 L200.633 1539.92 L200.633 1535.98 Z\" fill=\"#000000\" fill-rule=\"evenodd\" fill-opacity=\"1\" /><path clip-path=\"url(#clip050)\" d=\"M 0 0 M620.924 1535.98 L637.244 1535.98 L637.244 1539.92 L615.299 1539.92 L615.299 1535.98 Q617.961 1533.23 622.545 1528.6 Q627.151 1523.95 628.332 1522.61 Q630.577 1520.08 631.457 1518.35 Q632.36 1516.59 632.36 1514.9 Q632.36 1512.14 630.415 1510.41 Q628.494 1508.67 625.392 1508.67 Q623.193 1508.67 620.739 1509.43 Q618.309 1510.2 615.531 1511.75 L615.531 1507.03 Q618.355 1505.89 620.809 1505.31 Q623.262 1504.73 625.299 1504.73 Q630.67 1504.73 633.864 1507.42 Q637.059 1510.11 637.059 1514.6 Q637.059 1516.73 636.248 1518.65 Q635.461 1520.54 633.355 1523.14 Q632.776 1523.81 629.674 1527.03 Q626.573 1530.22 620.924 1535.98 Z\" fill=\"#000000\" fill-rule=\"evenodd\" fill-opacity=\"1\" /><path clip-path=\"url(#clip050)\" d=\"M 0 0 M1046.54 1521.29 Q1049.9 1522 1051.77 1524.27 Q1053.67 1526.54 1053.67 1529.87 Q1053.67 1534.99 1050.15 1537.79 Q1046.63 1540.59 1040.15 1540.59 Q1037.97 1540.59 1035.66 1540.15 Q1033.37 1539.73 1030.91 1538.88 L1030.91 1534.36 Q1032.86 1535.5 1035.17 1536.08 Q1037.49 1536.66 1040.01 1536.66 Q1044.41 1536.66 1046.7 1534.92 Q1049.02 1533.18 1049.02 1529.87 Q1049.02 1526.82 1046.86 1525.11 Q1044.73 1523.37 1040.91 1523.37 L1036.89 1523.37 L1036.89 1519.53 L1041.1 1519.53 Q1044.55 1519.53 1046.38 1518.16 Q1048.21 1516.77 1048.21 1514.18 Q1048.21 1511.52 1046.31 1510.11 Q1044.43 1508.67 1040.91 1508.67 Q1038.99 1508.67 1036.79 1509.09 Q1034.6 1509.5 1031.96 1510.38 L1031.96 1506.22 Q1034.62 1505.48 1036.93 1505.11 Q1039.27 1504.73 1041.33 1504.73 Q1046.66 1504.73 1049.76 1507.17 Q1052.86 1509.57 1052.86 1513.69 Q1052.86 1516.56 1051.22 1518.55 Q1049.57 1520.52 1046.54 1521.29 Z\" fill=\"#000000\" fill-rule=\"evenodd\" fill-opacity=\"1\" /><path clip-path=\"url(#clip050)\" d=\"M 0 0 M1461.32 1509.43 L1449.52 1527.88 L1461.32 1527.88 L1461.32 1509.43 M1460.09 1505.36 L1465.97 1505.36 L1465.97 1527.88 L1470.9 1527.88 L1470.9 1531.77 L1465.97 1531.77 L1465.97 1539.92 L1461.32 1539.92 L1461.32 1531.77 L1445.72 1531.77 L1445.72 1527.26 L1460.09 1505.36 Z\" fill=\"#000000\" fill-rule=\"evenodd\" fill-opacity=\"1\" /><path clip-path=\"url(#clip050)\" d=\"M 0 0 M1864.61 1505.36 L1882.97 1505.36 L1882.97 1509.3 L1868.89 1509.3 L1868.89 1517.77 Q1869.91 1517.42 1870.93 1517.26 Q1871.95 1517.07 1872.97 1517.07 Q1878.75 1517.07 1882.13 1520.24 Q1885.51 1523.42 1885.51 1528.83 Q1885.51 1534.41 1882.04 1537.51 Q1878.57 1540.59 1872.25 1540.59 Q1870.07 1540.59 1867.8 1540.22 Q1865.56 1539.85 1863.15 1539.11 L1863.15 1534.41 Q1865.24 1535.54 1867.46 1536.1 Q1869.68 1536.66 1872.16 1536.66 Q1876.16 1536.66 1878.5 1534.55 Q1880.84 1532.44 1880.84 1528.83 Q1880.84 1525.22 1878.5 1523.11 Q1876.16 1521.01 1872.16 1521.01 Q1870.28 1521.01 1868.41 1521.42 Q1866.55 1521.84 1864.61 1522.72 L1864.61 1505.36 Z\" fill=\"#000000\" fill-rule=\"evenodd\" fill-opacity=\"1\" /><path clip-path=\"url(#clip050)\" d=\"M 0 0 M2290.76 1520.78 Q2287.61 1520.78 2285.76 1522.93 Q2283.93 1525.08 2283.93 1528.83 Q2283.93 1532.56 2285.76 1534.73 Q2287.61 1536.89 2290.76 1536.89 Q2293.91 1536.89 2295.73 1534.73 Q2297.59 1532.56 2297.59 1528.83 Q2297.59 1525.08 2295.73 1522.93 Q2293.91 1520.78 2290.76 1520.78 M2300.04 1506.12 L2300.04 1510.38 Q2298.28 1509.55 2296.48 1509.11 Q2294.69 1508.67 2292.93 1508.67 Q2288.3 1508.67 2285.85 1511.8 Q2283.42 1514.92 2283.07 1521.24 Q2284.44 1519.23 2286.5 1518.16 Q2288.56 1517.07 2291.04 1517.07 Q2296.24 1517.07 2299.25 1520.24 Q2302.29 1523.39 2302.29 1528.83 Q2302.29 1534.16 2299.14 1537.37 Q2295.99 1540.59 2290.76 1540.59 Q2284.76 1540.59 2281.59 1536.01 Q2278.42 1531.4 2278.42 1522.67 Q2278.42 1514.48 2282.31 1509.62 Q2286.2 1504.73 2292.75 1504.73 Q2294.51 1504.73 2296.29 1505.08 Q2298.1 1505.43 2300.04 1506.12 Z\" fill=\"#000000\" fill-rule=\"evenodd\" fill-opacity=\"1\" /><path clip-path=\"url(#clip050)\" d=\"M 0 0 M74.9365 1433.67 Q71.3254 1433.67 69.4967 1437.24 Q67.6912 1440.78 67.6912 1447.91 Q67.6912 1455.01 69.4967 1458.58 Q71.3254 1462.12 74.9365 1462.12 Q78.5707 1462.12 80.3763 1458.58 Q82.205 1455.01 82.205 1447.91 Q82.205 1440.78 80.3763 1437.24 Q78.5707 1433.67 74.9365 1433.67 M74.9365 1429.97 Q80.7467 1429.97 83.8022 1434.57 Q86.8809 1439.16 86.8809 1447.91 Q86.8809 1456.63 83.8022 1461.24 Q80.7467 1465.82 74.9365 1465.82 Q69.1264 1465.82 66.0477 1461.24 Q62.9921 1456.63 62.9921 1447.91 Q62.9921 1439.16 66.0477 1434.57 Q69.1264 1429.97 74.9365 1429.97 Z\" fill=\"#000000\" fill-rule=\"evenodd\" fill-opacity=\"1\" /><path clip-path=\"url(#clip050)\" d=\"M 0 0 M91.9503 1459.27 L96.8345 1459.27 L96.8345 1465.15 L91.9503 1465.15 L91.9503 1459.27 Z\" fill=\"#000000\" fill-rule=\"evenodd\" fill-opacity=\"1\" /><path clip-path=\"url(#clip050)\" d=\"M 0 0 M111.904 1433.67 Q108.293 1433.67 106.464 1437.24 Q104.659 1440.78 104.659 1447.91 Q104.659 1455.01 106.464 1458.58 Q108.293 1462.12 111.904 1462.12 Q115.538 1462.12 117.344 1458.58 Q119.172 1455.01 119.172 1447.91 Q119.172 1440.78 117.344 1437.24 Q115.538 1433.67 111.904 1433.67 M111.904 1429.97 Q117.714 1429.97 120.77 1434.57 Q123.848 1439.16 123.848 1447.91 Q123.848 1456.63 120.77 1461.24 Q117.714 1465.82 111.904 1465.82 Q106.094 1465.82 103.015 1461.24 Q99.9595 1456.63 99.9595 1447.91 Q99.9595 1439.16 103.015 1434.57 Q106.094 1429.97 111.904 1429.97 Z\" fill=\"#000000\" fill-rule=\"evenodd\" fill-opacity=\"1\" /><path clip-path=\"url(#clip050)\" d=\"M 0 0 M75.9319 1147.93 Q72.3208 1147.93 70.4921 1151.5 Q68.6865 1155.04 68.6865 1162.17 Q68.6865 1169.28 70.4921 1172.84 Q72.3208 1176.38 75.9319 1176.38 Q79.5661 1176.38 81.3717 1172.84 Q83.2004 1169.28 83.2004 1162.17 Q83.2004 1155.04 81.3717 1151.5 Q79.5661 1147.93 75.9319 1147.93 M75.9319 1144.23 Q81.742 1144.23 84.7976 1148.84 Q87.8763 1153.42 87.8763 1162.17 Q87.8763 1170.9 84.7976 1175.5 Q81.742 1180.09 75.9319 1180.09 Q70.1217 1180.09 67.043 1175.5 Q63.9875 1170.9 63.9875 1162.17 Q63.9875 1153.42 67.043 1148.84 Q70.1217 1144.23 75.9319 1144.23 Z\" fill=\"#000000\" fill-rule=\"evenodd\" fill-opacity=\"1\" /><path clip-path=\"url(#clip050)\" d=\"M 0 0 M92.9457 1173.53 L97.8299 1173.53 L97.8299 1179.41 L92.9457 1179.41 L92.9457 1173.53 Z\" fill=\"#000000\" fill-rule=\"evenodd\" fill-opacity=\"1\" /><path clip-path=\"url(#clip050)\" d=\"M 0 0 M102.946 1144.85 L121.302 1144.85 L121.302 1148.79 L107.228 1148.79 L107.228 1157.26 Q108.247 1156.91 109.265 1156.75 Q110.284 1156.57 111.302 1156.57 Q117.089 1156.57 120.469 1159.74 Q123.848 1162.91 123.848 1168.33 Q123.848 1173.9 120.376 1177.01 Q116.904 1180.09 110.584 1180.09 Q108.409 1180.09 106.14 1179.71 Q103.895 1179.34 101.487 1178.6 L101.487 1173.9 Q103.571 1175.04 105.793 1175.59 Q108.015 1176.15 110.492 1176.15 Q114.496 1176.15 116.834 1174.04 Q119.172 1171.94 119.172 1168.33 Q119.172 1164.71 116.834 1162.61 Q114.496 1160.5 110.492 1160.5 Q108.617 1160.5 106.742 1160.92 Q104.89 1161.34 102.946 1162.21 L102.946 1144.85 Z\" fill=\"#000000\" fill-rule=\"evenodd\" fill-opacity=\"1\" /><path clip-path=\"url(#clip050)\" d=\"M 0 0 M66.9736 889.74 L74.6124 889.74 L74.6124 863.374 L66.3023 865.041 L66.3023 860.781 L74.5661 859.115 L79.242 859.115 L79.242 889.74 L86.8809 889.74 L86.8809 893.675 L66.9736 893.675 L66.9736 889.74 Z\" fill=\"#000000\" fill-rule=\"evenodd\" fill-opacity=\"1\" /><path clip-path=\"url(#clip050)\" d=\"M 0 0 M91.9503 887.795 L96.8345 887.795 L96.8345 893.675 L91.9503 893.675 L91.9503 887.795 Z\" fill=\"#000000\" fill-rule=\"evenodd\" fill-opacity=\"1\" /><path clip-path=\"url(#clip050)\" d=\"M 0 0 M111.904 862.193 Q108.293 862.193 106.464 865.758 Q104.659 869.3 104.659 876.43 Q104.659 883.536 106.464 887.101 Q108.293 890.642 111.904 890.642 Q115.538 890.642 117.344 887.101 Q119.172 883.536 119.172 876.43 Q119.172 869.3 117.344 865.758 Q115.538 862.193 111.904 862.193 M111.904 858.49 Q117.714 858.49 120.77 863.096 Q123.848 867.68 123.848 876.43 Q123.848 885.156 120.77 889.763 Q117.714 894.346 111.904 894.346 Q106.094 894.346 103.015 889.763 Q99.9595 885.156 99.9595 876.43 Q99.9595 867.68 103.015 863.096 Q106.094 858.49 111.904 858.49 Z\" fill=\"#000000\" fill-rule=\"evenodd\" fill-opacity=\"1\" /><path clip-path=\"url(#clip050)\" d=\"M 0 0 M67.969 604 L75.6078 604 L75.6078 577.635 L67.2977 579.302 L67.2977 575.042 L75.5615 573.376 L80.2374 573.376 L80.2374 604 L87.8763 604 L87.8763 607.936 L67.969 607.936 L67.969 604 Z\" fill=\"#000000\" fill-rule=\"evenodd\" fill-opacity=\"1\" /><path clip-path=\"url(#clip050)\" d=\"M 0 0 M92.9457 602.056 L97.8299 602.056 L97.8299 607.936 L92.9457 607.936 L92.9457 602.056 Z\" fill=\"#000000\" fill-rule=\"evenodd\" fill-opacity=\"1\" /><path clip-path=\"url(#clip050)\" d=\"M 0 0 M102.946 573.376 L121.302 573.376 L121.302 577.311 L107.228 577.311 L107.228 585.783 Q108.247 585.436 109.265 585.274 Q110.284 585.089 111.302 585.089 Q117.089 585.089 120.469 588.26 Q123.848 591.431 123.848 596.848 Q123.848 602.426 120.376 605.528 Q116.904 608.607 110.584 608.607 Q108.409 608.607 106.14 608.237 Q103.895 607.866 101.487 607.125 L101.487 602.426 Q103.571 603.561 105.793 604.116 Q108.015 604.672 110.492 604.672 Q114.496 604.672 116.834 602.565 Q119.172 600.459 119.172 596.848 Q119.172 593.237 116.834 591.13 Q114.496 589.024 110.492 589.024 Q108.617 589.024 106.742 589.44 Q104.89 589.857 102.946 590.737 L102.946 573.376 Z\" fill=\"#000000\" fill-rule=\"evenodd\" fill-opacity=\"1\" /><path clip-path=\"url(#clip050)\" d=\"M 0 0 M70.5615 318.261 L86.8809 318.261 L86.8809 322.196 L64.9366 322.196 L64.9366 318.261 Q67.5986 315.507 72.1819 310.877 Q76.7883 306.224 77.9689 304.882 Q80.2143 302.359 81.0939 300.623 Q81.9967 298.863 81.9967 297.173 Q81.9967 294.419 80.0522 292.683 Q78.1309 290.947 75.0291 290.947 Q72.83 290.947 70.3763 291.711 Q67.9458 292.474 65.168 294.025 L65.168 289.303 Q67.9921 288.169 70.4458 287.59 Q72.8995 287.011 74.9365 287.011 Q80.3068 287.011 83.5013 289.697 Q86.6957 292.382 86.6957 296.873 Q86.6957 299.002 85.8855 300.923 Q85.0985 302.822 82.992 305.414 Q82.4133 306.085 79.3115 309.303 Q76.2096 312.497 70.5615 318.261 Z\" fill=\"#000000\" fill-rule=\"evenodd\" fill-opacity=\"1\" /><path clip-path=\"url(#clip050)\" d=\"M 0 0 M91.9503 316.317 L96.8345 316.317 L96.8345 322.196 L91.9503 322.196 L91.9503 316.317 Z\" fill=\"#000000\" fill-rule=\"evenodd\" fill-opacity=\"1\" /><path clip-path=\"url(#clip050)\" d=\"M 0 0 M111.904 290.715 Q108.293 290.715 106.464 294.28 Q104.659 297.822 104.659 304.951 Q104.659 312.058 106.464 315.622 Q108.293 319.164 111.904 319.164 Q115.538 319.164 117.344 315.622 Q119.172 312.058 119.172 304.951 Q119.172 297.822 117.344 294.28 Q115.538 290.715 111.904 290.715 M111.904 287.011 Q117.714 287.011 120.77 291.618 Q123.848 296.201 123.848 304.951 Q123.848 313.678 120.77 318.284 Q117.714 322.868 111.904 322.868 Q106.094 322.868 103.015 318.284 Q99.9595 313.678 99.9595 304.951 Q99.9595 296.201 103.015 291.618 Q106.094 287.011 111.904 287.011 Z\" fill=\"#000000\" fill-rule=\"evenodd\" fill-opacity=\"1\" /><path clip-path=\"url(#clip050)\" d=\"M 0 0 M895.402 18.8205 L895.402 41.5461 L905.692 41.5461 Q911.403 41.5461 914.523 38.5889 Q917.642 35.6318 917.642 30.163 Q917.642 24.7348 914.523 21.7777 Q911.403 18.8205 905.692 18.8205 L895.402 18.8205 M887.22 12.096 L905.692 12.096 Q915.859 12.096 921.045 16.714 Q926.27 21.2916 926.27 30.163 Q926.27 39.1155 921.045 43.6931 Q915.859 48.2706 905.692 48.2706 L895.402 48.2706 L895.402 72.576 L887.22 72.576 L887.22 12.096 Z\" fill=\"#000000\" fill-rule=\"evenodd\" fill-opacity=\"1\" /><path clip-path=\"url(#clip050)\" d=\"M 0 0 M934.089 9.54393 L941.542 9.54393 L941.542 72.576 L934.089 72.576 L934.089 9.54393 Z\" fill=\"#000000\" fill-rule=\"evenodd\" fill-opacity=\"1\" /><path clip-path=\"url(#clip050)\" d=\"M 0 0 M966.941 32.4315 Q960.946 32.4315 957.462 37.1306 Q953.978 41.7891 953.978 49.9314 Q953.978 58.0738 957.422 62.7728 Q960.905 67.4314 966.941 67.4314 Q972.896 67.4314 976.38 62.7323 Q979.864 58.0333 979.864 49.9314 Q979.864 41.8701 976.38 37.1711 Q972.896 32.4315 966.941 32.4315 M966.941 26.1121 Q976.664 26.1121 982.213 32.4315 Q987.763 38.7509 987.763 49.9314 Q987.763 61.0714 982.213 67.4314 Q976.664 73.7508 966.941 73.7508 Q957.179 73.7508 951.629 67.4314 Q946.12 61.0714 946.12 49.9314 Q946.12 38.7509 951.629 32.4315 Q957.179 26.1121 966.941 26.1121 Z\" fill=\"#000000\" fill-rule=\"evenodd\" fill-opacity=\"1\" /><path clip-path=\"url(#clip050)\" d=\"M 0 0 M1002.95 14.324 L1002.95 27.2059 L1018.31 27.2059 L1018.31 32.9987 L1002.95 32.9987 L1002.95 57.6282 Q1002.95 63.1779 1004.45 64.7578 Q1005.99 66.3376 1010.65 66.3376 L1018.31 66.3376 L1018.31 72.576 L1010.65 72.576 Q1002.02 72.576 998.741 69.3758 Q995.46 66.1351 995.46 57.6282 L995.46 32.9987 L989.991 32.9987 L989.991 27.2059 L995.46 27.2059 L995.46 14.324 L1002.95 14.324 Z\" fill=\"#000000\" fill-rule=\"evenodd\" fill-opacity=\"1\" /><path clip-path=\"url(#clip050)\" d=\"M 0 0 M1075.47 9.54393 L1075.47 15.7418 L1068.34 15.7418 Q1064.33 15.7418 1062.75 17.3622 Q1061.21 18.9825 1061.21 23.1955 L1061.21 27.2059 L1073.48 27.2059 L1073.48 32.9987 L1061.21 32.9987 L1061.21 72.576 L1053.71 72.576 L1053.71 32.9987 L1046.58 32.9987 L1046.58 27.2059 L1053.71 27.2059 L1053.71 24.0462 Q1053.71 16.471 1057.24 13.0277 Q1060.76 9.54393 1068.42 9.54393 L1075.47 9.54393 Z\" fill=\"#000000\" fill-rule=\"evenodd\" fill-opacity=\"1\" /><path clip-path=\"url(#clip050)\" d=\"M 0 0 M1100.86 32.4315 Q1094.87 32.4315 1091.39 37.1306 Q1087.9 41.7891 1087.9 49.9314 Q1087.9 58.0738 1091.34 62.7728 Q1094.83 67.4314 1100.86 67.4314 Q1106.82 67.4314 1110.3 62.7323 Q1113.79 58.0333 1113.79 49.9314 Q1113.79 41.8701 1110.3 37.1711 Q1106.82 32.4315 1100.86 32.4315 M1100.86 26.1121 Q1110.59 26.1121 1116.14 32.4315 Q1121.69 38.7509 1121.69 49.9314 Q1121.69 61.0714 1116.14 67.4314 Q1110.59 73.7508 1100.86 73.7508 Q1091.1 73.7508 1085.55 67.4314 Q1080.04 61.0714 1080.04 49.9314 Q1080.04 38.7509 1085.55 32.4315 Q1091.1 26.1121 1100.86 26.1121 Z\" fill=\"#000000\" fill-rule=\"evenodd\" fill-opacity=\"1\" /><path clip-path=\"url(#clip050)\" d=\"M 0 0 M1155.79 34.1734 Q1154.54 33.4443 1153.04 33.1202 Q1151.58 32.7556 1149.8 32.7556 Q1143.48 32.7556 1140.08 36.8875 Q1136.71 40.9789 1136.71 48.6757 L1136.71 72.576 L1129.22 72.576 L1129.22 27.2059 L1136.71 27.2059 L1136.71 34.2544 Q1139.06 30.1225 1142.83 28.1376 Q1146.6 26.1121 1151.99 26.1121 Q1152.76 26.1121 1153.69 26.2337 Q1154.62 26.3147 1155.75 26.5172 L1155.79 34.1734 Z\" fill=\"#000000\" fill-rule=\"evenodd\" fill-opacity=\"1\" /><path clip-path=\"url(#clip050)\" d=\"M 0 0 M1219.84 49.3643 Q1219.84 41.2625 1216.48 36.8065 Q1213.16 32.3505 1207.12 32.3505 Q1201.12 32.3505 1197.76 36.8065 Q1194.44 41.2625 1194.44 49.3643 Q1194.44 57.4256 1197.76 61.8816 Q1201.12 66.3376 1207.12 66.3376 Q1213.16 66.3376 1216.48 61.8816 Q1219.84 57.4256 1219.84 49.3643 M1227.29 66.9452 Q1227.29 78.5308 1222.15 84.1616 Q1217 89.8329 1206.39 89.8329 Q1202.46 89.8329 1198.98 89.2252 Q1195.49 88.6581 1192.21 87.4428 L1192.21 80.1917 Q1195.49 81.9741 1198.69 82.8248 Q1201.89 83.6755 1205.22 83.6755 Q1212.55 83.6755 1216.19 79.8271 Q1219.84 76.0193 1219.84 68.282 L1219.84 64.5957 Q1217.53 68.6061 1213.92 70.5911 Q1210.32 72.576 1205.3 72.576 Q1196.95 72.576 1191.85 66.2161 Q1186.74 59.8562 1186.74 49.3643 Q1186.74 38.832 1191.85 32.472 Q1196.95 26.1121 1205.3 26.1121 Q1210.32 26.1121 1213.92 28.0971 Q1217.53 30.082 1219.84 34.0924 L1219.84 27.2059 L1227.29 27.2059 L1227.29 66.9452 Z\" fill=\"#000000\" fill-rule=\"evenodd\" fill-opacity=\"1\" /><path clip-path=\"url(#clip050)\" d=\"M 0 0 M1261.4 34.1734 Q1260.15 33.4443 1258.65 33.1202 Q1257.19 32.7556 1255.41 32.7556 Q1249.09 32.7556 1245.68 36.8875 Q1242.32 40.9789 1242.32 48.6757 L1242.32 72.576 L1234.83 72.576 L1234.83 27.2059 L1242.32 27.2059 L1242.32 34.2544 Q1244.67 30.1225 1248.44 28.1376 Q1252.21 26.1121 1257.59 26.1121 Q1258.36 26.1121 1259.3 26.2337 Q1260.23 26.3147 1261.36 26.5172 L1261.4 34.1734 Z\" fill=\"#000000\" fill-rule=\"evenodd\" fill-opacity=\"1\" /><path clip-path=\"url(#clip050)\" d=\"M 0 0 M1289.84 49.7694 Q1280.81 49.7694 1277.32 51.8354 Q1273.84 53.9013 1273.84 58.8839 Q1273.84 62.8538 1276.43 65.2034 Q1279.06 67.5124 1283.56 67.5124 Q1289.76 67.5124 1293.48 63.1374 Q1297.25 58.7219 1297.25 51.4303 L1297.25 49.7694 L1289.84 49.7694 M1304.71 46.6907 L1304.71 72.576 L1297.25 72.576 L1297.25 65.6895 Q1294.7 69.8214 1290.89 71.8063 Q1287.08 73.7508 1281.58 73.7508 Q1274.61 73.7508 1270.48 69.8619 Q1266.38 65.9325 1266.38 59.3701 Q1266.38 51.7138 1271.49 47.825 Q1276.63 43.9361 1286.8 43.9361 L1297.25 43.9361 L1297.25 43.2069 Q1297.25 38.0623 1293.85 35.2672 Q1290.49 32.4315 1284.37 32.4315 Q1280.48 32.4315 1276.8 33.3632 Q1273.11 34.295 1269.71 36.1584 L1269.71 29.2718 Q1273.8 27.692 1277.65 26.9223 Q1281.49 26.1121 1285.14 26.1121 Q1294.98 26.1121 1299.84 31.2163 Q1304.71 36.3204 1304.71 46.6907 Z\" fill=\"#000000\" fill-rule=\"evenodd\" fill-opacity=\"1\" /><path clip-path=\"url(#clip050)\" d=\"M 0 0 M1342.38 34.0924 L1342.38 9.54393 L1349.83 9.54393 L1349.83 72.576 L1342.38 72.576 L1342.38 65.7705 Q1340.03 69.8214 1336.42 71.8063 Q1332.86 73.7508 1327.84 73.7508 Q1319.61 73.7508 1314.43 67.1883 Q1309.28 60.6258 1309.28 49.9314 Q1309.28 39.2371 1314.43 32.6746 Q1319.61 26.1121 1327.84 26.1121 Q1332.86 26.1121 1336.42 28.0971 Q1340.03 30.0415 1342.38 34.0924 M1316.98 49.9314 Q1316.98 58.1548 1320.34 62.8538 Q1323.74 67.5124 1329.66 67.5124 Q1335.57 67.5124 1338.98 62.8538 Q1342.38 58.1548 1342.38 49.9314 Q1342.38 41.7081 1338.98 37.0496 Q1335.57 32.3505 1329.66 32.3505 Q1323.74 32.3505 1320.34 37.0496 Q1316.98 41.7081 1316.98 49.9314 Z\" fill=\"#000000\" fill-rule=\"evenodd\" fill-opacity=\"1\" /><path clip-path=\"url(#clip050)\" d=\"M 0 0 M1396.46 48.0275 L1396.46 51.6733 L1362.19 51.6733 Q1362.67 59.3701 1366.81 63.421 Q1370.98 67.4314 1378.39 67.4314 Q1382.69 67.4314 1386.7 66.3781 Q1390.75 65.3249 1394.72 63.2184 L1394.72 70.267 Q1390.71 71.9684 1386.49 72.8596 Q1382.28 73.7508 1377.95 73.7508 Q1367.09 73.7508 1360.73 67.4314 Q1354.41 61.1119 1354.41 50.3365 Q1354.41 39.1965 1360.41 32.6746 Q1366.44 26.1121 1376.65 26.1121 Q1385.8 26.1121 1391.11 32.0264 Q1396.46 37.9003 1396.46 48.0275 M1389.01 45.84 Q1388.92 39.7232 1385.56 36.0774 Q1382.24 32.4315 1376.73 32.4315 Q1370.49 32.4315 1366.73 35.9558 Q1363 39.4801 1362.43 45.8805 L1389.01 45.84 Z\" fill=\"#000000\" fill-rule=\"evenodd\" fill-opacity=\"1\" /><path clip-path=\"url(#clip050)\" d=\"M 0 0 M1434.13 34.0924 L1434.13 9.54393 L1441.59 9.54393 L1441.59 72.576 L1434.13 72.576 L1434.13 65.7705 Q1431.78 69.8214 1428.18 71.8063 Q1424.61 73.7508 1419.59 73.7508 Q1411.37 73.7508 1406.18 67.1883 Q1401.04 60.6258 1401.04 49.9314 Q1401.04 39.2371 1406.18 32.6746 Q1411.37 26.1121 1419.59 26.1121 Q1424.61 26.1121 1428.18 28.0971 Q1431.78 30.0415 1434.13 34.0924 M1408.73 49.9314 Q1408.73 58.1548 1412.1 62.8538 Q1415.5 67.5124 1421.41 67.5124 Q1427.33 67.5124 1430.73 62.8538 Q1434.13 58.1548 1434.13 49.9314 Q1434.13 41.7081 1430.73 37.0496 Q1427.33 32.3505 1421.41 32.3505 Q1415.5 32.3505 1412.1 37.0496 Q1408.73 41.7081 1408.73 49.9314 Z\" fill=\"#000000\" fill-rule=\"evenodd\" fill-opacity=\"1\" /><path clip-path=\"url(#clip050)\" d=\"M 0 0 M1480.23 49.9314 Q1480.23 58.1548 1483.59 62.8538 Q1487 67.5124 1492.91 67.5124 Q1498.83 67.5124 1502.23 62.8538 Q1505.63 58.1548 1505.63 49.9314 Q1505.63 41.7081 1502.23 37.0496 Q1498.83 32.3505 1492.91 32.3505 Q1487 32.3505 1483.59 37.0496 Q1480.23 41.7081 1480.23 49.9314 M1505.63 65.7705 Q1503.28 69.8214 1499.68 71.8063 Q1496.11 73.7508 1491.09 73.7508 Q1482.86 73.7508 1477.68 67.1883 Q1472.53 60.6258 1472.53 49.9314 Q1472.53 39.2371 1477.68 32.6746 Q1482.86 26.1121 1491.09 26.1121 Q1496.11 26.1121 1499.68 28.0971 Q1503.28 30.0415 1505.63 34.0924 L1505.63 27.2059 L1513.08 27.2059 L1513.08 89.8329 L1505.63 89.8329 L1505.63 65.7705 Z\" fill=\"#000000\" fill-rule=\"evenodd\" fill-opacity=\"1\" /><path clip-path=\"url(#clip050)\" d=\"M 0 0 M1520.13 54.671 L1520.13 27.2059 L1527.59 27.2059 L1527.59 54.3874 Q1527.59 60.8284 1530.1 64.0691 Q1532.61 67.2693 1537.63 67.2693 Q1543.67 67.2693 1547.15 63.421 Q1550.68 59.5726 1550.68 52.9291 L1550.68 27.2059 L1558.13 27.2059 L1558.13 72.576 L1550.68 72.576 L1550.68 65.6084 Q1547.96 69.7404 1544.36 71.7658 Q1540.79 73.7508 1536.05 73.7508 Q1528.23 73.7508 1524.18 68.8897 Q1520.13 64.0286 1520.13 54.671 M1538.89 26.1121 L1538.89 26.1121 Z\" fill=\"#000000\" fill-rule=\"evenodd\" fill-opacity=\"1\" /><path clip-path=\"url(#clip050)\" d=\"M 0 0 M1565.95 27.2059 L1573.4 27.2059 L1573.4 72.576 L1565.95 72.576 L1565.95 27.2059 M1565.95 9.54393 L1573.4 9.54393 L1573.4 18.9825 L1565.95 18.9825 L1565.95 9.54393 Z\" fill=\"#000000\" fill-rule=\"evenodd\" fill-opacity=\"1\" /><path clip-path=\"url(#clip050)\" d=\"M 0 0 M1577.98 27.2059 L1613.38 27.2059 L1613.38 34.0114 L1585.35 66.6212 L1613.38 66.6212 L1613.38 72.576 L1576.97 72.576 L1576.97 65.7705 L1605 33.1607 L1577.98 33.1607 L1577.98 27.2059 Z\" fill=\"#000000\" fill-rule=\"evenodd\" fill-opacity=\"1\" /><polyline clip-path=\"url(#clip052)\" style=\"stroke:#000000; stroke-width:8; stroke-opacity:1; fill:none\" points=\"\n",
       "  210.251,876.395 626.272,1305 1042.29,1447.87 1458.31,1305 1874.33,876.395 2290.35,162.047 \n",
       "  \"/>\n",
       "<path clip-path=\"url(#clip052)\" d=\"M210.251 892.395 L196.395 884.395 L196.395 868.395 L210.251 860.395 L224.107 868.395 L224.107 884.395 Z\" fill=\"#009af9\" fill-rule=\"evenodd\" fill-opacity=\"1\" stroke=\"#000000\" stroke-opacity=\"1\" stroke-width=\"3.2\"/>\n",
       "<path clip-path=\"url(#clip052)\" d=\"M626.272 1321 L612.416 1313 L612.416 1297 L626.272 1289 L640.128 1297 L640.128 1313 Z\" fill=\"#009af9\" fill-rule=\"evenodd\" fill-opacity=\"1\" stroke=\"#000000\" stroke-opacity=\"1\" stroke-width=\"3.2\"/>\n",
       "<path clip-path=\"url(#clip052)\" d=\"M1042.29 1463.87 L1028.44 1455.87 L1028.44 1439.87 L1042.29 1431.87 L1056.15 1439.87 L1056.15 1455.87 Z\" fill=\"#009af9\" fill-rule=\"evenodd\" fill-opacity=\"1\" stroke=\"#000000\" stroke-opacity=\"1\" stroke-width=\"3.2\"/>\n",
       "<path clip-path=\"url(#clip052)\" d=\"M1458.31 1321 L1444.46 1313 L1444.46 1297 L1458.31 1289 L1472.17 1297 L1472.17 1313 Z\" fill=\"#009af9\" fill-rule=\"evenodd\" fill-opacity=\"1\" stroke=\"#000000\" stroke-opacity=\"1\" stroke-width=\"3.2\"/>\n",
       "<path clip-path=\"url(#clip052)\" d=\"M1874.33 892.395 L1860.48 884.395 L1860.48 868.395 L1874.33 860.395 L1888.19 868.395 L1888.19 884.395 Z\" fill=\"#009af9\" fill-rule=\"evenodd\" fill-opacity=\"1\" stroke=\"#000000\" stroke-opacity=\"1\" stroke-width=\"3.2\"/>\n",
       "<path clip-path=\"url(#clip052)\" d=\"M2290.35 178.047 L2276.5 170.047 L2276.5 154.047 L2290.35 146.047 L2304.21 154.047 L2304.21 170.047 Z\" fill=\"#009af9\" fill-rule=\"evenodd\" fill-opacity=\"1\" stroke=\"#000000\" stroke-opacity=\"1\" stroke-width=\"3.2\"/>\n",
       "</svg>\n"
      ]
     },
     "execution_count": 34,
     "metadata": {},
     "output_type": "execute_result"
    }
   ],
   "source": [
    "x = [1 2 3 4 5 6]'\n",
    "y = (x.-3).^2/4\n",
    "plot(x,y, marker = :hex, leg=false, linewidth = 2, linecolor=:black)\n",
    "plot!(title=\"Plot for graded quiz\")"
   ]
  },
  {
   "cell_type": "code",
   "execution_count": 35,
   "metadata": {},
   "outputs": [
    {
     "data": {
      "image/svg+xml": [
       "<?xml version=\"1.0\" encoding=\"utf-8\"?>\n",
       "<svg xmlns=\"http://www.w3.org/2000/svg\" xmlns:xlink=\"http://www.w3.org/1999/xlink\" width=\"600\" height=\"400\" viewBox=\"0 0 2400 1600\">\n",
       "<defs>\n",
       "  <clipPath id=\"clip090\">\n",
       "    <rect x=\"0\" y=\"0\" width=\"2400\" height=\"1600\"/>\n",
       "  </clipPath>\n",
       "</defs>\n",
       "<path clip-path=\"url(#clip090)\" d=\"\n",
       "M0 1600 L2400 1600 L2400 0 L0 0  Z\n",
       "  \" fill=\"#ffffff\" fill-rule=\"evenodd\" fill-opacity=\"1\"/>\n",
       "<defs>\n",
       "  <clipPath id=\"clip091\">\n",
       "    <rect x=\"480\" y=\"0\" width=\"1681\" height=\"1600\"/>\n",
       "  </clipPath>\n",
       "</defs>\n",
       "<path clip-path=\"url(#clip090)\" d=\"\n",
       "M147.848 1486.45 L2352.76 1486.45 L2352.76 123.472 L147.848 123.472  Z\n",
       "  \" fill=\"#ffffff\" fill-rule=\"evenodd\" fill-opacity=\"1\"/>\n",
       "<defs>\n",
       "  <clipPath id=\"clip092\">\n",
       "    <rect x=\"147\" y=\"123\" width=\"2206\" height=\"1364\"/>\n",
       "  </clipPath>\n",
       "</defs>\n",
       "<polyline clip-path=\"url(#clip092)\" style=\"stroke:#000000; stroke-width:2; stroke-opacity:0.1; fill:none\" points=\"\n",
       "  210.251,1486.45 210.251,123.472 \n",
       "  \"/>\n",
       "<polyline clip-path=\"url(#clip092)\" style=\"stroke:#000000; stroke-width:2; stroke-opacity:0.1; fill:none\" points=\"\n",
       "  626.272,1486.45 626.272,123.472 \n",
       "  \"/>\n",
       "<polyline clip-path=\"url(#clip092)\" style=\"stroke:#000000; stroke-width:2; stroke-opacity:0.1; fill:none\" points=\"\n",
       "  1042.29,1486.45 1042.29,123.472 \n",
       "  \"/>\n",
       "<polyline clip-path=\"url(#clip092)\" style=\"stroke:#000000; stroke-width:2; stroke-opacity:0.1; fill:none\" points=\"\n",
       "  1458.31,1486.45 1458.31,123.472 \n",
       "  \"/>\n",
       "<polyline clip-path=\"url(#clip092)\" style=\"stroke:#000000; stroke-width:2; stroke-opacity:0.1; fill:none\" points=\"\n",
       "  1874.33,1486.45 1874.33,123.472 \n",
       "  \"/>\n",
       "<polyline clip-path=\"url(#clip092)\" style=\"stroke:#000000; stroke-width:2; stroke-opacity:0.1; fill:none\" points=\"\n",
       "  2290.35,1486.45 2290.35,123.472 \n",
       "  \"/>\n",
       "<polyline clip-path=\"url(#clip092)\" style=\"stroke:#000000; stroke-width:2; stroke-opacity:0.1; fill:none\" points=\"\n",
       "  147.848,1447.87 2352.76,1447.87 \n",
       "  \"/>\n",
       "<polyline clip-path=\"url(#clip092)\" style=\"stroke:#000000; stroke-width:2; stroke-opacity:0.1; fill:none\" points=\"\n",
       "  147.848,1162.13 2352.76,1162.13 \n",
       "  \"/>\n",
       "<polyline clip-path=\"url(#clip092)\" style=\"stroke:#000000; stroke-width:2; stroke-opacity:0.1; fill:none\" points=\"\n",
       "  147.848,876.395 2352.76,876.395 \n",
       "  \"/>\n",
       "<polyline clip-path=\"url(#clip092)\" style=\"stroke:#000000; stroke-width:2; stroke-opacity:0.1; fill:none\" points=\"\n",
       "  147.848,590.656 2352.76,590.656 \n",
       "  \"/>\n",
       "<polyline clip-path=\"url(#clip092)\" style=\"stroke:#000000; stroke-width:2; stroke-opacity:0.1; fill:none\" points=\"\n",
       "  147.848,304.916 2352.76,304.916 \n",
       "  \"/>\n",
       "<polyline clip-path=\"url(#clip090)\" style=\"stroke:#000000; stroke-width:4; stroke-opacity:1; fill:none\" points=\"\n",
       "  147.848,1486.45 2352.76,1486.45 \n",
       "  \"/>\n",
       "<polyline clip-path=\"url(#clip090)\" style=\"stroke:#000000; stroke-width:4; stroke-opacity:1; fill:none\" points=\"\n",
       "  147.848,1486.45 147.848,123.472 \n",
       "  \"/>\n",
       "<polyline clip-path=\"url(#clip090)\" style=\"stroke:#000000; stroke-width:4; stroke-opacity:1; fill:none\" points=\"\n",
       "  210.251,1486.45 210.251,1470.09 \n",
       "  \"/>\n",
       "<polyline clip-path=\"url(#clip090)\" style=\"stroke:#000000; stroke-width:4; stroke-opacity:1; fill:none\" points=\"\n",
       "  626.272,1486.45 626.272,1470.09 \n",
       "  \"/>\n",
       "<polyline clip-path=\"url(#clip090)\" style=\"stroke:#000000; stroke-width:4; stroke-opacity:1; fill:none\" points=\"\n",
       "  1042.29,1486.45 1042.29,1470.09 \n",
       "  \"/>\n",
       "<polyline clip-path=\"url(#clip090)\" style=\"stroke:#000000; stroke-width:4; stroke-opacity:1; fill:none\" points=\"\n",
       "  1458.31,1486.45 1458.31,1470.09 \n",
       "  \"/>\n",
       "<polyline clip-path=\"url(#clip090)\" style=\"stroke:#000000; stroke-width:4; stroke-opacity:1; fill:none\" points=\"\n",
       "  1874.33,1486.45 1874.33,1470.09 \n",
       "  \"/>\n",
       "<polyline clip-path=\"url(#clip090)\" style=\"stroke:#000000; stroke-width:4; stroke-opacity:1; fill:none\" points=\"\n",
       "  2290.35,1486.45 2290.35,1470.09 \n",
       "  \"/>\n",
       "<polyline clip-path=\"url(#clip090)\" style=\"stroke:#000000; stroke-width:4; stroke-opacity:1; fill:none\" points=\"\n",
       "  147.848,1447.87 174.307,1447.87 \n",
       "  \"/>\n",
       "<polyline clip-path=\"url(#clip090)\" style=\"stroke:#000000; stroke-width:4; stroke-opacity:1; fill:none\" points=\"\n",
       "  147.848,1162.13 174.307,1162.13 \n",
       "  \"/>\n",
       "<polyline clip-path=\"url(#clip090)\" style=\"stroke:#000000; stroke-width:4; stroke-opacity:1; fill:none\" points=\"\n",
       "  147.848,876.395 174.307,876.395 \n",
       "  \"/>\n",
       "<polyline clip-path=\"url(#clip090)\" style=\"stroke:#000000; stroke-width:4; stroke-opacity:1; fill:none\" points=\"\n",
       "  147.848,590.656 174.307,590.656 \n",
       "  \"/>\n",
       "<polyline clip-path=\"url(#clip090)\" style=\"stroke:#000000; stroke-width:4; stroke-opacity:1; fill:none\" points=\"\n",
       "  147.848,304.916 174.307,304.916 \n",
       "  \"/>\n",
       "<path clip-path=\"url(#clip090)\" d=\"M 0 0 M200.633 1535.98 L208.272 1535.98 L208.272 1509.62 L199.962 1511.29 L199.962 1507.03 L208.226 1505.36 L212.902 1505.36 L212.902 1535.98 L220.541 1535.98 L220.541 1539.92 L200.633 1539.92 L200.633 1535.98 Z\" fill=\"#000000\" fill-rule=\"evenodd\" fill-opacity=\"1\" /><path clip-path=\"url(#clip090)\" d=\"M 0 0 M620.924 1535.98 L637.244 1535.98 L637.244 1539.92 L615.299 1539.92 L615.299 1535.98 Q617.961 1533.23 622.545 1528.6 Q627.151 1523.95 628.332 1522.61 Q630.577 1520.08 631.457 1518.35 Q632.36 1516.59 632.36 1514.9 Q632.36 1512.14 630.415 1510.41 Q628.494 1508.67 625.392 1508.67 Q623.193 1508.67 620.739 1509.43 Q618.309 1510.2 615.531 1511.75 L615.531 1507.03 Q618.355 1505.89 620.809 1505.31 Q623.262 1504.73 625.299 1504.73 Q630.67 1504.73 633.864 1507.42 Q637.059 1510.11 637.059 1514.6 Q637.059 1516.73 636.248 1518.65 Q635.461 1520.54 633.355 1523.14 Q632.776 1523.81 629.674 1527.03 Q626.573 1530.22 620.924 1535.98 Z\" fill=\"#000000\" fill-rule=\"evenodd\" fill-opacity=\"1\" /><path clip-path=\"url(#clip090)\" d=\"M 0 0 M1046.54 1521.29 Q1049.9 1522 1051.77 1524.27 Q1053.67 1526.54 1053.67 1529.87 Q1053.67 1534.99 1050.15 1537.79 Q1046.63 1540.59 1040.15 1540.59 Q1037.97 1540.59 1035.66 1540.15 Q1033.37 1539.73 1030.91 1538.88 L1030.91 1534.36 Q1032.86 1535.5 1035.17 1536.08 Q1037.49 1536.66 1040.01 1536.66 Q1044.41 1536.66 1046.7 1534.92 Q1049.02 1533.18 1049.02 1529.87 Q1049.02 1526.82 1046.86 1525.11 Q1044.73 1523.37 1040.91 1523.37 L1036.89 1523.37 L1036.89 1519.53 L1041.1 1519.53 Q1044.55 1519.53 1046.38 1518.16 Q1048.21 1516.77 1048.21 1514.18 Q1048.21 1511.52 1046.31 1510.11 Q1044.43 1508.67 1040.91 1508.67 Q1038.99 1508.67 1036.79 1509.09 Q1034.6 1509.5 1031.96 1510.38 L1031.96 1506.22 Q1034.62 1505.48 1036.93 1505.11 Q1039.27 1504.73 1041.33 1504.73 Q1046.66 1504.73 1049.76 1507.17 Q1052.86 1509.57 1052.86 1513.69 Q1052.86 1516.56 1051.22 1518.55 Q1049.57 1520.52 1046.54 1521.29 Z\" fill=\"#000000\" fill-rule=\"evenodd\" fill-opacity=\"1\" /><path clip-path=\"url(#clip090)\" d=\"M 0 0 M1461.32 1509.43 L1449.52 1527.88 L1461.32 1527.88 L1461.32 1509.43 M1460.09 1505.36 L1465.97 1505.36 L1465.97 1527.88 L1470.9 1527.88 L1470.9 1531.77 L1465.97 1531.77 L1465.97 1539.92 L1461.32 1539.92 L1461.32 1531.77 L1445.72 1531.77 L1445.72 1527.26 L1460.09 1505.36 Z\" fill=\"#000000\" fill-rule=\"evenodd\" fill-opacity=\"1\" /><path clip-path=\"url(#clip090)\" d=\"M 0 0 M1864.61 1505.36 L1882.97 1505.36 L1882.97 1509.3 L1868.89 1509.3 L1868.89 1517.77 Q1869.91 1517.42 1870.93 1517.26 Q1871.95 1517.07 1872.97 1517.07 Q1878.75 1517.07 1882.13 1520.24 Q1885.51 1523.42 1885.51 1528.83 Q1885.51 1534.41 1882.04 1537.51 Q1878.57 1540.59 1872.25 1540.59 Q1870.07 1540.59 1867.8 1540.22 Q1865.56 1539.85 1863.15 1539.11 L1863.15 1534.41 Q1865.24 1535.54 1867.46 1536.1 Q1869.68 1536.66 1872.16 1536.66 Q1876.16 1536.66 1878.5 1534.55 Q1880.84 1532.44 1880.84 1528.83 Q1880.84 1525.22 1878.5 1523.11 Q1876.16 1521.01 1872.16 1521.01 Q1870.28 1521.01 1868.41 1521.42 Q1866.55 1521.84 1864.61 1522.72 L1864.61 1505.36 Z\" fill=\"#000000\" fill-rule=\"evenodd\" fill-opacity=\"1\" /><path clip-path=\"url(#clip090)\" d=\"M 0 0 M2290.76 1520.78 Q2287.61 1520.78 2285.76 1522.93 Q2283.93 1525.08 2283.93 1528.83 Q2283.93 1532.56 2285.76 1534.73 Q2287.61 1536.89 2290.76 1536.89 Q2293.91 1536.89 2295.73 1534.73 Q2297.59 1532.56 2297.59 1528.83 Q2297.59 1525.08 2295.73 1522.93 Q2293.91 1520.78 2290.76 1520.78 M2300.04 1506.12 L2300.04 1510.38 Q2298.28 1509.55 2296.48 1509.11 Q2294.69 1508.67 2292.93 1508.67 Q2288.3 1508.67 2285.85 1511.8 Q2283.42 1514.92 2283.07 1521.24 Q2284.44 1519.23 2286.5 1518.16 Q2288.56 1517.07 2291.04 1517.07 Q2296.24 1517.07 2299.25 1520.24 Q2302.29 1523.39 2302.29 1528.83 Q2302.29 1534.16 2299.14 1537.37 Q2295.99 1540.59 2290.76 1540.59 Q2284.76 1540.59 2281.59 1536.01 Q2278.42 1531.4 2278.42 1522.67 Q2278.42 1514.48 2282.31 1509.62 Q2286.2 1504.73 2292.75 1504.73 Q2294.51 1504.73 2296.29 1505.08 Q2298.1 1505.43 2300.04 1506.12 Z\" fill=\"#000000\" fill-rule=\"evenodd\" fill-opacity=\"1\" /><path clip-path=\"url(#clip090)\" d=\"M 0 0 M74.9365 1433.67 Q71.3254 1433.67 69.4967 1437.24 Q67.6912 1440.78 67.6912 1447.91 Q67.6912 1455.01 69.4967 1458.58 Q71.3254 1462.12 74.9365 1462.12 Q78.5707 1462.12 80.3763 1458.58 Q82.205 1455.01 82.205 1447.91 Q82.205 1440.78 80.3763 1437.24 Q78.5707 1433.67 74.9365 1433.67 M74.9365 1429.97 Q80.7467 1429.97 83.8022 1434.57 Q86.8809 1439.16 86.8809 1447.91 Q86.8809 1456.63 83.8022 1461.24 Q80.7467 1465.82 74.9365 1465.82 Q69.1264 1465.82 66.0477 1461.24 Q62.9921 1456.63 62.9921 1447.91 Q62.9921 1439.16 66.0477 1434.57 Q69.1264 1429.97 74.9365 1429.97 Z\" fill=\"#000000\" fill-rule=\"evenodd\" fill-opacity=\"1\" /><path clip-path=\"url(#clip090)\" d=\"M 0 0 M91.9503 1459.27 L96.8345 1459.27 L96.8345 1465.15 L91.9503 1465.15 L91.9503 1459.27 Z\" fill=\"#000000\" fill-rule=\"evenodd\" fill-opacity=\"1\" /><path clip-path=\"url(#clip090)\" d=\"M 0 0 M111.904 1433.67 Q108.293 1433.67 106.464 1437.24 Q104.659 1440.78 104.659 1447.91 Q104.659 1455.01 106.464 1458.58 Q108.293 1462.12 111.904 1462.12 Q115.538 1462.12 117.344 1458.58 Q119.172 1455.01 119.172 1447.91 Q119.172 1440.78 117.344 1437.24 Q115.538 1433.67 111.904 1433.67 M111.904 1429.97 Q117.714 1429.97 120.77 1434.57 Q123.848 1439.16 123.848 1447.91 Q123.848 1456.63 120.77 1461.24 Q117.714 1465.82 111.904 1465.82 Q106.094 1465.82 103.015 1461.24 Q99.9595 1456.63 99.9595 1447.91 Q99.9595 1439.16 103.015 1434.57 Q106.094 1429.97 111.904 1429.97 Z\" fill=\"#000000\" fill-rule=\"evenodd\" fill-opacity=\"1\" /><path clip-path=\"url(#clip090)\" d=\"M 0 0 M75.9319 1147.93 Q72.3208 1147.93 70.4921 1151.5 Q68.6865 1155.04 68.6865 1162.17 Q68.6865 1169.28 70.4921 1172.84 Q72.3208 1176.38 75.9319 1176.38 Q79.5661 1176.38 81.3717 1172.84 Q83.2004 1169.28 83.2004 1162.17 Q83.2004 1155.04 81.3717 1151.5 Q79.5661 1147.93 75.9319 1147.93 M75.9319 1144.23 Q81.742 1144.23 84.7976 1148.84 Q87.8763 1153.42 87.8763 1162.17 Q87.8763 1170.9 84.7976 1175.5 Q81.742 1180.09 75.9319 1180.09 Q70.1217 1180.09 67.043 1175.5 Q63.9875 1170.9 63.9875 1162.17 Q63.9875 1153.42 67.043 1148.84 Q70.1217 1144.23 75.9319 1144.23 Z\" fill=\"#000000\" fill-rule=\"evenodd\" fill-opacity=\"1\" /><path clip-path=\"url(#clip090)\" d=\"M 0 0 M92.9457 1173.53 L97.8299 1173.53 L97.8299 1179.41 L92.9457 1179.41 L92.9457 1173.53 Z\" fill=\"#000000\" fill-rule=\"evenodd\" fill-opacity=\"1\" /><path clip-path=\"url(#clip090)\" d=\"M 0 0 M102.946 1144.85 L121.302 1144.85 L121.302 1148.79 L107.228 1148.79 L107.228 1157.26 Q108.247 1156.91 109.265 1156.75 Q110.284 1156.57 111.302 1156.57 Q117.089 1156.57 120.469 1159.74 Q123.848 1162.91 123.848 1168.33 Q123.848 1173.9 120.376 1177.01 Q116.904 1180.09 110.584 1180.09 Q108.409 1180.09 106.14 1179.71 Q103.895 1179.34 101.487 1178.6 L101.487 1173.9 Q103.571 1175.04 105.793 1175.59 Q108.015 1176.15 110.492 1176.15 Q114.496 1176.15 116.834 1174.04 Q119.172 1171.94 119.172 1168.33 Q119.172 1164.71 116.834 1162.61 Q114.496 1160.5 110.492 1160.5 Q108.617 1160.5 106.742 1160.92 Q104.89 1161.34 102.946 1162.21 L102.946 1144.85 Z\" fill=\"#000000\" fill-rule=\"evenodd\" fill-opacity=\"1\" /><path clip-path=\"url(#clip090)\" d=\"M 0 0 M66.9736 889.74 L74.6124 889.74 L74.6124 863.374 L66.3023 865.041 L66.3023 860.781 L74.5661 859.115 L79.242 859.115 L79.242 889.74 L86.8809 889.74 L86.8809 893.675 L66.9736 893.675 L66.9736 889.74 Z\" fill=\"#000000\" fill-rule=\"evenodd\" fill-opacity=\"1\" /><path clip-path=\"url(#clip090)\" d=\"M 0 0 M91.9503 887.795 L96.8345 887.795 L96.8345 893.675 L91.9503 893.675 L91.9503 887.795 Z\" fill=\"#000000\" fill-rule=\"evenodd\" fill-opacity=\"1\" /><path clip-path=\"url(#clip090)\" d=\"M 0 0 M111.904 862.193 Q108.293 862.193 106.464 865.758 Q104.659 869.3 104.659 876.43 Q104.659 883.536 106.464 887.101 Q108.293 890.642 111.904 890.642 Q115.538 890.642 117.344 887.101 Q119.172 883.536 119.172 876.43 Q119.172 869.3 117.344 865.758 Q115.538 862.193 111.904 862.193 M111.904 858.49 Q117.714 858.49 120.77 863.096 Q123.848 867.68 123.848 876.43 Q123.848 885.156 120.77 889.763 Q117.714 894.346 111.904 894.346 Q106.094 894.346 103.015 889.763 Q99.9595 885.156 99.9595 876.43 Q99.9595 867.68 103.015 863.096 Q106.094 858.49 111.904 858.49 Z\" fill=\"#000000\" fill-rule=\"evenodd\" fill-opacity=\"1\" /><path clip-path=\"url(#clip090)\" d=\"M 0 0 M67.969 604 L75.6078 604 L75.6078 577.635 L67.2977 579.302 L67.2977 575.042 L75.5615 573.376 L80.2374 573.376 L80.2374 604 L87.8763 604 L87.8763 607.936 L67.969 607.936 L67.969 604 Z\" fill=\"#000000\" fill-rule=\"evenodd\" fill-opacity=\"1\" /><path clip-path=\"url(#clip090)\" d=\"M 0 0 M92.9457 602.056 L97.8299 602.056 L97.8299 607.936 L92.9457 607.936 L92.9457 602.056 Z\" fill=\"#000000\" fill-rule=\"evenodd\" fill-opacity=\"1\" /><path clip-path=\"url(#clip090)\" d=\"M 0 0 M102.946 573.376 L121.302 573.376 L121.302 577.311 L107.228 577.311 L107.228 585.783 Q108.247 585.436 109.265 585.274 Q110.284 585.089 111.302 585.089 Q117.089 585.089 120.469 588.26 Q123.848 591.431 123.848 596.848 Q123.848 602.426 120.376 605.528 Q116.904 608.607 110.584 608.607 Q108.409 608.607 106.14 608.237 Q103.895 607.866 101.487 607.125 L101.487 602.426 Q103.571 603.561 105.793 604.116 Q108.015 604.672 110.492 604.672 Q114.496 604.672 116.834 602.565 Q119.172 600.459 119.172 596.848 Q119.172 593.237 116.834 591.13 Q114.496 589.024 110.492 589.024 Q108.617 589.024 106.742 589.44 Q104.89 589.857 102.946 590.737 L102.946 573.376 Z\" fill=\"#000000\" fill-rule=\"evenodd\" fill-opacity=\"1\" /><path clip-path=\"url(#clip090)\" d=\"M 0 0 M70.5615 318.261 L86.8809 318.261 L86.8809 322.196 L64.9366 322.196 L64.9366 318.261 Q67.5986 315.507 72.1819 310.877 Q76.7883 306.224 77.9689 304.882 Q80.2143 302.359 81.0939 300.623 Q81.9967 298.863 81.9967 297.173 Q81.9967 294.419 80.0522 292.683 Q78.1309 290.947 75.0291 290.947 Q72.83 290.947 70.3763 291.711 Q67.9458 292.474 65.168 294.025 L65.168 289.303 Q67.9921 288.169 70.4458 287.59 Q72.8995 287.011 74.9365 287.011 Q80.3068 287.011 83.5013 289.697 Q86.6957 292.382 86.6957 296.873 Q86.6957 299.002 85.8855 300.923 Q85.0985 302.822 82.992 305.414 Q82.4133 306.085 79.3115 309.303 Q76.2096 312.497 70.5615 318.261 Z\" fill=\"#000000\" fill-rule=\"evenodd\" fill-opacity=\"1\" /><path clip-path=\"url(#clip090)\" d=\"M 0 0 M91.9503 316.317 L96.8345 316.317 L96.8345 322.196 L91.9503 322.196 L91.9503 316.317 Z\" fill=\"#000000\" fill-rule=\"evenodd\" fill-opacity=\"1\" /><path clip-path=\"url(#clip090)\" d=\"M 0 0 M111.904 290.715 Q108.293 290.715 106.464 294.28 Q104.659 297.822 104.659 304.951 Q104.659 312.058 106.464 315.622 Q108.293 319.164 111.904 319.164 Q115.538 319.164 117.344 315.622 Q119.172 312.058 119.172 304.951 Q119.172 297.822 117.344 294.28 Q115.538 290.715 111.904 290.715 M111.904 287.011 Q117.714 287.011 120.77 291.618 Q123.848 296.201 123.848 304.951 Q123.848 313.678 120.77 318.284 Q117.714 322.868 111.904 322.868 Q106.094 322.868 103.015 318.284 Q99.9595 313.678 99.9595 304.951 Q99.9595 296.201 103.015 291.618 Q106.094 287.011 111.904 287.011 Z\" fill=\"#000000\" fill-rule=\"evenodd\" fill-opacity=\"1\" /><path clip-path=\"url(#clip090)\" d=\"M 0 0 M895.402 18.8205 L895.402 41.5461 L905.692 41.5461 Q911.403 41.5461 914.523 38.5889 Q917.642 35.6318 917.642 30.163 Q917.642 24.7348 914.523 21.7777 Q911.403 18.8205 905.692 18.8205 L895.402 18.8205 M887.22 12.096 L905.692 12.096 Q915.859 12.096 921.045 16.714 Q926.27 21.2916 926.27 30.163 Q926.27 39.1155 921.045 43.6931 Q915.859 48.2706 905.692 48.2706 L895.402 48.2706 L895.402 72.576 L887.22 72.576 L887.22 12.096 Z\" fill=\"#000000\" fill-rule=\"evenodd\" fill-opacity=\"1\" /><path clip-path=\"url(#clip090)\" d=\"M 0 0 M934.089 9.54393 L941.542 9.54393 L941.542 72.576 L934.089 72.576 L934.089 9.54393 Z\" fill=\"#000000\" fill-rule=\"evenodd\" fill-opacity=\"1\" /><path clip-path=\"url(#clip090)\" d=\"M 0 0 M966.941 32.4315 Q960.946 32.4315 957.462 37.1306 Q953.978 41.7891 953.978 49.9314 Q953.978 58.0738 957.422 62.7728 Q960.905 67.4314 966.941 67.4314 Q972.896 67.4314 976.38 62.7323 Q979.864 58.0333 979.864 49.9314 Q979.864 41.8701 976.38 37.1711 Q972.896 32.4315 966.941 32.4315 M966.941 26.1121 Q976.664 26.1121 982.213 32.4315 Q987.763 38.7509 987.763 49.9314 Q987.763 61.0714 982.213 67.4314 Q976.664 73.7508 966.941 73.7508 Q957.179 73.7508 951.629 67.4314 Q946.12 61.0714 946.12 49.9314 Q946.12 38.7509 951.629 32.4315 Q957.179 26.1121 966.941 26.1121 Z\" fill=\"#000000\" fill-rule=\"evenodd\" fill-opacity=\"1\" /><path clip-path=\"url(#clip090)\" d=\"M 0 0 M1002.95 14.324 L1002.95 27.2059 L1018.31 27.2059 L1018.31 32.9987 L1002.95 32.9987 L1002.95 57.6282 Q1002.95 63.1779 1004.45 64.7578 Q1005.99 66.3376 1010.65 66.3376 L1018.31 66.3376 L1018.31 72.576 L1010.65 72.576 Q1002.02 72.576 998.741 69.3758 Q995.46 66.1351 995.46 57.6282 L995.46 32.9987 L989.991 32.9987 L989.991 27.2059 L995.46 27.2059 L995.46 14.324 L1002.95 14.324 Z\" fill=\"#000000\" fill-rule=\"evenodd\" fill-opacity=\"1\" /><path clip-path=\"url(#clip090)\" d=\"M 0 0 M1075.47 9.54393 L1075.47 15.7418 L1068.34 15.7418 Q1064.33 15.7418 1062.75 17.3622 Q1061.21 18.9825 1061.21 23.1955 L1061.21 27.2059 L1073.48 27.2059 L1073.48 32.9987 L1061.21 32.9987 L1061.21 72.576 L1053.71 72.576 L1053.71 32.9987 L1046.58 32.9987 L1046.58 27.2059 L1053.71 27.2059 L1053.71 24.0462 Q1053.71 16.471 1057.24 13.0277 Q1060.76 9.54393 1068.42 9.54393 L1075.47 9.54393 Z\" fill=\"#000000\" fill-rule=\"evenodd\" fill-opacity=\"1\" /><path clip-path=\"url(#clip090)\" d=\"M 0 0 M1100.86 32.4315 Q1094.87 32.4315 1091.39 37.1306 Q1087.9 41.7891 1087.9 49.9314 Q1087.9 58.0738 1091.34 62.7728 Q1094.83 67.4314 1100.86 67.4314 Q1106.82 67.4314 1110.3 62.7323 Q1113.79 58.0333 1113.79 49.9314 Q1113.79 41.8701 1110.3 37.1711 Q1106.82 32.4315 1100.86 32.4315 M1100.86 26.1121 Q1110.59 26.1121 1116.14 32.4315 Q1121.69 38.7509 1121.69 49.9314 Q1121.69 61.0714 1116.14 67.4314 Q1110.59 73.7508 1100.86 73.7508 Q1091.1 73.7508 1085.55 67.4314 Q1080.04 61.0714 1080.04 49.9314 Q1080.04 38.7509 1085.55 32.4315 Q1091.1 26.1121 1100.86 26.1121 Z\" fill=\"#000000\" fill-rule=\"evenodd\" fill-opacity=\"1\" /><path clip-path=\"url(#clip090)\" d=\"M 0 0 M1155.79 34.1734 Q1154.54 33.4443 1153.04 33.1202 Q1151.58 32.7556 1149.8 32.7556 Q1143.48 32.7556 1140.08 36.8875 Q1136.71 40.9789 1136.71 48.6757 L1136.71 72.576 L1129.22 72.576 L1129.22 27.2059 L1136.71 27.2059 L1136.71 34.2544 Q1139.06 30.1225 1142.83 28.1376 Q1146.6 26.1121 1151.99 26.1121 Q1152.76 26.1121 1153.69 26.2337 Q1154.62 26.3147 1155.75 26.5172 L1155.79 34.1734 Z\" fill=\"#000000\" fill-rule=\"evenodd\" fill-opacity=\"1\" /><path clip-path=\"url(#clip090)\" d=\"M 0 0 M1219.84 49.3643 Q1219.84 41.2625 1216.48 36.8065 Q1213.16 32.3505 1207.12 32.3505 Q1201.12 32.3505 1197.76 36.8065 Q1194.44 41.2625 1194.44 49.3643 Q1194.44 57.4256 1197.76 61.8816 Q1201.12 66.3376 1207.12 66.3376 Q1213.16 66.3376 1216.48 61.8816 Q1219.84 57.4256 1219.84 49.3643 M1227.29 66.9452 Q1227.29 78.5308 1222.15 84.1616 Q1217 89.8329 1206.39 89.8329 Q1202.46 89.8329 1198.98 89.2252 Q1195.49 88.6581 1192.21 87.4428 L1192.21 80.1917 Q1195.49 81.9741 1198.69 82.8248 Q1201.89 83.6755 1205.22 83.6755 Q1212.55 83.6755 1216.19 79.8271 Q1219.84 76.0193 1219.84 68.282 L1219.84 64.5957 Q1217.53 68.6061 1213.92 70.5911 Q1210.32 72.576 1205.3 72.576 Q1196.95 72.576 1191.85 66.2161 Q1186.74 59.8562 1186.74 49.3643 Q1186.74 38.832 1191.85 32.472 Q1196.95 26.1121 1205.3 26.1121 Q1210.32 26.1121 1213.92 28.0971 Q1217.53 30.082 1219.84 34.0924 L1219.84 27.2059 L1227.29 27.2059 L1227.29 66.9452 Z\" fill=\"#000000\" fill-rule=\"evenodd\" fill-opacity=\"1\" /><path clip-path=\"url(#clip090)\" d=\"M 0 0 M1261.4 34.1734 Q1260.15 33.4443 1258.65 33.1202 Q1257.19 32.7556 1255.41 32.7556 Q1249.09 32.7556 1245.68 36.8875 Q1242.32 40.9789 1242.32 48.6757 L1242.32 72.576 L1234.83 72.576 L1234.83 27.2059 L1242.32 27.2059 L1242.32 34.2544 Q1244.67 30.1225 1248.44 28.1376 Q1252.21 26.1121 1257.59 26.1121 Q1258.36 26.1121 1259.3 26.2337 Q1260.23 26.3147 1261.36 26.5172 L1261.4 34.1734 Z\" fill=\"#000000\" fill-rule=\"evenodd\" fill-opacity=\"1\" /><path clip-path=\"url(#clip090)\" d=\"M 0 0 M1289.84 49.7694 Q1280.81 49.7694 1277.32 51.8354 Q1273.84 53.9013 1273.84 58.8839 Q1273.84 62.8538 1276.43 65.2034 Q1279.06 67.5124 1283.56 67.5124 Q1289.76 67.5124 1293.48 63.1374 Q1297.25 58.7219 1297.25 51.4303 L1297.25 49.7694 L1289.84 49.7694 M1304.71 46.6907 L1304.71 72.576 L1297.25 72.576 L1297.25 65.6895 Q1294.7 69.8214 1290.89 71.8063 Q1287.08 73.7508 1281.58 73.7508 Q1274.61 73.7508 1270.48 69.8619 Q1266.38 65.9325 1266.38 59.3701 Q1266.38 51.7138 1271.49 47.825 Q1276.63 43.9361 1286.8 43.9361 L1297.25 43.9361 L1297.25 43.2069 Q1297.25 38.0623 1293.85 35.2672 Q1290.49 32.4315 1284.37 32.4315 Q1280.48 32.4315 1276.8 33.3632 Q1273.11 34.295 1269.71 36.1584 L1269.71 29.2718 Q1273.8 27.692 1277.65 26.9223 Q1281.49 26.1121 1285.14 26.1121 Q1294.98 26.1121 1299.84 31.2163 Q1304.71 36.3204 1304.71 46.6907 Z\" fill=\"#000000\" fill-rule=\"evenodd\" fill-opacity=\"1\" /><path clip-path=\"url(#clip090)\" d=\"M 0 0 M1342.38 34.0924 L1342.38 9.54393 L1349.83 9.54393 L1349.83 72.576 L1342.38 72.576 L1342.38 65.7705 Q1340.03 69.8214 1336.42 71.8063 Q1332.86 73.7508 1327.84 73.7508 Q1319.61 73.7508 1314.43 67.1883 Q1309.28 60.6258 1309.28 49.9314 Q1309.28 39.2371 1314.43 32.6746 Q1319.61 26.1121 1327.84 26.1121 Q1332.86 26.1121 1336.42 28.0971 Q1340.03 30.0415 1342.38 34.0924 M1316.98 49.9314 Q1316.98 58.1548 1320.34 62.8538 Q1323.74 67.5124 1329.66 67.5124 Q1335.57 67.5124 1338.98 62.8538 Q1342.38 58.1548 1342.38 49.9314 Q1342.38 41.7081 1338.98 37.0496 Q1335.57 32.3505 1329.66 32.3505 Q1323.74 32.3505 1320.34 37.0496 Q1316.98 41.7081 1316.98 49.9314 Z\" fill=\"#000000\" fill-rule=\"evenodd\" fill-opacity=\"1\" /><path clip-path=\"url(#clip090)\" d=\"M 0 0 M1396.46 48.0275 L1396.46 51.6733 L1362.19 51.6733 Q1362.67 59.3701 1366.81 63.421 Q1370.98 67.4314 1378.39 67.4314 Q1382.69 67.4314 1386.7 66.3781 Q1390.75 65.3249 1394.72 63.2184 L1394.72 70.267 Q1390.71 71.9684 1386.49 72.8596 Q1382.28 73.7508 1377.95 73.7508 Q1367.09 73.7508 1360.73 67.4314 Q1354.41 61.1119 1354.41 50.3365 Q1354.41 39.1965 1360.41 32.6746 Q1366.44 26.1121 1376.65 26.1121 Q1385.8 26.1121 1391.11 32.0264 Q1396.46 37.9003 1396.46 48.0275 M1389.01 45.84 Q1388.92 39.7232 1385.56 36.0774 Q1382.24 32.4315 1376.73 32.4315 Q1370.49 32.4315 1366.73 35.9558 Q1363 39.4801 1362.43 45.8805 L1389.01 45.84 Z\" fill=\"#000000\" fill-rule=\"evenodd\" fill-opacity=\"1\" /><path clip-path=\"url(#clip090)\" d=\"M 0 0 M1434.13 34.0924 L1434.13 9.54393 L1441.59 9.54393 L1441.59 72.576 L1434.13 72.576 L1434.13 65.7705 Q1431.78 69.8214 1428.18 71.8063 Q1424.61 73.7508 1419.59 73.7508 Q1411.37 73.7508 1406.18 67.1883 Q1401.04 60.6258 1401.04 49.9314 Q1401.04 39.2371 1406.18 32.6746 Q1411.37 26.1121 1419.59 26.1121 Q1424.61 26.1121 1428.18 28.0971 Q1431.78 30.0415 1434.13 34.0924 M1408.73 49.9314 Q1408.73 58.1548 1412.1 62.8538 Q1415.5 67.5124 1421.41 67.5124 Q1427.33 67.5124 1430.73 62.8538 Q1434.13 58.1548 1434.13 49.9314 Q1434.13 41.7081 1430.73 37.0496 Q1427.33 32.3505 1421.41 32.3505 Q1415.5 32.3505 1412.1 37.0496 Q1408.73 41.7081 1408.73 49.9314 Z\" fill=\"#000000\" fill-rule=\"evenodd\" fill-opacity=\"1\" /><path clip-path=\"url(#clip090)\" d=\"M 0 0 M1480.23 49.9314 Q1480.23 58.1548 1483.59 62.8538 Q1487 67.5124 1492.91 67.5124 Q1498.83 67.5124 1502.23 62.8538 Q1505.63 58.1548 1505.63 49.9314 Q1505.63 41.7081 1502.23 37.0496 Q1498.83 32.3505 1492.91 32.3505 Q1487 32.3505 1483.59 37.0496 Q1480.23 41.7081 1480.23 49.9314 M1505.63 65.7705 Q1503.28 69.8214 1499.68 71.8063 Q1496.11 73.7508 1491.09 73.7508 Q1482.86 73.7508 1477.68 67.1883 Q1472.53 60.6258 1472.53 49.9314 Q1472.53 39.2371 1477.68 32.6746 Q1482.86 26.1121 1491.09 26.1121 Q1496.11 26.1121 1499.68 28.0971 Q1503.28 30.0415 1505.63 34.0924 L1505.63 27.2059 L1513.08 27.2059 L1513.08 89.8329 L1505.63 89.8329 L1505.63 65.7705 Z\" fill=\"#000000\" fill-rule=\"evenodd\" fill-opacity=\"1\" /><path clip-path=\"url(#clip090)\" d=\"M 0 0 M1520.13 54.671 L1520.13 27.2059 L1527.59 27.2059 L1527.59 54.3874 Q1527.59 60.8284 1530.1 64.0691 Q1532.61 67.2693 1537.63 67.2693 Q1543.67 67.2693 1547.15 63.421 Q1550.68 59.5726 1550.68 52.9291 L1550.68 27.2059 L1558.13 27.2059 L1558.13 72.576 L1550.68 72.576 L1550.68 65.6084 Q1547.96 69.7404 1544.36 71.7658 Q1540.79 73.7508 1536.05 73.7508 Q1528.23 73.7508 1524.18 68.8897 Q1520.13 64.0286 1520.13 54.671 M1538.89 26.1121 L1538.89 26.1121 Z\" fill=\"#000000\" fill-rule=\"evenodd\" fill-opacity=\"1\" /><path clip-path=\"url(#clip090)\" d=\"M 0 0 M1565.95 27.2059 L1573.4 27.2059 L1573.4 72.576 L1565.95 72.576 L1565.95 27.2059 M1565.95 9.54393 L1573.4 9.54393 L1573.4 18.9825 L1565.95 18.9825 L1565.95 9.54393 Z\" fill=\"#000000\" fill-rule=\"evenodd\" fill-opacity=\"1\" /><path clip-path=\"url(#clip090)\" d=\"M 0 0 M1577.98 27.2059 L1613.38 27.2059 L1613.38 34.0114 L1585.35 66.6212 L1613.38 66.6212 L1613.38 72.576 L1576.97 72.576 L1576.97 65.7705 L1605 33.1607 L1577.98 33.1607 L1577.98 27.2059 Z\" fill=\"#000000\" fill-rule=\"evenodd\" fill-opacity=\"1\" /><polyline clip-path=\"url(#clip092)\" style=\"stroke:#000000; stroke-width:8; stroke-opacity:1; fill:none\" points=\"\n",
       "  210.251,876.395 626.272,1305 1042.29,1447.87 1458.31,1305 1874.33,876.395 2290.35,162.047 \n",
       "  \"/>\n",
       "<path clip-path=\"url(#clip092)\" d=\"M210.251 892.395 L196.395 884.395 L196.395 868.395 L210.251 860.395 L224.107 868.395 L224.107 884.395 Z\" fill=\"#009af9\" fill-rule=\"evenodd\" fill-opacity=\"1\" stroke=\"#000000\" stroke-opacity=\"1\" stroke-width=\"3.2\"/>\n",
       "<path clip-path=\"url(#clip092)\" d=\"M626.272 1321 L612.416 1313 L612.416 1297 L626.272 1289 L640.128 1297 L640.128 1313 Z\" fill=\"#009af9\" fill-rule=\"evenodd\" fill-opacity=\"1\" stroke=\"#000000\" stroke-opacity=\"1\" stroke-width=\"3.2\"/>\n",
       "<path clip-path=\"url(#clip092)\" d=\"M1042.29 1463.87 L1028.44 1455.87 L1028.44 1439.87 L1042.29 1431.87 L1056.15 1439.87 L1056.15 1455.87 Z\" fill=\"#009af9\" fill-rule=\"evenodd\" fill-opacity=\"1\" stroke=\"#000000\" stroke-opacity=\"1\" stroke-width=\"3.2\"/>\n",
       "<path clip-path=\"url(#clip092)\" d=\"M1458.31 1321 L1444.46 1313 L1444.46 1297 L1458.31 1289 L1472.17 1297 L1472.17 1313 Z\" fill=\"#009af9\" fill-rule=\"evenodd\" fill-opacity=\"1\" stroke=\"#000000\" stroke-opacity=\"1\" stroke-width=\"3.2\"/>\n",
       "<path clip-path=\"url(#clip092)\" d=\"M1874.33 892.395 L1860.48 884.395 L1860.48 868.395 L1874.33 860.395 L1888.19 868.395 L1888.19 884.395 Z\" fill=\"#009af9\" fill-rule=\"evenodd\" fill-opacity=\"1\" stroke=\"#000000\" stroke-opacity=\"1\" stroke-width=\"3.2\"/>\n",
       "<path clip-path=\"url(#clip092)\" d=\"M2290.35 178.047 L2276.5 170.047 L2276.5 154.047 L2290.35 146.047 L2304.21 154.047 L2304.21 170.047 Z\" fill=\"#009af9\" fill-rule=\"evenodd\" fill-opacity=\"1\" stroke=\"#000000\" stroke-opacity=\"1\" stroke-width=\"3.2\"/>\n",
       "</svg>\n"
      ]
     },
     "execution_count": 35,
     "metadata": {},
     "output_type": "execute_result"
    }
   ],
   "source": [
    "x = [1, 2, 3, 4, 5, 6]\n",
    "y = (x.-3).^2/4\n",
    "plot(x,y, marker = :hex, leg=false, linewidth = 2, linecolor=:black)\n",
    "plot!(title=\"Plot for graded quiz\")"
   ]
  },
  {
   "cell_type": "markdown",
   "metadata": {},
   "source": [
    "### SIR model"
   ]
  },
  {
   "cell_type": "markdown",
   "metadata": {},
   "source": [
    "## Equations of SIR model\n",
    "S(t+1) = S(ti)- λS(ti)I(ti)dt\n",
    "#### -\n",
    "I(t+1) = I(ti) + λS(ti)I(ti)dt - γI(ti)dt\n",
    "### -\n",
    "R(t+1) = R(ti) + γI(ti)dt"
   ]
  },
  {
   "cell_type": "markdown",
   "metadata": {},
   "source": [
    "Threshod\n",
    "λSI-γI > 0 this can only happen when λS-γ > 0\n",
    "in other words infected increases when  S>γ/λ\n",
    "Initial population is  below the threshold then Indicated  by S(0) < γ/λ then no: infected decreases even \n",
    "if Initially large\n"
   ]
  },
  {
   "cell_type": "code",
   "execution_count": 36,
   "metadata": {},
   "outputs": [
    {
     "data": {
      "text/plain": [
       "4-element Array{Any,1}:\n",
       " #undef\n",
       " #undef\n",
       " #undef\n",
       " #undef"
      ]
     },
     "execution_count": 36,
     "metadata": {},
     "output_type": "execute_result"
    }
   ],
   "source": [
    "tempvar = Array{Any}(undef,4)\n"
   ]
  },
  {
   "cell_type": "code",
   "execution_count": 37,
   "metadata": {},
   "outputs": [
    {
     "data": {
      "text/plain": [
       "4-element Array{Any,1}:\n",
       " \"chuchu\"\n",
       " \"chuchu\"\n",
       " \"chuchu\"\n",
       " \"chuchu\""
      ]
     },
     "execution_count": 37,
     "metadata": {},
     "output_type": "execute_result"
    }
   ],
   "source": [
    "fill!(tempvar,\"chuchu\")"
   ]
  },
  {
   "cell_type": "code",
   "execution_count": 38,
   "metadata": {},
   "outputs": [
    {
     "data": {
      "image/svg+xml": [
       "<?xml version=\"1.0\" encoding=\"utf-8\"?>\n",
       "<svg xmlns=\"http://www.w3.org/2000/svg\" xmlns:xlink=\"http://www.w3.org/1999/xlink\" width=\"600\" height=\"400\" viewBox=\"0 0 2400 1600\">\n",
       "<defs>\n",
       "  <clipPath id=\"clip130\">\n",
       "    <rect x=\"0\" y=\"0\" width=\"2400\" height=\"1600\"/>\n",
       "  </clipPath>\n",
       "</defs>\n",
       "<path clip-path=\"url(#clip130)\" d=\"\n",
       "M0 1600 L2400 1600 L2400 0 L0 0  Z\n",
       "  \" fill=\"#ffffff\" fill-rule=\"evenodd\" fill-opacity=\"1\"/>\n",
       "<defs>\n",
       "  <clipPath id=\"clip131\">\n",
       "    <rect x=\"480\" y=\"0\" width=\"1681\" height=\"1600\"/>\n",
       "  </clipPath>\n",
       "</defs>\n",
       "<path clip-path=\"url(#clip130)\" d=\"\n",
       "M166.205 1486.45 L2352.76 1486.45 L2352.76 47.2441 L166.205 47.2441  Z\n",
       "  \" fill=\"#ffffff\" fill-rule=\"evenodd\" fill-opacity=\"1\"/>\n",
       "<defs>\n",
       "  <clipPath id=\"clip132\">\n",
       "    <rect x=\"166\" y=\"47\" width=\"2188\" height=\"1440\"/>\n",
       "  </clipPath>\n",
       "</defs>\n",
       "<polyline clip-path=\"url(#clip132)\" style=\"stroke:#000000; stroke-width:2; stroke-opacity:0.1; fill:none\" points=\"\n",
       "  228.088,1486.45 228.088,47.2441 \n",
       "  \"/>\n",
       "<polyline clip-path=\"url(#clip132)\" style=\"stroke:#000000; stroke-width:2; stroke-opacity:0.1; fill:none\" points=\"\n",
       "  743.784,1486.45 743.784,47.2441 \n",
       "  \"/>\n",
       "<polyline clip-path=\"url(#clip132)\" style=\"stroke:#000000; stroke-width:2; stroke-opacity:0.1; fill:none\" points=\"\n",
       "  1259.48,1486.45 1259.48,47.2441 \n",
       "  \"/>\n",
       "<polyline clip-path=\"url(#clip132)\" style=\"stroke:#000000; stroke-width:2; stroke-opacity:0.1; fill:none\" points=\"\n",
       "  1775.18,1486.45 1775.18,47.2441 \n",
       "  \"/>\n",
       "<polyline clip-path=\"url(#clip132)\" style=\"stroke:#000000; stroke-width:2; stroke-opacity:0.1; fill:none\" points=\"\n",
       "  2290.87,1486.45 2290.87,47.2441 \n",
       "  \"/>\n",
       "<polyline clip-path=\"url(#clip132)\" style=\"stroke:#000000; stroke-width:2; stroke-opacity:0.1; fill:none\" points=\"\n",
       "  166.205,1394.48 2352.76,1394.48 \n",
       "  \"/>\n",
       "<polyline clip-path=\"url(#clip132)\" style=\"stroke:#000000; stroke-width:2; stroke-opacity:0.1; fill:none\" points=\"\n",
       "  166.205,1138.3 2352.76,1138.3 \n",
       "  \"/>\n",
       "<polyline clip-path=\"url(#clip132)\" style=\"stroke:#000000; stroke-width:2; stroke-opacity:0.1; fill:none\" points=\"\n",
       "  166.205,882.126 2352.76,882.126 \n",
       "  \"/>\n",
       "<polyline clip-path=\"url(#clip132)\" style=\"stroke:#000000; stroke-width:2; stroke-opacity:0.1; fill:none\" points=\"\n",
       "  166.205,625.948 2352.76,625.948 \n",
       "  \"/>\n",
       "<polyline clip-path=\"url(#clip132)\" style=\"stroke:#000000; stroke-width:2; stroke-opacity:0.1; fill:none\" points=\"\n",
       "  166.205,369.771 2352.76,369.771 \n",
       "  \"/>\n",
       "<polyline clip-path=\"url(#clip132)\" style=\"stroke:#000000; stroke-width:2; stroke-opacity:0.1; fill:none\" points=\"\n",
       "  166.205,113.594 2352.76,113.594 \n",
       "  \"/>\n",
       "<polyline clip-path=\"url(#clip130)\" style=\"stroke:#000000; stroke-width:4; stroke-opacity:1; fill:none\" points=\"\n",
       "  166.205,1486.45 2352.76,1486.45 \n",
       "  \"/>\n",
       "<polyline clip-path=\"url(#clip130)\" style=\"stroke:#000000; stroke-width:4; stroke-opacity:1; fill:none\" points=\"\n",
       "  166.205,1486.45 166.205,47.2441 \n",
       "  \"/>\n",
       "<polyline clip-path=\"url(#clip130)\" style=\"stroke:#000000; stroke-width:4; stroke-opacity:1; fill:none\" points=\"\n",
       "  228.088,1486.45 228.088,1469.18 \n",
       "  \"/>\n",
       "<polyline clip-path=\"url(#clip130)\" style=\"stroke:#000000; stroke-width:4; stroke-opacity:1; fill:none\" points=\"\n",
       "  743.784,1486.45 743.784,1469.18 \n",
       "  \"/>\n",
       "<polyline clip-path=\"url(#clip130)\" style=\"stroke:#000000; stroke-width:4; stroke-opacity:1; fill:none\" points=\"\n",
       "  1259.48,1486.45 1259.48,1469.18 \n",
       "  \"/>\n",
       "<polyline clip-path=\"url(#clip130)\" style=\"stroke:#000000; stroke-width:4; stroke-opacity:1; fill:none\" points=\"\n",
       "  1775.18,1486.45 1775.18,1469.18 \n",
       "  \"/>\n",
       "<polyline clip-path=\"url(#clip130)\" style=\"stroke:#000000; stroke-width:4; stroke-opacity:1; fill:none\" points=\"\n",
       "  2290.87,1486.45 2290.87,1469.18 \n",
       "  \"/>\n",
       "<polyline clip-path=\"url(#clip130)\" style=\"stroke:#000000; stroke-width:4; stroke-opacity:1; fill:none\" points=\"\n",
       "  166.205,1394.48 192.443,1394.48 \n",
       "  \"/>\n",
       "<polyline clip-path=\"url(#clip130)\" style=\"stroke:#000000; stroke-width:4; stroke-opacity:1; fill:none\" points=\"\n",
       "  166.205,1138.3 192.443,1138.3 \n",
       "  \"/>\n",
       "<polyline clip-path=\"url(#clip130)\" style=\"stroke:#000000; stroke-width:4; stroke-opacity:1; fill:none\" points=\"\n",
       "  166.205,882.126 192.443,882.126 \n",
       "  \"/>\n",
       "<polyline clip-path=\"url(#clip130)\" style=\"stroke:#000000; stroke-width:4; stroke-opacity:1; fill:none\" points=\"\n",
       "  166.205,625.948 192.443,625.948 \n",
       "  \"/>\n",
       "<polyline clip-path=\"url(#clip130)\" style=\"stroke:#000000; stroke-width:4; stroke-opacity:1; fill:none\" points=\"\n",
       "  166.205,369.771 192.443,369.771 \n",
       "  \"/>\n",
       "<polyline clip-path=\"url(#clip130)\" style=\"stroke:#000000; stroke-width:4; stroke-opacity:1; fill:none\" points=\"\n",
       "  166.205,113.594 192.443,113.594 \n",
       "  \"/>\n",
       "<path clip-path=\"url(#clip130)\" d=\"M 0 0 M195.449 1525.04 L207.926 1525.04 L207.926 1528.83 L195.449 1528.83 L195.449 1525.04 Z\" fill=\"#000000\" fill-rule=\"evenodd\" fill-opacity=\"1\" /><path clip-path=\"url(#clip130)\" d=\"M 0 0 M213.806 1535.98 L221.445 1535.98 L221.445 1509.62 L213.135 1511.29 L213.135 1507.03 L221.398 1505.36 L226.074 1505.36 L226.074 1535.98 L233.713 1535.98 L233.713 1539.92 L213.806 1539.92 L213.806 1535.98 Z\" fill=\"#000000\" fill-rule=\"evenodd\" fill-opacity=\"1\" /><path clip-path=\"url(#clip130)\" d=\"M 0 0 M248.783 1508.44 Q245.171 1508.44 243.343 1512 Q241.537 1515.55 241.537 1522.67 Q241.537 1529.78 243.343 1533.35 Q245.171 1536.89 248.783 1536.89 Q252.417 1536.89 254.222 1533.35 Q256.051 1529.78 256.051 1522.67 Q256.051 1515.55 254.222 1512 Q252.417 1508.44 248.783 1508.44 M248.783 1504.73 Q254.593 1504.73 257.648 1509.34 Q260.727 1513.92 260.727 1522.67 Q260.727 1531.4 257.648 1536.01 Q254.593 1540.59 248.783 1540.59 Q242.972 1540.59 239.894 1536.01 Q236.838 1531.4 236.838 1522.67 Q236.838 1513.92 239.894 1509.34 Q242.972 1504.73 248.783 1504.73 Z\" fill=\"#000000\" fill-rule=\"evenodd\" fill-opacity=\"1\" /><path clip-path=\"url(#clip130)\" d=\"M 0 0 M724.537 1525.04 L737.013 1525.04 L737.013 1528.83 L724.537 1528.83 L724.537 1525.04 Z\" fill=\"#000000\" fill-rule=\"evenodd\" fill-opacity=\"1\" /><path clip-path=\"url(#clip130)\" d=\"M 0 0 M742.129 1505.36 L760.486 1505.36 L760.486 1509.3 L746.412 1509.3 L746.412 1517.77 Q747.43 1517.42 748.449 1517.26 Q749.467 1517.07 750.486 1517.07 Q756.273 1517.07 759.652 1520.24 Q763.032 1523.42 763.032 1528.83 Q763.032 1534.41 759.56 1537.51 Q756.087 1540.59 749.768 1540.59 Q747.592 1540.59 745.324 1540.22 Q743.078 1539.85 740.671 1539.11 L740.671 1534.41 Q742.754 1535.54 744.976 1536.1 Q747.199 1536.66 749.675 1536.66 Q753.68 1536.66 756.018 1534.55 Q758.356 1532.44 758.356 1528.83 Q758.356 1525.22 756.018 1523.11 Q753.68 1521.01 749.675 1521.01 Q747.8 1521.01 745.925 1521.42 Q744.074 1521.84 742.129 1522.72 L742.129 1505.36 Z\" fill=\"#000000\" fill-rule=\"evenodd\" fill-opacity=\"1\" /><path clip-path=\"url(#clip130)\" d=\"M 0 0 M1259.48 1508.44 Q1255.87 1508.44 1254.04 1512 Q1252.23 1515.55 1252.23 1522.67 Q1252.23 1529.78 1254.04 1533.35 Q1255.87 1536.89 1259.48 1536.89 Q1263.11 1536.89 1264.92 1533.35 Q1266.75 1529.78 1266.75 1522.67 Q1266.75 1515.55 1264.92 1512 Q1263.11 1508.44 1259.48 1508.44 M1259.48 1504.73 Q1265.29 1504.73 1268.35 1509.34 Q1271.42 1513.92 1271.42 1522.67 Q1271.42 1531.4 1268.35 1536.01 Q1265.29 1540.59 1259.48 1540.59 Q1253.67 1540.59 1250.59 1536.01 Q1247.54 1531.4 1247.54 1522.67 Q1247.54 1513.92 1250.59 1509.34 Q1253.67 1504.73 1259.48 1504.73 Z\" fill=\"#000000\" fill-rule=\"evenodd\" fill-opacity=\"1\" /><path clip-path=\"url(#clip130)\" d=\"M 0 0 M1765.45 1505.36 L1783.81 1505.36 L1783.81 1509.3 L1769.74 1509.3 L1769.74 1517.77 Q1770.76 1517.42 1771.77 1517.26 Q1772.79 1517.07 1773.81 1517.07 Q1779.6 1517.07 1782.98 1520.24 Q1786.36 1523.42 1786.36 1528.83 Q1786.36 1534.41 1782.88 1537.51 Q1779.41 1540.59 1773.09 1540.59 Q1770.92 1540.59 1768.65 1540.22 Q1766.4 1539.85 1764 1539.11 L1764 1534.41 Q1766.08 1535.54 1768.3 1536.1 Q1770.52 1536.66 1773 1536.66 Q1777.01 1536.66 1779.34 1534.55 Q1781.68 1532.44 1781.68 1528.83 Q1781.68 1525.22 1779.34 1523.11 Q1777.01 1521.01 1773 1521.01 Q1771.13 1521.01 1769.25 1521.42 Q1767.4 1521.84 1765.45 1522.72 L1765.45 1505.36 Z\" fill=\"#000000\" fill-rule=\"evenodd\" fill-opacity=\"1\" /><path clip-path=\"url(#clip130)\" d=\"M 0 0 M2267.75 1535.98 L2275.39 1535.98 L2275.39 1509.62 L2267.08 1511.29 L2267.08 1507.03 L2275.34 1505.36 L2280.02 1505.36 L2280.02 1535.98 L2287.65 1535.98 L2287.65 1539.92 L2267.75 1539.92 L2267.75 1535.98 Z\" fill=\"#000000\" fill-rule=\"evenodd\" fill-opacity=\"1\" /><path clip-path=\"url(#clip130)\" d=\"M 0 0 M2302.72 1508.44 Q2299.11 1508.44 2297.28 1512 Q2295.48 1515.55 2295.48 1522.67 Q2295.48 1529.78 2297.28 1533.35 Q2299.11 1536.89 2302.72 1536.89 Q2306.36 1536.89 2308.16 1533.35 Q2309.99 1529.78 2309.99 1522.67 Q2309.99 1515.55 2308.16 1512 Q2306.36 1508.44 2302.72 1508.44 M2302.72 1504.73 Q2308.53 1504.73 2311.59 1509.34 Q2314.67 1513.92 2314.67 1522.67 Q2314.67 1531.4 2311.59 1536.01 Q2308.53 1540.59 2302.72 1540.59 Q2296.91 1540.59 2293.84 1536.01 Q2290.78 1531.4 2290.78 1522.67 Q2290.78 1513.92 2293.84 1509.34 Q2296.91 1504.73 2302.72 1504.73 Z\" fill=\"#000000\" fill-rule=\"evenodd\" fill-opacity=\"1\" /><path clip-path=\"url(#clip130)\" d=\"M 0 0 M130.26 1380.28 Q126.649 1380.28 124.82 1383.84 Q123.015 1387.39 123.015 1394.51 Q123.015 1401.62 124.82 1405.19 Q126.649 1408.73 130.26 1408.73 Q133.895 1408.73 135.7 1405.19 Q137.529 1401.62 137.529 1394.51 Q137.529 1387.39 135.7 1383.84 Q133.895 1380.28 130.26 1380.28 M130.26 1376.58 Q136.07 1376.58 139.126 1381.18 Q142.205 1385.77 142.205 1394.51 Q142.205 1403.24 139.126 1407.85 Q136.07 1412.43 130.26 1412.43 Q124.45 1412.43 121.371 1407.85 Q118.316 1403.24 118.316 1394.51 Q118.316 1385.77 121.371 1381.18 Q124.45 1376.58 130.26 1376.58 Z\" fill=\"#000000\" fill-rule=\"evenodd\" fill-opacity=\"1\" /><path clip-path=\"url(#clip130)\" d=\"M 0 0 M68.2699 1151.65 L75.9087 1151.65 L75.9087 1125.28 L67.5986 1126.95 L67.5986 1122.69 L75.8624 1121.02 L80.5383 1121.02 L80.5383 1151.65 L88.1772 1151.65 L88.1772 1155.58 L68.2699 1155.58 L68.2699 1151.65 Z\" fill=\"#000000\" fill-rule=\"evenodd\" fill-opacity=\"1\" /><path clip-path=\"url(#clip130)\" d=\"M 0 0 M103.247 1124.1 Q99.6354 1124.1 97.8068 1127.67 Q96.0012 1131.21 96.0012 1138.34 Q96.0012 1145.44 97.8068 1149.01 Q99.6354 1152.55 103.247 1152.55 Q106.881 1152.55 108.686 1149.01 Q110.515 1145.44 110.515 1138.34 Q110.515 1131.21 108.686 1127.67 Q106.881 1124.1 103.247 1124.1 M103.247 1120.4 Q109.057 1120.4 112.112 1125 Q115.191 1129.59 115.191 1138.34 Q115.191 1147.06 112.112 1151.67 Q109.057 1156.25 103.247 1156.25 Q97.4364 1156.25 94.3577 1151.67 Q91.3022 1147.06 91.3022 1138.34 Q91.3022 1129.59 94.3577 1125 Q97.4364 1120.4 103.247 1120.4 Z\" fill=\"#000000\" fill-rule=\"evenodd\" fill-opacity=\"1\" /><path clip-path=\"url(#clip130)\" d=\"M 0 0 M130.26 1124.1 Q126.649 1124.1 124.82 1127.67 Q123.015 1131.21 123.015 1138.34 Q123.015 1145.44 124.82 1149.01 Q126.649 1152.55 130.26 1152.55 Q133.895 1152.55 135.7 1149.01 Q137.529 1145.44 137.529 1138.34 Q137.529 1131.21 135.7 1127.67 Q133.895 1124.1 130.26 1124.1 M130.26 1120.4 Q136.07 1120.4 139.126 1125 Q142.205 1129.59 142.205 1138.34 Q142.205 1147.06 139.126 1151.67 Q136.07 1156.25 130.26 1156.25 Q124.45 1156.25 121.371 1151.67 Q118.316 1147.06 118.316 1138.34 Q118.316 1129.59 121.371 1125 Q124.45 1120.4 130.26 1120.4 Z\" fill=\"#000000\" fill-rule=\"evenodd\" fill-opacity=\"1\" /><path clip-path=\"url(#clip130)\" d=\"M 0 0 M71.8578 895.471 L88.1772 895.471 L88.1772 899.406 L66.2328 899.406 L66.2328 895.471 Q68.8949 892.716 73.4782 888.086 Q78.0846 883.434 79.2652 882.091 Q81.5105 879.568 82.3902 877.832 Q83.2929 876.073 83.2929 874.383 Q83.2929 871.628 81.3485 869.892 Q79.4272 868.156 76.3254 868.156 Q74.1263 868.156 71.6726 868.92 Q69.2421 869.684 66.4643 871.235 L66.4643 866.512 Q69.2884 865.378 71.7421 864.799 Q74.1958 864.221 76.2328 864.221 Q81.6031 864.221 84.7976 866.906 Q87.992 869.591 87.992 874.082 Q87.992 876.211 87.1818 878.133 Q86.3948 880.031 84.2883 882.623 Q83.7096 883.295 80.6078 886.512 Q77.5059 889.707 71.8578 895.471 Z\" fill=\"#000000\" fill-rule=\"evenodd\" fill-opacity=\"1\" /><path clip-path=\"url(#clip130)\" d=\"M 0 0 M103.247 867.924 Q99.6354 867.924 97.8068 871.489 Q96.0012 875.031 96.0012 882.16 Q96.0012 889.267 97.8068 892.832 Q99.6354 896.373 103.247 896.373 Q106.881 896.373 108.686 892.832 Q110.515 889.267 110.515 882.16 Q110.515 875.031 108.686 871.489 Q106.881 867.924 103.247 867.924 M103.247 864.221 Q109.057 864.221 112.112 868.827 Q115.191 873.411 115.191 882.16 Q115.191 890.887 112.112 895.494 Q109.057 900.077 103.247 900.077 Q97.4364 900.077 94.3577 895.494 Q91.3022 890.887 91.3022 882.16 Q91.3022 873.411 94.3577 868.827 Q97.4364 864.221 103.247 864.221 Z\" fill=\"#000000\" fill-rule=\"evenodd\" fill-opacity=\"1\" /><path clip-path=\"url(#clip130)\" d=\"M 0 0 M130.26 867.924 Q126.649 867.924 124.82 871.489 Q123.015 875.031 123.015 882.16 Q123.015 889.267 124.82 892.832 Q126.649 896.373 130.26 896.373 Q133.895 896.373 135.7 892.832 Q137.529 889.267 137.529 882.16 Q137.529 875.031 135.7 871.489 Q133.895 867.924 130.26 867.924 M130.26 864.221 Q136.07 864.221 139.126 868.827 Q142.205 873.411 142.205 882.16 Q142.205 890.887 139.126 895.494 Q136.07 900.077 130.26 900.077 Q124.45 900.077 121.371 895.494 Q118.316 890.887 118.316 882.16 Q118.316 873.411 121.371 868.827 Q124.45 864.221 130.26 864.221 Z\" fill=\"#000000\" fill-rule=\"evenodd\" fill-opacity=\"1\" /><path clip-path=\"url(#clip130)\" d=\"M 0 0 M81.0476 624.594 Q84.404 625.312 86.279 627.58 Q88.1772 629.849 88.1772 633.182 Q88.1772 638.298 84.6587 641.099 Q81.1402 643.9 74.6587 643.9 Q72.4828 643.9 70.168 643.46 Q67.8764 643.043 65.4227 642.187 L65.4227 637.673 Q67.3671 638.807 69.6819 639.386 Q71.9967 639.965 74.5198 639.965 Q78.918 639.965 81.2096 638.229 Q83.5244 636.492 83.5244 633.182 Q83.5244 630.127 81.3717 628.414 Q79.242 626.678 75.4226 626.678 L71.3949 626.678 L71.3949 622.835 L75.6078 622.835 Q79.0569 622.835 80.8855 621.469 Q82.7142 620.08 82.7142 617.488 Q82.7142 614.826 80.8161 613.414 Q78.9411 611.979 75.4226 611.979 Q73.5013 611.979 71.3023 612.395 Q69.1032 612.812 66.4643 613.692 L66.4643 609.525 Q69.1264 608.784 71.4412 608.414 Q73.7791 608.044 75.8393 608.044 Q81.1633 608.044 84.2652 610.474 Q87.367 612.881 87.367 617.002 Q87.367 619.872 85.7235 621.863 Q84.08 623.83 81.0476 624.594 Z\" fill=\"#000000\" fill-rule=\"evenodd\" fill-opacity=\"1\" /><path clip-path=\"url(#clip130)\" d=\"M 0 0 M103.247 611.747 Q99.6354 611.747 97.8068 615.312 Q96.0012 618.854 96.0012 625.983 Q96.0012 633.09 97.8068 636.654 Q99.6354 640.196 103.247 640.196 Q106.881 640.196 108.686 636.654 Q110.515 633.09 110.515 625.983 Q110.515 618.854 108.686 615.312 Q106.881 611.747 103.247 611.747 M103.247 608.044 Q109.057 608.044 112.112 612.65 Q115.191 617.233 115.191 625.983 Q115.191 634.71 112.112 639.316 Q109.057 643.9 103.247 643.9 Q97.4364 643.9 94.3577 639.316 Q91.3022 634.71 91.3022 625.983 Q91.3022 617.233 94.3577 612.65 Q97.4364 608.044 103.247 608.044 Z\" fill=\"#000000\" fill-rule=\"evenodd\" fill-opacity=\"1\" /><path clip-path=\"url(#clip130)\" d=\"M 0 0 M130.26 611.747 Q126.649 611.747 124.82 615.312 Q123.015 618.854 123.015 625.983 Q123.015 633.09 124.82 636.654 Q126.649 640.196 130.26 640.196 Q133.895 640.196 135.7 636.654 Q137.529 633.09 137.529 625.983 Q137.529 618.854 135.7 615.312 Q133.895 611.747 130.26 611.747 M130.26 608.044 Q136.07 608.044 139.126 612.65 Q142.205 617.233 142.205 625.983 Q142.205 634.71 139.126 639.316 Q136.07 643.9 130.26 643.9 Q124.45 643.9 121.371 639.316 Q118.316 634.71 118.316 625.983 Q118.316 617.233 121.371 612.65 Q124.45 608.044 130.26 608.044 Z\" fill=\"#000000\" fill-rule=\"evenodd\" fill-opacity=\"1\" /><path clip-path=\"url(#clip130)\" d=\"M 0 0 M78.5939 356.565 L66.7884 375.014 L78.5939 375.014 L78.5939 356.565 M77.367 352.491 L83.2466 352.491 L83.2466 375.014 L88.1772 375.014 L88.1772 378.903 L83.2466 378.903 L83.2466 387.051 L78.5939 387.051 L78.5939 378.903 L62.9921 378.903 L62.9921 374.389 L77.367 352.491 Z\" fill=\"#000000\" fill-rule=\"evenodd\" fill-opacity=\"1\" /><path clip-path=\"url(#clip130)\" d=\"M 0 0 M103.247 355.57 Q99.6354 355.57 97.8068 359.135 Q96.0012 362.676 96.0012 369.806 Q96.0012 376.912 97.8068 380.477 Q99.6354 384.019 103.247 384.019 Q106.881 384.019 108.686 380.477 Q110.515 376.912 110.515 369.806 Q110.515 362.676 108.686 359.135 Q106.881 355.57 103.247 355.57 M103.247 351.866 Q109.057 351.866 112.112 356.473 Q115.191 361.056 115.191 369.806 Q115.191 378.533 112.112 383.139 Q109.057 387.723 103.247 387.723 Q97.4364 387.723 94.3577 383.139 Q91.3022 378.533 91.3022 369.806 Q91.3022 361.056 94.3577 356.473 Q97.4364 351.866 103.247 351.866 Z\" fill=\"#000000\" fill-rule=\"evenodd\" fill-opacity=\"1\" /><path clip-path=\"url(#clip130)\" d=\"M 0 0 M130.26 355.57 Q126.649 355.57 124.82 359.135 Q123.015 362.676 123.015 369.806 Q123.015 376.912 124.82 380.477 Q126.649 384.019 130.26 384.019 Q133.895 384.019 135.7 380.477 Q137.529 376.912 137.529 369.806 Q137.529 362.676 135.7 359.135 Q133.895 355.57 130.26 355.57 M130.26 351.866 Q136.07 351.866 139.126 356.473 Q142.205 361.056 142.205 369.806 Q142.205 378.533 139.126 383.139 Q136.07 387.723 130.26 387.723 Q124.45 387.723 121.371 383.139 Q118.316 378.533 118.316 369.806 Q118.316 361.056 121.371 356.473 Q124.45 351.866 130.26 351.866 Z\" fill=\"#000000\" fill-rule=\"evenodd\" fill-opacity=\"1\" /><path clip-path=\"url(#clip130)\" d=\"M 0 0 M67.2745 96.314 L85.6309 96.314 L85.6309 100.249 L71.5569 100.249 L71.5569 108.721 Q72.5754 108.374 73.5939 108.212 Q74.6124 108.027 75.6309 108.027 Q81.418 108.027 84.7976 111.198 Q88.1772 114.369 88.1772 119.786 Q88.1772 125.365 84.705 128.467 Q81.2328 131.545 74.9134 131.545 Q72.7374 131.545 70.4689 131.175 Q68.2236 130.805 65.8162 130.064 L65.8162 125.365 Q67.8995 126.499 70.1217 127.055 Q72.3439 127.61 74.8208 127.61 Q78.8254 127.61 81.1633 125.504 Q83.5013 123.397 83.5013 119.786 Q83.5013 116.175 81.1633 114.069 Q78.8254 111.962 74.8208 111.962 Q72.9458 111.962 71.0708 112.379 Q69.2189 112.795 67.2745 113.675 L67.2745 96.314 Z\" fill=\"#000000\" fill-rule=\"evenodd\" fill-opacity=\"1\" /><path clip-path=\"url(#clip130)\" d=\"M 0 0 M103.247 99.3927 Q99.6354 99.3927 97.8068 102.957 Q96.0012 106.499 96.0012 113.629 Q96.0012 120.735 97.8068 124.3 Q99.6354 127.842 103.247 127.842 Q106.881 127.842 108.686 124.3 Q110.515 120.735 110.515 113.629 Q110.515 106.499 108.686 102.957 Q106.881 99.3927 103.247 99.3927 M103.247 95.689 Q109.057 95.689 112.112 100.295 Q115.191 104.879 115.191 113.629 Q115.191 122.356 112.112 126.962 Q109.057 131.545 103.247 131.545 Q97.4364 131.545 94.3577 126.962 Q91.3022 122.356 91.3022 113.629 Q91.3022 104.879 94.3577 100.295 Q97.4364 95.689 103.247 95.689 Z\" fill=\"#000000\" fill-rule=\"evenodd\" fill-opacity=\"1\" /><path clip-path=\"url(#clip130)\" d=\"M 0 0 M130.26 99.3927 Q126.649 99.3927 124.82 102.957 Q123.015 106.499 123.015 113.629 Q123.015 120.735 124.82 124.3 Q126.649 127.842 130.26 127.842 Q133.895 127.842 135.7 124.3 Q137.529 120.735 137.529 113.629 Q137.529 106.499 135.7 102.957 Q133.895 99.3927 130.26 99.3927 M130.26 95.689 Q136.07 95.689 139.126 100.295 Q142.205 104.879 142.205 113.629 Q142.205 122.356 139.126 126.962 Q136.07 131.545 130.26 131.545 Q124.45 131.545 121.371 126.962 Q118.316 122.356 118.316 113.629 Q118.316 104.879 121.371 100.295 Q124.45 95.689 130.26 95.689 Z\" fill=\"#000000\" fill-rule=\"evenodd\" fill-opacity=\"1\" /><polyline clip-path=\"url(#clip132)\" style=\"stroke:#009af9; stroke-width:4; stroke-opacity:1; fill:none\" points=\"\n",
       "  228.088,241.683 331.227,477.366 434.367,687.431 537.506,871.879 640.645,1030.71 743.784,1163.92 846.923,1271.52 950.063,1353.49 1053.2,1409.85 1156.34,1440.59 \n",
       "  1259.48,1445.72 1362.62,1425.22 1465.76,1379.11 1568.9,1307.38 1672.04,1210.03 1775.18,1087.07 1878.32,938.485 1981.45,764.284 2084.59,564.466 2187.73,339.03 \n",
       "  2290.87,87.9763 \n",
       "  \"/>\n",
       "<path clip-path=\"url(#clip130)\" d=\"\n",
       "M1989.74 251.724 L2280.76 251.724 L2280.76 130.764 L1989.74 130.764  Z\n",
       "  \" fill=\"#ffffff\" fill-rule=\"evenodd\" fill-opacity=\"1\"/>\n",
       "<polyline clip-path=\"url(#clip130)\" style=\"stroke:#000000; stroke-width:4; stroke-opacity:1; fill:none\" points=\"\n",
       "  1989.74,251.724 2280.76,251.724 2280.76,130.764 1989.74,130.764 1989.74,251.724 \n",
       "  \"/>\n",
       "<polyline clip-path=\"url(#clip130)\" style=\"stroke:#009af9; stroke-width:4; stroke-opacity:1; fill:none\" points=\"\n",
       "  2013.74,191.244 2157.74,191.244 \n",
       "  \"/>\n",
       "<path clip-path=\"url(#clip130)\" d=\"M 0 0 M2195.58 210.931 Q2193.77 215.561 2192.06 216.973 Q2190.35 218.385 2187.48 218.385 L2184.08 218.385 L2184.08 214.82 L2186.58 214.82 Q2188.33 214.82 2189.31 213.987 Q2190.28 213.154 2191.46 210.052 L2192.22 208.107 L2181.74 182.598 L2186.25 182.598 L2194.35 202.876 L2202.46 182.598 L2206.97 182.598 L2195.58 210.931 Z\" fill=\"#000000\" fill-rule=\"evenodd\" fill-opacity=\"1\" /><path clip-path=\"url(#clip130)\" d=\"M 0 0 M2212.85 204.589 L2220.49 204.589 L2220.49 178.223 L2212.18 179.89 L2212.18 175.631 L2220.44 173.964 L2225.12 173.964 L2225.12 204.589 L2232.76 204.589 L2232.76 208.524 L2212.85 208.524 L2212.85 204.589 Z\" fill=\"#000000\" fill-rule=\"evenodd\" fill-opacity=\"1\" /></svg>\n"
      ]
     },
     "execution_count": 38,
     "metadata": {},
     "output_type": "execute_result"
    }
   ],
   "source": [
    "using Plots\n",
    "\n",
    "f(x) = 5 * x^2 + 3 * x - 20\n",
    "plot(f, -10:10)"
   ]
  },
  {
   "cell_type": "code",
   "execution_count": 39,
   "metadata": {},
   "outputs": [
    {
     "data": {
      "image/svg+xml": [
       "<?xml version=\"1.0\" encoding=\"utf-8\"?>\n",
       "<svg xmlns=\"http://www.w3.org/2000/svg\" xmlns:xlink=\"http://www.w3.org/1999/xlink\" width=\"600\" height=\"400\" viewBox=\"0 0 2400 1600\">\n",
       "<defs>\n",
       "  <clipPath id=\"clip170\">\n",
       "    <rect x=\"0\" y=\"0\" width=\"2400\" height=\"1600\"/>\n",
       "  </clipPath>\n",
       "</defs>\n",
       "<path clip-path=\"url(#clip170)\" d=\"\n",
       "M0 1600 L2400 1600 L2400 0 L0 0  Z\n",
       "  \" fill=\"#ffffff\" fill-rule=\"evenodd\" fill-opacity=\"1\"/>\n",
       "<defs>\n",
       "  <clipPath id=\"clip171\">\n",
       "    <rect x=\"480\" y=\"0\" width=\"1681\" height=\"1600\"/>\n",
       "  </clipPath>\n",
       "</defs>\n",
       "<path clip-path=\"url(#clip170)\" d=\"\n",
       "M166.205 1486.45 L2352.76 1486.45 L2352.76 47.2441 L166.205 47.2441  Z\n",
       "  \" fill=\"#ffffff\" fill-rule=\"evenodd\" fill-opacity=\"1\"/>\n",
       "<defs>\n",
       "  <clipPath id=\"clip172\">\n",
       "    <rect x=\"166\" y=\"47\" width=\"2188\" height=\"1440\"/>\n",
       "  </clipPath>\n",
       "</defs>\n",
       "<polyline clip-path=\"url(#clip172)\" style=\"stroke:#000000; stroke-width:2; stroke-opacity:0.1; fill:none\" points=\"\n",
       "  228.088,1486.45 228.088,47.2441 \n",
       "  \"/>\n",
       "<polyline clip-path=\"url(#clip172)\" style=\"stroke:#000000; stroke-width:2; stroke-opacity:0.1; fill:none\" points=\"\n",
       "  743.784,1486.45 743.784,47.2441 \n",
       "  \"/>\n",
       "<polyline clip-path=\"url(#clip172)\" style=\"stroke:#000000; stroke-width:2; stroke-opacity:0.1; fill:none\" points=\"\n",
       "  1259.48,1486.45 1259.48,47.2441 \n",
       "  \"/>\n",
       "<polyline clip-path=\"url(#clip172)\" style=\"stroke:#000000; stroke-width:2; stroke-opacity:0.1; fill:none\" points=\"\n",
       "  1775.18,1486.45 1775.18,47.2441 \n",
       "  \"/>\n",
       "<polyline clip-path=\"url(#clip172)\" style=\"stroke:#000000; stroke-width:2; stroke-opacity:0.1; fill:none\" points=\"\n",
       "  2290.87,1486.45 2290.87,47.2441 \n",
       "  \"/>\n",
       "<polyline clip-path=\"url(#clip172)\" style=\"stroke:#000000; stroke-width:2; stroke-opacity:0.1; fill:none\" points=\"\n",
       "  166.205,1394.48 2352.76,1394.48 \n",
       "  \"/>\n",
       "<polyline clip-path=\"url(#clip172)\" style=\"stroke:#000000; stroke-width:2; stroke-opacity:0.1; fill:none\" points=\"\n",
       "  166.205,1138.3 2352.76,1138.3 \n",
       "  \"/>\n",
       "<polyline clip-path=\"url(#clip172)\" style=\"stroke:#000000; stroke-width:2; stroke-opacity:0.1; fill:none\" points=\"\n",
       "  166.205,882.126 2352.76,882.126 \n",
       "  \"/>\n",
       "<polyline clip-path=\"url(#clip172)\" style=\"stroke:#000000; stroke-width:2; stroke-opacity:0.1; fill:none\" points=\"\n",
       "  166.205,625.948 2352.76,625.948 \n",
       "  \"/>\n",
       "<polyline clip-path=\"url(#clip172)\" style=\"stroke:#000000; stroke-width:2; stroke-opacity:0.1; fill:none\" points=\"\n",
       "  166.205,369.771 2352.76,369.771 \n",
       "  \"/>\n",
       "<polyline clip-path=\"url(#clip172)\" style=\"stroke:#000000; stroke-width:2; stroke-opacity:0.1; fill:none\" points=\"\n",
       "  166.205,113.594 2352.76,113.594 \n",
       "  \"/>\n",
       "<polyline clip-path=\"url(#clip170)\" style=\"stroke:#000000; stroke-width:4; stroke-opacity:1; fill:none\" points=\"\n",
       "  166.205,1486.45 2352.76,1486.45 \n",
       "  \"/>\n",
       "<polyline clip-path=\"url(#clip170)\" style=\"stroke:#000000; stroke-width:4; stroke-opacity:1; fill:none\" points=\"\n",
       "  166.205,1486.45 166.205,47.2441 \n",
       "  \"/>\n",
       "<polyline clip-path=\"url(#clip170)\" style=\"stroke:#000000; stroke-width:4; stroke-opacity:1; fill:none\" points=\"\n",
       "  228.088,1486.45 228.088,1469.18 \n",
       "  \"/>\n",
       "<polyline clip-path=\"url(#clip170)\" style=\"stroke:#000000; stroke-width:4; stroke-opacity:1; fill:none\" points=\"\n",
       "  743.784,1486.45 743.784,1469.18 \n",
       "  \"/>\n",
       "<polyline clip-path=\"url(#clip170)\" style=\"stroke:#000000; stroke-width:4; stroke-opacity:1; fill:none\" points=\"\n",
       "  1259.48,1486.45 1259.48,1469.18 \n",
       "  \"/>\n",
       "<polyline clip-path=\"url(#clip170)\" style=\"stroke:#000000; stroke-width:4; stroke-opacity:1; fill:none\" points=\"\n",
       "  1775.18,1486.45 1775.18,1469.18 \n",
       "  \"/>\n",
       "<polyline clip-path=\"url(#clip170)\" style=\"stroke:#000000; stroke-width:4; stroke-opacity:1; fill:none\" points=\"\n",
       "  2290.87,1486.45 2290.87,1469.18 \n",
       "  \"/>\n",
       "<polyline clip-path=\"url(#clip170)\" style=\"stroke:#000000; stroke-width:4; stroke-opacity:1; fill:none\" points=\"\n",
       "  166.205,1394.48 192.443,1394.48 \n",
       "  \"/>\n",
       "<polyline clip-path=\"url(#clip170)\" style=\"stroke:#000000; stroke-width:4; stroke-opacity:1; fill:none\" points=\"\n",
       "  166.205,1138.3 192.443,1138.3 \n",
       "  \"/>\n",
       "<polyline clip-path=\"url(#clip170)\" style=\"stroke:#000000; stroke-width:4; stroke-opacity:1; fill:none\" points=\"\n",
       "  166.205,882.126 192.443,882.126 \n",
       "  \"/>\n",
       "<polyline clip-path=\"url(#clip170)\" style=\"stroke:#000000; stroke-width:4; stroke-opacity:1; fill:none\" points=\"\n",
       "  166.205,625.948 192.443,625.948 \n",
       "  \"/>\n",
       "<polyline clip-path=\"url(#clip170)\" style=\"stroke:#000000; stroke-width:4; stroke-opacity:1; fill:none\" points=\"\n",
       "  166.205,369.771 192.443,369.771 \n",
       "  \"/>\n",
       "<polyline clip-path=\"url(#clip170)\" style=\"stroke:#000000; stroke-width:4; stroke-opacity:1; fill:none\" points=\"\n",
       "  166.205,113.594 192.443,113.594 \n",
       "  \"/>\n",
       "<path clip-path=\"url(#clip170)\" d=\"M 0 0 M195.449 1525.04 L207.926 1525.04 L207.926 1528.83 L195.449 1528.83 L195.449 1525.04 Z\" fill=\"#000000\" fill-rule=\"evenodd\" fill-opacity=\"1\" /><path clip-path=\"url(#clip170)\" d=\"M 0 0 M213.806 1535.98 L221.445 1535.98 L221.445 1509.62 L213.135 1511.29 L213.135 1507.03 L221.398 1505.36 L226.074 1505.36 L226.074 1535.98 L233.713 1535.98 L233.713 1539.92 L213.806 1539.92 L213.806 1535.98 Z\" fill=\"#000000\" fill-rule=\"evenodd\" fill-opacity=\"1\" /><path clip-path=\"url(#clip170)\" d=\"M 0 0 M248.783 1508.44 Q245.171 1508.44 243.343 1512 Q241.537 1515.55 241.537 1522.67 Q241.537 1529.78 243.343 1533.35 Q245.171 1536.89 248.783 1536.89 Q252.417 1536.89 254.222 1533.35 Q256.051 1529.78 256.051 1522.67 Q256.051 1515.55 254.222 1512 Q252.417 1508.44 248.783 1508.44 M248.783 1504.73 Q254.593 1504.73 257.648 1509.34 Q260.727 1513.92 260.727 1522.67 Q260.727 1531.4 257.648 1536.01 Q254.593 1540.59 248.783 1540.59 Q242.972 1540.59 239.894 1536.01 Q236.838 1531.4 236.838 1522.67 Q236.838 1513.92 239.894 1509.34 Q242.972 1504.73 248.783 1504.73 Z\" fill=\"#000000\" fill-rule=\"evenodd\" fill-opacity=\"1\" /><path clip-path=\"url(#clip170)\" d=\"M 0 0 M724.537 1525.04 L737.013 1525.04 L737.013 1528.83 L724.537 1528.83 L724.537 1525.04 Z\" fill=\"#000000\" fill-rule=\"evenodd\" fill-opacity=\"1\" /><path clip-path=\"url(#clip170)\" d=\"M 0 0 M742.129 1505.36 L760.486 1505.36 L760.486 1509.3 L746.412 1509.3 L746.412 1517.77 Q747.43 1517.42 748.449 1517.26 Q749.467 1517.07 750.486 1517.07 Q756.273 1517.07 759.652 1520.24 Q763.032 1523.42 763.032 1528.83 Q763.032 1534.41 759.56 1537.51 Q756.087 1540.59 749.768 1540.59 Q747.592 1540.59 745.324 1540.22 Q743.078 1539.85 740.671 1539.11 L740.671 1534.41 Q742.754 1535.54 744.976 1536.1 Q747.199 1536.66 749.675 1536.66 Q753.68 1536.66 756.018 1534.55 Q758.356 1532.44 758.356 1528.83 Q758.356 1525.22 756.018 1523.11 Q753.68 1521.01 749.675 1521.01 Q747.8 1521.01 745.925 1521.42 Q744.074 1521.84 742.129 1522.72 L742.129 1505.36 Z\" fill=\"#000000\" fill-rule=\"evenodd\" fill-opacity=\"1\" /><path clip-path=\"url(#clip170)\" d=\"M 0 0 M1259.48 1508.44 Q1255.87 1508.44 1254.04 1512 Q1252.23 1515.55 1252.23 1522.67 Q1252.23 1529.78 1254.04 1533.35 Q1255.87 1536.89 1259.48 1536.89 Q1263.11 1536.89 1264.92 1533.35 Q1266.75 1529.78 1266.75 1522.67 Q1266.75 1515.55 1264.92 1512 Q1263.11 1508.44 1259.48 1508.44 M1259.48 1504.73 Q1265.29 1504.73 1268.35 1509.34 Q1271.42 1513.92 1271.42 1522.67 Q1271.42 1531.4 1268.35 1536.01 Q1265.29 1540.59 1259.48 1540.59 Q1253.67 1540.59 1250.59 1536.01 Q1247.54 1531.4 1247.54 1522.67 Q1247.54 1513.92 1250.59 1509.34 Q1253.67 1504.73 1259.48 1504.73 Z\" fill=\"#000000\" fill-rule=\"evenodd\" fill-opacity=\"1\" /><path clip-path=\"url(#clip170)\" d=\"M 0 0 M1765.45 1505.36 L1783.81 1505.36 L1783.81 1509.3 L1769.74 1509.3 L1769.74 1517.77 Q1770.76 1517.42 1771.77 1517.26 Q1772.79 1517.07 1773.81 1517.07 Q1779.6 1517.07 1782.98 1520.24 Q1786.36 1523.42 1786.36 1528.83 Q1786.36 1534.41 1782.88 1537.51 Q1779.41 1540.59 1773.09 1540.59 Q1770.92 1540.59 1768.65 1540.22 Q1766.4 1539.85 1764 1539.11 L1764 1534.41 Q1766.08 1535.54 1768.3 1536.1 Q1770.52 1536.66 1773 1536.66 Q1777.01 1536.66 1779.34 1534.55 Q1781.68 1532.44 1781.68 1528.83 Q1781.68 1525.22 1779.34 1523.11 Q1777.01 1521.01 1773 1521.01 Q1771.13 1521.01 1769.25 1521.42 Q1767.4 1521.84 1765.45 1522.72 L1765.45 1505.36 Z\" fill=\"#000000\" fill-rule=\"evenodd\" fill-opacity=\"1\" /><path clip-path=\"url(#clip170)\" d=\"M 0 0 M2267.75 1535.98 L2275.39 1535.98 L2275.39 1509.62 L2267.08 1511.29 L2267.08 1507.03 L2275.34 1505.36 L2280.02 1505.36 L2280.02 1535.98 L2287.65 1535.98 L2287.65 1539.92 L2267.75 1539.92 L2267.75 1535.98 Z\" fill=\"#000000\" fill-rule=\"evenodd\" fill-opacity=\"1\" /><path clip-path=\"url(#clip170)\" d=\"M 0 0 M2302.72 1508.44 Q2299.11 1508.44 2297.28 1512 Q2295.48 1515.55 2295.48 1522.67 Q2295.48 1529.78 2297.28 1533.35 Q2299.11 1536.89 2302.72 1536.89 Q2306.36 1536.89 2308.16 1533.35 Q2309.99 1529.78 2309.99 1522.67 Q2309.99 1515.55 2308.16 1512 Q2306.36 1508.44 2302.72 1508.44 M2302.72 1504.73 Q2308.53 1504.73 2311.59 1509.34 Q2314.67 1513.92 2314.67 1522.67 Q2314.67 1531.4 2311.59 1536.01 Q2308.53 1540.59 2302.72 1540.59 Q2296.91 1540.59 2293.84 1536.01 Q2290.78 1531.4 2290.78 1522.67 Q2290.78 1513.92 2293.84 1509.34 Q2296.91 1504.73 2302.72 1504.73 Z\" fill=\"#000000\" fill-rule=\"evenodd\" fill-opacity=\"1\" /><path clip-path=\"url(#clip170)\" d=\"M 0 0 M130.26 1380.28 Q126.649 1380.28 124.82 1383.84 Q123.015 1387.39 123.015 1394.51 Q123.015 1401.62 124.82 1405.19 Q126.649 1408.73 130.26 1408.73 Q133.895 1408.73 135.7 1405.19 Q137.529 1401.62 137.529 1394.51 Q137.529 1387.39 135.7 1383.84 Q133.895 1380.28 130.26 1380.28 M130.26 1376.58 Q136.07 1376.58 139.126 1381.18 Q142.205 1385.77 142.205 1394.51 Q142.205 1403.24 139.126 1407.85 Q136.07 1412.43 130.26 1412.43 Q124.45 1412.43 121.371 1407.85 Q118.316 1403.24 118.316 1394.51 Q118.316 1385.77 121.371 1381.18 Q124.45 1376.58 130.26 1376.58 Z\" fill=\"#000000\" fill-rule=\"evenodd\" fill-opacity=\"1\" /><path clip-path=\"url(#clip170)\" d=\"M 0 0 M68.2699 1151.65 L75.9087 1151.65 L75.9087 1125.28 L67.5986 1126.95 L67.5986 1122.69 L75.8624 1121.02 L80.5383 1121.02 L80.5383 1151.65 L88.1772 1151.65 L88.1772 1155.58 L68.2699 1155.58 L68.2699 1151.65 Z\" fill=\"#000000\" fill-rule=\"evenodd\" fill-opacity=\"1\" /><path clip-path=\"url(#clip170)\" d=\"M 0 0 M103.247 1124.1 Q99.6354 1124.1 97.8068 1127.67 Q96.0012 1131.21 96.0012 1138.34 Q96.0012 1145.44 97.8068 1149.01 Q99.6354 1152.55 103.247 1152.55 Q106.881 1152.55 108.686 1149.01 Q110.515 1145.44 110.515 1138.34 Q110.515 1131.21 108.686 1127.67 Q106.881 1124.1 103.247 1124.1 M103.247 1120.4 Q109.057 1120.4 112.112 1125 Q115.191 1129.59 115.191 1138.34 Q115.191 1147.06 112.112 1151.67 Q109.057 1156.25 103.247 1156.25 Q97.4364 1156.25 94.3577 1151.67 Q91.3022 1147.06 91.3022 1138.34 Q91.3022 1129.59 94.3577 1125 Q97.4364 1120.4 103.247 1120.4 Z\" fill=\"#000000\" fill-rule=\"evenodd\" fill-opacity=\"1\" /><path clip-path=\"url(#clip170)\" d=\"M 0 0 M130.26 1124.1 Q126.649 1124.1 124.82 1127.67 Q123.015 1131.21 123.015 1138.34 Q123.015 1145.44 124.82 1149.01 Q126.649 1152.55 130.26 1152.55 Q133.895 1152.55 135.7 1149.01 Q137.529 1145.44 137.529 1138.34 Q137.529 1131.21 135.7 1127.67 Q133.895 1124.1 130.26 1124.1 M130.26 1120.4 Q136.07 1120.4 139.126 1125 Q142.205 1129.59 142.205 1138.34 Q142.205 1147.06 139.126 1151.67 Q136.07 1156.25 130.26 1156.25 Q124.45 1156.25 121.371 1151.67 Q118.316 1147.06 118.316 1138.34 Q118.316 1129.59 121.371 1125 Q124.45 1120.4 130.26 1120.4 Z\" fill=\"#000000\" fill-rule=\"evenodd\" fill-opacity=\"1\" /><path clip-path=\"url(#clip170)\" d=\"M 0 0 M71.8578 895.471 L88.1772 895.471 L88.1772 899.406 L66.2328 899.406 L66.2328 895.471 Q68.8949 892.716 73.4782 888.086 Q78.0846 883.434 79.2652 882.091 Q81.5105 879.568 82.3902 877.832 Q83.2929 876.073 83.2929 874.383 Q83.2929 871.628 81.3485 869.892 Q79.4272 868.156 76.3254 868.156 Q74.1263 868.156 71.6726 868.92 Q69.2421 869.684 66.4643 871.235 L66.4643 866.512 Q69.2884 865.378 71.7421 864.799 Q74.1958 864.221 76.2328 864.221 Q81.6031 864.221 84.7976 866.906 Q87.992 869.591 87.992 874.082 Q87.992 876.211 87.1818 878.133 Q86.3948 880.031 84.2883 882.623 Q83.7096 883.295 80.6078 886.512 Q77.5059 889.707 71.8578 895.471 Z\" fill=\"#000000\" fill-rule=\"evenodd\" fill-opacity=\"1\" /><path clip-path=\"url(#clip170)\" d=\"M 0 0 M103.247 867.924 Q99.6354 867.924 97.8068 871.489 Q96.0012 875.031 96.0012 882.16 Q96.0012 889.267 97.8068 892.832 Q99.6354 896.373 103.247 896.373 Q106.881 896.373 108.686 892.832 Q110.515 889.267 110.515 882.16 Q110.515 875.031 108.686 871.489 Q106.881 867.924 103.247 867.924 M103.247 864.221 Q109.057 864.221 112.112 868.827 Q115.191 873.411 115.191 882.16 Q115.191 890.887 112.112 895.494 Q109.057 900.077 103.247 900.077 Q97.4364 900.077 94.3577 895.494 Q91.3022 890.887 91.3022 882.16 Q91.3022 873.411 94.3577 868.827 Q97.4364 864.221 103.247 864.221 Z\" fill=\"#000000\" fill-rule=\"evenodd\" fill-opacity=\"1\" /><path clip-path=\"url(#clip170)\" d=\"M 0 0 M130.26 867.924 Q126.649 867.924 124.82 871.489 Q123.015 875.031 123.015 882.16 Q123.015 889.267 124.82 892.832 Q126.649 896.373 130.26 896.373 Q133.895 896.373 135.7 892.832 Q137.529 889.267 137.529 882.16 Q137.529 875.031 135.7 871.489 Q133.895 867.924 130.26 867.924 M130.26 864.221 Q136.07 864.221 139.126 868.827 Q142.205 873.411 142.205 882.16 Q142.205 890.887 139.126 895.494 Q136.07 900.077 130.26 900.077 Q124.45 900.077 121.371 895.494 Q118.316 890.887 118.316 882.16 Q118.316 873.411 121.371 868.827 Q124.45 864.221 130.26 864.221 Z\" fill=\"#000000\" fill-rule=\"evenodd\" fill-opacity=\"1\" /><path clip-path=\"url(#clip170)\" d=\"M 0 0 M81.0476 624.594 Q84.404 625.312 86.279 627.58 Q88.1772 629.849 88.1772 633.182 Q88.1772 638.298 84.6587 641.099 Q81.1402 643.9 74.6587 643.9 Q72.4828 643.9 70.168 643.46 Q67.8764 643.043 65.4227 642.187 L65.4227 637.673 Q67.3671 638.807 69.6819 639.386 Q71.9967 639.965 74.5198 639.965 Q78.918 639.965 81.2096 638.229 Q83.5244 636.492 83.5244 633.182 Q83.5244 630.127 81.3717 628.414 Q79.242 626.678 75.4226 626.678 L71.3949 626.678 L71.3949 622.835 L75.6078 622.835 Q79.0569 622.835 80.8855 621.469 Q82.7142 620.08 82.7142 617.488 Q82.7142 614.826 80.8161 613.414 Q78.9411 611.979 75.4226 611.979 Q73.5013 611.979 71.3023 612.395 Q69.1032 612.812 66.4643 613.692 L66.4643 609.525 Q69.1264 608.784 71.4412 608.414 Q73.7791 608.044 75.8393 608.044 Q81.1633 608.044 84.2652 610.474 Q87.367 612.881 87.367 617.002 Q87.367 619.872 85.7235 621.863 Q84.08 623.83 81.0476 624.594 Z\" fill=\"#000000\" fill-rule=\"evenodd\" fill-opacity=\"1\" /><path clip-path=\"url(#clip170)\" d=\"M 0 0 M103.247 611.747 Q99.6354 611.747 97.8068 615.312 Q96.0012 618.854 96.0012 625.983 Q96.0012 633.09 97.8068 636.654 Q99.6354 640.196 103.247 640.196 Q106.881 640.196 108.686 636.654 Q110.515 633.09 110.515 625.983 Q110.515 618.854 108.686 615.312 Q106.881 611.747 103.247 611.747 M103.247 608.044 Q109.057 608.044 112.112 612.65 Q115.191 617.233 115.191 625.983 Q115.191 634.71 112.112 639.316 Q109.057 643.9 103.247 643.9 Q97.4364 643.9 94.3577 639.316 Q91.3022 634.71 91.3022 625.983 Q91.3022 617.233 94.3577 612.65 Q97.4364 608.044 103.247 608.044 Z\" fill=\"#000000\" fill-rule=\"evenodd\" fill-opacity=\"1\" /><path clip-path=\"url(#clip170)\" d=\"M 0 0 M130.26 611.747 Q126.649 611.747 124.82 615.312 Q123.015 618.854 123.015 625.983 Q123.015 633.09 124.82 636.654 Q126.649 640.196 130.26 640.196 Q133.895 640.196 135.7 636.654 Q137.529 633.09 137.529 625.983 Q137.529 618.854 135.7 615.312 Q133.895 611.747 130.26 611.747 M130.26 608.044 Q136.07 608.044 139.126 612.65 Q142.205 617.233 142.205 625.983 Q142.205 634.71 139.126 639.316 Q136.07 643.9 130.26 643.9 Q124.45 643.9 121.371 639.316 Q118.316 634.71 118.316 625.983 Q118.316 617.233 121.371 612.65 Q124.45 608.044 130.26 608.044 Z\" fill=\"#000000\" fill-rule=\"evenodd\" fill-opacity=\"1\" /><path clip-path=\"url(#clip170)\" d=\"M 0 0 M78.5939 356.565 L66.7884 375.014 L78.5939 375.014 L78.5939 356.565 M77.367 352.491 L83.2466 352.491 L83.2466 375.014 L88.1772 375.014 L88.1772 378.903 L83.2466 378.903 L83.2466 387.051 L78.5939 387.051 L78.5939 378.903 L62.9921 378.903 L62.9921 374.389 L77.367 352.491 Z\" fill=\"#000000\" fill-rule=\"evenodd\" fill-opacity=\"1\" /><path clip-path=\"url(#clip170)\" d=\"M 0 0 M103.247 355.57 Q99.6354 355.57 97.8068 359.135 Q96.0012 362.676 96.0012 369.806 Q96.0012 376.912 97.8068 380.477 Q99.6354 384.019 103.247 384.019 Q106.881 384.019 108.686 380.477 Q110.515 376.912 110.515 369.806 Q110.515 362.676 108.686 359.135 Q106.881 355.57 103.247 355.57 M103.247 351.866 Q109.057 351.866 112.112 356.473 Q115.191 361.056 115.191 369.806 Q115.191 378.533 112.112 383.139 Q109.057 387.723 103.247 387.723 Q97.4364 387.723 94.3577 383.139 Q91.3022 378.533 91.3022 369.806 Q91.3022 361.056 94.3577 356.473 Q97.4364 351.866 103.247 351.866 Z\" fill=\"#000000\" fill-rule=\"evenodd\" fill-opacity=\"1\" /><path clip-path=\"url(#clip170)\" d=\"M 0 0 M130.26 355.57 Q126.649 355.57 124.82 359.135 Q123.015 362.676 123.015 369.806 Q123.015 376.912 124.82 380.477 Q126.649 384.019 130.26 384.019 Q133.895 384.019 135.7 380.477 Q137.529 376.912 137.529 369.806 Q137.529 362.676 135.7 359.135 Q133.895 355.57 130.26 355.57 M130.26 351.866 Q136.07 351.866 139.126 356.473 Q142.205 361.056 142.205 369.806 Q142.205 378.533 139.126 383.139 Q136.07 387.723 130.26 387.723 Q124.45 387.723 121.371 383.139 Q118.316 378.533 118.316 369.806 Q118.316 361.056 121.371 356.473 Q124.45 351.866 130.26 351.866 Z\" fill=\"#000000\" fill-rule=\"evenodd\" fill-opacity=\"1\" /><path clip-path=\"url(#clip170)\" d=\"M 0 0 M67.2745 96.314 L85.6309 96.314 L85.6309 100.249 L71.5569 100.249 L71.5569 108.721 Q72.5754 108.374 73.5939 108.212 Q74.6124 108.027 75.6309 108.027 Q81.418 108.027 84.7976 111.198 Q88.1772 114.369 88.1772 119.786 Q88.1772 125.365 84.705 128.467 Q81.2328 131.545 74.9134 131.545 Q72.7374 131.545 70.4689 131.175 Q68.2236 130.805 65.8162 130.064 L65.8162 125.365 Q67.8995 126.499 70.1217 127.055 Q72.3439 127.61 74.8208 127.61 Q78.8254 127.61 81.1633 125.504 Q83.5013 123.397 83.5013 119.786 Q83.5013 116.175 81.1633 114.069 Q78.8254 111.962 74.8208 111.962 Q72.9458 111.962 71.0708 112.379 Q69.2189 112.795 67.2745 113.675 L67.2745 96.314 Z\" fill=\"#000000\" fill-rule=\"evenodd\" fill-opacity=\"1\" /><path clip-path=\"url(#clip170)\" d=\"M 0 0 M103.247 99.3927 Q99.6354 99.3927 97.8068 102.957 Q96.0012 106.499 96.0012 113.629 Q96.0012 120.735 97.8068 124.3 Q99.6354 127.842 103.247 127.842 Q106.881 127.842 108.686 124.3 Q110.515 120.735 110.515 113.629 Q110.515 106.499 108.686 102.957 Q106.881 99.3927 103.247 99.3927 M103.247 95.689 Q109.057 95.689 112.112 100.295 Q115.191 104.879 115.191 113.629 Q115.191 122.356 112.112 126.962 Q109.057 131.545 103.247 131.545 Q97.4364 131.545 94.3577 126.962 Q91.3022 122.356 91.3022 113.629 Q91.3022 104.879 94.3577 100.295 Q97.4364 95.689 103.247 95.689 Z\" fill=\"#000000\" fill-rule=\"evenodd\" fill-opacity=\"1\" /><path clip-path=\"url(#clip170)\" d=\"M 0 0 M130.26 99.3927 Q126.649 99.3927 124.82 102.957 Q123.015 106.499 123.015 113.629 Q123.015 120.735 124.82 124.3 Q126.649 127.842 130.26 127.842 Q133.895 127.842 135.7 124.3 Q137.529 120.735 137.529 113.629 Q137.529 106.499 135.7 102.957 Q133.895 99.3927 130.26 99.3927 M130.26 95.689 Q136.07 95.689 139.126 100.295 Q142.205 104.879 142.205 113.629 Q142.205 122.356 139.126 126.962 Q136.07 131.545 130.26 131.545 Q124.45 131.545 121.371 126.962 Q118.316 122.356 118.316 113.629 Q118.316 104.879 121.371 100.295 Q124.45 95.689 130.26 95.689 Z\" fill=\"#000000\" fill-rule=\"evenodd\" fill-opacity=\"1\" /><polyline clip-path=\"url(#clip172)\" style=\"stroke:#009af9; stroke-width:4; stroke-opacity:1; fill:none\" points=\"\n",
       "  228.088,241.683 331.227,477.366 434.367,687.431 537.506,871.879 640.645,1030.71 743.784,1163.92 846.923,1271.52 950.063,1353.49 1053.2,1409.85 1156.34,1440.59 \n",
       "  1259.48,1445.72 1362.62,1425.22 1465.76,1379.11 1568.9,1307.38 1672.04,1210.03 1775.18,1087.07 1878.32,938.485 1981.45,764.284 2084.59,564.466 2187.73,339.03 \n",
       "  2290.87,87.9763 \n",
       "  \"/>\n",
       "<polyline clip-path=\"url(#clip172)\" style=\"stroke:#e26f46; stroke-width:4; stroke-opacity:1; fill:none\" points=\"\n",
       "  228.088,1394.48 331.227,1394.48 434.367,1394.48 537.506,1394.48 640.645,1394.48 743.784,1394.48 846.923,1394.48 950.063,1394.48 1053.2,1394.48 1156.34,1394.48 \n",
       "  1259.48,1394.48 1362.62,1394.48 1465.76,1394.48 1568.9,1394.48 1672.04,1394.48 1775.18,1394.48 1878.32,1394.48 1981.45,1394.48 2084.59,1394.48 2187.73,1394.48 \n",
       "  2290.87,1394.48 \n",
       "  \"/>\n",
       "<path clip-path=\"url(#clip170)\" d=\"\n",
       "M1989.74 312.204 L2280.76 312.204 L2280.76 130.764 L1989.74 130.764  Z\n",
       "  \" fill=\"#ffffff\" fill-rule=\"evenodd\" fill-opacity=\"1\"/>\n",
       "<polyline clip-path=\"url(#clip170)\" style=\"stroke:#000000; stroke-width:4; stroke-opacity:1; fill:none\" points=\"\n",
       "  1989.74,312.204 2280.76,312.204 2280.76,130.764 1989.74,130.764 1989.74,312.204 \n",
       "  \"/>\n",
       "<polyline clip-path=\"url(#clip170)\" style=\"stroke:#009af9; stroke-width:4; stroke-opacity:1; fill:none\" points=\"\n",
       "  2013.74,191.244 2157.74,191.244 \n",
       "  \"/>\n",
       "<path clip-path=\"url(#clip170)\" d=\"M 0 0 M2195.58 210.931 Q2193.77 215.561 2192.06 216.973 Q2190.35 218.385 2187.48 218.385 L2184.08 218.385 L2184.08 214.82 L2186.58 214.82 Q2188.33 214.82 2189.31 213.987 Q2190.28 213.154 2191.46 210.052 L2192.22 208.107 L2181.74 182.598 L2186.25 182.598 L2194.35 202.876 L2202.46 182.598 L2206.97 182.598 L2195.58 210.931 Z\" fill=\"#000000\" fill-rule=\"evenodd\" fill-opacity=\"1\" /><path clip-path=\"url(#clip170)\" d=\"M 0 0 M2212.85 204.589 L2220.49 204.589 L2220.49 178.223 L2212.18 179.89 L2212.18 175.631 L2220.44 173.964 L2225.12 173.964 L2225.12 204.589 L2232.76 204.589 L2232.76 208.524 L2212.85 208.524 L2212.85 204.589 Z\" fill=\"#000000\" fill-rule=\"evenodd\" fill-opacity=\"1\" /><polyline clip-path=\"url(#clip170)\" style=\"stroke:#e26f46; stroke-width:4; stroke-opacity:1; fill:none\" points=\"\n",
       "  2013.74,251.724 2157.74,251.724 \n",
       "  \"/>\n",
       "<path clip-path=\"url(#clip170)\" d=\"M 0 0 M2195.58 271.411 Q2193.77 276.041 2192.06 277.453 Q2190.35 278.865 2187.48 278.865 L2184.08 278.865 L2184.08 275.3 L2186.58 275.3 Q2188.33 275.3 2189.31 274.467 Q2190.28 273.634 2191.46 270.532 L2192.22 268.587 L2181.74 243.078 L2186.25 243.078 L2194.35 263.356 L2202.46 243.078 L2206.97 243.078 L2195.58 271.411 Z\" fill=\"#000000\" fill-rule=\"evenodd\" fill-opacity=\"1\" /><path clip-path=\"url(#clip170)\" d=\"M 0 0 M2216.07 265.069 L2232.39 265.069 L2232.39 269.004 L2210.44 269.004 L2210.44 265.069 Q2213.1 262.314 2217.69 257.685 Q2222.29 253.032 2223.47 251.689 Q2225.72 249.166 2226.6 247.43 Q2227.5 245.671 2227.5 243.981 Q2227.5 241.226 2225.56 239.49 Q2223.64 237.754 2220.53 237.754 Q2218.33 237.754 2215.88 238.518 Q2213.45 239.282 2210.67 240.833 L2210.67 236.111 Q2213.5 234.976 2215.95 234.398 Q2218.4 233.819 2220.44 233.819 Q2225.81 233.819 2229.01 236.504 Q2232.2 239.189 2232.2 243.68 Q2232.2 245.81 2231.39 247.731 Q2230.6 249.629 2228.5 252.222 Q2227.92 252.893 2224.82 256.111 Q2221.71 259.305 2216.07 265.069 Z\" fill=\"#000000\" fill-rule=\"evenodd\" fill-opacity=\"1\" /></svg>\n"
      ]
     },
     "execution_count": 39,
     "metadata": {},
     "output_type": "execute_result"
    }
   ],
   "source": [
    "plot!(zero,-10:10)"
   ]
  },
  {
   "cell_type": "code",
   "execution_count": 40,
   "metadata": {},
   "outputs": [
    {
     "data": {
      "image/svg+xml": [
       "<?xml version=\"1.0\" encoding=\"utf-8\"?>\n",
       "<svg xmlns=\"http://www.w3.org/2000/svg\" xmlns:xlink=\"http://www.w3.org/1999/xlink\" width=\"600\" height=\"400\" viewBox=\"0 0 2400 1600\">\n",
       "<defs>\n",
       "  <clipPath id=\"clip210\">\n",
       "    <rect x=\"0\" y=\"0\" width=\"2400\" height=\"1600\"/>\n",
       "  </clipPath>\n",
       "</defs>\n",
       "<path clip-path=\"url(#clip210)\" d=\"\n",
       "M0 1600 L2400 1600 L2400 0 L0 0  Z\n",
       "  \" fill=\"#ffffff\" fill-rule=\"evenodd\" fill-opacity=\"1\"/>\n",
       "<defs>\n",
       "  <clipPath id=\"clip211\">\n",
       "    <rect x=\"480\" y=\"0\" width=\"1681\" height=\"1600\"/>\n",
       "  </clipPath>\n",
       "</defs>\n",
       "<path clip-path=\"url(#clip210)\" d=\"\n",
       "M174.862 1486.45 L2352.76 1486.45 L2352.76 47.2441 L174.862 47.2441  Z\n",
       "  \" fill=\"#ffffff\" fill-rule=\"evenodd\" fill-opacity=\"1\"/>\n",
       "<defs>\n",
       "  <clipPath id=\"clip212\">\n",
       "    <rect x=\"174\" y=\"47\" width=\"2179\" height=\"1440\"/>\n",
       "  </clipPath>\n",
       "</defs>\n",
       "<polyline clip-path=\"url(#clip212)\" style=\"stroke:#000000; stroke-width:2; stroke-opacity:0.1; fill:none\" points=\"\n",
       "  236.501,1486.45 236.501,47.2441 \n",
       "  \"/>\n",
       "<polyline clip-path=\"url(#clip212)\" style=\"stroke:#000000; stroke-width:2; stroke-opacity:0.1; fill:none\" points=\"\n",
       "  750.155,1486.45 750.155,47.2441 \n",
       "  \"/>\n",
       "<polyline clip-path=\"url(#clip212)\" style=\"stroke:#000000; stroke-width:2; stroke-opacity:0.1; fill:none\" points=\"\n",
       "  1263.81,1486.45 1263.81,47.2441 \n",
       "  \"/>\n",
       "<polyline clip-path=\"url(#clip212)\" style=\"stroke:#000000; stroke-width:2; stroke-opacity:0.1; fill:none\" points=\"\n",
       "  1777.46,1486.45 1777.46,47.2441 \n",
       "  \"/>\n",
       "<polyline clip-path=\"url(#clip212)\" style=\"stroke:#000000; stroke-width:2; stroke-opacity:0.1; fill:none\" points=\"\n",
       "  2291.12,1486.45 2291.12,47.2441 \n",
       "  \"/>\n",
       "<polyline clip-path=\"url(#clip212)\" style=\"stroke:#000000; stroke-width:2; stroke-opacity:0.1; fill:none\" points=\"\n",
       "  174.862,1445.72 2352.76,1445.72 \n",
       "  \"/>\n",
       "<polyline clip-path=\"url(#clip212)\" style=\"stroke:#000000; stroke-width:2; stroke-opacity:0.1; fill:none\" points=\"\n",
       "  174.862,1106.28 2352.76,1106.28 \n",
       "  \"/>\n",
       "<polyline clip-path=\"url(#clip212)\" style=\"stroke:#000000; stroke-width:2; stroke-opacity:0.1; fill:none\" points=\"\n",
       "  174.862,766.846 2352.76,766.846 \n",
       "  \"/>\n",
       "<polyline clip-path=\"url(#clip212)\" style=\"stroke:#000000; stroke-width:2; stroke-opacity:0.1; fill:none\" points=\"\n",
       "  174.862,427.411 2352.76,427.411 \n",
       "  \"/>\n",
       "<polyline clip-path=\"url(#clip212)\" style=\"stroke:#000000; stroke-width:2; stroke-opacity:0.1; fill:none\" points=\"\n",
       "  174.862,87.9763 2352.76,87.9763 \n",
       "  \"/>\n",
       "<polyline clip-path=\"url(#clip210)\" style=\"stroke:#000000; stroke-width:4; stroke-opacity:1; fill:none\" points=\"\n",
       "  174.862,1486.45 2352.76,1486.45 \n",
       "  \"/>\n",
       "<polyline clip-path=\"url(#clip210)\" style=\"stroke:#000000; stroke-width:4; stroke-opacity:1; fill:none\" points=\"\n",
       "  174.862,1486.45 174.862,47.2441 \n",
       "  \"/>\n",
       "<polyline clip-path=\"url(#clip210)\" style=\"stroke:#000000; stroke-width:4; stroke-opacity:1; fill:none\" points=\"\n",
       "  236.501,1486.45 236.501,1469.18 \n",
       "  \"/>\n",
       "<polyline clip-path=\"url(#clip210)\" style=\"stroke:#000000; stroke-width:4; stroke-opacity:1; fill:none\" points=\"\n",
       "  750.155,1486.45 750.155,1469.18 \n",
       "  \"/>\n",
       "<polyline clip-path=\"url(#clip210)\" style=\"stroke:#000000; stroke-width:4; stroke-opacity:1; fill:none\" points=\"\n",
       "  1263.81,1486.45 1263.81,1469.18 \n",
       "  \"/>\n",
       "<polyline clip-path=\"url(#clip210)\" style=\"stroke:#000000; stroke-width:4; stroke-opacity:1; fill:none\" points=\"\n",
       "  1777.46,1486.45 1777.46,1469.18 \n",
       "  \"/>\n",
       "<polyline clip-path=\"url(#clip210)\" style=\"stroke:#000000; stroke-width:4; stroke-opacity:1; fill:none\" points=\"\n",
       "  2291.12,1486.45 2291.12,1469.18 \n",
       "  \"/>\n",
       "<polyline clip-path=\"url(#clip210)\" style=\"stroke:#000000; stroke-width:4; stroke-opacity:1; fill:none\" points=\"\n",
       "  174.862,1445.72 200.997,1445.72 \n",
       "  \"/>\n",
       "<polyline clip-path=\"url(#clip210)\" style=\"stroke:#000000; stroke-width:4; stroke-opacity:1; fill:none\" points=\"\n",
       "  174.862,1106.28 200.997,1106.28 \n",
       "  \"/>\n",
       "<polyline clip-path=\"url(#clip210)\" style=\"stroke:#000000; stroke-width:4; stroke-opacity:1; fill:none\" points=\"\n",
       "  174.862,766.846 200.997,766.846 \n",
       "  \"/>\n",
       "<polyline clip-path=\"url(#clip210)\" style=\"stroke:#000000; stroke-width:4; stroke-opacity:1; fill:none\" points=\"\n",
       "  174.862,427.411 200.997,427.411 \n",
       "  \"/>\n",
       "<polyline clip-path=\"url(#clip210)\" style=\"stroke:#000000; stroke-width:4; stroke-opacity:1; fill:none\" points=\"\n",
       "  174.862,87.9763 200.997,87.9763 \n",
       "  \"/>\n",
       "<path clip-path=\"url(#clip210)\" d=\"M 0 0 M203.862 1525.04 L216.339 1525.04 L216.339 1528.83 L203.862 1528.83 L203.862 1525.04 Z\" fill=\"#000000\" fill-rule=\"evenodd\" fill-opacity=\"1\" /><path clip-path=\"url(#clip210)\" d=\"M 0 0 M222.218 1535.98 L229.857 1535.98 L229.857 1509.62 L221.547 1511.29 L221.547 1507.03 L229.811 1505.36 L234.487 1505.36 L234.487 1535.98 L242.126 1535.98 L242.126 1539.92 L222.218 1539.92 L222.218 1535.98 Z\" fill=\"#000000\" fill-rule=\"evenodd\" fill-opacity=\"1\" /><path clip-path=\"url(#clip210)\" d=\"M 0 0 M257.195 1508.44 Q253.584 1508.44 251.755 1512 Q249.95 1515.55 249.95 1522.67 Q249.95 1529.78 251.755 1533.35 Q253.584 1536.89 257.195 1536.89 Q260.829 1536.89 262.635 1533.35 Q264.463 1529.78 264.463 1522.67 Q264.463 1515.55 262.635 1512 Q260.829 1508.44 257.195 1508.44 M257.195 1504.73 Q263.005 1504.73 266.061 1509.34 Q269.139 1513.92 269.139 1522.67 Q269.139 1531.4 266.061 1536.01 Q263.005 1540.59 257.195 1540.59 Q251.385 1540.59 248.306 1536.01 Q245.25 1531.4 245.25 1522.67 Q245.25 1513.92 248.306 1509.34 Q251.385 1504.73 257.195 1504.73 Z\" fill=\"#000000\" fill-rule=\"evenodd\" fill-opacity=\"1\" /><path clip-path=\"url(#clip210)\" d=\"M 0 0 M730.907 1525.04 L743.384 1525.04 L743.384 1528.83 L730.907 1528.83 L730.907 1525.04 Z\" fill=\"#000000\" fill-rule=\"evenodd\" fill-opacity=\"1\" /><path clip-path=\"url(#clip210)\" d=\"M 0 0 M748.5 1505.36 L766.856 1505.36 L766.856 1509.3 L752.782 1509.3 L752.782 1517.77 Q753.801 1517.42 754.819 1517.26 Q755.838 1517.07 756.856 1517.07 Q762.643 1517.07 766.023 1520.24 Q769.402 1523.42 769.402 1528.83 Q769.402 1534.41 765.93 1537.51 Q762.458 1540.59 756.139 1540.59 Q753.963 1540.59 751.694 1540.22 Q749.449 1539.85 747.041 1539.11 L747.041 1534.41 Q749.125 1535.54 751.347 1536.1 Q753.569 1536.66 756.046 1536.66 Q760.051 1536.66 762.388 1534.55 Q764.726 1532.44 764.726 1528.83 Q764.726 1525.22 762.388 1523.11 Q760.051 1521.01 756.046 1521.01 Q754.171 1521.01 752.296 1521.42 Q750.444 1521.84 748.5 1522.72 L748.5 1505.36 Z\" fill=\"#000000\" fill-rule=\"evenodd\" fill-opacity=\"1\" /><path clip-path=\"url(#clip210)\" d=\"M 0 0 M1263.81 1508.44 Q1260.2 1508.44 1258.37 1512 Q1256.56 1515.55 1256.56 1522.67 Q1256.56 1529.78 1258.37 1533.35 Q1260.2 1536.89 1263.81 1536.89 Q1267.44 1536.89 1269.25 1533.35 Q1271.08 1529.78 1271.08 1522.67 Q1271.08 1515.55 1269.25 1512 Q1267.44 1508.44 1263.81 1508.44 M1263.81 1504.73 Q1269.62 1504.73 1272.67 1509.34 Q1275.75 1513.92 1275.75 1522.67 Q1275.75 1531.4 1272.67 1536.01 Q1269.62 1540.59 1263.81 1540.59 Q1258 1540.59 1254.92 1536.01 Q1251.86 1531.4 1251.86 1522.67 Q1251.86 1513.92 1254.92 1509.34 Q1258 1504.73 1263.81 1504.73 Z\" fill=\"#000000\" fill-rule=\"evenodd\" fill-opacity=\"1\" /><path clip-path=\"url(#clip210)\" d=\"M 0 0 M1767.74 1505.36 L1786.1 1505.36 L1786.1 1509.3 L1772.02 1509.3 L1772.02 1517.77 Q1773.04 1517.42 1774.06 1517.26 Q1775.08 1517.07 1776.1 1517.07 Q1781.88 1517.07 1785.26 1520.24 Q1788.64 1523.42 1788.64 1528.83 Q1788.64 1534.41 1785.17 1537.51 Q1781.7 1540.59 1775.38 1540.59 Q1773.2 1540.59 1770.94 1540.22 Q1768.69 1539.85 1766.28 1539.11 L1766.28 1534.41 Q1768.37 1535.54 1770.59 1536.1 Q1772.81 1536.66 1775.29 1536.66 Q1779.29 1536.66 1781.63 1534.55 Q1783.97 1532.44 1783.97 1528.83 Q1783.97 1525.22 1781.63 1523.11 Q1779.29 1521.01 1775.29 1521.01 Q1773.41 1521.01 1771.54 1521.42 Q1769.69 1521.84 1767.74 1522.72 L1767.74 1505.36 Z\" fill=\"#000000\" fill-rule=\"evenodd\" fill-opacity=\"1\" /><path clip-path=\"url(#clip210)\" d=\"M 0 0 M2267.99 1535.98 L2275.63 1535.98 L2275.63 1509.62 L2267.32 1511.29 L2267.32 1507.03 L2275.59 1505.36 L2280.26 1505.36 L2280.26 1535.98 L2287.9 1535.98 L2287.9 1539.92 L2267.99 1539.92 L2267.99 1535.98 Z\" fill=\"#000000\" fill-rule=\"evenodd\" fill-opacity=\"1\" /><path clip-path=\"url(#clip210)\" d=\"M 0 0 M2302.97 1508.44 Q2299.36 1508.44 2297.53 1512 Q2295.72 1515.55 2295.72 1522.67 Q2295.72 1529.78 2297.53 1533.35 Q2299.36 1536.89 2302.97 1536.89 Q2306.6 1536.89 2308.41 1533.35 Q2310.24 1529.78 2310.24 1522.67 Q2310.24 1515.55 2308.41 1512 Q2306.6 1508.44 2302.97 1508.44 M2302.97 1504.73 Q2308.78 1504.73 2311.83 1509.34 Q2314.91 1513.92 2314.91 1522.67 Q2314.91 1531.4 2311.83 1536.01 Q2308.78 1540.59 2302.97 1540.59 Q2297.16 1540.59 2294.08 1536.01 Q2291.02 1531.4 2291.02 1522.67 Q2291.02 1513.92 2294.08 1509.34 Q2297.16 1504.73 2302.97 1504.73 Z\" fill=\"#000000\" fill-rule=\"evenodd\" fill-opacity=\"1\" /><path clip-path=\"url(#clip210)\" d=\"M 0 0 M74.9365 1431.51 Q71.3254 1431.51 69.4967 1435.08 Q67.6912 1438.62 67.6912 1445.75 Q67.6912 1452.86 69.4967 1456.42 Q71.3254 1459.96 74.9365 1459.96 Q78.5707 1459.96 80.3763 1456.42 Q82.205 1452.86 82.205 1445.75 Q82.205 1438.62 80.3763 1435.08 Q78.5707 1431.51 74.9365 1431.51 M74.9365 1427.81 Q80.7467 1427.81 83.8022 1432.42 Q86.8809 1437 86.8809 1445.75 Q86.8809 1454.48 83.8022 1459.08 Q80.7467 1463.67 74.9365 1463.67 Q69.1264 1463.67 66.0477 1459.08 Q62.9921 1454.48 62.9921 1445.75 Q62.9921 1437 66.0477 1432.42 Q69.1264 1427.81 74.9365 1427.81 Z\" fill=\"#000000\" fill-rule=\"evenodd\" fill-opacity=\"1\" /><path clip-path=\"url(#clip210)\" d=\"M 0 0 M91.9503 1457.12 L96.8345 1457.12 L96.8345 1463 L91.9503 1463 L91.9503 1457.12 Z\" fill=\"#000000\" fill-rule=\"evenodd\" fill-opacity=\"1\" /><path clip-path=\"url(#clip210)\" d=\"M 0 0 M111.904 1431.51 Q108.293 1431.51 106.464 1435.08 Q104.659 1438.62 104.659 1445.75 Q104.659 1452.86 106.464 1456.42 Q108.293 1459.96 111.904 1459.96 Q115.538 1459.96 117.344 1456.42 Q119.172 1452.86 119.172 1445.75 Q119.172 1438.62 117.344 1435.08 Q115.538 1431.51 111.904 1431.51 M111.904 1427.81 Q117.714 1427.81 120.77 1432.42 Q123.848 1437 123.848 1445.75 Q123.848 1454.48 120.77 1459.08 Q117.714 1463.67 111.904 1463.67 Q106.094 1463.67 103.015 1459.08 Q99.9595 1454.48 99.9595 1445.75 Q99.9595 1437 103.015 1432.42 Q106.094 1427.81 111.904 1427.81 Z\" fill=\"#000000\" fill-rule=\"evenodd\" fill-opacity=\"1\" /><path clip-path=\"url(#clip210)\" d=\"M 0 0 M138.918 1431.51 Q135.307 1431.51 133.478 1435.08 Q131.672 1438.62 131.672 1445.75 Q131.672 1452.86 133.478 1456.42 Q135.307 1459.96 138.918 1459.96 Q142.552 1459.96 144.357 1456.42 Q146.186 1452.86 146.186 1445.75 Q146.186 1438.62 144.357 1435.08 Q142.552 1431.51 138.918 1431.51 M138.918 1427.81 Q144.728 1427.81 147.783 1432.42 Q150.862 1437 150.862 1445.75 Q150.862 1454.48 147.783 1459.08 Q144.728 1463.67 138.918 1463.67 Q133.107 1463.67 130.029 1459.08 Q126.973 1454.48 126.973 1445.75 Q126.973 1437 130.029 1432.42 Q133.107 1427.81 138.918 1427.81 Z\" fill=\"#000000\" fill-rule=\"evenodd\" fill-opacity=\"1\" /><path clip-path=\"url(#clip210)\" d=\"M 0 0 M77.5291 1092.08 Q73.918 1092.08 72.0893 1095.64 Q70.2838 1099.19 70.2838 1106.32 Q70.2838 1113.42 72.0893 1116.99 Q73.918 1120.53 77.5291 1120.53 Q81.1633 1120.53 82.9689 1116.99 Q84.7976 1113.42 84.7976 1106.32 Q84.7976 1099.19 82.9689 1095.64 Q81.1633 1092.08 77.5291 1092.08 M77.5291 1088.38 Q83.3392 1088.38 86.3948 1092.98 Q89.4735 1097.57 89.4735 1106.32 Q89.4735 1115.04 86.3948 1119.65 Q83.3392 1124.23 77.5291 1124.23 Q71.7189 1124.23 68.6402 1119.65 Q65.5847 1115.04 65.5847 1106.32 Q65.5847 1097.57 68.6402 1092.98 Q71.7189 1088.38 77.5291 1088.38 Z\" fill=\"#000000\" fill-rule=\"evenodd\" fill-opacity=\"1\" /><path clip-path=\"url(#clip210)\" d=\"M 0 0 M94.5429 1117.68 L99.4271 1117.68 L99.4271 1123.56 L94.5429 1123.56 L94.5429 1117.68 Z\" fill=\"#000000\" fill-rule=\"evenodd\" fill-opacity=\"1\" /><path clip-path=\"url(#clip210)\" d=\"M 0 0 M108.524 1119.63 L124.844 1119.63 L124.844 1123.56 L102.899 1123.56 L102.899 1119.63 Q105.561 1116.87 110.145 1112.24 Q114.751 1107.59 115.932 1106.25 Q118.177 1103.72 119.057 1101.99 Q119.959 1100.23 119.959 1098.54 Q119.959 1095.78 118.015 1094.05 Q116.094 1092.31 112.992 1092.31 Q110.793 1092.31 108.339 1093.07 Q105.909 1093.84 103.131 1095.39 L103.131 1090.67 Q105.955 1089.53 108.409 1088.95 Q110.862 1088.38 112.899 1088.38 Q118.27 1088.38 121.464 1091.06 Q124.658 1093.75 124.658 1098.24 Q124.658 1100.37 123.848 1102.29 Q123.061 1104.19 120.955 1106.78 Q120.376 1107.45 117.274 1110.67 Q114.172 1113.86 108.524 1119.63 Z\" fill=\"#000000\" fill-rule=\"evenodd\" fill-opacity=\"1\" /><path clip-path=\"url(#clip210)\" d=\"M 0 0 M129.959 1089 L148.316 1089 L148.316 1092.94 L134.242 1092.94 L134.242 1101.41 Q135.26 1101.06 136.279 1100.9 Q137.297 1100.71 138.316 1100.71 Q144.103 1100.71 147.482 1103.89 Q150.862 1107.06 150.862 1112.47 Q150.862 1118.05 147.39 1121.15 Q143.918 1124.23 137.598 1124.23 Q135.422 1124.23 133.154 1123.86 Q130.908 1123.49 128.501 1122.75 L128.501 1118.05 Q130.584 1119.19 132.807 1119.74 Q135.029 1120.3 137.506 1120.3 Q141.51 1120.3 143.848 1118.19 Q146.186 1116.08 146.186 1112.47 Q146.186 1108.86 143.848 1106.76 Q141.51 1104.65 137.506 1104.65 Q135.631 1104.65 133.756 1105.07 Q131.904 1105.48 129.959 1106.36 L129.959 1089 Z\" fill=\"#000000\" fill-rule=\"evenodd\" fill-opacity=\"1\" /><path clip-path=\"url(#clip210)\" d=\"M 0 0 M75.9319 752.645 Q72.3208 752.645 70.4921 756.209 Q68.6865 759.751 68.6865 766.881 Q68.6865 773.987 70.4921 777.552 Q72.3208 781.094 75.9319 781.094 Q79.5661 781.094 81.3717 777.552 Q83.2004 773.987 83.2004 766.881 Q83.2004 759.751 81.3717 756.209 Q79.5661 752.645 75.9319 752.645 M75.9319 748.941 Q81.742 748.941 84.7976 753.547 Q87.8763 758.131 87.8763 766.881 Q87.8763 775.608 84.7976 780.214 Q81.742 784.797 75.9319 784.797 Q70.1217 784.797 67.043 780.214 Q63.9875 775.608 63.9875 766.881 Q63.9875 758.131 67.043 753.547 Q70.1217 748.941 75.9319 748.941 Z\" fill=\"#000000\" fill-rule=\"evenodd\" fill-opacity=\"1\" /><path clip-path=\"url(#clip210)\" d=\"M 0 0 M92.9457 778.246 L97.8299 778.246 L97.8299 784.126 L92.9457 784.126 L92.9457 778.246 Z\" fill=\"#000000\" fill-rule=\"evenodd\" fill-opacity=\"1\" /><path clip-path=\"url(#clip210)\" d=\"M 0 0 M102.946 749.566 L121.302 749.566 L121.302 753.501 L107.228 753.501 L107.228 761.973 Q108.247 761.626 109.265 761.464 Q110.284 761.279 111.302 761.279 Q117.089 761.279 120.469 764.45 Q123.848 767.621 123.848 773.038 Q123.848 778.617 120.376 781.719 Q116.904 784.797 110.584 784.797 Q108.409 784.797 106.14 784.427 Q103.895 784.057 101.487 783.316 L101.487 778.617 Q103.571 779.751 105.793 780.307 Q108.015 780.862 110.492 780.862 Q114.496 780.862 116.834 778.756 Q119.172 776.649 119.172 773.038 Q119.172 769.427 116.834 767.321 Q114.496 765.214 110.492 765.214 Q108.617 765.214 106.742 765.631 Q104.89 766.047 102.946 766.927 L102.946 749.566 Z\" fill=\"#000000\" fill-rule=\"evenodd\" fill-opacity=\"1\" /><path clip-path=\"url(#clip210)\" d=\"M 0 0 M138.918 752.645 Q135.307 752.645 133.478 756.209 Q131.672 759.751 131.672 766.881 Q131.672 773.987 133.478 777.552 Q135.307 781.094 138.918 781.094 Q142.552 781.094 144.357 777.552 Q146.186 773.987 146.186 766.881 Q146.186 759.751 144.357 756.209 Q142.552 752.645 138.918 752.645 M138.918 748.941 Q144.728 748.941 147.783 753.547 Q150.862 758.131 150.862 766.881 Q150.862 775.608 147.783 780.214 Q144.728 784.797 138.918 784.797 Q133.107 784.797 130.029 780.214 Q126.973 775.608 126.973 766.881 Q126.973 758.131 130.029 753.547 Q133.107 748.941 138.918 748.941 Z\" fill=\"#000000\" fill-rule=\"evenodd\" fill-opacity=\"1\" /><path clip-path=\"url(#clip210)\" d=\"M 0 0 M76.8346 413.21 Q73.2236 413.21 71.3949 416.775 Q69.5893 420.316 69.5893 427.446 Q69.5893 434.552 71.3949 438.117 Q73.2236 441.659 76.8346 441.659 Q80.4689 441.659 82.2744 438.117 Q84.1031 434.552 84.1031 427.446 Q84.1031 420.316 82.2744 416.775 Q80.4689 413.21 76.8346 413.21 M76.8346 409.506 Q82.6448 409.506 85.7003 414.113 Q88.779 418.696 88.779 427.446 Q88.779 436.173 85.7003 440.779 Q82.6448 445.362 76.8346 445.362 Q71.0245 445.362 67.9458 440.779 Q64.8903 436.173 64.8903 427.446 Q64.8903 418.696 67.9458 414.113 Q71.0245 409.506 76.8346 409.506 Z\" fill=\"#000000\" fill-rule=\"evenodd\" fill-opacity=\"1\" /><path clip-path=\"url(#clip210)\" d=\"M 0 0 M93.8484 438.812 L98.7327 438.812 L98.7327 444.691 L93.8484 444.691 L93.8484 438.812 Z\" fill=\"#000000\" fill-rule=\"evenodd\" fill-opacity=\"1\" /><path clip-path=\"url(#clip210)\" d=\"M 0 0 M102.622 410.131 L124.844 410.131 L124.844 412.122 L112.297 444.691 L107.413 444.691 L119.219 414.066 L102.622 414.066 L102.622 410.131 Z\" fill=\"#000000\" fill-rule=\"evenodd\" fill-opacity=\"1\" /><path clip-path=\"url(#clip210)\" d=\"M 0 0 M129.959 410.131 L148.316 410.131 L148.316 414.066 L134.242 414.066 L134.242 422.538 Q135.26 422.191 136.279 422.029 Q137.297 421.844 138.316 421.844 Q144.103 421.844 147.482 425.015 Q150.862 428.187 150.862 433.603 Q150.862 439.182 147.39 442.284 Q143.918 445.362 137.598 445.362 Q135.422 445.362 133.154 444.992 Q130.908 444.622 128.501 443.881 L128.501 439.182 Q130.584 440.316 132.807 440.872 Q135.029 441.427 137.506 441.427 Q141.51 441.427 143.848 439.321 Q146.186 437.214 146.186 433.603 Q146.186 429.992 143.848 427.886 Q141.51 425.779 137.506 425.779 Q135.631 425.779 133.756 426.196 Q131.904 426.613 129.959 427.492 L129.959 410.131 Z\" fill=\"#000000\" fill-rule=\"evenodd\" fill-opacity=\"1\" /><path clip-path=\"url(#clip210)\" d=\"M 0 0 M66.9736 101.321 L74.6124 101.321 L74.6124 74.9555 L66.3023 76.6222 L66.3023 72.3629 L74.5661 70.6963 L79.242 70.6963 L79.242 101.321 L86.8809 101.321 L86.8809 105.256 L66.9736 105.256 L66.9736 101.321 Z\" fill=\"#000000\" fill-rule=\"evenodd\" fill-opacity=\"1\" /><path clip-path=\"url(#clip210)\" d=\"M 0 0 M91.9503 99.3767 L96.8345 99.3767 L96.8345 105.256 L91.9503 105.256 L91.9503 99.3767 Z\" fill=\"#000000\" fill-rule=\"evenodd\" fill-opacity=\"1\" /><path clip-path=\"url(#clip210)\" d=\"M 0 0 M111.904 73.775 Q108.293 73.775 106.464 77.3398 Q104.659 80.8814 104.659 88.011 Q104.659 95.1174 106.464 98.6822 Q108.293 102.224 111.904 102.224 Q115.538 102.224 117.344 98.6822 Q119.172 95.1174 119.172 88.011 Q119.172 80.8814 117.344 77.3398 Q115.538 73.775 111.904 73.775 M111.904 70.0713 Q117.714 70.0713 120.77 74.6777 Q123.848 79.261 123.848 88.011 Q123.848 96.7378 120.77 101.344 Q117.714 105.928 111.904 105.928 Q106.094 105.928 103.015 101.344 Q99.9595 96.7378 99.9595 88.011 Q99.9595 79.261 103.015 74.6777 Q106.094 70.0713 111.904 70.0713 Z\" fill=\"#000000\" fill-rule=\"evenodd\" fill-opacity=\"1\" /><path clip-path=\"url(#clip210)\" d=\"M 0 0 M138.918 73.775 Q135.307 73.775 133.478 77.3398 Q131.672 80.8814 131.672 88.011 Q131.672 95.1174 133.478 98.6822 Q135.307 102.224 138.918 102.224 Q142.552 102.224 144.357 98.6822 Q146.186 95.1174 146.186 88.011 Q146.186 80.8814 144.357 77.3398 Q142.552 73.775 138.918 73.775 M138.918 70.0713 Q144.728 70.0713 147.783 74.6777 Q150.862 79.261 150.862 88.011 Q150.862 96.7378 147.783 101.344 Q144.728 105.928 138.918 105.928 Q133.107 105.928 130.029 101.344 Q126.973 96.7378 126.973 88.011 Q126.973 79.261 130.029 74.6777 Q133.107 70.0713 138.918 70.0713 Z\" fill=\"#000000\" fill-rule=\"evenodd\" fill-opacity=\"1\" /><polyline clip-path=\"url(#clip212)\" style=\"stroke:#009af9; stroke-width:4; stroke-opacity:1; fill:none\" points=\"\n",
       "  236.501,1445.72 339.231,1445.72 441.962,1445.72 544.693,1445.72 647.424,1445.72 750.155,1445.72 852.886,1445.72 955.616,1445.72 1058.35,1445.72 1161.08,1445.72 \n",
       "  1263.81,1445.72 1366.54,1445.72 1469.27,1445.72 1572,1445.72 1674.73,1445.72 1777.46,1445.72 1880.19,1445.72 1982.92,1445.72 2085.66,1445.72 2188.39,1445.72 \n",
       "  2291.12,1445.72 \n",
       "  \"/>\n",
       "<path clip-path=\"url(#clip210)\" d=\"\n",
       "M1989.74 251.724 L2280.76 251.724 L2280.76 130.764 L1989.74 130.764  Z\n",
       "  \" fill=\"#ffffff\" fill-rule=\"evenodd\" fill-opacity=\"1\"/>\n",
       "<polyline clip-path=\"url(#clip210)\" style=\"stroke:#000000; stroke-width:4; stroke-opacity:1; fill:none\" points=\"\n",
       "  1989.74,251.724 2280.76,251.724 2280.76,130.764 1989.74,130.764 1989.74,251.724 \n",
       "  \"/>\n",
       "<polyline clip-path=\"url(#clip210)\" style=\"stroke:#009af9; stroke-width:4; stroke-opacity:1; fill:none\" points=\"\n",
       "  2013.74,191.244 2157.74,191.244 \n",
       "  \"/>\n",
       "<path clip-path=\"url(#clip210)\" d=\"M 0 0 M2195.58 210.931 Q2193.77 215.561 2192.06 216.973 Q2190.35 218.385 2187.48 218.385 L2184.08 218.385 L2184.08 214.82 L2186.58 214.82 Q2188.33 214.82 2189.31 213.987 Q2190.28 213.154 2191.46 210.052 L2192.22 208.107 L2181.74 182.598 L2186.25 182.598 L2194.35 202.876 L2202.46 182.598 L2206.97 182.598 L2195.58 210.931 Z\" fill=\"#000000\" fill-rule=\"evenodd\" fill-opacity=\"1\" /><path clip-path=\"url(#clip210)\" d=\"M 0 0 M2212.85 204.589 L2220.49 204.589 L2220.49 178.223 L2212.18 179.89 L2212.18 175.631 L2220.44 173.964 L2225.12 173.964 L2225.12 204.589 L2232.76 204.589 L2232.76 208.524 L2212.85 208.524 L2212.85 204.589 Z\" fill=\"#000000\" fill-rule=\"evenodd\" fill-opacity=\"1\" /></svg>\n"
      ]
     },
     "execution_count": 40,
     "metadata": {},
     "output_type": "execute_result"
    }
   ],
   "source": [
    "plot(zero,-10:10)"
   ]
  },
  {
   "cell_type": "code",
   "execution_count": 41,
   "metadata": {},
   "outputs": [
    {
     "data": {
      "image/svg+xml": [
       "<?xml version=\"1.0\" encoding=\"utf-8\"?>\n",
       "<svg xmlns=\"http://www.w3.org/2000/svg\" xmlns:xlink=\"http://www.w3.org/1999/xlink\" width=\"600\" height=\"400\" viewBox=\"0 0 2400 1600\">\n",
       "<defs>\n",
       "  <clipPath id=\"clip250\">\n",
       "    <rect x=\"0\" y=\"0\" width=\"2400\" height=\"1600\"/>\n",
       "  </clipPath>\n",
       "</defs>\n",
       "<path clip-path=\"url(#clip250)\" d=\"\n",
       "M0 1600 L2400 1600 L2400 0 L0 0  Z\n",
       "  \" fill=\"#ffffff\" fill-rule=\"evenodd\" fill-opacity=\"1\"/>\n",
       "<defs>\n",
       "  <clipPath id=\"clip251\">\n",
       "    <rect x=\"480\" y=\"0\" width=\"1681\" height=\"1600\"/>\n",
       "  </clipPath>\n",
       "</defs>\n",
       "<path clip-path=\"url(#clip250)\" d=\"\n",
       "M148.334 1486.45 L2352.76 1486.45 L2352.76 47.2441 L148.334 47.2441  Z\n",
       "  \" fill=\"#ffffff\" fill-rule=\"evenodd\" fill-opacity=\"1\"/>\n",
       "<defs>\n",
       "  <clipPath id=\"clip252\">\n",
       "    <rect x=\"148\" y=\"47\" width=\"2205\" height=\"1440\"/>\n",
       "  </clipPath>\n",
       "</defs>\n",
       "<polyline clip-path=\"url(#clip252)\" style=\"stroke:#000000; stroke-width:2; stroke-opacity:0.1; fill:none\" points=\"\n",
       "  148.334,1486.45 148.334,47.2441 \n",
       "  \"/>\n",
       "<polyline clip-path=\"url(#clip252)\" style=\"stroke:#000000; stroke-width:2; stroke-opacity:0.1; fill:none\" points=\"\n",
       "  589.219,1486.45 589.219,47.2441 \n",
       "  \"/>\n",
       "<polyline clip-path=\"url(#clip252)\" style=\"stroke:#000000; stroke-width:2; stroke-opacity:0.1; fill:none\" points=\"\n",
       "  1030.1,1486.45 1030.1,47.2441 \n",
       "  \"/>\n",
       "<polyline clip-path=\"url(#clip252)\" style=\"stroke:#000000; stroke-width:2; stroke-opacity:0.1; fill:none\" points=\"\n",
       "  1470.99,1486.45 1470.99,47.2441 \n",
       "  \"/>\n",
       "<polyline clip-path=\"url(#clip252)\" style=\"stroke:#000000; stroke-width:2; stroke-opacity:0.1; fill:none\" points=\"\n",
       "  1911.87,1486.45 1911.87,47.2441 \n",
       "  \"/>\n",
       "<polyline clip-path=\"url(#clip252)\" style=\"stroke:#000000; stroke-width:2; stroke-opacity:0.1; fill:none\" points=\"\n",
       "  2352.76,1486.45 2352.76,47.2441 \n",
       "  \"/>\n",
       "<polyline clip-path=\"url(#clip252)\" style=\"stroke:#000000; stroke-width:2; stroke-opacity:0.1; fill:none\" points=\"\n",
       "  148.334,1486.45 2352.76,1486.45 \n",
       "  \"/>\n",
       "<polyline clip-path=\"url(#clip252)\" style=\"stroke:#000000; stroke-width:2; stroke-opacity:0.1; fill:none\" points=\"\n",
       "  148.334,1198.61 2352.76,1198.61 \n",
       "  \"/>\n",
       "<polyline clip-path=\"url(#clip252)\" style=\"stroke:#000000; stroke-width:2; stroke-opacity:0.1; fill:none\" points=\"\n",
       "  148.334,910.766 2352.76,910.766 \n",
       "  \"/>\n",
       "<polyline clip-path=\"url(#clip252)\" style=\"stroke:#000000; stroke-width:2; stroke-opacity:0.1; fill:none\" points=\"\n",
       "  148.334,622.926 2352.76,622.926 \n",
       "  \"/>\n",
       "<polyline clip-path=\"url(#clip252)\" style=\"stroke:#000000; stroke-width:2; stroke-opacity:0.1; fill:none\" points=\"\n",
       "  148.334,335.085 2352.76,335.085 \n",
       "  \"/>\n",
       "<polyline clip-path=\"url(#clip252)\" style=\"stroke:#000000; stroke-width:2; stroke-opacity:0.1; fill:none\" points=\"\n",
       "  148.334,47.2441 2352.76,47.2441 \n",
       "  \"/>\n",
       "<polyline clip-path=\"url(#clip250)\" style=\"stroke:#000000; stroke-width:4; stroke-opacity:1; fill:none\" points=\"\n",
       "  148.334,1486.45 2352.76,1486.45 \n",
       "  \"/>\n",
       "<polyline clip-path=\"url(#clip250)\" style=\"stroke:#000000; stroke-width:4; stroke-opacity:1; fill:none\" points=\"\n",
       "  148.334,1486.45 148.334,47.2441 \n",
       "  \"/>\n",
       "<polyline clip-path=\"url(#clip250)\" style=\"stroke:#000000; stroke-width:4; stroke-opacity:1; fill:none\" points=\"\n",
       "  148.334,1486.45 148.334,1469.18 \n",
       "  \"/>\n",
       "<polyline clip-path=\"url(#clip250)\" style=\"stroke:#000000; stroke-width:4; stroke-opacity:1; fill:none\" points=\"\n",
       "  589.219,1486.45 589.219,1469.18 \n",
       "  \"/>\n",
       "<polyline clip-path=\"url(#clip250)\" style=\"stroke:#000000; stroke-width:4; stroke-opacity:1; fill:none\" points=\"\n",
       "  1030.1,1486.45 1030.1,1469.18 \n",
       "  \"/>\n",
       "<polyline clip-path=\"url(#clip250)\" style=\"stroke:#000000; stroke-width:4; stroke-opacity:1; fill:none\" points=\"\n",
       "  1470.99,1486.45 1470.99,1469.18 \n",
       "  \"/>\n",
       "<polyline clip-path=\"url(#clip250)\" style=\"stroke:#000000; stroke-width:4; stroke-opacity:1; fill:none\" points=\"\n",
       "  1911.87,1486.45 1911.87,1469.18 \n",
       "  \"/>\n",
       "<polyline clip-path=\"url(#clip250)\" style=\"stroke:#000000; stroke-width:4; stroke-opacity:1; fill:none\" points=\"\n",
       "  2352.76,1486.45 2352.76,1469.18 \n",
       "  \"/>\n",
       "<polyline clip-path=\"url(#clip250)\" style=\"stroke:#000000; stroke-width:4; stroke-opacity:1; fill:none\" points=\"\n",
       "  148.334,1486.45 174.787,1486.45 \n",
       "  \"/>\n",
       "<polyline clip-path=\"url(#clip250)\" style=\"stroke:#000000; stroke-width:4; stroke-opacity:1; fill:none\" points=\"\n",
       "  148.334,1198.61 174.787,1198.61 \n",
       "  \"/>\n",
       "<polyline clip-path=\"url(#clip250)\" style=\"stroke:#000000; stroke-width:4; stroke-opacity:1; fill:none\" points=\"\n",
       "  148.334,910.766 174.787,910.766 \n",
       "  \"/>\n",
       "<polyline clip-path=\"url(#clip250)\" style=\"stroke:#000000; stroke-width:4; stroke-opacity:1; fill:none\" points=\"\n",
       "  148.334,622.926 174.787,622.926 \n",
       "  \"/>\n",
       "<polyline clip-path=\"url(#clip250)\" style=\"stroke:#000000; stroke-width:4; stroke-opacity:1; fill:none\" points=\"\n",
       "  148.334,335.085 174.787,335.085 \n",
       "  \"/>\n",
       "<polyline clip-path=\"url(#clip250)\" style=\"stroke:#000000; stroke-width:4; stroke-opacity:1; fill:none\" points=\"\n",
       "  148.334,47.2441 174.787,47.2441 \n",
       "  \"/>\n",
       "<path clip-path=\"url(#clip250)\" d=\"M 0 0 M129.851 1508.44 Q126.24 1508.44 124.411 1512 Q122.605 1515.55 122.605 1522.67 Q122.605 1529.78 124.411 1533.35 Q126.24 1536.89 129.851 1536.89 Q133.485 1536.89 135.29 1533.35 Q137.119 1529.78 137.119 1522.67 Q137.119 1515.55 135.29 1512 Q133.485 1508.44 129.851 1508.44 M129.851 1504.73 Q135.661 1504.73 138.716 1509.34 Q141.795 1513.92 141.795 1522.67 Q141.795 1531.4 138.716 1536.01 Q135.661 1540.59 129.851 1540.59 Q124.041 1540.59 120.962 1536.01 Q117.906 1531.4 117.906 1522.67 Q117.906 1513.92 120.962 1509.34 Q124.041 1504.73 129.851 1504.73 Z\" fill=\"#000000\" fill-rule=\"evenodd\" fill-opacity=\"1\" /><path clip-path=\"url(#clip250)\" d=\"M 0 0 M146.864 1534.04 L151.749 1534.04 L151.749 1539.92 L146.864 1539.92 L146.864 1534.04 Z\" fill=\"#000000\" fill-rule=\"evenodd\" fill-opacity=\"1\" /><path clip-path=\"url(#clip250)\" d=\"M 0 0 M166.818 1508.44 Q163.207 1508.44 161.378 1512 Q159.573 1515.55 159.573 1522.67 Q159.573 1529.78 161.378 1533.35 Q163.207 1536.89 166.818 1536.89 Q170.452 1536.89 172.258 1533.35 Q174.087 1529.78 174.087 1522.67 Q174.087 1515.55 172.258 1512 Q170.452 1508.44 166.818 1508.44 M166.818 1504.73 Q172.628 1504.73 175.684 1509.34 Q178.762 1513.92 178.762 1522.67 Q178.762 1531.4 175.684 1536.01 Q172.628 1540.59 166.818 1540.59 Q161.008 1540.59 157.929 1536.01 Q154.874 1531.4 154.874 1522.67 Q154.874 1513.92 157.929 1509.34 Q161.008 1504.73 166.818 1504.73 Z\" fill=\"#000000\" fill-rule=\"evenodd\" fill-opacity=\"1\" /><path clip-path=\"url(#clip250)\" d=\"M 0 0 M571.534 1508.44 Q567.923 1508.44 566.094 1512 Q564.288 1515.55 564.288 1522.67 Q564.288 1529.78 566.094 1533.35 Q567.923 1536.89 571.534 1536.89 Q575.168 1536.89 576.973 1533.35 Q578.802 1529.78 578.802 1522.67 Q578.802 1515.55 576.973 1512 Q575.168 1508.44 571.534 1508.44 M571.534 1504.73 Q577.344 1504.73 580.399 1509.34 Q583.478 1513.92 583.478 1522.67 Q583.478 1531.4 580.399 1536.01 Q577.344 1540.59 571.534 1540.59 Q565.723 1540.59 562.645 1536.01 Q559.589 1531.4 559.589 1522.67 Q559.589 1513.92 562.645 1509.34 Q565.723 1504.73 571.534 1504.73 Z\" fill=\"#000000\" fill-rule=\"evenodd\" fill-opacity=\"1\" /><path clip-path=\"url(#clip250)\" d=\"M 0 0 M588.547 1534.04 L593.432 1534.04 L593.432 1539.92 L588.547 1539.92 L588.547 1534.04 Z\" fill=\"#000000\" fill-rule=\"evenodd\" fill-opacity=\"1\" /><path clip-path=\"url(#clip250)\" d=\"M 0 0 M602.529 1535.98 L618.848 1535.98 L618.848 1539.92 L596.904 1539.92 L596.904 1535.98 Q599.566 1533.23 604.149 1528.6 Q608.756 1523.95 609.936 1522.61 Q612.182 1520.08 613.061 1518.35 Q613.964 1516.59 613.964 1514.9 Q613.964 1512.14 612.019 1510.41 Q610.098 1508.67 606.996 1508.67 Q604.797 1508.67 602.344 1509.43 Q599.913 1510.2 597.135 1511.75 L597.135 1507.03 Q599.959 1505.89 602.413 1505.31 Q604.867 1504.73 606.904 1504.73 Q612.274 1504.73 615.469 1507.42 Q618.663 1510.11 618.663 1514.6 Q618.663 1516.73 617.853 1518.65 Q617.066 1520.54 614.959 1523.14 Q614.381 1523.81 611.279 1527.03 Q608.177 1530.22 602.529 1535.98 Z\" fill=\"#000000\" fill-rule=\"evenodd\" fill-opacity=\"1\" /><path clip-path=\"url(#clip250)\" d=\"M 0 0 M1011.38 1508.44 Q1007.77 1508.44 1005.94 1512 Q1004.13 1515.55 1004.13 1522.67 Q1004.13 1529.78 1005.94 1533.35 Q1007.77 1536.89 1011.38 1536.89 Q1015.01 1536.89 1016.82 1533.35 Q1018.64 1529.78 1018.64 1522.67 Q1018.64 1515.55 1016.82 1512 Q1015.01 1508.44 1011.38 1508.44 M1011.38 1504.73 Q1017.19 1504.73 1020.24 1509.34 Q1023.32 1513.92 1023.32 1522.67 Q1023.32 1531.4 1020.24 1536.01 Q1017.19 1540.59 1011.38 1540.59 Q1005.57 1540.59 1002.49 1536.01 Q999.432 1531.4 999.432 1522.67 Q999.432 1513.92 1002.49 1509.34 Q1005.57 1504.73 1011.38 1504.73 Z\" fill=\"#000000\" fill-rule=\"evenodd\" fill-opacity=\"1\" /><path clip-path=\"url(#clip250)\" d=\"M 0 0 M1028.39 1534.04 L1033.27 1534.04 L1033.27 1539.92 L1028.39 1539.92 L1028.39 1534.04 Z\" fill=\"#000000\" fill-rule=\"evenodd\" fill-opacity=\"1\" /><path clip-path=\"url(#clip250)\" d=\"M 0 0 M1051.19 1509.43 L1039.39 1527.88 L1051.19 1527.88 L1051.19 1509.43 M1049.96 1505.36 L1055.84 1505.36 L1055.84 1527.88 L1060.77 1527.88 L1060.77 1531.77 L1055.84 1531.77 L1055.84 1539.92 L1051.19 1539.92 L1051.19 1531.77 L1035.59 1531.77 L1035.59 1527.26 L1049.96 1505.36 Z\" fill=\"#000000\" fill-rule=\"evenodd\" fill-opacity=\"1\" /><path clip-path=\"url(#clip250)\" d=\"M 0 0 M1452.42 1508.44 Q1448.81 1508.44 1446.98 1512 Q1445.18 1515.55 1445.18 1522.67 Q1445.18 1529.78 1446.98 1533.35 Q1448.81 1536.89 1452.42 1536.89 Q1456.06 1536.89 1457.86 1533.35 Q1459.69 1529.78 1459.69 1522.67 Q1459.69 1515.55 1457.86 1512 Q1456.06 1508.44 1452.42 1508.44 M1452.42 1504.73 Q1458.23 1504.73 1461.29 1509.34 Q1464.37 1513.92 1464.37 1522.67 Q1464.37 1531.4 1461.29 1536.01 Q1458.23 1540.59 1452.42 1540.59 Q1446.61 1540.59 1443.53 1536.01 Q1440.48 1531.4 1440.48 1522.67 Q1440.48 1513.92 1443.53 1509.34 Q1446.61 1504.73 1452.42 1504.73 Z\" fill=\"#000000\" fill-rule=\"evenodd\" fill-opacity=\"1\" /><path clip-path=\"url(#clip250)\" d=\"M 0 0 M1469.44 1534.04 L1474.32 1534.04 L1474.32 1539.92 L1469.44 1539.92 L1469.44 1534.04 Z\" fill=\"#000000\" fill-rule=\"evenodd\" fill-opacity=\"1\" /><path clip-path=\"url(#clip250)\" d=\"M 0 0 M1489.97 1520.78 Q1486.82 1520.78 1484.97 1522.93 Q1483.14 1525.08 1483.14 1528.83 Q1483.14 1532.56 1484.97 1534.73 Q1486.82 1536.89 1489.97 1536.89 Q1493.12 1536.89 1494.95 1534.73 Q1496.8 1532.56 1496.8 1528.83 Q1496.8 1525.08 1494.95 1522.93 Q1493.12 1520.78 1489.97 1520.78 M1499.25 1506.12 L1499.25 1510.38 Q1497.49 1509.55 1495.69 1509.11 Q1493.9 1508.67 1492.14 1508.67 Q1487.51 1508.67 1485.06 1511.8 Q1482.63 1514.92 1482.28 1521.24 Q1483.65 1519.23 1485.71 1518.16 Q1487.77 1517.07 1490.25 1517.07 Q1495.45 1517.07 1498.46 1520.24 Q1501.5 1523.39 1501.5 1528.83 Q1501.5 1534.16 1498.35 1537.37 Q1495.2 1540.59 1489.97 1540.59 Q1483.97 1540.59 1480.8 1536.01 Q1477.63 1531.4 1477.63 1522.67 Q1477.63 1514.48 1481.52 1509.62 Q1485.41 1504.73 1491.96 1504.73 Q1493.72 1504.73 1495.5 1505.08 Q1497.31 1505.43 1499.25 1506.12 Z\" fill=\"#000000\" fill-rule=\"evenodd\" fill-opacity=\"1\" /><path clip-path=\"url(#clip250)\" d=\"M 0 0 M1893.43 1508.44 Q1889.82 1508.44 1887.99 1512 Q1886.19 1515.55 1886.19 1522.67 Q1886.19 1529.78 1887.99 1533.35 Q1889.82 1536.89 1893.43 1536.89 Q1897.07 1536.89 1898.87 1533.35 Q1900.7 1529.78 1900.7 1522.67 Q1900.7 1515.55 1898.87 1512 Q1897.07 1508.44 1893.43 1508.44 M1893.43 1504.73 Q1899.24 1504.73 1902.3 1509.34 Q1905.38 1513.92 1905.38 1522.67 Q1905.38 1531.4 1902.3 1536.01 Q1899.24 1540.59 1893.43 1540.59 Q1887.62 1540.59 1884.55 1536.01 Q1881.49 1531.4 1881.49 1522.67 Q1881.49 1513.92 1884.55 1509.34 Q1887.62 1504.73 1893.43 1504.73 Z\" fill=\"#000000\" fill-rule=\"evenodd\" fill-opacity=\"1\" /><path clip-path=\"url(#clip250)\" d=\"M 0 0 M1910.45 1534.04 L1915.33 1534.04 L1915.33 1539.92 L1910.45 1539.92 L1910.45 1534.04 Z\" fill=\"#000000\" fill-rule=\"evenodd\" fill-opacity=\"1\" /><path clip-path=\"url(#clip250)\" d=\"M 0 0 M1930.4 1523.51 Q1927.07 1523.51 1925.15 1525.29 Q1923.25 1527.07 1923.25 1530.2 Q1923.25 1533.32 1925.15 1535.11 Q1927.07 1536.89 1930.4 1536.89 Q1933.73 1536.89 1935.66 1535.11 Q1937.58 1533.3 1937.58 1530.2 Q1937.58 1527.07 1935.66 1525.29 Q1933.76 1523.51 1930.4 1523.51 M1925.73 1521.52 Q1922.72 1520.78 1921.03 1518.72 Q1919.36 1516.66 1919.36 1513.69 Q1919.36 1509.55 1922.3 1507.14 Q1925.26 1504.73 1930.4 1504.73 Q1935.56 1504.73 1938.5 1507.14 Q1941.44 1509.55 1941.44 1513.69 Q1941.44 1516.66 1939.75 1518.72 Q1938.09 1520.78 1935.1 1521.52 Q1938.48 1522.3 1940.36 1524.6 Q1942.25 1526.89 1942.25 1530.2 Q1942.25 1535.22 1939.17 1537.91 Q1936.12 1540.59 1930.4 1540.59 Q1924.68 1540.59 1921.61 1537.91 Q1918.55 1535.22 1918.55 1530.2 Q1918.55 1526.89 1920.45 1524.6 Q1922.35 1522.3 1925.73 1521.52 M1924.01 1514.13 Q1924.01 1516.82 1925.68 1518.32 Q1927.37 1519.83 1930.4 1519.83 Q1933.41 1519.83 1935.1 1518.32 Q1936.81 1516.82 1936.81 1514.13 Q1936.81 1511.45 1935.1 1509.94 Q1933.41 1508.44 1930.4 1508.44 Q1927.37 1508.44 1925.68 1509.94 Q1924.01 1511.45 1924.01 1514.13 Z\" fill=\"#000000\" fill-rule=\"evenodd\" fill-opacity=\"1\" /><path clip-path=\"url(#clip250)\" d=\"M 0 0 M2324.65 1535.98 L2332.29 1535.98 L2332.29 1509.62 L2323.98 1511.29 L2323.98 1507.03 L2332.25 1505.36 L2336.92 1505.36 L2336.92 1535.98 L2344.56 1535.98 L2344.56 1539.92 L2324.65 1539.92 L2324.65 1535.98 Z\" fill=\"#000000\" fill-rule=\"evenodd\" fill-opacity=\"1\" /><path clip-path=\"url(#clip250)\" d=\"M 0 0 M2349.63 1534.04 L2354.52 1534.04 L2354.52 1539.92 L2349.63 1539.92 L2349.63 1534.04 Z\" fill=\"#000000\" fill-rule=\"evenodd\" fill-opacity=\"1\" /><path clip-path=\"url(#clip250)\" d=\"M 0 0 M2369.58 1508.44 Q2365.97 1508.44 2364.14 1512 Q2362.34 1515.55 2362.34 1522.67 Q2362.34 1529.78 2364.14 1533.35 Q2365.97 1536.89 2369.58 1536.89 Q2373.22 1536.89 2375.02 1533.35 Q2376.85 1529.78 2376.85 1522.67 Q2376.85 1515.55 2375.02 1512 Q2373.22 1508.44 2369.58 1508.44 M2369.58 1504.73 Q2375.39 1504.73 2378.45 1509.34 Q2381.53 1513.92 2381.53 1522.67 Q2381.53 1531.4 2378.45 1536.01 Q2375.39 1540.59 2369.58 1540.59 Q2363.77 1540.59 2360.7 1536.01 Q2357.64 1531.4 2357.64 1522.67 Q2357.64 1513.92 2360.7 1509.34 Q2363.77 1504.73 2369.58 1504.73 Z\" fill=\"#000000\" fill-rule=\"evenodd\" fill-opacity=\"1\" /><path clip-path=\"url(#clip250)\" d=\"M 0 0 M75.4226 1472.25 Q71.8115 1472.25 69.9828 1475.81 Q68.1773 1479.35 68.1773 1486.48 Q68.1773 1493.59 69.9828 1497.15 Q71.8115 1500.7 75.4226 1500.7 Q79.0569 1500.7 80.8624 1497.15 Q82.6911 1493.59 82.6911 1486.48 Q82.6911 1479.35 80.8624 1475.81 Q79.0569 1472.25 75.4226 1472.25 M75.4226 1468.54 Q81.2328 1468.54 84.2883 1473.15 Q87.367 1477.73 87.367 1486.48 Q87.367 1495.21 84.2883 1499.82 Q81.2328 1504.4 75.4226 1504.4 Q69.6125 1504.4 66.5338 1499.82 Q63.4782 1495.21 63.4782 1486.48 Q63.4782 1477.73 66.5338 1473.15 Q69.6125 1468.54 75.4226 1468.54 Z\" fill=\"#000000\" fill-rule=\"evenodd\" fill-opacity=\"1\" /><path clip-path=\"url(#clip250)\" d=\"M 0 0 M92.4364 1497.85 L97.3206 1497.85 L97.3206 1503.73 L92.4364 1503.73 L92.4364 1497.85 Z\" fill=\"#000000\" fill-rule=\"evenodd\" fill-opacity=\"1\" /><path clip-path=\"url(#clip250)\" d=\"M 0 0 M112.39 1472.25 Q108.779 1472.25 106.95 1475.81 Q105.145 1479.35 105.145 1486.48 Q105.145 1493.59 106.95 1497.15 Q108.779 1500.7 112.39 1500.7 Q116.024 1500.7 117.83 1497.15 Q119.658 1493.59 119.658 1486.48 Q119.658 1479.35 117.83 1475.81 Q116.024 1472.25 112.39 1472.25 M112.39 1468.54 Q118.2 1468.54 121.256 1473.15 Q124.334 1477.73 124.334 1486.48 Q124.334 1495.21 121.256 1499.82 Q118.2 1504.4 112.39 1504.4 Q106.58 1504.4 103.501 1499.82 Q100.446 1495.21 100.446 1486.48 Q100.446 1477.73 103.501 1473.15 Q106.58 1468.54 112.39 1468.54 Z\" fill=\"#000000\" fill-rule=\"evenodd\" fill-opacity=\"1\" /><path clip-path=\"url(#clip250)\" d=\"M 0 0 M77.0198 1184.41 Q73.4087 1184.41 71.58 1187.97 Q69.7745 1191.51 69.7745 1198.64 Q69.7745 1205.75 71.58 1209.31 Q73.4087 1212.85 77.0198 1212.85 Q80.6541 1212.85 82.4596 1209.31 Q84.2883 1205.75 84.2883 1198.64 Q84.2883 1191.51 82.4596 1187.97 Q80.6541 1184.41 77.0198 1184.41 M77.0198 1180.7 Q82.83 1180.7 85.8855 1185.31 Q88.9642 1189.89 88.9642 1198.64 Q88.9642 1207.37 85.8855 1211.98 Q82.83 1216.56 77.0198 1216.56 Q71.2097 1216.56 68.131 1211.98 Q65.0754 1207.37 65.0754 1198.64 Q65.0754 1189.89 68.131 1185.31 Q71.2097 1180.7 77.0198 1180.7 Z\" fill=\"#000000\" fill-rule=\"evenodd\" fill-opacity=\"1\" /><path clip-path=\"url(#clip250)\" d=\"M 0 0 M94.0336 1210.01 L98.9179 1210.01 L98.9179 1215.89 L94.0336 1215.89 L94.0336 1210.01 Z\" fill=\"#000000\" fill-rule=\"evenodd\" fill-opacity=\"1\" /><path clip-path=\"url(#clip250)\" d=\"M 0 0 M108.015 1211.95 L124.334 1211.95 L124.334 1215.89 L102.39 1215.89 L102.39 1211.95 Q105.052 1209.2 109.635 1204.57 Q114.242 1199.91 115.422 1198.57 Q117.668 1196.05 118.547 1194.31 Q119.45 1192.55 119.45 1190.86 Q119.45 1188.11 117.506 1186.37 Q115.584 1184.64 112.483 1184.64 Q110.284 1184.64 107.83 1185.4 Q105.399 1186.17 102.622 1187.72 L102.622 1182.99 Q105.446 1181.86 107.899 1181.28 Q110.353 1180.7 112.39 1180.7 Q117.76 1180.7 120.955 1183.39 Q124.149 1186.07 124.149 1190.56 Q124.149 1192.69 123.339 1194.61 Q122.552 1196.51 120.446 1199.1 Q119.867 1199.78 116.765 1202.99 Q113.663 1206.19 108.015 1211.95 Z\" fill=\"#000000\" fill-rule=\"evenodd\" fill-opacity=\"1\" /><path clip-path=\"url(#clip250)\" d=\"M 0 0 M74.9365 896.565 Q71.3254 896.565 69.4967 900.13 Q67.6912 903.671 67.6912 910.801 Q67.6912 917.908 69.4967 921.472 Q71.3254 925.014 74.9365 925.014 Q78.5707 925.014 80.3763 921.472 Q82.205 917.908 82.205 910.801 Q82.205 903.671 80.3763 900.13 Q78.5707 896.565 74.9365 896.565 M74.9365 892.861 Q80.7467 892.861 83.8022 897.468 Q86.8809 902.051 86.8809 910.801 Q86.8809 919.528 83.8022 924.134 Q80.7467 928.718 74.9365 928.718 Q69.1264 928.718 66.0477 924.134 Q62.9921 919.528 62.9921 910.801 Q62.9921 902.051 66.0477 897.468 Q69.1264 892.861 74.9365 892.861 Z\" fill=\"#000000\" fill-rule=\"evenodd\" fill-opacity=\"1\" /><path clip-path=\"url(#clip250)\" d=\"M 0 0 M91.9503 922.167 L96.8345 922.167 L96.8345 928.046 L91.9503 928.046 L91.9503 922.167 Z\" fill=\"#000000\" fill-rule=\"evenodd\" fill-opacity=\"1\" /><path clip-path=\"url(#clip250)\" d=\"M 0 0 M114.751 897.56 L102.946 916.009 L114.751 916.009 L114.751 897.56 M113.524 893.486 L119.404 893.486 L119.404 916.009 L124.334 916.009 L124.334 919.898 L119.404 919.898 L119.404 928.046 L114.751 928.046 L114.751 919.898 L99.1493 919.898 L99.1493 915.384 L113.524 893.486 Z\" fill=\"#000000\" fill-rule=\"evenodd\" fill-opacity=\"1\" /><path clip-path=\"url(#clip250)\" d=\"M 0 0 M75.2606 608.724 Q71.6495 608.724 69.8208 612.289 Q68.0152 615.831 68.0152 622.96 Q68.0152 630.067 69.8208 633.632 Q71.6495 637.173 75.2606 637.173 Q78.8948 637.173 80.7004 633.632 Q82.5291 630.067 82.5291 622.96 Q82.5291 615.831 80.7004 612.289 Q78.8948 608.724 75.2606 608.724 M75.2606 605.021 Q81.0707 605.021 84.1263 609.627 Q87.205 614.21 87.205 622.96 Q87.205 631.687 84.1263 636.294 Q81.0707 640.877 75.2606 640.877 Q69.4504 640.877 66.3717 636.294 Q63.3162 631.687 63.3162 622.96 Q63.3162 614.21 66.3717 609.627 Q69.4504 605.021 75.2606 605.021 Z\" fill=\"#000000\" fill-rule=\"evenodd\" fill-opacity=\"1\" /><path clip-path=\"url(#clip250)\" d=\"M 0 0 M92.2744 634.326 L97.1586 634.326 L97.1586 640.206 L92.2744 640.206 L92.2744 634.326 Z\" fill=\"#000000\" fill-rule=\"evenodd\" fill-opacity=\"1\" /><path clip-path=\"url(#clip250)\" d=\"M 0 0 M112.807 621.062 Q109.659 621.062 107.807 623.215 Q105.978 625.368 105.978 629.118 Q105.978 632.845 107.807 635.02 Q109.659 637.173 112.807 637.173 Q115.955 637.173 117.783 635.02 Q119.635 632.845 119.635 629.118 Q119.635 625.368 117.783 623.215 Q115.955 621.062 112.807 621.062 M122.089 606.409 L122.089 610.669 Q120.33 609.835 118.524 609.396 Q116.742 608.956 114.983 608.956 Q110.353 608.956 107.899 612.081 Q105.469 615.206 105.122 621.525 Q106.487 619.511 108.547 618.446 Q110.608 617.359 113.084 617.359 Q118.293 617.359 121.302 620.53 Q124.334 623.678 124.334 629.118 Q124.334 634.442 121.186 637.659 Q118.038 640.877 112.807 640.877 Q106.811 640.877 103.64 636.294 Q100.469 631.687 100.469 622.96 Q100.469 614.766 104.358 609.905 Q108.247 605.021 114.797 605.021 Q116.557 605.021 118.339 605.368 Q120.145 605.715 122.089 606.409 Z\" fill=\"#000000\" fill-rule=\"evenodd\" fill-opacity=\"1\" /><path clip-path=\"url(#clip250)\" d=\"M 0 0 M75.5152 320.884 Q71.9041 320.884 70.0754 324.448 Q68.2699 327.99 68.2699 335.12 Q68.2699 342.226 70.0754 345.791 Q71.9041 349.332 75.5152 349.332 Q79.1494 349.332 80.955 345.791 Q82.7837 342.226 82.7837 335.12 Q82.7837 327.99 80.955 324.448 Q79.1494 320.884 75.5152 320.884 M75.5152 317.18 Q81.3254 317.18 84.3809 321.786 Q87.4596 326.37 87.4596 335.12 Q87.4596 343.846 84.3809 348.453 Q81.3254 353.036 75.5152 353.036 Q69.7051 353.036 66.6264 348.453 Q63.5708 343.846 63.5708 335.12 Q63.5708 326.37 66.6264 321.786 Q69.7051 317.18 75.5152 317.18 Z\" fill=\"#000000\" fill-rule=\"evenodd\" fill-opacity=\"1\" /><path clip-path=\"url(#clip250)\" d=\"M 0 0 M92.529 346.485 L97.4132 346.485 L97.4132 352.365 L92.529 352.365 L92.529 346.485 Z\" fill=\"#000000\" fill-rule=\"evenodd\" fill-opacity=\"1\" /><path clip-path=\"url(#clip250)\" d=\"M 0 0 M112.483 335.953 Q109.149 335.953 107.228 337.735 Q105.33 339.518 105.33 342.643 Q105.33 345.768 107.228 347.55 Q109.149 349.332 112.483 349.332 Q115.816 349.332 117.737 347.55 Q119.658 345.745 119.658 342.643 Q119.658 339.518 117.737 337.735 Q115.839 335.953 112.483 335.953 M107.807 333.962 Q104.797 333.221 103.108 331.161 Q101.441 329.101 101.441 326.138 Q101.441 321.995 104.381 319.587 Q107.344 317.18 112.483 317.18 Q117.645 317.18 120.584 319.587 Q123.524 321.995 123.524 326.138 Q123.524 329.101 121.834 331.161 Q120.168 333.221 117.182 333.962 Q120.561 334.749 122.436 337.041 Q124.334 339.333 124.334 342.643 Q124.334 347.666 121.256 350.351 Q118.2 353.036 112.483 353.036 Q106.765 353.036 103.686 350.351 Q100.631 347.666 100.631 342.643 Q100.631 339.333 102.529 337.041 Q104.427 334.749 107.807 333.962 M106.094 326.578 Q106.094 329.263 107.76 330.768 Q109.45 332.272 112.483 332.272 Q115.492 332.272 117.182 330.768 Q118.895 329.263 118.895 326.578 Q118.895 323.893 117.182 322.388 Q115.492 320.884 112.483 320.884 Q109.45 320.884 107.76 322.388 Q106.094 323.893 106.094 326.578 Z\" fill=\"#000000\" fill-rule=\"evenodd\" fill-opacity=\"1\" /><path clip-path=\"url(#clip250)\" d=\"M 0 0 M67.4597 60.5889 L75.0985 60.5889 L75.0985 34.2233 L66.7884 35.89 L66.7884 31.6308 L75.0522 29.9641 L79.7281 29.9641 L79.7281 60.5889 L87.367 60.5889 L87.367 64.5241 L67.4597 64.5241 L67.4597 60.5889 Z\" fill=\"#000000\" fill-rule=\"evenodd\" fill-opacity=\"1\" /><path clip-path=\"url(#clip250)\" d=\"M 0 0 M92.4364 58.6445 L97.3206 58.6445 L97.3206 64.5241 L92.4364 64.5241 L92.4364 58.6445 Z\" fill=\"#000000\" fill-rule=\"evenodd\" fill-opacity=\"1\" /><path clip-path=\"url(#clip250)\" d=\"M 0 0 M112.39 33.0428 Q108.779 33.0428 106.95 36.6076 Q105.145 40.1492 105.145 47.2788 Q105.145 54.3853 106.95 57.9501 Q108.779 61.4917 112.39 61.4917 Q116.024 61.4917 117.83 57.9501 Q119.658 54.3853 119.658 47.2788 Q119.658 40.1492 117.83 36.6076 Q116.024 33.0428 112.39 33.0428 M112.39 29.3391 Q118.2 29.3391 121.256 33.9456 Q124.334 38.5289 124.334 47.2788 Q124.334 56.0056 121.256 60.6121 Q118.2 65.1954 112.39 65.1954 Q106.58 65.1954 103.501 60.6121 Q100.446 56.0056 100.446 47.2788 Q100.446 38.5289 103.501 33.9456 Q106.58 29.3391 112.39 29.3391 Z\" fill=\"#000000\" fill-rule=\"evenodd\" fill-opacity=\"1\" /></svg>\n"
      ]
     },
     "execution_count": 41,
     "metadata": {},
     "output_type": "execute_result"
    }
   ],
   "source": [
    "plot(0,-10:10)"
   ]
  },
  {
   "cell_type": "code",
   "execution_count": 42,
   "metadata": {},
   "outputs": [],
   "source": [
    "f(x) = -9*x^2 + 3*x + 6\n",
    "\n",
    "using Plots"
   ]
  },
  {
   "cell_type": "code",
   "execution_count": 43,
   "metadata": {},
   "outputs": [
    {
     "data": {
      "image/svg+xml": [
       "<?xml version=\"1.0\" encoding=\"utf-8\"?>\n",
       "<svg xmlns=\"http://www.w3.org/2000/svg\" xmlns:xlink=\"http://www.w3.org/1999/xlink\" width=\"600\" height=\"400\" viewBox=\"0 0 2400 1600\">\n",
       "<defs>\n",
       "  <clipPath id=\"clip290\">\n",
       "    <rect x=\"0\" y=\"0\" width=\"2400\" height=\"1600\"/>\n",
       "  </clipPath>\n",
       "</defs>\n",
       "<path clip-path=\"url(#clip290)\" d=\"\n",
       "M0 1600 L2400 1600 L2400 0 L0 0  Z\n",
       "  \" fill=\"#ffffff\" fill-rule=\"evenodd\" fill-opacity=\"1\"/>\n",
       "<defs>\n",
       "  <clipPath id=\"clip291\">\n",
       "    <rect x=\"480\" y=\"0\" width=\"1681\" height=\"1600\"/>\n",
       "  </clipPath>\n",
       "</defs>\n",
       "<path clip-path=\"url(#clip290)\" d=\"\n",
       "M152.848 1486.45 L2352.76 1486.45 L2352.76 47.2441 L152.848 47.2441  Z\n",
       "  \" fill=\"#ffffff\" fill-rule=\"evenodd\" fill-opacity=\"1\"/>\n",
       "<defs>\n",
       "  <clipPath id=\"clip292\">\n",
       "    <rect x=\"152\" y=\"47\" width=\"2201\" height=\"1440\"/>\n",
       "  </clipPath>\n",
       "</defs>\n",
       "<polyline clip-path=\"url(#clip292)\" style=\"stroke:#000000; stroke-width:2; stroke-opacity:0.1; fill:none\" points=\"\n",
       "  215.11,1486.45 215.11,47.2441 \n",
       "  \"/>\n",
       "<polyline clip-path=\"url(#clip292)\" style=\"stroke:#000000; stroke-width:2; stroke-opacity:0.1; fill:none\" points=\"\n",
       "  733.956,1486.45 733.956,47.2441 \n",
       "  \"/>\n",
       "<polyline clip-path=\"url(#clip292)\" style=\"stroke:#000000; stroke-width:2; stroke-opacity:0.1; fill:none\" points=\"\n",
       "  1252.8,1486.45 1252.8,47.2441 \n",
       "  \"/>\n",
       "<polyline clip-path=\"url(#clip292)\" style=\"stroke:#000000; stroke-width:2; stroke-opacity:0.1; fill:none\" points=\"\n",
       "  1771.65,1486.45 1771.65,47.2441 \n",
       "  \"/>\n",
       "<polyline clip-path=\"url(#clip292)\" style=\"stroke:#000000; stroke-width:2; stroke-opacity:0.1; fill:none\" points=\"\n",
       "  2290.49,1486.45 2290.49,47.2441 \n",
       "  \"/>\n",
       "<polyline clip-path=\"url(#clip292)\" style=\"stroke:#000000; stroke-width:2; stroke-opacity:0.1; fill:none\" points=\"\n",
       "  152.848,1252.89 2352.76,1252.89 \n",
       "  \"/>\n",
       "<polyline clip-path=\"url(#clip292)\" style=\"stroke:#000000; stroke-width:2; stroke-opacity:0.1; fill:none\" points=\"\n",
       "  152.848,931.509 2352.76,931.509 \n",
       "  \"/>\n",
       "<polyline clip-path=\"url(#clip292)\" style=\"stroke:#000000; stroke-width:2; stroke-opacity:0.1; fill:none\" points=\"\n",
       "  152.848,610.13 2352.76,610.13 \n",
       "  \"/>\n",
       "<polyline clip-path=\"url(#clip292)\" style=\"stroke:#000000; stroke-width:2; stroke-opacity:0.1; fill:none\" points=\"\n",
       "  152.848,288.75 2352.76,288.75 \n",
       "  \"/>\n",
       "<polyline clip-path=\"url(#clip290)\" style=\"stroke:#000000; stroke-width:4; stroke-opacity:1; fill:none\" points=\"\n",
       "  152.848,1486.45 2352.76,1486.45 \n",
       "  \"/>\n",
       "<polyline clip-path=\"url(#clip290)\" style=\"stroke:#000000; stroke-width:4; stroke-opacity:1; fill:none\" points=\"\n",
       "  152.848,1486.45 152.848,47.2441 \n",
       "  \"/>\n",
       "<polyline clip-path=\"url(#clip290)\" style=\"stroke:#000000; stroke-width:4; stroke-opacity:1; fill:none\" points=\"\n",
       "  215.11,1486.45 215.11,1469.18 \n",
       "  \"/>\n",
       "<polyline clip-path=\"url(#clip290)\" style=\"stroke:#000000; stroke-width:4; stroke-opacity:1; fill:none\" points=\"\n",
       "  733.956,1486.45 733.956,1469.18 \n",
       "  \"/>\n",
       "<polyline clip-path=\"url(#clip290)\" style=\"stroke:#000000; stroke-width:4; stroke-opacity:1; fill:none\" points=\"\n",
       "  1252.8,1486.45 1252.8,1469.18 \n",
       "  \"/>\n",
       "<polyline clip-path=\"url(#clip290)\" style=\"stroke:#000000; stroke-width:4; stroke-opacity:1; fill:none\" points=\"\n",
       "  1771.65,1486.45 1771.65,1469.18 \n",
       "  \"/>\n",
       "<polyline clip-path=\"url(#clip290)\" style=\"stroke:#000000; stroke-width:4; stroke-opacity:1; fill:none\" points=\"\n",
       "  2290.49,1486.45 2290.49,1469.18 \n",
       "  \"/>\n",
       "<polyline clip-path=\"url(#clip290)\" style=\"stroke:#000000; stroke-width:4; stroke-opacity:1; fill:none\" points=\"\n",
       "  152.848,1252.89 179.247,1252.89 \n",
       "  \"/>\n",
       "<polyline clip-path=\"url(#clip290)\" style=\"stroke:#000000; stroke-width:4; stroke-opacity:1; fill:none\" points=\"\n",
       "  152.848,931.509 179.247,931.509 \n",
       "  \"/>\n",
       "<polyline clip-path=\"url(#clip290)\" style=\"stroke:#000000; stroke-width:4; stroke-opacity:1; fill:none\" points=\"\n",
       "  152.848,610.13 179.247,610.13 \n",
       "  \"/>\n",
       "<polyline clip-path=\"url(#clip290)\" style=\"stroke:#000000; stroke-width:4; stroke-opacity:1; fill:none\" points=\"\n",
       "  152.848,288.75 179.247,288.75 \n",
       "  \"/>\n",
       "<path clip-path=\"url(#clip290)\" d=\"M 0 0 M196.163 1525.04 L208.64 1525.04 L208.64 1528.83 L196.163 1528.83 L196.163 1525.04 Z\" fill=\"#000000\" fill-rule=\"evenodd\" fill-opacity=\"1\" /><path clip-path=\"url(#clip290)\" d=\"M 0 0 M217.737 1535.98 L234.056 1535.98 L234.056 1539.92 L212.112 1539.92 L212.112 1535.98 Q214.774 1533.23 219.357 1528.6 Q223.964 1523.95 225.144 1522.61 Q227.39 1520.08 228.269 1518.35 Q229.172 1516.59 229.172 1514.9 Q229.172 1512.14 227.228 1510.41 Q225.306 1508.67 222.205 1508.67 Q220.006 1508.67 217.552 1509.43 Q215.121 1510.2 212.344 1511.75 L212.344 1507.03 Q215.168 1505.89 217.621 1505.31 Q220.075 1504.73 222.112 1504.73 Q227.482 1504.73 230.677 1507.42 Q233.871 1510.11 233.871 1514.6 Q233.871 1516.73 233.061 1518.65 Q232.274 1520.54 230.168 1523.14 Q229.589 1523.81 226.487 1527.03 Q223.385 1530.22 217.737 1535.98 Z\" fill=\"#000000\" fill-rule=\"evenodd\" fill-opacity=\"1\" /><path clip-path=\"url(#clip290)\" d=\"M 0 0 M714.824 1525.04 L727.301 1525.04 L727.301 1528.83 L714.824 1528.83 L714.824 1525.04 Z\" fill=\"#000000\" fill-rule=\"evenodd\" fill-opacity=\"1\" /><path clip-path=\"url(#clip290)\" d=\"M 0 0 M733.18 1535.98 L740.819 1535.98 L740.819 1509.62 L732.509 1511.29 L732.509 1507.03 L740.773 1505.36 L745.449 1505.36 L745.449 1535.98 L753.088 1535.98 L753.088 1539.92 L733.18 1539.92 L733.18 1535.98 Z\" fill=\"#000000\" fill-rule=\"evenodd\" fill-opacity=\"1\" /><path clip-path=\"url(#clip290)\" d=\"M 0 0 M1252.8 1508.44 Q1249.19 1508.44 1247.36 1512 Q1245.56 1515.55 1245.56 1522.67 Q1245.56 1529.78 1247.36 1533.35 Q1249.19 1536.89 1252.8 1536.89 Q1256.44 1536.89 1258.24 1533.35 Q1260.07 1529.78 1260.07 1522.67 Q1260.07 1515.55 1258.24 1512 Q1256.44 1508.44 1252.8 1508.44 M1252.8 1504.73 Q1258.61 1504.73 1261.67 1509.34 Q1264.75 1513.92 1264.75 1522.67 Q1264.75 1531.4 1261.67 1536.01 Q1258.61 1540.59 1252.8 1540.59 Q1246.99 1540.59 1243.91 1536.01 Q1240.86 1531.4 1240.86 1522.67 Q1240.86 1513.92 1243.91 1509.34 Q1246.99 1504.73 1252.8 1504.73 Z\" fill=\"#000000\" fill-rule=\"evenodd\" fill-opacity=\"1\" /><path clip-path=\"url(#clip290)\" d=\"M 0 0 M1762.03 1535.98 L1769.67 1535.98 L1769.67 1509.62 L1761.36 1511.29 L1761.36 1507.03 L1769.62 1505.36 L1774.3 1505.36 L1774.3 1535.98 L1781.94 1535.98 L1781.94 1539.92 L1762.03 1539.92 L1762.03 1535.98 Z\" fill=\"#000000\" fill-rule=\"evenodd\" fill-opacity=\"1\" /><path clip-path=\"url(#clip290)\" d=\"M 0 0 M2285.15 1535.98 L2301.47 1535.98 L2301.47 1539.92 L2279.52 1539.92 L2279.52 1535.98 Q2282.18 1533.23 2286.77 1528.6 Q2291.37 1523.95 2292.55 1522.61 Q2294.8 1520.08 2295.68 1518.35 Q2296.58 1516.59 2296.58 1514.9 Q2296.58 1512.14 2294.64 1510.41 Q2292.72 1508.67 2289.61 1508.67 Q2287.42 1508.67 2284.96 1509.43 Q2282.53 1510.2 2279.75 1511.75 L2279.75 1507.03 Q2282.58 1505.89 2285.03 1505.31 Q2287.49 1504.73 2289.52 1504.73 Q2294.89 1504.73 2298.09 1507.42 Q2301.28 1510.11 2301.28 1514.6 Q2301.28 1516.73 2300.47 1518.65 Q2299.68 1520.54 2297.58 1523.14 Q2297 1523.81 2293.9 1527.03 Q2290.8 1530.22 2285.15 1535.98 Z\" fill=\"#000000\" fill-rule=\"evenodd\" fill-opacity=\"1\" /><path clip-path=\"url(#clip290)\" d=\"M 0 0 M62.9921 1255.28 L75.4689 1255.28 L75.4689 1259.08 L62.9921 1259.08 L62.9921 1255.28 Z\" fill=\"#000000\" fill-rule=\"evenodd\" fill-opacity=\"1\" /><path clip-path=\"url(#clip290)\" d=\"M 0 0 M94.7049 1251.53 Q98.0614 1252.25 99.9364 1254.52 Q101.835 1256.79 101.835 1260.12 Q101.835 1265.24 98.316 1268.04 Q94.7975 1270.84 88.3161 1270.84 Q86.1402 1270.84 83.8253 1270.4 Q81.5337 1269.98 79.08 1269.13 L79.08 1264.61 Q81.0244 1265.75 83.3392 1266.33 Q85.654 1266.9 88.1772 1266.9 Q92.5753 1266.9 94.867 1265.17 Q97.1818 1263.43 97.1818 1260.12 Q97.1818 1257.07 95.029 1255.35 Q92.8994 1253.62 89.0799 1253.62 L85.0522 1253.62 L85.0522 1249.77 L89.2651 1249.77 Q92.7142 1249.77 94.5429 1248.41 Q96.3716 1247.02 96.3716 1244.43 Q96.3716 1241.77 94.4734 1240.35 Q92.5984 1238.92 89.0799 1238.92 Q87.1587 1238.92 84.9596 1239.33 Q82.7605 1239.75 80.1217 1240.63 L80.1217 1236.46 Q82.7837 1235.72 85.0985 1235.35 Q87.4364 1234.98 89.4966 1234.98 Q94.8207 1234.98 97.9225 1237.41 Q101.024 1239.82 101.024 1243.94 Q101.024 1246.81 99.3808 1248.8 Q97.7373 1250.77 94.7049 1251.53 Z\" fill=\"#000000\" fill-rule=\"evenodd\" fill-opacity=\"1\" /><path clip-path=\"url(#clip290)\" d=\"M 0 0 M116.904 1238.69 Q113.293 1238.69 111.464 1242.25 Q109.659 1245.79 109.659 1252.92 Q109.659 1260.03 111.464 1263.59 Q113.293 1267.14 116.904 1267.14 Q120.538 1267.14 122.344 1263.59 Q124.172 1260.03 124.172 1252.92 Q124.172 1245.79 122.344 1242.25 Q120.538 1238.69 116.904 1238.69 M116.904 1234.98 Q122.714 1234.98 125.77 1239.59 Q128.848 1244.17 128.848 1252.92 Q128.848 1261.65 125.77 1266.26 Q122.714 1270.84 116.904 1270.84 Q111.094 1270.84 108.015 1266.26 Q104.959 1261.65 104.959 1252.92 Q104.959 1244.17 108.015 1239.59 Q111.094 1234.98 116.904 1234.98 Z\" fill=\"#000000\" fill-rule=\"evenodd\" fill-opacity=\"1\" /><path clip-path=\"url(#clip290)\" d=\"M 0 0 M63.9412 933.905 L76.418 933.905 L76.418 937.701 L63.9412 937.701 L63.9412 933.905 Z\" fill=\"#000000\" fill-rule=\"evenodd\" fill-opacity=\"1\" /><path clip-path=\"url(#clip290)\" d=\"M 0 0 M85.5152 944.854 L101.835 944.854 L101.835 948.789 L79.8902 948.789 L79.8902 944.854 Q82.5522 942.099 87.1355 937.47 Q91.742 932.817 92.9225 931.474 Q95.1679 928.951 96.0475 927.215 Q96.9503 925.456 96.9503 923.766 Q96.9503 921.011 95.0058 919.275 Q93.0846 917.539 89.9827 917.539 Q87.7837 917.539 85.33 918.303 Q82.8994 919.067 80.1217 920.618 L80.1217 915.896 Q82.9457 914.761 85.3994 914.183 Q87.8531 913.604 89.8901 913.604 Q95.2605 913.604 98.4549 916.289 Q101.649 918.974 101.649 923.465 Q101.649 925.595 100.839 927.516 Q100.052 929.414 97.9456 932.007 Q97.3669 932.678 94.2651 935.895 Q91.1633 939.09 85.5152 944.854 Z\" fill=\"#000000\" fill-rule=\"evenodd\" fill-opacity=\"1\" /><path clip-path=\"url(#clip290)\" d=\"M 0 0 M116.904 917.308 Q113.293 917.308 111.464 920.872 Q109.659 924.414 109.659 931.544 Q109.659 938.65 111.464 942.215 Q113.293 945.757 116.904 945.757 Q120.538 945.757 122.344 942.215 Q124.172 938.65 124.172 931.544 Q124.172 924.414 122.344 920.872 Q120.538 917.308 116.904 917.308 M116.904 913.604 Q122.714 913.604 125.77 918.21 Q128.848 922.794 128.848 931.544 Q128.848 940.27 125.77 944.877 Q122.714 949.46 116.904 949.46 Q111.094 949.46 108.015 944.877 Q104.959 940.27 104.959 931.544 Q104.959 922.794 108.015 918.21 Q111.094 913.604 116.904 913.604 Z\" fill=\"#000000\" fill-rule=\"evenodd\" fill-opacity=\"1\" /><path clip-path=\"url(#clip290)\" d=\"M 0 0 M63.5708 612.525 L76.0476 612.525 L76.0476 616.322 L63.5708 616.322 L63.5708 612.525 Z\" fill=\"#000000\" fill-rule=\"evenodd\" fill-opacity=\"1\" /><path clip-path=\"url(#clip290)\" d=\"M 0 0 M81.9272 623.474 L89.5661 623.474 L89.5661 597.109 L81.2559 598.776 L81.2559 594.516 L89.5198 592.85 L94.1957 592.85 L94.1957 623.474 L101.835 623.474 L101.835 627.41 L81.9272 627.41 L81.9272 623.474 Z\" fill=\"#000000\" fill-rule=\"evenodd\" fill-opacity=\"1\" /><path clip-path=\"url(#clip290)\" d=\"M 0 0 M116.904 595.928 Q113.293 595.928 111.464 599.493 Q109.659 603.035 109.659 610.164 Q109.659 617.271 111.464 620.836 Q113.293 624.377 116.904 624.377 Q120.538 624.377 122.344 620.836 Q124.172 617.271 124.172 610.164 Q124.172 603.035 122.344 599.493 Q120.538 595.928 116.904 595.928 M116.904 592.225 Q122.714 592.225 125.77 596.831 Q128.848 601.414 128.848 610.164 Q128.848 618.891 125.77 623.498 Q122.714 628.081 116.904 628.081 Q111.094 628.081 108.015 623.498 Q104.959 618.891 104.959 610.164 Q104.959 601.414 108.015 596.831 Q111.094 592.225 116.904 592.225 Z\" fill=\"#000000\" fill-rule=\"evenodd\" fill-opacity=\"1\" /><path clip-path=\"url(#clip290)\" d=\"M 0 0 M116.904 274.549 Q113.293 274.549 111.464 278.114 Q109.659 281.656 109.659 288.785 Q109.659 295.892 111.464 299.456 Q113.293 302.998 116.904 302.998 Q120.538 302.998 122.344 299.456 Q124.172 295.892 124.172 288.785 Q124.172 281.656 122.344 278.114 Q120.538 274.549 116.904 274.549 M116.904 270.845 Q122.714 270.845 125.77 275.452 Q128.848 280.035 128.848 288.785 Q128.848 297.512 125.77 302.118 Q122.714 306.702 116.904 306.702 Q111.094 306.702 108.015 302.118 Q104.959 297.512 104.959 288.785 Q104.959 280.035 108.015 275.452 Q111.094 270.845 116.904 270.845 Z\" fill=\"#000000\" fill-rule=\"evenodd\" fill-opacity=\"1\" /><polyline clip-path=\"url(#clip292)\" style=\"stroke:#009af9; stroke-width:4; stroke-opacity:1; fill:none\" points=\"\n",
       "  215.11,1445.72 225.244,1421.35 235.378,1397.2 329.08,1184.35 422.783,990.377 479.094,882.882 535.406,782.202 583.016,702.393 630.627,627.456 682.345,551.573 \n",
       "  734.064,481.438 781.744,421.871 829.423,367.19 880.541,313.992 931.659,266.409 990.884,218.301 1050.11,177.731 1102.74,148.002 1155.37,124.226 1201.53,108.276 \n",
       "  1247.68,96.9027 1298,89.7189 1348.32,87.9763 1398.94,91.7131 1449.56,100.956 1505.52,117.584 1561.49,140.943 1614.74,169.417 1667.99,203.985 1723.36,246.388 \n",
       "  1778.73,295.38 1825.33,341.726 1871.94,392.741 1928.84,461.353 1985.75,536.923 2039.24,614.305 2092.73,697.836 2178.42,844.474 2264.12,1006.89 2277.31,1033.29 \n",
       "  2290.49,1060.06 \n",
       "  \"/>\n",
       "<path clip-path=\"url(#clip290)\" d=\"\n",
       "M1989.74 251.724 L2280.76 251.724 L2280.76 130.764 L1989.74 130.764  Z\n",
       "  \" fill=\"#ffffff\" fill-rule=\"evenodd\" fill-opacity=\"1\"/>\n",
       "<polyline clip-path=\"url(#clip290)\" style=\"stroke:#000000; stroke-width:4; stroke-opacity:1; fill:none\" points=\"\n",
       "  1989.74,251.724 2280.76,251.724 2280.76,130.764 1989.74,130.764 1989.74,251.724 \n",
       "  \"/>\n",
       "<polyline clip-path=\"url(#clip290)\" style=\"stroke:#009af9; stroke-width:4; stroke-opacity:1; fill:none\" points=\"\n",
       "  2013.74,191.244 2157.74,191.244 \n",
       "  \"/>\n",
       "<path clip-path=\"url(#clip290)\" d=\"M 0 0 M2195.58 210.931 Q2193.77 215.561 2192.06 216.973 Q2190.35 218.385 2187.48 218.385 L2184.08 218.385 L2184.08 214.82 L2186.58 214.82 Q2188.33 214.82 2189.31 213.987 Q2190.28 213.154 2191.46 210.052 L2192.22 208.107 L2181.74 182.598 L2186.25 182.598 L2194.35 202.876 L2202.46 182.598 L2206.97 182.598 L2195.58 210.931 Z\" fill=\"#000000\" fill-rule=\"evenodd\" fill-opacity=\"1\" /><path clip-path=\"url(#clip290)\" d=\"M 0 0 M2212.85 204.589 L2220.49 204.589 L2220.49 178.223 L2212.18 179.89 L2212.18 175.631 L2220.44 173.964 L2225.12 173.964 L2225.12 204.589 L2232.76 204.589 L2232.76 208.524 L2212.85 208.524 L2212.85 204.589 Z\" fill=\"#000000\" fill-rule=\"evenodd\" fill-opacity=\"1\" /></svg>\n"
      ]
     },
     "execution_count": 43,
     "metadata": {},
     "output_type": "execute_result"
    }
   ],
   "source": [
    "plot(f,-2,2)"
   ]
  },
  {
   "cell_type": "code",
   "execution_count": 44,
   "metadata": {},
   "outputs": [
    {
     "data": {
      "image/svg+xml": [
       "<?xml version=\"1.0\" encoding=\"utf-8\"?>\n",
       "<svg xmlns=\"http://www.w3.org/2000/svg\" xmlns:xlink=\"http://www.w3.org/1999/xlink\" width=\"600\" height=\"400\" viewBox=\"0 0 2400 1600\">\n",
       "<defs>\n",
       "  <clipPath id=\"clip330\">\n",
       "    <rect x=\"0\" y=\"0\" width=\"2400\" height=\"1600\"/>\n",
       "  </clipPath>\n",
       "</defs>\n",
       "<path clip-path=\"url(#clip330)\" d=\"\n",
       "M0 1600 L2400 1600 L2400 0 L0 0  Z\n",
       "  \" fill=\"#ffffff\" fill-rule=\"evenodd\" fill-opacity=\"1\"/>\n",
       "<defs>\n",
       "  <clipPath id=\"clip331\">\n",
       "    <rect x=\"480\" y=\"0\" width=\"1681\" height=\"1600\"/>\n",
       "  </clipPath>\n",
       "</defs>\n",
       "<path clip-path=\"url(#clip330)\" d=\"\n",
       "M152.848 1486.45 L2352.76 1486.45 L2352.76 47.2441 L152.848 47.2441  Z\n",
       "  \" fill=\"#ffffff\" fill-rule=\"evenodd\" fill-opacity=\"1\"/>\n",
       "<defs>\n",
       "  <clipPath id=\"clip332\">\n",
       "    <rect x=\"152\" y=\"47\" width=\"2201\" height=\"1440\"/>\n",
       "  </clipPath>\n",
       "</defs>\n",
       "<polyline clip-path=\"url(#clip332)\" style=\"stroke:#000000; stroke-width:2; stroke-opacity:0.1; fill:none\" points=\"\n",
       "  215.11,1486.45 215.11,47.2441 \n",
       "  \"/>\n",
       "<polyline clip-path=\"url(#clip332)\" style=\"stroke:#000000; stroke-width:2; stroke-opacity:0.1; fill:none\" points=\"\n",
       "  733.956,1486.45 733.956,47.2441 \n",
       "  \"/>\n",
       "<polyline clip-path=\"url(#clip332)\" style=\"stroke:#000000; stroke-width:2; stroke-opacity:0.1; fill:none\" points=\"\n",
       "  1252.8,1486.45 1252.8,47.2441 \n",
       "  \"/>\n",
       "<polyline clip-path=\"url(#clip332)\" style=\"stroke:#000000; stroke-width:2; stroke-opacity:0.1; fill:none\" points=\"\n",
       "  1771.65,1486.45 1771.65,47.2441 \n",
       "  \"/>\n",
       "<polyline clip-path=\"url(#clip332)\" style=\"stroke:#000000; stroke-width:2; stroke-opacity:0.1; fill:none\" points=\"\n",
       "  2290.49,1486.45 2290.49,47.2441 \n",
       "  \"/>\n",
       "<polyline clip-path=\"url(#clip332)\" style=\"stroke:#000000; stroke-width:2; stroke-opacity:0.1; fill:none\" points=\"\n",
       "  152.848,1251.75 2352.76,1251.75 \n",
       "  \"/>\n",
       "<polyline clip-path=\"url(#clip332)\" style=\"stroke:#000000; stroke-width:2; stroke-opacity:0.1; fill:none\" points=\"\n",
       "  152.848,928.482 2352.76,928.482 \n",
       "  \"/>\n",
       "<polyline clip-path=\"url(#clip332)\" style=\"stroke:#000000; stroke-width:2; stroke-opacity:0.1; fill:none\" points=\"\n",
       "  152.848,605.21 2352.76,605.21 \n",
       "  \"/>\n",
       "<polyline clip-path=\"url(#clip332)\" style=\"stroke:#000000; stroke-width:2; stroke-opacity:0.1; fill:none\" points=\"\n",
       "  152.848,281.939 2352.76,281.939 \n",
       "  \"/>\n",
       "<polyline clip-path=\"url(#clip330)\" style=\"stroke:#000000; stroke-width:4; stroke-opacity:1; fill:none\" points=\"\n",
       "  152.848,1486.45 2352.76,1486.45 \n",
       "  \"/>\n",
       "<polyline clip-path=\"url(#clip330)\" style=\"stroke:#000000; stroke-width:4; stroke-opacity:1; fill:none\" points=\"\n",
       "  152.848,1486.45 152.848,47.2441 \n",
       "  \"/>\n",
       "<polyline clip-path=\"url(#clip330)\" style=\"stroke:#000000; stroke-width:4; stroke-opacity:1; fill:none\" points=\"\n",
       "  215.11,1486.45 215.11,1469.18 \n",
       "  \"/>\n",
       "<polyline clip-path=\"url(#clip330)\" style=\"stroke:#000000; stroke-width:4; stroke-opacity:1; fill:none\" points=\"\n",
       "  733.956,1486.45 733.956,1469.18 \n",
       "  \"/>\n",
       "<polyline clip-path=\"url(#clip330)\" style=\"stroke:#000000; stroke-width:4; stroke-opacity:1; fill:none\" points=\"\n",
       "  1252.8,1486.45 1252.8,1469.18 \n",
       "  \"/>\n",
       "<polyline clip-path=\"url(#clip330)\" style=\"stroke:#000000; stroke-width:4; stroke-opacity:1; fill:none\" points=\"\n",
       "  1771.65,1486.45 1771.65,1469.18 \n",
       "  \"/>\n",
       "<polyline clip-path=\"url(#clip330)\" style=\"stroke:#000000; stroke-width:4; stroke-opacity:1; fill:none\" points=\"\n",
       "  2290.49,1486.45 2290.49,1469.18 \n",
       "  \"/>\n",
       "<polyline clip-path=\"url(#clip330)\" style=\"stroke:#000000; stroke-width:4; stroke-opacity:1; fill:none\" points=\"\n",
       "  152.848,1251.75 179.247,1251.75 \n",
       "  \"/>\n",
       "<polyline clip-path=\"url(#clip330)\" style=\"stroke:#000000; stroke-width:4; stroke-opacity:1; fill:none\" points=\"\n",
       "  152.848,928.482 179.247,928.482 \n",
       "  \"/>\n",
       "<polyline clip-path=\"url(#clip330)\" style=\"stroke:#000000; stroke-width:4; stroke-opacity:1; fill:none\" points=\"\n",
       "  152.848,605.21 179.247,605.21 \n",
       "  \"/>\n",
       "<polyline clip-path=\"url(#clip330)\" style=\"stroke:#000000; stroke-width:4; stroke-opacity:1; fill:none\" points=\"\n",
       "  152.848,281.939 179.247,281.939 \n",
       "  \"/>\n",
       "<path clip-path=\"url(#clip330)\" d=\"M 0 0 M196.163 1525.04 L208.64 1525.04 L208.64 1528.83 L196.163 1528.83 L196.163 1525.04 Z\" fill=\"#000000\" fill-rule=\"evenodd\" fill-opacity=\"1\" /><path clip-path=\"url(#clip330)\" d=\"M 0 0 M217.737 1535.98 L234.056 1535.98 L234.056 1539.92 L212.112 1539.92 L212.112 1535.98 Q214.774 1533.23 219.357 1528.6 Q223.964 1523.95 225.144 1522.61 Q227.39 1520.08 228.269 1518.35 Q229.172 1516.59 229.172 1514.9 Q229.172 1512.14 227.228 1510.41 Q225.306 1508.67 222.205 1508.67 Q220.006 1508.67 217.552 1509.43 Q215.121 1510.2 212.344 1511.75 L212.344 1507.03 Q215.168 1505.89 217.621 1505.31 Q220.075 1504.73 222.112 1504.73 Q227.482 1504.73 230.677 1507.42 Q233.871 1510.11 233.871 1514.6 Q233.871 1516.73 233.061 1518.65 Q232.274 1520.54 230.168 1523.14 Q229.589 1523.81 226.487 1527.03 Q223.385 1530.22 217.737 1535.98 Z\" fill=\"#000000\" fill-rule=\"evenodd\" fill-opacity=\"1\" /><path clip-path=\"url(#clip330)\" d=\"M 0 0 M714.824 1525.04 L727.301 1525.04 L727.301 1528.83 L714.824 1528.83 L714.824 1525.04 Z\" fill=\"#000000\" fill-rule=\"evenodd\" fill-opacity=\"1\" /><path clip-path=\"url(#clip330)\" d=\"M 0 0 M733.18 1535.98 L740.819 1535.98 L740.819 1509.62 L732.509 1511.29 L732.509 1507.03 L740.773 1505.36 L745.449 1505.36 L745.449 1535.98 L753.088 1535.98 L753.088 1539.92 L733.18 1539.92 L733.18 1535.98 Z\" fill=\"#000000\" fill-rule=\"evenodd\" fill-opacity=\"1\" /><path clip-path=\"url(#clip330)\" d=\"M 0 0 M1252.8 1508.44 Q1249.19 1508.44 1247.36 1512 Q1245.56 1515.55 1245.56 1522.67 Q1245.56 1529.78 1247.36 1533.35 Q1249.19 1536.89 1252.8 1536.89 Q1256.44 1536.89 1258.24 1533.35 Q1260.07 1529.78 1260.07 1522.67 Q1260.07 1515.55 1258.24 1512 Q1256.44 1508.44 1252.8 1508.44 M1252.8 1504.73 Q1258.61 1504.73 1261.67 1509.34 Q1264.75 1513.92 1264.75 1522.67 Q1264.75 1531.4 1261.67 1536.01 Q1258.61 1540.59 1252.8 1540.59 Q1246.99 1540.59 1243.91 1536.01 Q1240.86 1531.4 1240.86 1522.67 Q1240.86 1513.92 1243.91 1509.34 Q1246.99 1504.73 1252.8 1504.73 Z\" fill=\"#000000\" fill-rule=\"evenodd\" fill-opacity=\"1\" /><path clip-path=\"url(#clip330)\" d=\"M 0 0 M1762.03 1535.98 L1769.67 1535.98 L1769.67 1509.62 L1761.36 1511.29 L1761.36 1507.03 L1769.62 1505.36 L1774.3 1505.36 L1774.3 1535.98 L1781.94 1535.98 L1781.94 1539.92 L1762.03 1539.92 L1762.03 1535.98 Z\" fill=\"#000000\" fill-rule=\"evenodd\" fill-opacity=\"1\" /><path clip-path=\"url(#clip330)\" d=\"M 0 0 M2285.15 1535.98 L2301.47 1535.98 L2301.47 1539.92 L2279.52 1539.92 L2279.52 1535.98 Q2282.18 1533.23 2286.77 1528.6 Q2291.37 1523.95 2292.55 1522.61 Q2294.8 1520.08 2295.68 1518.35 Q2296.58 1516.59 2296.58 1514.9 Q2296.58 1512.14 2294.64 1510.41 Q2292.72 1508.67 2289.61 1508.67 Q2287.42 1508.67 2284.96 1509.43 Q2282.53 1510.2 2279.75 1511.75 L2279.75 1507.03 Q2282.58 1505.89 2285.03 1505.31 Q2287.49 1504.73 2289.52 1504.73 Q2294.89 1504.73 2298.09 1507.42 Q2301.28 1510.11 2301.28 1514.6 Q2301.28 1516.73 2300.47 1518.65 Q2299.68 1520.54 2297.58 1523.14 Q2297 1523.81 2293.9 1527.03 Q2290.8 1530.22 2285.15 1535.98 Z\" fill=\"#000000\" fill-rule=\"evenodd\" fill-opacity=\"1\" /><path clip-path=\"url(#clip330)\" d=\"M 0 0 M62.9921 1254.15 L75.4689 1254.15 L75.4689 1257.95 L62.9921 1257.95 L62.9921 1254.15 Z\" fill=\"#000000\" fill-rule=\"evenodd\" fill-opacity=\"1\" /><path clip-path=\"url(#clip330)\" d=\"M 0 0 M94.7049 1250.4 Q98.0614 1251.12 99.9364 1253.38 Q101.835 1255.65 101.835 1258.99 Q101.835 1264.1 98.316 1266.9 Q94.7975 1269.7 88.3161 1269.7 Q86.1402 1269.7 83.8253 1269.26 Q81.5337 1268.85 79.08 1267.99 L79.08 1263.48 Q81.0244 1264.61 83.3392 1265.19 Q85.654 1265.77 88.1772 1265.77 Q92.5753 1265.77 94.867 1264.03 Q97.1818 1262.3 97.1818 1258.99 Q97.1818 1255.93 95.029 1254.22 Q92.8994 1252.48 89.0799 1252.48 L85.0522 1252.48 L85.0522 1248.64 L89.2651 1248.64 Q92.7142 1248.64 94.5429 1247.27 Q96.3716 1245.88 96.3716 1243.29 Q96.3716 1240.63 94.4734 1239.22 Q92.5984 1237.78 89.0799 1237.78 Q87.1587 1237.78 84.9596 1238.2 Q82.7605 1238.62 80.1217 1239.5 L80.1217 1235.33 Q82.7837 1234.59 85.0985 1234.22 Q87.4364 1233.85 89.4966 1233.85 Q94.8207 1233.85 97.9225 1236.28 Q101.024 1238.69 101.024 1242.81 Q101.024 1245.68 99.3808 1247.67 Q97.7373 1249.63 94.7049 1250.4 Z\" fill=\"#000000\" fill-rule=\"evenodd\" fill-opacity=\"1\" /><path clip-path=\"url(#clip330)\" d=\"M 0 0 M116.904 1237.55 Q113.293 1237.55 111.464 1241.12 Q109.659 1244.66 109.659 1251.79 Q109.659 1258.89 111.464 1262.46 Q113.293 1266 116.904 1266 Q120.538 1266 122.344 1262.46 Q124.172 1258.89 124.172 1251.79 Q124.172 1244.66 122.344 1241.12 Q120.538 1237.55 116.904 1237.55 M116.904 1233.85 Q122.714 1233.85 125.77 1238.45 Q128.848 1243.04 128.848 1251.79 Q128.848 1260.51 125.77 1265.12 Q122.714 1269.7 116.904 1269.7 Q111.094 1269.7 108.015 1265.12 Q104.959 1260.51 104.959 1251.79 Q104.959 1243.04 108.015 1238.45 Q111.094 1233.85 116.904 1233.85 Z\" fill=\"#000000\" fill-rule=\"evenodd\" fill-opacity=\"1\" /><path clip-path=\"url(#clip330)\" d=\"M 0 0 M63.9412 930.877 L76.418 930.877 L76.418 934.674 L63.9412 934.674 L63.9412 930.877 Z\" fill=\"#000000\" fill-rule=\"evenodd\" fill-opacity=\"1\" /><path clip-path=\"url(#clip330)\" d=\"M 0 0 M85.5152 941.826 L101.835 941.826 L101.835 945.762 L79.8902 945.762 L79.8902 941.826 Q82.5522 939.072 87.1355 934.442 Q91.742 929.789 92.9225 928.447 Q95.1679 925.924 96.0475 924.188 Q96.9503 922.428 96.9503 920.739 Q96.9503 917.984 95.0058 916.248 Q93.0846 914.512 89.9827 914.512 Q87.7837 914.512 85.33 915.276 Q82.8994 916.04 80.1217 917.59 L80.1217 912.868 Q82.9457 911.734 85.3994 911.155 Q87.8531 910.577 89.8901 910.577 Q95.2605 910.577 98.4549 913.262 Q101.649 915.947 101.649 920.438 Q101.649 922.567 100.839 924.489 Q100.052 926.387 97.9456 928.979 Q97.3669 929.651 94.2651 932.868 Q91.1633 936.063 85.5152 941.826 Z\" fill=\"#000000\" fill-rule=\"evenodd\" fill-opacity=\"1\" /><path clip-path=\"url(#clip330)\" d=\"M 0 0 M116.904 914.28 Q113.293 914.28 111.464 917.845 Q109.659 921.387 109.659 928.516 Q109.659 935.623 111.464 939.188 Q113.293 942.729 116.904 942.729 Q120.538 942.729 122.344 939.188 Q124.172 935.623 124.172 928.516 Q124.172 921.387 122.344 917.845 Q120.538 914.28 116.904 914.28 M116.904 910.577 Q122.714 910.577 125.77 915.183 Q128.848 919.766 128.848 928.516 Q128.848 937.243 125.77 941.85 Q122.714 946.433 116.904 946.433 Q111.094 946.433 108.015 941.85 Q104.959 937.243 104.959 928.516 Q104.959 919.766 108.015 915.183 Q111.094 910.577 116.904 910.577 Z\" fill=\"#000000\" fill-rule=\"evenodd\" fill-opacity=\"1\" /><path clip-path=\"url(#clip330)\" d=\"M 0 0 M63.5708 607.606 L76.0476 607.606 L76.0476 611.402 L63.5708 611.402 L63.5708 607.606 Z\" fill=\"#000000\" fill-rule=\"evenodd\" fill-opacity=\"1\" /><path clip-path=\"url(#clip330)\" d=\"M 0 0 M81.9272 618.555 L89.5661 618.555 L89.5661 592.19 L81.2559 593.856 L81.2559 589.597 L89.5198 587.93 L94.1957 587.93 L94.1957 618.555 L101.835 618.555 L101.835 622.49 L81.9272 622.49 L81.9272 618.555 Z\" fill=\"#000000\" fill-rule=\"evenodd\" fill-opacity=\"1\" /><path clip-path=\"url(#clip330)\" d=\"M 0 0 M116.904 591.009 Q113.293 591.009 111.464 594.574 Q109.659 598.115 109.659 605.245 Q109.659 612.352 111.464 615.916 Q113.293 619.458 116.904 619.458 Q120.538 619.458 122.344 615.916 Q124.172 612.352 124.172 605.245 Q124.172 598.115 122.344 594.574 Q120.538 591.009 116.904 591.009 M116.904 587.305 Q122.714 587.305 125.77 591.912 Q128.848 596.495 128.848 605.245 Q128.848 613.972 125.77 618.578 Q122.714 623.162 116.904 623.162 Q111.094 623.162 108.015 618.578 Q104.959 613.972 104.959 605.245 Q104.959 596.495 108.015 591.912 Q111.094 587.305 116.904 587.305 Z\" fill=\"#000000\" fill-rule=\"evenodd\" fill-opacity=\"1\" /><path clip-path=\"url(#clip330)\" d=\"M 0 0 M116.904 267.738 Q113.293 267.738 111.464 271.303 Q109.659 274.844 109.659 281.974 Q109.659 289.08 111.464 292.645 Q113.293 296.187 116.904 296.187 Q120.538 296.187 122.344 292.645 Q124.172 289.08 124.172 281.974 Q124.172 274.844 122.344 271.303 Q120.538 267.738 116.904 267.738 M116.904 264.034 Q122.714 264.034 125.77 268.641 Q128.848 273.224 128.848 281.974 Q128.848 290.701 125.77 295.307 Q122.714 299.89 116.904 299.89 Q111.094 299.89 108.015 295.307 Q104.959 290.701 104.959 281.974 Q104.959 273.224 108.015 268.641 Q111.094 264.034 116.904 264.034 Z\" fill=\"#000000\" fill-rule=\"evenodd\" fill-opacity=\"1\" /><polyline clip-path=\"url(#clip332)\" style=\"stroke:#009af9; stroke-width:4; stroke-opacity:1; fill:none\" points=\"\n",
       "  215.11,1445.72 733.956,475.902 1252.8,87.9763 1771.65,281.939 2290.49,1057.79 \n",
       "  \"/>\n",
       "<path clip-path=\"url(#clip330)\" d=\"\n",
       "M1989.74 251.724 L2280.76 251.724 L2280.76 130.764 L1989.74 130.764  Z\n",
       "  \" fill=\"#ffffff\" fill-rule=\"evenodd\" fill-opacity=\"1\"/>\n",
       "<polyline clip-path=\"url(#clip330)\" style=\"stroke:#000000; stroke-width:4; stroke-opacity:1; fill:none\" points=\"\n",
       "  1989.74,251.724 2280.76,251.724 2280.76,130.764 1989.74,130.764 1989.74,251.724 \n",
       "  \"/>\n",
       "<polyline clip-path=\"url(#clip330)\" style=\"stroke:#009af9; stroke-width:4; stroke-opacity:1; fill:none\" points=\"\n",
       "  2013.74,191.244 2157.74,191.244 \n",
       "  \"/>\n",
       "<path clip-path=\"url(#clip330)\" d=\"M 0 0 M2195.58 210.931 Q2193.77 215.561 2192.06 216.973 Q2190.35 218.385 2187.48 218.385 L2184.08 218.385 L2184.08 214.82 L2186.58 214.82 Q2188.33 214.82 2189.31 213.987 Q2190.28 213.154 2191.46 210.052 L2192.22 208.107 L2181.74 182.598 L2186.25 182.598 L2194.35 202.876 L2202.46 182.598 L2206.97 182.598 L2195.58 210.931 Z\" fill=\"#000000\" fill-rule=\"evenodd\" fill-opacity=\"1\" /><path clip-path=\"url(#clip330)\" d=\"M 0 0 M2212.85 204.589 L2220.49 204.589 L2220.49 178.223 L2212.18 179.89 L2212.18 175.631 L2220.44 173.964 L2225.12 173.964 L2225.12 204.589 L2232.76 204.589 L2232.76 208.524 L2212.85 208.524 L2212.85 204.589 Z\" fill=\"#000000\" fill-rule=\"evenodd\" fill-opacity=\"1\" /></svg>\n"
      ]
     },
     "execution_count": 44,
     "metadata": {},
     "output_type": "execute_result"
    }
   ],
   "source": [
    "plot(f,-2:2)"
   ]
  },
  {
   "cell_type": "code",
   "execution_count": 45,
   "metadata": {},
   "outputs": [
    {
     "data": {
      "image/svg+xml": [
       "<?xml version=\"1.0\" encoding=\"utf-8\"?>\n",
       "<svg xmlns=\"http://www.w3.org/2000/svg\" xmlns:xlink=\"http://www.w3.org/1999/xlink\" width=\"600\" height=\"400\" viewBox=\"0 0 2400 1600\">\n",
       "<defs>\n",
       "  <clipPath id=\"clip370\">\n",
       "    <rect x=\"0\" y=\"0\" width=\"2400\" height=\"1600\"/>\n",
       "  </clipPath>\n",
       "</defs>\n",
       "<path clip-path=\"url(#clip370)\" d=\"\n",
       "M0 1600 L2400 1600 L2400 0 L0 0  Z\n",
       "  \" fill=\"#ffffff\" fill-rule=\"evenodd\" fill-opacity=\"1\"/>\n",
       "<defs>\n",
       "  <clipPath id=\"clip371\">\n",
       "    <rect x=\"480\" y=\"0\" width=\"1681\" height=\"1600\"/>\n",
       "  </clipPath>\n",
       "</defs>\n",
       "<path clip-path=\"url(#clip370)\" d=\"\n",
       "M148.334 1486.45 L2352.76 1486.45 L2352.76 47.2441 L148.334 47.2441  Z\n",
       "  \" fill=\"#ffffff\" fill-rule=\"evenodd\" fill-opacity=\"1\"/>\n",
       "<defs>\n",
       "  <clipPath id=\"clip372\">\n",
       "    <rect x=\"148\" y=\"47\" width=\"2205\" height=\"1440\"/>\n",
       "  </clipPath>\n",
       "</defs>\n",
       "<polyline clip-path=\"url(#clip372)\" style=\"stroke:#000000; stroke-width:2; stroke-opacity:0.1; fill:none\" points=\"\n",
       "  148.334,1486.45 148.334,47.2441 \n",
       "  \"/>\n",
       "<polyline clip-path=\"url(#clip372)\" style=\"stroke:#000000; stroke-width:2; stroke-opacity:0.1; fill:none\" points=\"\n",
       "  589.219,1486.45 589.219,47.2441 \n",
       "  \"/>\n",
       "<polyline clip-path=\"url(#clip372)\" style=\"stroke:#000000; stroke-width:2; stroke-opacity:0.1; fill:none\" points=\"\n",
       "  1030.1,1486.45 1030.1,47.2441 \n",
       "  \"/>\n",
       "<polyline clip-path=\"url(#clip372)\" style=\"stroke:#000000; stroke-width:2; stroke-opacity:0.1; fill:none\" points=\"\n",
       "  1470.99,1486.45 1470.99,47.2441 \n",
       "  \"/>\n",
       "<polyline clip-path=\"url(#clip372)\" style=\"stroke:#000000; stroke-width:2; stroke-opacity:0.1; fill:none\" points=\"\n",
       "  1911.87,1486.45 1911.87,47.2441 \n",
       "  \"/>\n",
       "<polyline clip-path=\"url(#clip372)\" style=\"stroke:#000000; stroke-width:2; stroke-opacity:0.1; fill:none\" points=\"\n",
       "  2352.76,1486.45 2352.76,47.2441 \n",
       "  \"/>\n",
       "<polyline clip-path=\"url(#clip372)\" style=\"stroke:#000000; stroke-width:2; stroke-opacity:0.1; fill:none\" points=\"\n",
       "  148.334,1486.45 2352.76,1486.45 \n",
       "  \"/>\n",
       "<polyline clip-path=\"url(#clip372)\" style=\"stroke:#000000; stroke-width:2; stroke-opacity:0.1; fill:none\" points=\"\n",
       "  148.334,1198.61 2352.76,1198.61 \n",
       "  \"/>\n",
       "<polyline clip-path=\"url(#clip372)\" style=\"stroke:#000000; stroke-width:2; stroke-opacity:0.1; fill:none\" points=\"\n",
       "  148.334,910.766 2352.76,910.766 \n",
       "  \"/>\n",
       "<polyline clip-path=\"url(#clip372)\" style=\"stroke:#000000; stroke-width:2; stroke-opacity:0.1; fill:none\" points=\"\n",
       "  148.334,622.926 2352.76,622.926 \n",
       "  \"/>\n",
       "<polyline clip-path=\"url(#clip372)\" style=\"stroke:#000000; stroke-width:2; stroke-opacity:0.1; fill:none\" points=\"\n",
       "  148.334,335.085 2352.76,335.085 \n",
       "  \"/>\n",
       "<polyline clip-path=\"url(#clip372)\" style=\"stroke:#000000; stroke-width:2; stroke-opacity:0.1; fill:none\" points=\"\n",
       "  148.334,47.2441 2352.76,47.2441 \n",
       "  \"/>\n",
       "<polyline clip-path=\"url(#clip370)\" style=\"stroke:#000000; stroke-width:4; stroke-opacity:1; fill:none\" points=\"\n",
       "  148.334,1486.45 2352.76,1486.45 \n",
       "  \"/>\n",
       "<polyline clip-path=\"url(#clip370)\" style=\"stroke:#000000; stroke-width:4; stroke-opacity:1; fill:none\" points=\"\n",
       "  148.334,1486.45 148.334,47.2441 \n",
       "  \"/>\n",
       "<polyline clip-path=\"url(#clip370)\" style=\"stroke:#000000; stroke-width:4; stroke-opacity:1; fill:none\" points=\"\n",
       "  148.334,1486.45 148.334,1469.18 \n",
       "  \"/>\n",
       "<polyline clip-path=\"url(#clip370)\" style=\"stroke:#000000; stroke-width:4; stroke-opacity:1; fill:none\" points=\"\n",
       "  589.219,1486.45 589.219,1469.18 \n",
       "  \"/>\n",
       "<polyline clip-path=\"url(#clip370)\" style=\"stroke:#000000; stroke-width:4; stroke-opacity:1; fill:none\" points=\"\n",
       "  1030.1,1486.45 1030.1,1469.18 \n",
       "  \"/>\n",
       "<polyline clip-path=\"url(#clip370)\" style=\"stroke:#000000; stroke-width:4; stroke-opacity:1; fill:none\" points=\"\n",
       "  1470.99,1486.45 1470.99,1469.18 \n",
       "  \"/>\n",
       "<polyline clip-path=\"url(#clip370)\" style=\"stroke:#000000; stroke-width:4; stroke-opacity:1; fill:none\" points=\"\n",
       "  1911.87,1486.45 1911.87,1469.18 \n",
       "  \"/>\n",
       "<polyline clip-path=\"url(#clip370)\" style=\"stroke:#000000; stroke-width:4; stroke-opacity:1; fill:none\" points=\"\n",
       "  2352.76,1486.45 2352.76,1469.18 \n",
       "  \"/>\n",
       "<polyline clip-path=\"url(#clip370)\" style=\"stroke:#000000; stroke-width:4; stroke-opacity:1; fill:none\" points=\"\n",
       "  148.334,1486.45 174.787,1486.45 \n",
       "  \"/>\n",
       "<polyline clip-path=\"url(#clip370)\" style=\"stroke:#000000; stroke-width:4; stroke-opacity:1; fill:none\" points=\"\n",
       "  148.334,1198.61 174.787,1198.61 \n",
       "  \"/>\n",
       "<polyline clip-path=\"url(#clip370)\" style=\"stroke:#000000; stroke-width:4; stroke-opacity:1; fill:none\" points=\"\n",
       "  148.334,910.766 174.787,910.766 \n",
       "  \"/>\n",
       "<polyline clip-path=\"url(#clip370)\" style=\"stroke:#000000; stroke-width:4; stroke-opacity:1; fill:none\" points=\"\n",
       "  148.334,622.926 174.787,622.926 \n",
       "  \"/>\n",
       "<polyline clip-path=\"url(#clip370)\" style=\"stroke:#000000; stroke-width:4; stroke-opacity:1; fill:none\" points=\"\n",
       "  148.334,335.085 174.787,335.085 \n",
       "  \"/>\n",
       "<polyline clip-path=\"url(#clip370)\" style=\"stroke:#000000; stroke-width:4; stroke-opacity:1; fill:none\" points=\"\n",
       "  148.334,47.2441 174.787,47.2441 \n",
       "  \"/>\n",
       "<path clip-path=\"url(#clip370)\" d=\"M 0 0 M129.851 1508.44 Q126.24 1508.44 124.411 1512 Q122.605 1515.55 122.605 1522.67 Q122.605 1529.78 124.411 1533.35 Q126.24 1536.89 129.851 1536.89 Q133.485 1536.89 135.29 1533.35 Q137.119 1529.78 137.119 1522.67 Q137.119 1515.55 135.29 1512 Q133.485 1508.44 129.851 1508.44 M129.851 1504.73 Q135.661 1504.73 138.716 1509.34 Q141.795 1513.92 141.795 1522.67 Q141.795 1531.4 138.716 1536.01 Q135.661 1540.59 129.851 1540.59 Q124.041 1540.59 120.962 1536.01 Q117.906 1531.4 117.906 1522.67 Q117.906 1513.92 120.962 1509.34 Q124.041 1504.73 129.851 1504.73 Z\" fill=\"#000000\" fill-rule=\"evenodd\" fill-opacity=\"1\" /><path clip-path=\"url(#clip370)\" d=\"M 0 0 M146.864 1534.04 L151.749 1534.04 L151.749 1539.92 L146.864 1539.92 L146.864 1534.04 Z\" fill=\"#000000\" fill-rule=\"evenodd\" fill-opacity=\"1\" /><path clip-path=\"url(#clip370)\" d=\"M 0 0 M166.818 1508.44 Q163.207 1508.44 161.378 1512 Q159.573 1515.55 159.573 1522.67 Q159.573 1529.78 161.378 1533.35 Q163.207 1536.89 166.818 1536.89 Q170.452 1536.89 172.258 1533.35 Q174.087 1529.78 174.087 1522.67 Q174.087 1515.55 172.258 1512 Q170.452 1508.44 166.818 1508.44 M166.818 1504.73 Q172.628 1504.73 175.684 1509.34 Q178.762 1513.92 178.762 1522.67 Q178.762 1531.4 175.684 1536.01 Q172.628 1540.59 166.818 1540.59 Q161.008 1540.59 157.929 1536.01 Q154.874 1531.4 154.874 1522.67 Q154.874 1513.92 157.929 1509.34 Q161.008 1504.73 166.818 1504.73 Z\" fill=\"#000000\" fill-rule=\"evenodd\" fill-opacity=\"1\" /><path clip-path=\"url(#clip370)\" d=\"M 0 0 M571.534 1508.44 Q567.923 1508.44 566.094 1512 Q564.288 1515.55 564.288 1522.67 Q564.288 1529.78 566.094 1533.35 Q567.923 1536.89 571.534 1536.89 Q575.168 1536.89 576.973 1533.35 Q578.802 1529.78 578.802 1522.67 Q578.802 1515.55 576.973 1512 Q575.168 1508.44 571.534 1508.44 M571.534 1504.73 Q577.344 1504.73 580.399 1509.34 Q583.478 1513.92 583.478 1522.67 Q583.478 1531.4 580.399 1536.01 Q577.344 1540.59 571.534 1540.59 Q565.723 1540.59 562.645 1536.01 Q559.589 1531.4 559.589 1522.67 Q559.589 1513.92 562.645 1509.34 Q565.723 1504.73 571.534 1504.73 Z\" fill=\"#000000\" fill-rule=\"evenodd\" fill-opacity=\"1\" /><path clip-path=\"url(#clip370)\" d=\"M 0 0 M588.547 1534.04 L593.432 1534.04 L593.432 1539.92 L588.547 1539.92 L588.547 1534.04 Z\" fill=\"#000000\" fill-rule=\"evenodd\" fill-opacity=\"1\" /><path clip-path=\"url(#clip370)\" d=\"M 0 0 M602.529 1535.98 L618.848 1535.98 L618.848 1539.92 L596.904 1539.92 L596.904 1535.98 Q599.566 1533.23 604.149 1528.6 Q608.756 1523.95 609.936 1522.61 Q612.182 1520.08 613.061 1518.35 Q613.964 1516.59 613.964 1514.9 Q613.964 1512.14 612.019 1510.41 Q610.098 1508.67 606.996 1508.67 Q604.797 1508.67 602.344 1509.43 Q599.913 1510.2 597.135 1511.75 L597.135 1507.03 Q599.959 1505.89 602.413 1505.31 Q604.867 1504.73 606.904 1504.73 Q612.274 1504.73 615.469 1507.42 Q618.663 1510.11 618.663 1514.6 Q618.663 1516.73 617.853 1518.65 Q617.066 1520.54 614.959 1523.14 Q614.381 1523.81 611.279 1527.03 Q608.177 1530.22 602.529 1535.98 Z\" fill=\"#000000\" fill-rule=\"evenodd\" fill-opacity=\"1\" /><path clip-path=\"url(#clip370)\" d=\"M 0 0 M1011.38 1508.44 Q1007.77 1508.44 1005.94 1512 Q1004.13 1515.55 1004.13 1522.67 Q1004.13 1529.78 1005.94 1533.35 Q1007.77 1536.89 1011.38 1536.89 Q1015.01 1536.89 1016.82 1533.35 Q1018.64 1529.78 1018.64 1522.67 Q1018.64 1515.55 1016.82 1512 Q1015.01 1508.44 1011.38 1508.44 M1011.38 1504.73 Q1017.19 1504.73 1020.24 1509.34 Q1023.32 1513.92 1023.32 1522.67 Q1023.32 1531.4 1020.24 1536.01 Q1017.19 1540.59 1011.38 1540.59 Q1005.57 1540.59 1002.49 1536.01 Q999.432 1531.4 999.432 1522.67 Q999.432 1513.92 1002.49 1509.34 Q1005.57 1504.73 1011.38 1504.73 Z\" fill=\"#000000\" fill-rule=\"evenodd\" fill-opacity=\"1\" /><path clip-path=\"url(#clip370)\" d=\"M 0 0 M1028.39 1534.04 L1033.27 1534.04 L1033.27 1539.92 L1028.39 1539.92 L1028.39 1534.04 Z\" fill=\"#000000\" fill-rule=\"evenodd\" fill-opacity=\"1\" /><path clip-path=\"url(#clip370)\" d=\"M 0 0 M1051.19 1509.43 L1039.39 1527.88 L1051.19 1527.88 L1051.19 1509.43 M1049.96 1505.36 L1055.84 1505.36 L1055.84 1527.88 L1060.77 1527.88 L1060.77 1531.77 L1055.84 1531.77 L1055.84 1539.92 L1051.19 1539.92 L1051.19 1531.77 L1035.59 1531.77 L1035.59 1527.26 L1049.96 1505.36 Z\" fill=\"#000000\" fill-rule=\"evenodd\" fill-opacity=\"1\" /><path clip-path=\"url(#clip370)\" d=\"M 0 0 M1452.42 1508.44 Q1448.81 1508.44 1446.98 1512 Q1445.18 1515.55 1445.18 1522.67 Q1445.18 1529.78 1446.98 1533.35 Q1448.81 1536.89 1452.42 1536.89 Q1456.06 1536.89 1457.86 1533.35 Q1459.69 1529.78 1459.69 1522.67 Q1459.69 1515.55 1457.86 1512 Q1456.06 1508.44 1452.42 1508.44 M1452.42 1504.73 Q1458.23 1504.73 1461.29 1509.34 Q1464.37 1513.92 1464.37 1522.67 Q1464.37 1531.4 1461.29 1536.01 Q1458.23 1540.59 1452.42 1540.59 Q1446.61 1540.59 1443.53 1536.01 Q1440.48 1531.4 1440.48 1522.67 Q1440.48 1513.92 1443.53 1509.34 Q1446.61 1504.73 1452.42 1504.73 Z\" fill=\"#000000\" fill-rule=\"evenodd\" fill-opacity=\"1\" /><path clip-path=\"url(#clip370)\" d=\"M 0 0 M1469.44 1534.04 L1474.32 1534.04 L1474.32 1539.92 L1469.44 1539.92 L1469.44 1534.04 Z\" fill=\"#000000\" fill-rule=\"evenodd\" fill-opacity=\"1\" /><path clip-path=\"url(#clip370)\" d=\"M 0 0 M1489.97 1520.78 Q1486.82 1520.78 1484.97 1522.93 Q1483.14 1525.08 1483.14 1528.83 Q1483.14 1532.56 1484.97 1534.73 Q1486.82 1536.89 1489.97 1536.89 Q1493.12 1536.89 1494.95 1534.73 Q1496.8 1532.56 1496.8 1528.83 Q1496.8 1525.08 1494.95 1522.93 Q1493.12 1520.78 1489.97 1520.78 M1499.25 1506.12 L1499.25 1510.38 Q1497.49 1509.55 1495.69 1509.11 Q1493.9 1508.67 1492.14 1508.67 Q1487.51 1508.67 1485.06 1511.8 Q1482.63 1514.92 1482.28 1521.24 Q1483.65 1519.23 1485.71 1518.16 Q1487.77 1517.07 1490.25 1517.07 Q1495.45 1517.07 1498.46 1520.24 Q1501.5 1523.39 1501.5 1528.83 Q1501.5 1534.16 1498.35 1537.37 Q1495.2 1540.59 1489.97 1540.59 Q1483.97 1540.59 1480.8 1536.01 Q1477.63 1531.4 1477.63 1522.67 Q1477.63 1514.48 1481.52 1509.62 Q1485.41 1504.73 1491.96 1504.73 Q1493.72 1504.73 1495.5 1505.08 Q1497.31 1505.43 1499.25 1506.12 Z\" fill=\"#000000\" fill-rule=\"evenodd\" fill-opacity=\"1\" /><path clip-path=\"url(#clip370)\" d=\"M 0 0 M1893.43 1508.44 Q1889.82 1508.44 1887.99 1512 Q1886.19 1515.55 1886.19 1522.67 Q1886.19 1529.78 1887.99 1533.35 Q1889.82 1536.89 1893.43 1536.89 Q1897.07 1536.89 1898.87 1533.35 Q1900.7 1529.78 1900.7 1522.67 Q1900.7 1515.55 1898.87 1512 Q1897.07 1508.44 1893.43 1508.44 M1893.43 1504.73 Q1899.24 1504.73 1902.3 1509.34 Q1905.38 1513.92 1905.38 1522.67 Q1905.38 1531.4 1902.3 1536.01 Q1899.24 1540.59 1893.43 1540.59 Q1887.62 1540.59 1884.55 1536.01 Q1881.49 1531.4 1881.49 1522.67 Q1881.49 1513.92 1884.55 1509.34 Q1887.62 1504.73 1893.43 1504.73 Z\" fill=\"#000000\" fill-rule=\"evenodd\" fill-opacity=\"1\" /><path clip-path=\"url(#clip370)\" d=\"M 0 0 M1910.45 1534.04 L1915.33 1534.04 L1915.33 1539.92 L1910.45 1539.92 L1910.45 1534.04 Z\" fill=\"#000000\" fill-rule=\"evenodd\" fill-opacity=\"1\" /><path clip-path=\"url(#clip370)\" d=\"M 0 0 M1930.4 1523.51 Q1927.07 1523.51 1925.15 1525.29 Q1923.25 1527.07 1923.25 1530.2 Q1923.25 1533.32 1925.15 1535.11 Q1927.07 1536.89 1930.4 1536.89 Q1933.73 1536.89 1935.66 1535.11 Q1937.58 1533.3 1937.58 1530.2 Q1937.58 1527.07 1935.66 1525.29 Q1933.76 1523.51 1930.4 1523.51 M1925.73 1521.52 Q1922.72 1520.78 1921.03 1518.72 Q1919.36 1516.66 1919.36 1513.69 Q1919.36 1509.55 1922.3 1507.14 Q1925.26 1504.73 1930.4 1504.73 Q1935.56 1504.73 1938.5 1507.14 Q1941.44 1509.55 1941.44 1513.69 Q1941.44 1516.66 1939.75 1518.72 Q1938.09 1520.78 1935.1 1521.52 Q1938.48 1522.3 1940.36 1524.6 Q1942.25 1526.89 1942.25 1530.2 Q1942.25 1535.22 1939.17 1537.91 Q1936.12 1540.59 1930.4 1540.59 Q1924.68 1540.59 1921.61 1537.91 Q1918.55 1535.22 1918.55 1530.2 Q1918.55 1526.89 1920.45 1524.6 Q1922.35 1522.3 1925.73 1521.52 M1924.01 1514.13 Q1924.01 1516.82 1925.68 1518.32 Q1927.37 1519.83 1930.4 1519.83 Q1933.41 1519.83 1935.1 1518.32 Q1936.81 1516.82 1936.81 1514.13 Q1936.81 1511.45 1935.1 1509.94 Q1933.41 1508.44 1930.4 1508.44 Q1927.37 1508.44 1925.68 1509.94 Q1924.01 1511.45 1924.01 1514.13 Z\" fill=\"#000000\" fill-rule=\"evenodd\" fill-opacity=\"1\" /><path clip-path=\"url(#clip370)\" d=\"M 0 0 M2324.65 1535.98 L2332.29 1535.98 L2332.29 1509.62 L2323.98 1511.29 L2323.98 1507.03 L2332.25 1505.36 L2336.92 1505.36 L2336.92 1535.98 L2344.56 1535.98 L2344.56 1539.92 L2324.65 1539.92 L2324.65 1535.98 Z\" fill=\"#000000\" fill-rule=\"evenodd\" fill-opacity=\"1\" /><path clip-path=\"url(#clip370)\" d=\"M 0 0 M2349.63 1534.04 L2354.52 1534.04 L2354.52 1539.92 L2349.63 1539.92 L2349.63 1534.04 Z\" fill=\"#000000\" fill-rule=\"evenodd\" fill-opacity=\"1\" /><path clip-path=\"url(#clip370)\" d=\"M 0 0 M2369.58 1508.44 Q2365.97 1508.44 2364.14 1512 Q2362.34 1515.55 2362.34 1522.67 Q2362.34 1529.78 2364.14 1533.35 Q2365.97 1536.89 2369.58 1536.89 Q2373.22 1536.89 2375.02 1533.35 Q2376.85 1529.78 2376.85 1522.67 Q2376.85 1515.55 2375.02 1512 Q2373.22 1508.44 2369.58 1508.44 M2369.58 1504.73 Q2375.39 1504.73 2378.45 1509.34 Q2381.53 1513.92 2381.53 1522.67 Q2381.53 1531.4 2378.45 1536.01 Q2375.39 1540.59 2369.58 1540.59 Q2363.77 1540.59 2360.7 1536.01 Q2357.64 1531.4 2357.64 1522.67 Q2357.64 1513.92 2360.7 1509.34 Q2363.77 1504.73 2369.58 1504.73 Z\" fill=\"#000000\" fill-rule=\"evenodd\" fill-opacity=\"1\" /><path clip-path=\"url(#clip370)\" d=\"M 0 0 M75.4226 1472.25 Q71.8115 1472.25 69.9828 1475.81 Q68.1773 1479.35 68.1773 1486.48 Q68.1773 1493.59 69.9828 1497.15 Q71.8115 1500.7 75.4226 1500.7 Q79.0569 1500.7 80.8624 1497.15 Q82.6911 1493.59 82.6911 1486.48 Q82.6911 1479.35 80.8624 1475.81 Q79.0569 1472.25 75.4226 1472.25 M75.4226 1468.54 Q81.2328 1468.54 84.2883 1473.15 Q87.367 1477.73 87.367 1486.48 Q87.367 1495.21 84.2883 1499.82 Q81.2328 1504.4 75.4226 1504.4 Q69.6125 1504.4 66.5338 1499.82 Q63.4782 1495.21 63.4782 1486.48 Q63.4782 1477.73 66.5338 1473.15 Q69.6125 1468.54 75.4226 1468.54 Z\" fill=\"#000000\" fill-rule=\"evenodd\" fill-opacity=\"1\" /><path clip-path=\"url(#clip370)\" d=\"M 0 0 M92.4364 1497.85 L97.3206 1497.85 L97.3206 1503.73 L92.4364 1503.73 L92.4364 1497.85 Z\" fill=\"#000000\" fill-rule=\"evenodd\" fill-opacity=\"1\" /><path clip-path=\"url(#clip370)\" d=\"M 0 0 M112.39 1472.25 Q108.779 1472.25 106.95 1475.81 Q105.145 1479.35 105.145 1486.48 Q105.145 1493.59 106.95 1497.15 Q108.779 1500.7 112.39 1500.7 Q116.024 1500.7 117.83 1497.15 Q119.658 1493.59 119.658 1486.48 Q119.658 1479.35 117.83 1475.81 Q116.024 1472.25 112.39 1472.25 M112.39 1468.54 Q118.2 1468.54 121.256 1473.15 Q124.334 1477.73 124.334 1486.48 Q124.334 1495.21 121.256 1499.82 Q118.2 1504.4 112.39 1504.4 Q106.58 1504.4 103.501 1499.82 Q100.446 1495.21 100.446 1486.48 Q100.446 1477.73 103.501 1473.15 Q106.58 1468.54 112.39 1468.54 Z\" fill=\"#000000\" fill-rule=\"evenodd\" fill-opacity=\"1\" /><path clip-path=\"url(#clip370)\" d=\"M 0 0 M77.0198 1184.41 Q73.4087 1184.41 71.58 1187.97 Q69.7745 1191.51 69.7745 1198.64 Q69.7745 1205.75 71.58 1209.31 Q73.4087 1212.85 77.0198 1212.85 Q80.6541 1212.85 82.4596 1209.31 Q84.2883 1205.75 84.2883 1198.64 Q84.2883 1191.51 82.4596 1187.97 Q80.6541 1184.41 77.0198 1184.41 M77.0198 1180.7 Q82.83 1180.7 85.8855 1185.31 Q88.9642 1189.89 88.9642 1198.64 Q88.9642 1207.37 85.8855 1211.98 Q82.83 1216.56 77.0198 1216.56 Q71.2097 1216.56 68.131 1211.98 Q65.0754 1207.37 65.0754 1198.64 Q65.0754 1189.89 68.131 1185.31 Q71.2097 1180.7 77.0198 1180.7 Z\" fill=\"#000000\" fill-rule=\"evenodd\" fill-opacity=\"1\" /><path clip-path=\"url(#clip370)\" d=\"M 0 0 M94.0336 1210.01 L98.9179 1210.01 L98.9179 1215.89 L94.0336 1215.89 L94.0336 1210.01 Z\" fill=\"#000000\" fill-rule=\"evenodd\" fill-opacity=\"1\" /><path clip-path=\"url(#clip370)\" d=\"M 0 0 M108.015 1211.95 L124.334 1211.95 L124.334 1215.89 L102.39 1215.89 L102.39 1211.95 Q105.052 1209.2 109.635 1204.57 Q114.242 1199.91 115.422 1198.57 Q117.668 1196.05 118.547 1194.31 Q119.45 1192.55 119.45 1190.86 Q119.45 1188.11 117.506 1186.37 Q115.584 1184.64 112.483 1184.64 Q110.284 1184.64 107.83 1185.4 Q105.399 1186.17 102.622 1187.72 L102.622 1182.99 Q105.446 1181.86 107.899 1181.28 Q110.353 1180.7 112.39 1180.7 Q117.76 1180.7 120.955 1183.39 Q124.149 1186.07 124.149 1190.56 Q124.149 1192.69 123.339 1194.61 Q122.552 1196.51 120.446 1199.1 Q119.867 1199.78 116.765 1202.99 Q113.663 1206.19 108.015 1211.95 Z\" fill=\"#000000\" fill-rule=\"evenodd\" fill-opacity=\"1\" /><path clip-path=\"url(#clip370)\" d=\"M 0 0 M74.9365 896.565 Q71.3254 896.565 69.4967 900.13 Q67.6912 903.671 67.6912 910.801 Q67.6912 917.908 69.4967 921.472 Q71.3254 925.014 74.9365 925.014 Q78.5707 925.014 80.3763 921.472 Q82.205 917.908 82.205 910.801 Q82.205 903.671 80.3763 900.13 Q78.5707 896.565 74.9365 896.565 M74.9365 892.861 Q80.7467 892.861 83.8022 897.468 Q86.8809 902.051 86.8809 910.801 Q86.8809 919.528 83.8022 924.134 Q80.7467 928.718 74.9365 928.718 Q69.1264 928.718 66.0477 924.134 Q62.9921 919.528 62.9921 910.801 Q62.9921 902.051 66.0477 897.468 Q69.1264 892.861 74.9365 892.861 Z\" fill=\"#000000\" fill-rule=\"evenodd\" fill-opacity=\"1\" /><path clip-path=\"url(#clip370)\" d=\"M 0 0 M91.9503 922.167 L96.8345 922.167 L96.8345 928.046 L91.9503 928.046 L91.9503 922.167 Z\" fill=\"#000000\" fill-rule=\"evenodd\" fill-opacity=\"1\" /><path clip-path=\"url(#clip370)\" d=\"M 0 0 M114.751 897.56 L102.946 916.009 L114.751 916.009 L114.751 897.56 M113.524 893.486 L119.404 893.486 L119.404 916.009 L124.334 916.009 L124.334 919.898 L119.404 919.898 L119.404 928.046 L114.751 928.046 L114.751 919.898 L99.1493 919.898 L99.1493 915.384 L113.524 893.486 Z\" fill=\"#000000\" fill-rule=\"evenodd\" fill-opacity=\"1\" /><path clip-path=\"url(#clip370)\" d=\"M 0 0 M75.2606 608.724 Q71.6495 608.724 69.8208 612.289 Q68.0152 615.831 68.0152 622.96 Q68.0152 630.067 69.8208 633.632 Q71.6495 637.173 75.2606 637.173 Q78.8948 637.173 80.7004 633.632 Q82.5291 630.067 82.5291 622.96 Q82.5291 615.831 80.7004 612.289 Q78.8948 608.724 75.2606 608.724 M75.2606 605.021 Q81.0707 605.021 84.1263 609.627 Q87.205 614.21 87.205 622.96 Q87.205 631.687 84.1263 636.294 Q81.0707 640.877 75.2606 640.877 Q69.4504 640.877 66.3717 636.294 Q63.3162 631.687 63.3162 622.96 Q63.3162 614.21 66.3717 609.627 Q69.4504 605.021 75.2606 605.021 Z\" fill=\"#000000\" fill-rule=\"evenodd\" fill-opacity=\"1\" /><path clip-path=\"url(#clip370)\" d=\"M 0 0 M92.2744 634.326 L97.1586 634.326 L97.1586 640.206 L92.2744 640.206 L92.2744 634.326 Z\" fill=\"#000000\" fill-rule=\"evenodd\" fill-opacity=\"1\" /><path clip-path=\"url(#clip370)\" d=\"M 0 0 M112.807 621.062 Q109.659 621.062 107.807 623.215 Q105.978 625.368 105.978 629.118 Q105.978 632.845 107.807 635.02 Q109.659 637.173 112.807 637.173 Q115.955 637.173 117.783 635.02 Q119.635 632.845 119.635 629.118 Q119.635 625.368 117.783 623.215 Q115.955 621.062 112.807 621.062 M122.089 606.409 L122.089 610.669 Q120.33 609.835 118.524 609.396 Q116.742 608.956 114.983 608.956 Q110.353 608.956 107.899 612.081 Q105.469 615.206 105.122 621.525 Q106.487 619.511 108.547 618.446 Q110.608 617.359 113.084 617.359 Q118.293 617.359 121.302 620.53 Q124.334 623.678 124.334 629.118 Q124.334 634.442 121.186 637.659 Q118.038 640.877 112.807 640.877 Q106.811 640.877 103.64 636.294 Q100.469 631.687 100.469 622.96 Q100.469 614.766 104.358 609.905 Q108.247 605.021 114.797 605.021 Q116.557 605.021 118.339 605.368 Q120.145 605.715 122.089 606.409 Z\" fill=\"#000000\" fill-rule=\"evenodd\" fill-opacity=\"1\" /><path clip-path=\"url(#clip370)\" d=\"M 0 0 M75.5152 320.884 Q71.9041 320.884 70.0754 324.448 Q68.2699 327.99 68.2699 335.12 Q68.2699 342.226 70.0754 345.791 Q71.9041 349.332 75.5152 349.332 Q79.1494 349.332 80.955 345.791 Q82.7837 342.226 82.7837 335.12 Q82.7837 327.99 80.955 324.448 Q79.1494 320.884 75.5152 320.884 M75.5152 317.18 Q81.3254 317.18 84.3809 321.786 Q87.4596 326.37 87.4596 335.12 Q87.4596 343.846 84.3809 348.453 Q81.3254 353.036 75.5152 353.036 Q69.7051 353.036 66.6264 348.453 Q63.5708 343.846 63.5708 335.12 Q63.5708 326.37 66.6264 321.786 Q69.7051 317.18 75.5152 317.18 Z\" fill=\"#000000\" fill-rule=\"evenodd\" fill-opacity=\"1\" /><path clip-path=\"url(#clip370)\" d=\"M 0 0 M92.529 346.485 L97.4132 346.485 L97.4132 352.365 L92.529 352.365 L92.529 346.485 Z\" fill=\"#000000\" fill-rule=\"evenodd\" fill-opacity=\"1\" /><path clip-path=\"url(#clip370)\" d=\"M 0 0 M112.483 335.953 Q109.149 335.953 107.228 337.735 Q105.33 339.518 105.33 342.643 Q105.33 345.768 107.228 347.55 Q109.149 349.332 112.483 349.332 Q115.816 349.332 117.737 347.55 Q119.658 345.745 119.658 342.643 Q119.658 339.518 117.737 337.735 Q115.839 335.953 112.483 335.953 M107.807 333.962 Q104.797 333.221 103.108 331.161 Q101.441 329.101 101.441 326.138 Q101.441 321.995 104.381 319.587 Q107.344 317.18 112.483 317.18 Q117.645 317.18 120.584 319.587 Q123.524 321.995 123.524 326.138 Q123.524 329.101 121.834 331.161 Q120.168 333.221 117.182 333.962 Q120.561 334.749 122.436 337.041 Q124.334 339.333 124.334 342.643 Q124.334 347.666 121.256 350.351 Q118.2 353.036 112.483 353.036 Q106.765 353.036 103.686 350.351 Q100.631 347.666 100.631 342.643 Q100.631 339.333 102.529 337.041 Q104.427 334.749 107.807 333.962 M106.094 326.578 Q106.094 329.263 107.76 330.768 Q109.45 332.272 112.483 332.272 Q115.492 332.272 117.182 330.768 Q118.895 329.263 118.895 326.578 Q118.895 323.893 117.182 322.388 Q115.492 320.884 112.483 320.884 Q109.45 320.884 107.76 322.388 Q106.094 323.893 106.094 326.578 Z\" fill=\"#000000\" fill-rule=\"evenodd\" fill-opacity=\"1\" /><path clip-path=\"url(#clip370)\" d=\"M 0 0 M67.4597 60.5889 L75.0985 60.5889 L75.0985 34.2233 L66.7884 35.89 L66.7884 31.6308 L75.0522 29.9641 L79.7281 29.9641 L79.7281 60.5889 L87.367 60.5889 L87.367 64.5241 L67.4597 64.5241 L67.4597 60.5889 Z\" fill=\"#000000\" fill-rule=\"evenodd\" fill-opacity=\"1\" /><path clip-path=\"url(#clip370)\" d=\"M 0 0 M92.4364 58.6445 L97.3206 58.6445 L97.3206 64.5241 L92.4364 64.5241 L92.4364 58.6445 Z\" fill=\"#000000\" fill-rule=\"evenodd\" fill-opacity=\"1\" /><path clip-path=\"url(#clip370)\" d=\"M 0 0 M112.39 33.0428 Q108.779 33.0428 106.95 36.6076 Q105.145 40.1492 105.145 47.2788 Q105.145 54.3853 106.95 57.9501 Q108.779 61.4917 112.39 61.4917 Q116.024 61.4917 117.83 57.9501 Q119.658 54.3853 119.658 47.2788 Q119.658 40.1492 117.83 36.6076 Q116.024 33.0428 112.39 33.0428 M112.39 29.3391 Q118.2 29.3391 121.256 33.9456 Q124.334 38.5289 124.334 47.2788 Q124.334 56.0056 121.256 60.6121 Q118.2 65.1954 112.39 65.1954 Q106.58 65.1954 103.501 60.6121 Q100.446 56.0056 100.446 47.2788 Q100.446 38.5289 103.501 33.9456 Q106.58 29.3391 112.39 29.3391 Z\" fill=\"#000000\" fill-rule=\"evenodd\" fill-opacity=\"1\" /></svg>\n"
      ]
     },
     "execution_count": 45,
     "metadata": {},
     "output_type": "execute_result"
    }
   ],
   "source": [
    "plot(-2,2,f)"
   ]
  },
  {
   "cell_type": "code",
   "execution_count": 46,
   "metadata": {},
   "outputs": [
    {
     "data": {
      "image/svg+xml": [
       "<?xml version=\"1.0\" encoding=\"utf-8\"?>\n",
       "<svg xmlns=\"http://www.w3.org/2000/svg\" xmlns:xlink=\"http://www.w3.org/1999/xlink\" width=\"600\" height=\"400\" viewBox=\"0 0 2400 1600\">\n",
       "<defs>\n",
       "  <clipPath id=\"clip410\">\n",
       "    <rect x=\"0\" y=\"0\" width=\"2400\" height=\"1600\"/>\n",
       "  </clipPath>\n",
       "</defs>\n",
       "<path clip-path=\"url(#clip410)\" d=\"\n",
       "M0 1600 L2400 1600 L2400 0 L0 0  Z\n",
       "  \" fill=\"#ffffff\" fill-rule=\"evenodd\" fill-opacity=\"1\"/>\n",
       "<defs>\n",
       "  <clipPath id=\"clip411\">\n",
       "    <rect x=\"480\" y=\"0\" width=\"1681\" height=\"1600\"/>\n",
       "  </clipPath>\n",
       "</defs>\n",
       "<path clip-path=\"url(#clip410)\" d=\"\n",
       "M179.283 1486.45 L2352.76 1486.45 L2352.76 47.2441 L179.283 47.2441  Z\n",
       "  \" fill=\"#ffffff\" fill-rule=\"evenodd\" fill-opacity=\"1\"/>\n",
       "<defs>\n",
       "  <clipPath id=\"clip412\">\n",
       "    <rect x=\"179\" y=\"47\" width=\"2174\" height=\"1440\"/>\n",
       "  </clipPath>\n",
       "</defs>\n",
       "<polyline clip-path=\"url(#clip412)\" style=\"stroke:#000000; stroke-width:2; stroke-opacity:0.1; fill:none\" points=\"\n",
       "  445.841,1486.45 445.841,47.2441 \n",
       "  \"/>\n",
       "<polyline clip-path=\"url(#clip412)\" style=\"stroke:#000000; stroke-width:2; stroke-opacity:0.1; fill:none\" points=\"\n",
       "  855.93,1486.45 855.93,47.2441 \n",
       "  \"/>\n",
       "<polyline clip-path=\"url(#clip412)\" style=\"stroke:#000000; stroke-width:2; stroke-opacity:0.1; fill:none\" points=\"\n",
       "  1266.02,1486.45 1266.02,47.2441 \n",
       "  \"/>\n",
       "<polyline clip-path=\"url(#clip412)\" style=\"stroke:#000000; stroke-width:2; stroke-opacity:0.1; fill:none\" points=\"\n",
       "  1676.11,1486.45 1676.11,47.2441 \n",
       "  \"/>\n",
       "<polyline clip-path=\"url(#clip412)\" style=\"stroke:#000000; stroke-width:2; stroke-opacity:0.1; fill:none\" points=\"\n",
       "  2086.2,1486.45 2086.2,47.2441 \n",
       "  \"/>\n",
       "<polyline clip-path=\"url(#clip412)\" style=\"stroke:#000000; stroke-width:2; stroke-opacity:0.1; fill:none\" points=\"\n",
       "  179.283,1253.55 2352.76,1253.55 \n",
       "  \"/>\n",
       "<polyline clip-path=\"url(#clip412)\" style=\"stroke:#000000; stroke-width:2; stroke-opacity:0.1; fill:none\" points=\"\n",
       "  179.283,970.955 2352.76,970.955 \n",
       "  \"/>\n",
       "<polyline clip-path=\"url(#clip412)\" style=\"stroke:#000000; stroke-width:2; stroke-opacity:0.1; fill:none\" points=\"\n",
       "  179.283,688.359 2352.76,688.359 \n",
       "  \"/>\n",
       "<polyline clip-path=\"url(#clip412)\" style=\"stroke:#000000; stroke-width:2; stroke-opacity:0.1; fill:none\" points=\"\n",
       "  179.283,405.764 2352.76,405.764 \n",
       "  \"/>\n",
       "<polyline clip-path=\"url(#clip412)\" style=\"stroke:#000000; stroke-width:2; stroke-opacity:0.1; fill:none\" points=\"\n",
       "  179.283,123.168 2352.76,123.168 \n",
       "  \"/>\n",
       "<polyline clip-path=\"url(#clip410)\" style=\"stroke:#000000; stroke-width:4; stroke-opacity:1; fill:none\" points=\"\n",
       "  179.283,1486.45 2352.76,1486.45 \n",
       "  \"/>\n",
       "<polyline clip-path=\"url(#clip410)\" style=\"stroke:#000000; stroke-width:4; stroke-opacity:1; fill:none\" points=\"\n",
       "  179.283,1486.45 179.283,47.2441 \n",
       "  \"/>\n",
       "<polyline clip-path=\"url(#clip410)\" style=\"stroke:#000000; stroke-width:4; stroke-opacity:1; fill:none\" points=\"\n",
       "  445.841,1486.45 445.841,1469.18 \n",
       "  \"/>\n",
       "<polyline clip-path=\"url(#clip410)\" style=\"stroke:#000000; stroke-width:4; stroke-opacity:1; fill:none\" points=\"\n",
       "  855.93,1486.45 855.93,1469.18 \n",
       "  \"/>\n",
       "<polyline clip-path=\"url(#clip410)\" style=\"stroke:#000000; stroke-width:4; stroke-opacity:1; fill:none\" points=\"\n",
       "  1266.02,1486.45 1266.02,1469.18 \n",
       "  \"/>\n",
       "<polyline clip-path=\"url(#clip410)\" style=\"stroke:#000000; stroke-width:4; stroke-opacity:1; fill:none\" points=\"\n",
       "  1676.11,1486.45 1676.11,1469.18 \n",
       "  \"/>\n",
       "<polyline clip-path=\"url(#clip410)\" style=\"stroke:#000000; stroke-width:4; stroke-opacity:1; fill:none\" points=\"\n",
       "  2086.2,1486.45 2086.2,1469.18 \n",
       "  \"/>\n",
       "<polyline clip-path=\"url(#clip410)\" style=\"stroke:#000000; stroke-width:4; stroke-opacity:1; fill:none\" points=\"\n",
       "  179.283,1253.55 205.365,1253.55 \n",
       "  \"/>\n",
       "<polyline clip-path=\"url(#clip410)\" style=\"stroke:#000000; stroke-width:4; stroke-opacity:1; fill:none\" points=\"\n",
       "  179.283,970.955 205.365,970.955 \n",
       "  \"/>\n",
       "<polyline clip-path=\"url(#clip410)\" style=\"stroke:#000000; stroke-width:4; stroke-opacity:1; fill:none\" points=\"\n",
       "  179.283,688.359 205.365,688.359 \n",
       "  \"/>\n",
       "<polyline clip-path=\"url(#clip410)\" style=\"stroke:#000000; stroke-width:4; stroke-opacity:1; fill:none\" points=\"\n",
       "  179.283,405.764 205.365,405.764 \n",
       "  \"/>\n",
       "<polyline clip-path=\"url(#clip410)\" style=\"stroke:#000000; stroke-width:4; stroke-opacity:1; fill:none\" points=\"\n",
       "  179.283,123.168 205.365,123.168 \n",
       "  \"/>\n",
       "<path clip-path=\"url(#clip410)\" d=\"M 0 0 M425.853 1525.04 L438.33 1525.04 L438.33 1528.83 L425.853 1528.83 L425.853 1525.04 Z\" fill=\"#000000\" fill-rule=\"evenodd\" fill-opacity=\"1\" /><path clip-path=\"url(#clip410)\" d=\"M 0 0 M456.246 1509.43 L444.441 1527.88 L456.246 1527.88 L456.246 1509.43 M455.019 1505.36 L460.899 1505.36 L460.899 1527.88 L465.83 1527.88 L465.83 1531.77 L460.899 1531.77 L460.899 1539.92 L456.246 1539.92 L456.246 1531.77 L440.645 1531.77 L440.645 1527.26 L455.019 1505.36 Z\" fill=\"#000000\" fill-rule=\"evenodd\" fill-opacity=\"1\" /><path clip-path=\"url(#clip410)\" d=\"M 0 0 M836.984 1525.04 L849.461 1525.04 L849.461 1528.83 L836.984 1528.83 L836.984 1525.04 Z\" fill=\"#000000\" fill-rule=\"evenodd\" fill-opacity=\"1\" /><path clip-path=\"url(#clip410)\" d=\"M 0 0 M858.558 1535.98 L874.877 1535.98 L874.877 1539.92 L852.933 1539.92 L852.933 1535.98 Q855.595 1533.23 860.178 1528.6 Q864.785 1523.95 865.965 1522.61 Q868.21 1520.08 869.09 1518.35 Q869.993 1516.59 869.993 1514.9 Q869.993 1512.14 868.048 1510.41 Q866.127 1508.67 863.025 1508.67 Q860.826 1508.67 858.373 1509.43 Q855.942 1510.2 853.164 1511.75 L853.164 1507.03 Q855.988 1505.89 858.442 1505.31 Q860.896 1504.73 862.933 1504.73 Q868.303 1504.73 871.497 1507.42 Q874.692 1510.11 874.692 1514.6 Q874.692 1516.73 873.882 1518.65 Q873.095 1520.54 870.988 1523.14 Q870.41 1523.81 867.308 1527.03 Q864.206 1530.22 858.558 1535.98 Z\" fill=\"#000000\" fill-rule=\"evenodd\" fill-opacity=\"1\" /><path clip-path=\"url(#clip410)\" d=\"M 0 0 M1266.02 1508.44 Q1262.41 1508.44 1260.58 1512 Q1258.77 1515.55 1258.77 1522.67 Q1258.77 1529.78 1260.58 1533.35 Q1262.41 1536.89 1266.02 1536.89 Q1269.65 1536.89 1271.46 1533.35 Q1273.29 1529.78 1273.29 1522.67 Q1273.29 1515.55 1271.46 1512 Q1269.65 1508.44 1266.02 1508.44 M1266.02 1504.73 Q1271.83 1504.73 1274.89 1509.34 Q1277.96 1513.92 1277.96 1522.67 Q1277.96 1531.4 1274.89 1536.01 Q1271.83 1540.59 1266.02 1540.59 Q1260.21 1540.59 1257.13 1536.01 Q1254.08 1531.4 1254.08 1522.67 Q1254.08 1513.92 1257.13 1509.34 Q1260.21 1504.73 1266.02 1504.73 Z\" fill=\"#000000\" fill-rule=\"evenodd\" fill-opacity=\"1\" /><path clip-path=\"url(#clip410)\" d=\"M 0 0 M1670.76 1535.98 L1687.08 1535.98 L1687.08 1539.92 L1665.14 1539.92 L1665.14 1535.98 Q1667.8 1533.23 1672.38 1528.6 Q1676.99 1523.95 1678.17 1522.61 Q1680.41 1520.08 1681.29 1518.35 Q1682.2 1516.59 1682.2 1514.9 Q1682.2 1512.14 1680.25 1510.41 Q1678.33 1508.67 1675.23 1508.67 Q1673.03 1508.67 1670.58 1509.43 Q1668.15 1510.2 1665.37 1511.75 L1665.37 1507.03 Q1668.19 1505.89 1670.65 1505.31 Q1673.1 1504.73 1675.14 1504.73 Q1680.51 1504.73 1683.7 1507.42 Q1686.9 1510.11 1686.9 1514.6 Q1686.9 1516.73 1686.09 1518.65 Q1685.3 1520.54 1683.19 1523.14 Q1682.61 1523.81 1679.51 1527.03 Q1676.41 1530.22 1670.76 1535.98 Z\" fill=\"#000000\" fill-rule=\"evenodd\" fill-opacity=\"1\" /><path clip-path=\"url(#clip410)\" d=\"M 0 0 M2089.21 1509.43 L2077.4 1527.88 L2089.21 1527.88 L2089.21 1509.43 M2087.98 1505.36 L2093.86 1505.36 L2093.86 1527.88 L2098.79 1527.88 L2098.79 1531.77 L2093.86 1531.77 L2093.86 1539.92 L2089.21 1539.92 L2089.21 1531.77 L2073.61 1531.77 L2073.61 1527.26 L2087.98 1505.36 Z\" fill=\"#000000\" fill-rule=\"evenodd\" fill-opacity=\"1\" /><path clip-path=\"url(#clip410)\" d=\"M 0 0 M63.3625 1255.95 L75.8393 1255.95 L75.8393 1259.74 L63.3625 1259.74 L63.3625 1255.95 Z\" fill=\"#000000\" fill-rule=\"evenodd\" fill-opacity=\"1\" /><path clip-path=\"url(#clip410)\" d=\"M 0 0 M84.9365 1266.9 L101.256 1266.9 L101.256 1270.83 L79.3115 1270.83 L79.3115 1266.9 Q81.9735 1264.14 86.5568 1259.51 Q91.1633 1254.86 92.3438 1253.52 Q94.5892 1250.99 95.4688 1249.26 Q96.3716 1247.5 96.3716 1245.81 Q96.3716 1243.05 94.4271 1241.32 Q92.5059 1239.58 89.404 1239.58 Q87.205 1239.58 84.7513 1240.34 Q82.3207 1241.11 79.543 1242.66 L79.543 1237.94 Q82.367 1236.8 84.8207 1236.22 Q87.2744 1235.65 89.3114 1235.65 Q94.6818 1235.65 97.8762 1238.33 Q101.071 1241.02 101.071 1245.51 Q101.071 1247.64 100.26 1249.56 Q99.4734 1251.46 97.3669 1254.05 Q96.7882 1254.72 93.6864 1257.94 Q90.5846 1261.13 84.9365 1266.9 Z\" fill=\"#000000\" fill-rule=\"evenodd\" fill-opacity=\"1\" /><path clip-path=\"url(#clip410)\" d=\"M 0 0 M116.325 1239.35 Q112.714 1239.35 110.885 1242.91 Q109.08 1246.46 109.08 1253.59 Q109.08 1260.69 110.885 1264.26 Q112.714 1267.8 116.325 1267.8 Q119.959 1267.8 121.765 1264.26 Q123.594 1260.69 123.594 1253.59 Q123.594 1246.46 121.765 1242.91 Q119.959 1239.35 116.325 1239.35 M116.325 1235.65 Q122.135 1235.65 125.191 1240.25 Q128.27 1244.84 128.27 1253.59 Q128.27 1262.31 125.191 1266.92 Q122.135 1271.5 116.325 1271.5 Q110.515 1271.5 107.436 1266.92 Q104.381 1262.31 104.381 1253.59 Q104.381 1244.84 107.436 1240.25 Q110.515 1235.65 116.325 1235.65 Z\" fill=\"#000000\" fill-rule=\"evenodd\" fill-opacity=\"1\" /><path clip-path=\"url(#clip410)\" d=\"M 0 0 M143.339 1239.35 Q139.728 1239.35 137.899 1242.91 Q136.094 1246.46 136.094 1253.59 Q136.094 1260.69 137.899 1264.26 Q139.728 1267.8 143.339 1267.8 Q146.973 1267.8 148.779 1264.26 Q150.607 1260.69 150.607 1253.59 Q150.607 1246.46 148.779 1242.91 Q146.973 1239.35 143.339 1239.35 M143.339 1235.65 Q149.149 1235.65 152.205 1240.25 Q155.283 1244.84 155.283 1253.59 Q155.283 1262.31 152.205 1266.92 Q149.149 1271.5 143.339 1271.5 Q137.529 1271.5 134.45 1266.92 Q131.395 1262.31 131.395 1253.59 Q131.395 1244.84 134.45 1240.25 Q137.529 1235.65 143.339 1235.65 Z\" fill=\"#000000\" fill-rule=\"evenodd\" fill-opacity=\"1\" /><path clip-path=\"url(#clip410)\" d=\"M 0 0 M63.9875 973.351 L76.4643 973.351 L76.4643 977.147 L63.9875 977.147 L63.9875 973.351 Z\" fill=\"#000000\" fill-rule=\"evenodd\" fill-opacity=\"1\" /><path clip-path=\"url(#clip410)\" d=\"M 0 0 M82.3439 984.3 L89.9827 984.3 L89.9827 957.934 L81.6726 959.601 L81.6726 955.342 L89.9364 953.675 L94.6123 953.675 L94.6123 984.3 L102.251 984.3 L102.251 988.235 L82.3439 988.235 L82.3439 984.3 Z\" fill=\"#000000\" fill-rule=\"evenodd\" fill-opacity=\"1\" /><path clip-path=\"url(#clip410)\" d=\"M 0 0 M107.367 953.675 L125.723 953.675 L125.723 957.61 L111.649 957.61 L111.649 966.082 Q112.668 965.735 113.686 965.573 Q114.705 965.388 115.723 965.388 Q121.51 965.388 124.89 968.559 Q128.27 971.73 128.27 977.147 Q128.27 982.726 124.797 985.828 Q121.325 988.906 115.006 988.906 Q112.83 988.906 110.561 988.536 Q108.316 988.165 105.909 987.425 L105.909 982.726 Q107.992 983.86 110.214 984.415 Q112.436 984.971 114.913 984.971 Q118.918 984.971 121.256 982.865 Q123.594 980.758 123.594 977.147 Q123.594 973.536 121.256 971.429 Q118.918 969.323 114.913 969.323 Q113.038 969.323 111.163 969.74 Q109.311 970.156 107.367 971.036 L107.367 953.675 Z\" fill=\"#000000\" fill-rule=\"evenodd\" fill-opacity=\"1\" /><path clip-path=\"url(#clip410)\" d=\"M 0 0 M143.339 956.754 Q139.728 956.754 137.899 960.318 Q136.094 963.86 136.094 970.99 Q136.094 978.096 137.899 981.661 Q139.728 985.203 143.339 985.203 Q146.973 985.203 148.779 981.661 Q150.607 978.096 150.607 970.99 Q150.607 963.86 148.779 960.318 Q146.973 956.754 143.339 956.754 M143.339 953.05 Q149.149 953.05 152.205 957.656 Q155.283 962.24 155.283 970.99 Q155.283 979.716 152.205 984.323 Q149.149 988.906 143.339 988.906 Q137.529 988.906 134.45 984.323 Q131.395 979.716 131.395 970.99 Q131.395 962.24 134.45 957.656 Q137.529 953.05 143.339 953.05 Z\" fill=\"#000000\" fill-rule=\"evenodd\" fill-opacity=\"1\" /><path clip-path=\"url(#clip410)\" d=\"M 0 0 M62.9921 690.755 L75.4689 690.755 L75.4689 694.551 L62.9921 694.551 L62.9921 690.755 Z\" fill=\"#000000\" fill-rule=\"evenodd\" fill-opacity=\"1\" /><path clip-path=\"url(#clip410)\" d=\"M 0 0 M81.3485 701.704 L88.9874 701.704 L88.9874 675.338 L80.6772 677.005 L80.6772 672.746 L88.9411 671.079 L93.617 671.079 L93.617 701.704 L101.256 701.704 L101.256 705.639 L81.3485 705.639 L81.3485 701.704 Z\" fill=\"#000000\" fill-rule=\"evenodd\" fill-opacity=\"1\" /><path clip-path=\"url(#clip410)\" d=\"M 0 0 M116.325 674.158 Q112.714 674.158 110.885 677.723 Q109.08 681.264 109.08 688.394 Q109.08 695.5 110.885 699.065 Q112.714 702.607 116.325 702.607 Q119.959 702.607 121.765 699.065 Q123.594 695.5 123.594 688.394 Q123.594 681.264 121.765 677.723 Q119.959 674.158 116.325 674.158 M116.325 670.454 Q122.135 670.454 125.191 675.061 Q128.27 679.644 128.27 688.394 Q128.27 697.121 125.191 701.727 Q122.135 706.311 116.325 706.311 Q110.515 706.311 107.436 701.727 Q104.381 697.121 104.381 688.394 Q104.381 679.644 107.436 675.061 Q110.515 670.454 116.325 670.454 Z\" fill=\"#000000\" fill-rule=\"evenodd\" fill-opacity=\"1\" /><path clip-path=\"url(#clip410)\" d=\"M 0 0 M143.339 674.158 Q139.728 674.158 137.899 677.723 Q136.094 681.264 136.094 688.394 Q136.094 695.5 137.899 699.065 Q139.728 702.607 143.339 702.607 Q146.973 702.607 148.779 699.065 Q150.607 695.5 150.607 688.394 Q150.607 681.264 148.779 677.723 Q146.973 674.158 143.339 674.158 M143.339 670.454 Q149.149 670.454 152.205 675.061 Q155.283 679.644 155.283 688.394 Q155.283 697.121 152.205 701.727 Q149.149 706.311 143.339 706.311 Q137.529 706.311 134.45 701.727 Q131.395 697.121 131.395 688.394 Q131.395 679.644 134.45 675.061 Q137.529 670.454 143.339 670.454 Z\" fill=\"#000000\" fill-rule=\"evenodd\" fill-opacity=\"1\" /><path clip-path=\"url(#clip410)\" d=\"M 0 0 M89.7744 408.159 L102.251 408.159 L102.251 411.956 L89.7744 411.956 L89.7744 408.159 Z\" fill=\"#000000\" fill-rule=\"evenodd\" fill-opacity=\"1\" /><path clip-path=\"url(#clip410)\" d=\"M 0 0 M107.367 388.484 L125.723 388.484 L125.723 392.419 L111.649 392.419 L111.649 400.891 Q112.668 400.544 113.686 400.382 Q114.705 400.196 115.723 400.196 Q121.51 400.196 124.89 403.368 Q128.27 406.539 128.27 411.956 Q128.27 417.534 124.797 420.636 Q121.325 423.715 115.006 423.715 Q112.83 423.715 110.561 423.344 Q108.316 422.974 105.909 422.233 L105.909 417.534 Q107.992 418.669 110.214 419.224 Q112.436 419.78 114.913 419.78 Q118.918 419.78 121.256 417.673 Q123.594 415.567 123.594 411.956 Q123.594 408.345 121.256 406.238 Q118.918 404.132 114.913 404.132 Q113.038 404.132 111.163 404.548 Q109.311 404.965 107.367 405.845 L107.367 388.484 Z\" fill=\"#000000\" fill-rule=\"evenodd\" fill-opacity=\"1\" /><path clip-path=\"url(#clip410)\" d=\"M 0 0 M143.339 391.562 Q139.728 391.562 137.899 395.127 Q136.094 398.669 136.094 405.798 Q136.094 412.905 137.899 416.469 Q139.728 420.011 143.339 420.011 Q146.973 420.011 148.779 416.469 Q150.607 412.905 150.607 405.798 Q150.607 398.669 148.779 395.127 Q146.973 391.562 143.339 391.562 M143.339 387.859 Q149.149 387.859 152.205 392.465 Q155.283 397.048 155.283 405.798 Q155.283 414.525 152.205 419.132 Q149.149 423.715 143.339 423.715 Q137.529 423.715 134.45 419.132 Q131.395 414.525 131.395 405.798 Q131.395 397.048 134.45 392.465 Q137.529 387.859 143.339 387.859 Z\" fill=\"#000000\" fill-rule=\"evenodd\" fill-opacity=\"1\" /><path clip-path=\"url(#clip410)\" d=\"M 0 0 M143.339 108.967 Q139.728 108.967 137.899 112.531 Q136.094 116.073 136.094 123.203 Q136.094 130.309 137.899 133.874 Q139.728 137.415 143.339 137.415 Q146.973 137.415 148.779 133.874 Q150.607 130.309 150.607 123.203 Q150.607 116.073 148.779 112.531 Q146.973 108.967 143.339 108.967 M143.339 105.263 Q149.149 105.263 152.205 109.869 Q155.283 114.453 155.283 123.203 Q155.283 131.929 152.205 136.536 Q149.149 141.119 143.339 141.119 Q137.529 141.119 134.45 136.536 Q131.395 131.929 131.395 123.203 Q131.395 114.453 134.45 109.869 Q137.529 105.263 143.339 105.263 Z\" fill=\"#000000\" fill-rule=\"evenodd\" fill-opacity=\"1\" /><polyline clip-path=\"url(#clip412)\" style=\"stroke:#009af9; stroke-width:4; stroke-opacity:1; fill:none\" points=\"\n",
       "  240.797,1445.72 250.809,1420.17 260.821,1394.87 353.398,1172.41 445.974,970.68 501.609,859.427 557.244,755.665 604.282,673.778 651.321,597.245 702.418,520.176 \n",
       "  753.515,449.425 800.622,389.795 847.728,335.535 898.232,283.327 948.736,237.291 1007.25,191.671 1065.76,154.336 1117.76,128.11 1169.76,108.426 1215.36,96.5504 \n",
       "  1260.96,89.7057 1310.68,87.9763 1360.39,92.2275 1410.4,102.538 1460.41,118.901 1515.7,144.036 1571,176.57 1623.61,214.393 1676.22,258.913 1730.92,312.307 \n",
       "  1785.62,372.941 1831.67,429.595 1877.72,491.38 1933.94,573.768 1990.16,663.804 2043,755.414 2095.85,853.782 2180.52,1025.46 2265.18,1214.49 2278.21,1245.12 \n",
       "  2291.24,1276.16 \n",
       "  \"/>\n",
       "<path clip-path=\"url(#clip410)\" d=\"\n",
       "M1989.74 251.724 L2280.76 251.724 L2280.76 130.764 L1989.74 130.764  Z\n",
       "  \" fill=\"#ffffff\" fill-rule=\"evenodd\" fill-opacity=\"1\"/>\n",
       "<polyline clip-path=\"url(#clip410)\" style=\"stroke:#000000; stroke-width:4; stroke-opacity:1; fill:none\" points=\"\n",
       "  1989.74,251.724 2280.76,251.724 2280.76,130.764 1989.74,130.764 1989.74,251.724 \n",
       "  \"/>\n",
       "<polyline clip-path=\"url(#clip410)\" style=\"stroke:#009af9; stroke-width:4; stroke-opacity:1; fill:none\" points=\"\n",
       "  2013.74,191.244 2157.74,191.244 \n",
       "  \"/>\n",
       "<path clip-path=\"url(#clip410)\" d=\"M 0 0 M2195.58 210.931 Q2193.77 215.561 2192.06 216.973 Q2190.35 218.385 2187.48 218.385 L2184.08 218.385 L2184.08 214.82 L2186.58 214.82 Q2188.33 214.82 2189.31 213.987 Q2190.28 213.154 2191.46 210.052 L2192.22 208.107 L2181.74 182.598 L2186.25 182.598 L2194.35 202.876 L2202.46 182.598 L2206.97 182.598 L2195.58 210.931 Z\" fill=\"#000000\" fill-rule=\"evenodd\" fill-opacity=\"1\" /><path clip-path=\"url(#clip410)\" d=\"M 0 0 M2212.85 204.589 L2220.49 204.589 L2220.49 178.223 L2212.18 179.89 L2212.18 175.631 L2220.44 173.964 L2225.12 173.964 L2225.12 204.589 L2232.76 204.589 L2232.76 208.524 L2212.85 208.524 L2212.85 204.589 Z\" fill=\"#000000\" fill-rule=\"evenodd\" fill-opacity=\"1\" /></svg>\n"
      ]
     },
     "execution_count": 46,
     "metadata": {},
     "output_type": "execute_result"
    }
   ],
   "source": [
    "plot(f)"
   ]
  },
  {
   "cell_type": "code",
   "execution_count": 47,
   "metadata": {},
   "outputs": [
    {
     "data": {
      "text/plain": [
       "(1, 2)"
      ]
     },
     "execution_count": 47,
     "metadata": {},
     "output_type": "execute_result"
    }
   ],
   "source": [
    "using Plots\n",
    "r = 5\n",
    "x0,y0=1,2"
   ]
  },
  {
   "cell_type": "code",
   "execution_count": 48,
   "metadata": {},
   "outputs": [
    {
     "data": {
      "text/plain": [
       "trailcircle (generic function with 1 method)"
      ]
     },
     "execution_count": 48,
     "metadata": {},
     "output_type": "execute_result"
    }
   ],
   "source": [
    "function trailcircle(r, x0, y0)\n",
    "    t = linspace(0, 2π, 200)\n",
    "    x, y = r*cos(t), r*sin(t)\n",
    "    x, y = x+x0,y+y0\n",
    "    plot(x,y)\n",
    "end"
   ]
  },
  {
   "cell_type": "code",
   "execution_count": 49,
   "metadata": {},
   "outputs": [
    {
     "ename": "UndefVarError",
     "evalue": "UndefVarError: mean not defined",
     "output_type": "error",
     "traceback": [
      "UndefVarError: mean not defined",
      "",
      "Stacktrace:",
      " [1] top-level scope at In[49]:1"
     ]
    }
   ],
   "source": [
    "mean()\n"
   ]
  },
  {
   "cell_type": "code",
   "execution_count": 50,
   "metadata": {},
   "outputs": [],
   "source": [
    "\n",
    "using Distributions\n",
    "using StatsBase\n"
   ]
  },
  {
   "cell_type": "code",
   "execution_count": 51,
   "metadata": {},
   "outputs": [
    {
     "data": {
      "text/plain": [
       "-0.025547859872182714"
      ]
     },
     "execution_count": 51,
     "metadata": {},
     "output_type": "execute_result"
    }
   ],
   "source": [
    "mean(randn(100))"
   ]
  },
  {
   "cell_type": "code",
   "execution_count": 52,
   "metadata": {},
   "outputs": [
    {
     "ename": "ErrorException",
     "evalue": "invalid redefinition of constant f",
     "output_type": "error",
     "traceback": [
      "invalid redefinition of constant f",
      "",
      "Stacktrace:",
      " [1] top-level scope at In[52]:1"
     ]
    }
   ],
   "source": [
    "f = rand(Normal(80, 10), 200) "
   ]
  },
  {
   "cell_type": "code",
   "execution_count": 53,
   "metadata": {},
   "outputs": [
    {
     "data": {
      "text/plain": [
       "f (generic function with 1 method)"
      ]
     },
     "execution_count": 53,
     "metadata": {},
     "output_type": "execute_result"
    }
   ],
   "source": [
    "f"
   ]
  },
  {
   "cell_type": "code",
   "execution_count": 54,
   "metadata": {},
   "outputs": [
    {
     "ename": "MethodError",
     "evalue": "MethodError: no method matching iterate(::typeof(f))\nClosest candidates are:\n  iterate(!Matched::Core.SimpleVector) at essentials.jl:589\n  iterate(!Matched::Core.SimpleVector, !Matched::Any) at essentials.jl:589\n  iterate(!Matched::ExponentialBackOff) at error.jl:171\n  ...",
     "output_type": "error",
     "traceback": [
      "MethodError: no method matching iterate(::typeof(f))\nClosest candidates are:\n  iterate(!Matched::Core.SimpleVector) at essentials.jl:589\n  iterate(!Matched::Core.SimpleVector, !Matched::Any) at essentials.jl:589\n  iterate(!Matched::ExponentialBackOff) at error.jl:171\n  ...",
      "",
      "Stacktrace:",
      " [1] _var(::Function, ::Bool, ::Nothing) at /Users/julia/buildbot/worker/package_macos64/build/usr/share/julia/stdlib/v1.0/Statistics/src/Statistics.jl:149",
      " [2] #var#4(::Bool, ::Nothing, ::Function, ::Function) at /Users/julia/buildbot/worker/package_macos64/build/usr/share/julia/stdlib/v1.0/Statistics/src/Statistics.jl:146",
      " [3] var(::Function) at /Users/julia/buildbot/worker/package_macos64/build/usr/share/julia/stdlib/v1.0/Statistics/src/Statistics.jl:146",
      " [4] top-level scope at In[54]:1"
     ]
    }
   ],
   "source": [
    "var(f)"
   ]
  },
  {
   "cell_type": "code",
   "execution_count": 55,
   "metadata": {},
   "outputs": [
    {
     "ename": "UndefVarError",
     "evalue": "UndefVarError: DataFrame not defined",
     "output_type": "error",
     "traceback": [
      "UndefVarError: DataFrame not defined",
      "",
      "Stacktrace:",
      " [1] top-level scope at In[55]:1"
     ]
    }
   ],
   "source": [
    "\n",
    "p = DataFrame(Group=rand([\"A\", \"B\"], 20), Variable1=randn(20), Variable2=rand(20))\n"
   ]
  },
  {
   "cell_type": "code",
   "execution_count": 56,
   "metadata": {},
   "outputs": [
    {
     "ename": "UndefVarError",
     "evalue": "UndefVarError: p not defined",
     "output_type": "error",
     "traceback": [
      "UndefVarError: p not defined",
      "",
      "Stacktrace:",
      " [1] top-level scope at In[56]:1"
     ]
    }
   ],
   "source": [
    "p[2,:]"
   ]
  },
  {
   "cell_type": "code",
   "execution_count": 57,
   "metadata": {},
   "outputs": [
    {
     "ename": "UndefVarError",
     "evalue": "UndefVarError: p not defined",
     "output_type": "error",
     "traceback": [
      "UndefVarError: p not defined",
      "",
      "Stacktrace:",
      " [1] top-level scope at In[57]:1"
     ]
    }
   ],
   "source": [
    "view(p,3,:)"
   ]
  },
  {
   "cell_type": "code",
   "execution_count": 58,
   "metadata": {},
   "outputs": [
    {
     "ename": "UndefVarError",
     "evalue": "UndefVarError: p not defined",
     "output_type": "error",
     "traceback": [
      "UndefVarError: p not defined",
      "",
      "Stacktrace:",
      " [1] top-level scope at In[58]:1"
     ]
    }
   ],
   "source": [
    "p = delete!(p[1:3],1:3)"
   ]
  },
  {
   "cell_type": "code",
   "execution_count": 59,
   "metadata": {},
   "outputs": [
    {
     "ename": "UndefVarError",
     "evalue": "UndefVarError: p not defined",
     "output_type": "error",
     "traceback": [
      "UndefVarError: p not defined",
      "",
      "Stacktrace:",
      " [1] top-level scope at In[59]:1"
     ]
    }
   ],
   "source": [
    "p"
   ]
  },
  {
   "cell_type": "code",
   "execution_count": 60,
   "metadata": {},
   "outputs": [
    {
     "ename": "UndefVarError",
     "evalue": "UndefVarError: DataFrame not defined",
     "output_type": "error",
     "traceback": [
      "UndefVarError: DataFrame not defined",
      "",
      "Stacktrace:",
      " [1] top-level scope at In[60]:1"
     ]
    }
   ],
   "source": [
    "po=DataFrame(Group=rand([\"A\", \"B\"], 20), Variable1=randn(20), Variable2=rand(20))\n"
   ]
  },
  {
   "cell_type": "code",
   "execution_count": 61,
   "metadata": {},
   "outputs": [
    {
     "data": {
      "text/plain": [
       "109.11143217667416"
      ]
     },
     "execution_count": 61,
     "metadata": {},
     "output_type": "execute_result"
    }
   ],
   "source": [
    "using Distributions\n",
    "\n",
    "var(rand(Normal(80, 10), 200))"
   ]
  },
  {
   "cell_type": "code",
   "execution_count": 62,
   "metadata": {},
   "outputs": [],
   "source": [
    "using DataFrames"
   ]
  },
  {
   "cell_type": "code",
   "execution_count": 63,
   "metadata": {},
   "outputs": [],
   "source": [
    "using StatsBase"
   ]
  },
  {
   "cell_type": "code",
   "execution_count": 64,
   "metadata": {},
   "outputs": [
    {
     "data": {
      "text/plain": [
       "0.037536174443857415"
      ]
     },
     "execution_count": 64,
     "metadata": {},
     "output_type": "execute_result"
    }
   ],
   "source": [
    "mean(randn(100))"
   ]
  },
  {
   "cell_type": "code",
   "execution_count": 65,
   "metadata": {},
   "outputs": [
    {
     "ename": "UndefVarError",
     "evalue": "UndefVarError: p not defined",
     "output_type": "error",
     "traceback": [
      "UndefVarError: p not defined",
      "",
      "Stacktrace:",
      " [1] top-level scope at In[65]:1"
     ]
    }
   ],
   "source": [
    "p"
   ]
  },
  {
   "cell_type": "code",
   "execution_count": 66,
   "metadata": {},
   "outputs": [
    {
     "ename": "UndefVarError",
     "evalue": "UndefVarError: p not defined",
     "output_type": "error",
     "traceback": [
      "UndefVarError: p not defined",
      "",
      "Stacktrace:",
      " [1] top-level scope at In[66]:1"
     ]
    }
   ],
   "source": [
    "p[[3,5,9],:]"
   ]
  },
  {
   "cell_type": "code",
   "execution_count": 67,
   "metadata": {},
   "outputs": [],
   "source": [
    "using Random"
   ]
  },
  {
   "cell_type": "code",
   "execution_count": 69,
   "metadata": {},
   "outputs": [
    {
     "data": {
      "text/plain": [
       "3×3 Array{Int64,2}:\n",
       " 14   4  11\n",
       "  6  15  10\n",
       "  9   6   9"
      ]
     },
     "execution_count": 69,
     "metadata": {},
     "output_type": "execute_result"
    }
   ],
   "source": [
    "rand(1:15,3,3)"
   ]
  },
  {
   "cell_type": "code",
   "execution_count": 70,
   "metadata": {},
   "outputs": [
    {
     "data": {
      "text/plain": [
       "3×3 Array{Int64,2}:\n",
       "  8   6   8\n",
       "  9  14  14\n",
       " 10   6   7"
      ]
     },
     "execution_count": 70,
     "metadata": {},
     "output_type": "execute_result"
    }
   ],
   "source": [
    "arr1=rand(1:15,3,3)\n",
    "arr1"
   ]
  },
  {
   "cell_type": "code",
   "execution_count": 73,
   "metadata": {},
   "outputs": [
    {
     "data": {
      "text/plain": [
       "9.0"
      ]
     },
     "execution_count": 73,
     "metadata": {},
     "output_type": "execute_result"
    }
   ],
   "source": [
    "mean(arr1[:,1])"
   ]
  },
  {
   "cell_type": "code",
   "execution_count": 74,
   "metadata": {},
   "outputs": [
    {
     "data": {
      "text/plain": [
       "3-element Array{Int64,1}:\n",
       " 1\n",
       " 2\n",
       " 3"
      ]
     },
     "execution_count": 74,
     "metadata": {},
     "output_type": "execute_result"
    }
   ],
   "source": [
    "a = [[1, 2, 3] [4, 5, 6] ]\n",
    "b = [1,2,3]"
   ]
  },
  {
   "cell_type": "code",
   "execution_count": 75,
   "metadata": {},
   "outputs": [
    {
     "ename": "DimensionMismatch",
     "evalue": "DimensionMismatch(\"matrix A has dimensions (3,2), vector B has length 3\")",
     "output_type": "error",
     "traceback": [
      "DimensionMismatch(\"matrix A has dimensions (3,2), vector B has length 3\")",
      "",
      "Stacktrace:",
      " [1] generic_matvecmul!(::Array{Int64,1}, ::Char, ::Array{Int64,2}, ::Array{Int64,1}) at /Users/julia/buildbot/worker/package_macos64/build/usr/share/julia/stdlib/v1.0/LinearAlgebra/src/matmul.jl:505",
      " [2] mul! at /Users/julia/buildbot/worker/package_macos64/build/usr/share/julia/stdlib/v1.0/LinearAlgebra/src/matmul.jl:77 [inlined]",
      " [3] *(::Array{Int64,2}, ::Array{Int64,1}) at /Users/julia/buildbot/worker/package_macos64/build/usr/share/julia/stdlib/v1.0/LinearAlgebra/src/matmul.jl:51",
      " [4] top-level scope at In[75]:1"
     ]
    }
   ],
   "source": [
    "a*b"
   ]
  },
  {
   "cell_type": "code",
   "execution_count": 76,
   "metadata": {},
   "outputs": [
    {
     "data": {
      "text/plain": [
       "6-element Array{Int64,1}:\n",
       " 1\n",
       " 2\n",
       " 1\n",
       " 2\n",
       " 1\n",
       " 2"
      ]
     },
     "execution_count": 76,
     "metadata": {},
     "output_type": "execute_result"
    }
   ],
   "source": [
    "repeat([1, 2], 3)"
   ]
  },
  {
   "cell_type": "code",
   "execution_count": 77,
   "metadata": {},
   "outputs": [
    {
     "data": {
      "text/plain": [
       "Tuple{String,Int64,String,Int64,String,Int64}"
      ]
     },
     "execution_count": 77,
     "metadata": {},
     "output_type": "execute_result"
    }
   ],
   "source": [
    "typeof((\"A\", 3, \"B\", 4, \"C\", 2))"
   ]
  },
  {
   "cell_type": "code",
   "execution_count": 78,
   "metadata": {},
   "outputs": [
    {
     "data": {
      "text/plain": [
       "simple_addition (generic function with 1 method)"
      ]
     },
     "execution_count": 78,
     "metadata": {},
     "output_type": "execute_result"
    }
   ],
   "source": [
    "function simple_addition(x::Int64, y::Int64)\n",
    "  return x + y\n",
    "end"
   ]
  },
  {
   "cell_type": "code",
   "execution_count": 81,
   "metadata": {},
   "outputs": [
    {
     "data": {
      "text/plain": [
       "10"
      ]
     },
     "execution_count": 81,
     "metadata": {},
     "output_type": "execute_result"
    }
   ],
   "source": [
    "\n",
    "simple_addition(5,5)"
   ]
  },
  {
   "cell_type": "code",
   "execution_count": 82,
   "metadata": {},
   "outputs": [
    {
     "data": {
      "text/plain": [
       "5-element Array{Int64,1}:\n",
       "   3\n",
       "  25\n",
       "  63\n",
       " 117\n",
       " 187"
      ]
     },
     "execution_count": 82,
     "metadata": {},
     "output_type": "execute_result"
    }
   ],
   "source": [
    "map(x -> 2x^2 + 3x - 2, 1:2:9)"
   ]
  },
  {
   "cell_type": "code",
   "execution_count": 84,
   "metadata": {},
   "outputs": [
    {
     "data": {
      "text/plain": [
       "my_function (generic function with 2 methods)"
      ]
     },
     "execution_count": 84,
     "metadata": {},
     "output_type": "execute_result"
    }
   ],
   "source": [
    "function my_function(a::Float64, b::Float64, c::Float64 = 2 + 8im)\n",
    "  return a - (b * c)\n",
    "end"
   ]
  },
  {
   "cell_type": "code",
   "execution_count": null,
   "metadata": {},
   "outputs": [],
   "source": []
  }
 ],
 "metadata": {
  "kernelspec": {
   "display_name": "Julia 1.0.5",
   "language": "julia",
   "name": "julia-1.0"
  },
  "language_info": {
   "file_extension": ".jl",
   "mimetype": "application/julia",
   "name": "julia",
   "version": "1.0.5"
  }
 },
 "nbformat": 4,
 "nbformat_minor": 2
}
